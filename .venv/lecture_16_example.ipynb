{
 "cells": [
  {
   "cell_type": "code",
   "execution_count": 2,
   "metadata": {},
   "outputs": [
    {
     "data": {
      "application/vnd.plotly.v1+json": {
       "config": {
        "plotlyServerURL": "https://plot.ly"
       },
       "data": [
        {
         "hovertemplate": "total_bill=%{x}<br>tip=%{y}<extra></extra>",
         "legendgroup": "",
         "marker": {
          "color": "#636efa",
          "symbol": "circle"
         },
         "mode": "markers",
         "name": "",
         "orientation": "v",
         "showlegend": false,
         "type": "scatter",
         "x": {
          "bdata": "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",
          "dtype": "f8"
         },
         "xaxis": "x",
         "y": {
          "bdata": "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",
          "dtype": "f8"
         },
         "yaxis": "y"
        },
        {
         "hovertemplate": "<b>OLS trendline</b><br>tip = 0.105025 * total_bill + 0.92027<br>R<sup>2</sup>=0.456617<br><br>total_bill=%{x}<br>tip=%{y} <b>(trend)</b><extra></extra>",
         "legendgroup": "",
         "marker": {
          "color": "#636efa",
          "symbol": "circle"
         },
         "mode": "lines",
         "name": "",
         "showlegend": false,
         "type": "scatter",
         "x": {
          "bdata": "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",
          "dtype": "f8"
         },
         "xaxis": "x",
         "y": {
          "bdata": "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",
          "dtype": "f8"
         },
         "yaxis": "y"
        }
       ],
       "layout": {
        "legend": {
         "tracegroupgap": 0
        },
        "margin": {
         "t": 60
        },
        "template": {
         "data": {
          "bar": [
           {
            "error_x": {
             "color": "#2a3f5f"
            },
            "error_y": {
             "color": "#2a3f5f"
            },
            "marker": {
             "line": {
              "color": "#E5ECF6",
              "width": 0.5
             },
             "pattern": {
              "fillmode": "overlay",
              "size": 10,
              "solidity": 0.2
             }
            },
            "type": "bar"
           }
          ],
          "barpolar": [
           {
            "marker": {
             "line": {
              "color": "#E5ECF6",
              "width": 0.5
             },
             "pattern": {
              "fillmode": "overlay",
              "size": 10,
              "solidity": 0.2
             }
            },
            "type": "barpolar"
           }
          ],
          "carpet": [
           {
            "aaxis": {
             "endlinecolor": "#2a3f5f",
             "gridcolor": "white",
             "linecolor": "white",
             "minorgridcolor": "white",
             "startlinecolor": "#2a3f5f"
            },
            "baxis": {
             "endlinecolor": "#2a3f5f",
             "gridcolor": "white",
             "linecolor": "white",
             "minorgridcolor": "white",
             "startlinecolor": "#2a3f5f"
            },
            "type": "carpet"
           }
          ],
          "choropleth": [
           {
            "colorbar": {
             "outlinewidth": 0,
             "ticks": ""
            },
            "type": "choropleth"
           }
          ],
          "contour": [
           {
            "colorbar": {
             "outlinewidth": 0,
             "ticks": ""
            },
            "colorscale": [
             [
              0,
              "#0d0887"
             ],
             [
              0.1111111111111111,
              "#46039f"
             ],
             [
              0.2222222222222222,
              "#7201a8"
             ],
             [
              0.3333333333333333,
              "#9c179e"
             ],
             [
              0.4444444444444444,
              "#bd3786"
             ],
             [
              0.5555555555555556,
              "#d8576b"
             ],
             [
              0.6666666666666666,
              "#ed7953"
             ],
             [
              0.7777777777777778,
              "#fb9f3a"
             ],
             [
              0.8888888888888888,
              "#fdca26"
             ],
             [
              1,
              "#f0f921"
             ]
            ],
            "type": "contour"
           }
          ],
          "contourcarpet": [
           {
            "colorbar": {
             "outlinewidth": 0,
             "ticks": ""
            },
            "type": "contourcarpet"
           }
          ],
          "heatmap": [
           {
            "colorbar": {
             "outlinewidth": 0,
             "ticks": ""
            },
            "colorscale": [
             [
              0,
              "#0d0887"
             ],
             [
              0.1111111111111111,
              "#46039f"
             ],
             [
              0.2222222222222222,
              "#7201a8"
             ],
             [
              0.3333333333333333,
              "#9c179e"
             ],
             [
              0.4444444444444444,
              "#bd3786"
             ],
             [
              0.5555555555555556,
              "#d8576b"
             ],
             [
              0.6666666666666666,
              "#ed7953"
             ],
             [
              0.7777777777777778,
              "#fb9f3a"
             ],
             [
              0.8888888888888888,
              "#fdca26"
             ],
             [
              1,
              "#f0f921"
             ]
            ],
            "type": "heatmap"
           }
          ],
          "histogram": [
           {
            "marker": {
             "pattern": {
              "fillmode": "overlay",
              "size": 10,
              "solidity": 0.2
             }
            },
            "type": "histogram"
           }
          ],
          "histogram2d": [
           {
            "colorbar": {
             "outlinewidth": 0,
             "ticks": ""
            },
            "colorscale": [
             [
              0,
              "#0d0887"
             ],
             [
              0.1111111111111111,
              "#46039f"
             ],
             [
              0.2222222222222222,
              "#7201a8"
             ],
             [
              0.3333333333333333,
              "#9c179e"
             ],
             [
              0.4444444444444444,
              "#bd3786"
             ],
             [
              0.5555555555555556,
              "#d8576b"
             ],
             [
              0.6666666666666666,
              "#ed7953"
             ],
             [
              0.7777777777777778,
              "#fb9f3a"
             ],
             [
              0.8888888888888888,
              "#fdca26"
             ],
             [
              1,
              "#f0f921"
             ]
            ],
            "type": "histogram2d"
           }
          ],
          "histogram2dcontour": [
           {
            "colorbar": {
             "outlinewidth": 0,
             "ticks": ""
            },
            "colorscale": [
             [
              0,
              "#0d0887"
             ],
             [
              0.1111111111111111,
              "#46039f"
             ],
             [
              0.2222222222222222,
              "#7201a8"
             ],
             [
              0.3333333333333333,
              "#9c179e"
             ],
             [
              0.4444444444444444,
              "#bd3786"
             ],
             [
              0.5555555555555556,
              "#d8576b"
             ],
             [
              0.6666666666666666,
              "#ed7953"
             ],
             [
              0.7777777777777778,
              "#fb9f3a"
             ],
             [
              0.8888888888888888,
              "#fdca26"
             ],
             [
              1,
              "#f0f921"
             ]
            ],
            "type": "histogram2dcontour"
           }
          ],
          "mesh3d": [
           {
            "colorbar": {
             "outlinewidth": 0,
             "ticks": ""
            },
            "type": "mesh3d"
           }
          ],
          "parcoords": [
           {
            "line": {
             "colorbar": {
              "outlinewidth": 0,
              "ticks": ""
             }
            },
            "type": "parcoords"
           }
          ],
          "pie": [
           {
            "automargin": true,
            "type": "pie"
           }
          ],
          "scatter": [
           {
            "fillpattern": {
             "fillmode": "overlay",
             "size": 10,
             "solidity": 0.2
            },
            "type": "scatter"
           }
          ],
          "scatter3d": [
           {
            "line": {
             "colorbar": {
              "outlinewidth": 0,
              "ticks": ""
             }
            },
            "marker": {
             "colorbar": {
              "outlinewidth": 0,
              "ticks": ""
             }
            },
            "type": "scatter3d"
           }
          ],
          "scattercarpet": [
           {
            "marker": {
             "colorbar": {
              "outlinewidth": 0,
              "ticks": ""
             }
            },
            "type": "scattercarpet"
           }
          ],
          "scattergeo": [
           {
            "marker": {
             "colorbar": {
              "outlinewidth": 0,
              "ticks": ""
             }
            },
            "type": "scattergeo"
           }
          ],
          "scattergl": [
           {
            "marker": {
             "colorbar": {
              "outlinewidth": 0,
              "ticks": ""
             }
            },
            "type": "scattergl"
           }
          ],
          "scattermap": [
           {
            "marker": {
             "colorbar": {
              "outlinewidth": 0,
              "ticks": ""
             }
            },
            "type": "scattermap"
           }
          ],
          "scattermapbox": [
           {
            "marker": {
             "colorbar": {
              "outlinewidth": 0,
              "ticks": ""
             }
            },
            "type": "scattermapbox"
           }
          ],
          "scatterpolar": [
           {
            "marker": {
             "colorbar": {
              "outlinewidth": 0,
              "ticks": ""
             }
            },
            "type": "scatterpolar"
           }
          ],
          "scatterpolargl": [
           {
            "marker": {
             "colorbar": {
              "outlinewidth": 0,
              "ticks": ""
             }
            },
            "type": "scatterpolargl"
           }
          ],
          "scatterternary": [
           {
            "marker": {
             "colorbar": {
              "outlinewidth": 0,
              "ticks": ""
             }
            },
            "type": "scatterternary"
           }
          ],
          "surface": [
           {
            "colorbar": {
             "outlinewidth": 0,
             "ticks": ""
            },
            "colorscale": [
             [
              0,
              "#0d0887"
             ],
             [
              0.1111111111111111,
              "#46039f"
             ],
             [
              0.2222222222222222,
              "#7201a8"
             ],
             [
              0.3333333333333333,
              "#9c179e"
             ],
             [
              0.4444444444444444,
              "#bd3786"
             ],
             [
              0.5555555555555556,
              "#d8576b"
             ],
             [
              0.6666666666666666,
              "#ed7953"
             ],
             [
              0.7777777777777778,
              "#fb9f3a"
             ],
             [
              0.8888888888888888,
              "#fdca26"
             ],
             [
              1,
              "#f0f921"
             ]
            ],
            "type": "surface"
           }
          ],
          "table": [
           {
            "cells": {
             "fill": {
              "color": "#EBF0F8"
             },
             "line": {
              "color": "white"
             }
            },
            "header": {
             "fill": {
              "color": "#C8D4E3"
             },
             "line": {
              "color": "white"
             }
            },
            "type": "table"
           }
          ]
         },
         "layout": {
          "annotationdefaults": {
           "arrowcolor": "#2a3f5f",
           "arrowhead": 0,
           "arrowwidth": 1
          },
          "autotypenumbers": "strict",
          "coloraxis": {
           "colorbar": {
            "outlinewidth": 0,
            "ticks": ""
           }
          },
          "colorscale": {
           "diverging": [
            [
             0,
             "#8e0152"
            ],
            [
             0.1,
             "#c51b7d"
            ],
            [
             0.2,
             "#de77ae"
            ],
            [
             0.3,
             "#f1b6da"
            ],
            [
             0.4,
             "#fde0ef"
            ],
            [
             0.5,
             "#f7f7f7"
            ],
            [
             0.6,
             "#e6f5d0"
            ],
            [
             0.7,
             "#b8e186"
            ],
            [
             0.8,
             "#7fbc41"
            ],
            [
             0.9,
             "#4d9221"
            ],
            [
             1,
             "#276419"
            ]
           ],
           "sequential": [
            [
             0,
             "#0d0887"
            ],
            [
             0.1111111111111111,
             "#46039f"
            ],
            [
             0.2222222222222222,
             "#7201a8"
            ],
            [
             0.3333333333333333,
             "#9c179e"
            ],
            [
             0.4444444444444444,
             "#bd3786"
            ],
            [
             0.5555555555555556,
             "#d8576b"
            ],
            [
             0.6666666666666666,
             "#ed7953"
            ],
            [
             0.7777777777777778,
             "#fb9f3a"
            ],
            [
             0.8888888888888888,
             "#fdca26"
            ],
            [
             1,
             "#f0f921"
            ]
           ],
           "sequentialminus": [
            [
             0,
             "#0d0887"
            ],
            [
             0.1111111111111111,
             "#46039f"
            ],
            [
             0.2222222222222222,
             "#7201a8"
            ],
            [
             0.3333333333333333,
             "#9c179e"
            ],
            [
             0.4444444444444444,
             "#bd3786"
            ],
            [
             0.5555555555555556,
             "#d8576b"
            ],
            [
             0.6666666666666666,
             "#ed7953"
            ],
            [
             0.7777777777777778,
             "#fb9f3a"
            ],
            [
             0.8888888888888888,
             "#fdca26"
            ],
            [
             1,
             "#f0f921"
            ]
           ]
          },
          "colorway": [
           "#636efa",
           "#EF553B",
           "#00cc96",
           "#ab63fa",
           "#FFA15A",
           "#19d3f3",
           "#FF6692",
           "#B6E880",
           "#FF97FF",
           "#FECB52"
          ],
          "font": {
           "color": "#2a3f5f"
          },
          "geo": {
           "bgcolor": "white",
           "lakecolor": "white",
           "landcolor": "#E5ECF6",
           "showlakes": true,
           "showland": true,
           "subunitcolor": "white"
          },
          "hoverlabel": {
           "align": "left"
          },
          "hovermode": "closest",
          "mapbox": {
           "style": "light"
          },
          "paper_bgcolor": "white",
          "plot_bgcolor": "#E5ECF6",
          "polar": {
           "angularaxis": {
            "gridcolor": "white",
            "linecolor": "white",
            "ticks": ""
           },
           "bgcolor": "#E5ECF6",
           "radialaxis": {
            "gridcolor": "white",
            "linecolor": "white",
            "ticks": ""
           }
          },
          "scene": {
           "xaxis": {
            "backgroundcolor": "#E5ECF6",
            "gridcolor": "white",
            "gridwidth": 2,
            "linecolor": "white",
            "showbackground": true,
            "ticks": "",
            "zerolinecolor": "white"
           },
           "yaxis": {
            "backgroundcolor": "#E5ECF6",
            "gridcolor": "white",
            "gridwidth": 2,
            "linecolor": "white",
            "showbackground": true,
            "ticks": "",
            "zerolinecolor": "white"
           },
           "zaxis": {
            "backgroundcolor": "#E5ECF6",
            "gridcolor": "white",
            "gridwidth": 2,
            "linecolor": "white",
            "showbackground": true,
            "ticks": "",
            "zerolinecolor": "white"
           }
          },
          "shapedefaults": {
           "line": {
            "color": "#2a3f5f"
           }
          },
          "ternary": {
           "aaxis": {
            "gridcolor": "white",
            "linecolor": "white",
            "ticks": ""
           },
           "baxis": {
            "gridcolor": "white",
            "linecolor": "white",
            "ticks": ""
           },
           "bgcolor": "#E5ECF6",
           "caxis": {
            "gridcolor": "white",
            "linecolor": "white",
            "ticks": ""
           }
          },
          "title": {
           "x": 0.05
          },
          "xaxis": {
           "automargin": true,
           "gridcolor": "white",
           "linecolor": "white",
           "ticks": "",
           "title": {
            "standoff": 15
           },
           "zerolinecolor": "white",
           "zerolinewidth": 2
          },
          "yaxis": {
           "automargin": true,
           "gridcolor": "white",
           "linecolor": "white",
           "ticks": "",
           "title": {
            "standoff": 15
           },
           "zerolinecolor": "white",
           "zerolinewidth": 2
          }
         }
        },
        "xaxis": {
         "anchor": "y",
         "domain": [
          0,
          1
         ],
         "title": {
          "text": "total_bill"
         }
        },
        "yaxis": {
         "anchor": "x",
         "domain": [
          0,
          1
         ],
         "title": {
          "text": "tip"
         }
        }
       }
      }
     },
     "metadata": {},
     "output_type": "display_data"
    }
   ],
   "source": [
    "import plotly.express as px\n",
    "\n",
    "df = px.data.tips()\n",
    "fig = px.scatter(df, x=\"total_bill\", y=\"tip\", trendline=\"ols\")\n",
    "fig.show()\n"
   ]
  },
  {
   "cell_type": "code",
   "execution_count": 3,
   "metadata": {},
   "outputs": [
    {
     "data": {
      "application/vnd.plotly.v1+json": {
       "config": {
        "plotlyServerURL": "https://plot.ly"
       },
       "data": [
        {
         "hovertemplate": "sex=Female<br>smoker=No<br>total_bill=%{x}<br>tip=%{y}<extra></extra>",
         "legendgroup": "Female",
         "marker": {
          "color": "#636efa",
          "symbol": "circle"
         },
         "mode": "markers",
         "name": "Female",
         "orientation": "v",
         "showlegend": true,
         "type": "scatter",
         "x": {
          "bdata": "PQrXo3D9MEDXo3A9Cpc4QOF6FK5HoUFAKVyPwvWoLUApXI/C9agkQLgehetR+DBACtejcD1KNEAK16NwPYovQGZmZmZmpjNAH4XrUbgeLkBxPQrXo7A0QK5H4XoU7jBAFK5H4XqUJEBI4XoUrmdBQClcj8L1aDpAMzMzMzNzMEBSuB6F6xExQPYoXI/CdS1ApHA9CtcjJEAK16NwPWpBQAAAAAAAwDZA7FG4HoXrNEAAAAAAAAAdQPYoXI/CtTlAj8L1KFxPMUDNzMzMzEwlQFyPwvUo3ChAFK5H4XoUOEDXo3A9CtcqQPYoXI/C9ShAzczMzMzMPUAK16NwPQotQMP1KFyPwiZAhetRuB5FNEDXo3A9ClcmQIXrUbgehShAw/UoXI9CMkCF61G4HgUhQClcj8L1qCRAzczMzMxMLEBSuB6F61EqQLgehetReDFAzczMzMwMO0CuR+F6FG4wQDMzMzMzsyBApHA9CtejMkA9CtejcL0nQJqZmZmZ2T1AAAAAAAAAOUBI4XoUrscqQPYoXI/CNTBA9ihcj8L1L0AK16NwPepBQEjhehSuxzJA",
          "dtype": "f8"
         },
         "xaxis": "x",
         "y": {
          "bdata": "KVyPwvUo8D/hehSuR+EMQAAAAAAAABRAKVyPwvUoCEC4HoXrUbj6PwAAAAAAAAxAAAAAAAAABkDXo3A9CtcBQAAAAAAAAAhAAAAAAAAACECamZmZmZkDQI/C9ShcjwhAzczMzMzMBEDNzMzMzMwUQAAAAAAAAPg/w/UoXI/CA0AAAAAAAAAIQJqZmZmZmQFASOF6FK5H/T+uR+F6FK4UQAAAAAAAAApAUrgehetREEAAAAAAAADwPwAAAAAAABBAAAAAAAAADEAAAAAAAAD4P83MzMzMzPw/XI/C9ShcB0DhehSuR+H6Pylcj8L1KARAzczMzMzMEEAAAAAAAAAAQAAAAAAAAABApHA9CtejBkAAAAAAAAD4PwAAAAAAAABAAAAAAAAACkAAAAAAAAD0PwAAAAAAAABAAAAAAAAAAEAAAAAAAAAGQAAAAAAAAAxAAAAAAAAAFEBmZmZmZmYCQAAAAAAAAPg/w/UoXI/C9T8UrkfhehT6P4/C9ShcjxRAAAAAAAAADkDhehSuR+EEQAAAAAAAAABAAAAAAAAACECuR+F6FK4SQAAAAAAAAAhA",
          "dtype": "f8"
         },
         "yaxis": "y"
        },
        {
         "hovertemplate": "<b>OLS trendline</b><br>tip = 0.128239 * total_bill + 0.451719<br>R<sup>2</sup>=0.685694<br><br>sex=Female<br>smoker=No<br>total_bill=%{x}<br>tip=%{y} <b>(trend)</b><extra></extra>",
         "legendgroup": "Female",
         "marker": {
          "color": "#636efa",
          "symbol": "circle"
         },
         "mode": "lines",
         "name": "Female",
         "showlegend": false,
         "type": "scatter",
         "x": {
          "bdata": "AAAAAAAAHUAzMzMzM7MgQIXrUbgeBSFApHA9CtcjJEAUrkfhepQkQClcj8L1qCRAKVyPwvWoJEDNzMzMzEwlQNejcD0KVyZAw/UoXI/CJkA9CtejcL0nQIXrUbgehShAXI/C9SjcKED2KFyPwvUoQFK4HoXrUSpASOF6FK7HKkDXo3A9CtcqQM3MzMzMTCxACtejcD0KLUD2KFyPwnUtQClcj8L1qC1AH4XrUbgeLkAK16NwPYovQPYoXI/C9S9A9ihcj8I1MECuR+F6FG4wQDMzMzMzczBArkfhehTuMEC4HoXrUfgwQD0K16Nw/TBAUrgehesRMUCPwvUoXE8xQLgehetReDFAw/UoXI9CMkCkcD0K16MyQEjhehSuxzJAZmZmZmamM0CF61G4HkU0QArXo3A9SjRAcT0K16OwNEDsUbgehes0QAAAAAAAwDZAFK5H4XoUOEDXo3A9Cpc4QAAAAAAAADlA9ihcj8K1OUApXI/C9Wg6QM3MzMzMDDtAzczMzMzMPUCamZmZmdk9QEjhehSuZ0FACtejcD1qQUDhehSuR6FBQArXo3A96kFA",
          "dtype": "f8"
         },
         "xaxis": "x",
         "y": {
          "bdata": "FjFd+HAa9j/Y3SStPFz4PzKjKrBHsPg/VueiDbPj+z+w1soxQlf8PwZIjPJEbPw/BkiM8kRs/D+40pf4WhT9PxqUasJ+Jf4/ICdiNs2T/j9+06PvLpX/P0TygOMEMQBAGwMcvapdAEDx6ZR1zGoAQE4tAdxjHQFAJ1MtxstZAUCn3XXOrGEBQNoHW+1lIQJACbTZqJKCAkCLfdXiubkCQDdLx1P90wJAD3HzPWUQA0DsPqis3coDQG8IpOYEAgRARy7Q0Gw+BED0JeRiNHgEQEmCFBN1fQRATyqdl4X7BED54v33BgYFQE8/LqhHCwVAprDvaEogBUCoBDSrUl8FQFXntixYiQVAiSYtXNNYBkDiAMRvoLwGQDqHFkFl4QZAwzdOMePFB0AfZimHuGgIQHXCWTf5bQhAJfkg+wbXCED9Hk3lbhMJQJEflt4N9ApAyxsmo1tRDEBRTvcvTdcMQCuz1kv7Qg1ACYGLunP9DUC7ICjRS7UOQG2rM9dhXQ9AsaGWPNAXEUAcFdMYYR4RQI7OP3C2qRNAuPxXyFasE0BQ3V8uzuQTQBMBEf2nLxRA",
          "dtype": "f8"
         },
         "yaxis": "y"
        },
        {
         "hovertemplate": "sex=Female<br>smoker=Yes<br>total_bill=%{x}<br>tip=%{y}<extra></extra>",
         "legendgroup": "Female",
         "marker": {
          "color": "#636efa",
          "symbol": "circle"
         },
         "mode": "markers",
         "name": "Female",
         "orientation": "v",
         "showlegend": false,
         "type": "scatter",
         "x": {
          "bdata": "j8L1KFyPCEBcj8L1KNw6QEjhehSuRzlAAAAAAAAAF0BSuB6F61EwQDMzMzMzsyZAw/UoXI/CLkBmZmZmZiZGQOxRuB6FazZAH4XrUbieLEDD9Shcj4IxQK5H4XoULiVAw/UoXI9CJUAzMzMzMzMjQGZmZmZm5jRAZmZmZmYmMkCPwvUoXM8zQK5H4XoUjkVAAAAAAAAAKkB7FK5H4XopQAAAAAAAACpAZmZmZmZmMEC4HoXrUXgwQIXrUbgehSlACtejcD2KKkDsUbgehSs8QM3MzMzMzClApHA9CtcjPkDXo3A9CtcqQIXrUbgeRTBArkfhehQuJEAfhetRuB42QK5H4XoULjtA",
          "dtype": "f8"
         },
         "xaxis": "x2",
         "y": {
          "bdata": "AAAAAAAA8D8fhetRuB4JQAAAAAAAABRAAAAAAAAA8D8zMzMzMzMRQAAAAAAAAARAAAAAAAAACEAAAAAAAAAEQNejcD0K1wtAAAAAAAAAEEAAAAAAAAAIQMP1KFyPwvk/AAAAAAAAAEAAAAAAAAAQQAAAAAAAAAxAAAAAAAAADEDD9Shcj8IQQAAAAAAAABRAAAAAAAAAAEAUrkfhehQAQAAAAAAAAABAAAAAAAAABEDXo3A9CtcJQNejcD0K1wFAAAAAAAAABEAAAAAAAAAaQJqZmZmZmfE/uB6F61G4CEDXo3A9CtcLQAAAAAAAAARAAAAAAAAAAEAK16NwPQoHQAAAAAAAAABA",
          "dtype": "f8"
         },
         "yaxis": "y2"
        },
        {
         "hovertemplate": "<b>OLS trendline</b><br>tip = 0.0684701 * total_bill + 1.70057<br>R<sup>2</sup>=0.266042<br><br>sex=Female<br>smoker=Yes<br>total_bill=%{x}<br>tip=%{y} <b>(trend)</b><extra></extra>",
         "legendgroup": "Female",
         "marker": {
          "color": "#636efa",
          "symbol": "circle"
         },
         "mode": "lines",
         "name": "Female",
         "showlegend": false,
         "type": "scatter",
         "x": {
          "bdata": "j8L1KFyPCEAAAAAAAAAXQDMzMzMzMyNArkfhehQuJECuR+F6FC4lQMP1KFyPQiVAMzMzMzOzJkB7FK5H4XopQIXrUbgehSlAzczMzMzMKUAAAAAAAAAqQAAAAAAAACpACtejcD2KKkDXo3A9CtcqQB+F61G4nixAw/UoXI/CLkCF61G4HkUwQFK4HoXrUTBAZmZmZmZmMEC4HoXrUXgwQMP1KFyPgjFAZmZmZmYmMkCPwvUoXM8zQGZmZmZm5jRAH4XrUbgeNkDsUbgehWs2QEjhehSuRzlAXI/C9SjcOkCuR+F6FC47QOxRuB6FKzxApHA9CtcjPkCuR+F6FI5FQGZmZmZmJkZA",
          "dtype": "f8"
         },
         "xaxis": "x2",
         "y": {
          "bdata": "hO/b6oSS/j8XkJo6EcEAQEhjSrfw3AJA7ViBwqYhA0C0bbnIw2cDQD/qvbRfbQNAAqwOTVbSA0Dak6qWQJUEQB/SrIwOmARABYa8RrCrBEBgvccUtrkEQGC9xxS2uQRACQbmjZLfBEAR2fZCm/QEQCKsWoZocQVApK/Sb3MHBkC0gjazQIQGQGIePJpDiwZAdxdFcnuWBkBq8UxPTKAGQISXwUciMgdAMGAJCOGLB0CxkMPKp3QIQHjSPaqADQlAAqnGSJS4CUAUT+iypeIJQNkXKR6ycwtARE/aCEFRDECaM/5oIH4MQAY+bXrzCA1AuzNKojIdDkBHeXwp+JsSQNg1P4Bn7xJA",
          "dtype": "f8"
         },
         "yaxis": "y2"
        },
        {
         "hovertemplate": "sex=Male<br>smoker=No<br>total_bill=%{x}<br>tip=%{y}<extra></extra>",
         "legendgroup": "Male",
         "marker": {
          "color": "#EF553B",
          "symbol": "circle"
         },
         "mode": "markers",
         "name": "Male",
         "orientation": "v",
         "showlegend": true,
         "type": "scatter",
         "x": {
          "bdata": "rkfhehSuJEDD9ShcjwI1QK5H4XoUrjdACtejcD1KOUAK16NwPYohQOF6FK5H4TpAFK5H4XoULkCPwvUoXI8tQArXo3A9iiRA16NwPQrXLkCuR+F6FG4yQBSuR+F6lDVACtejcD1KMEBmZmZmZqY0QOxRuB6F6zFA9ihcj8K1Q0BSuB6F69EzQI/C9ShczzFAPQrXo3C9KkDhehSuR2EpQDMzMzMzszVAmpmZmZkZI0CamZmZmVkyQEjhehSuxzFAj8L1KFwPOECPwvUoXE8wQHE9CtejsDJAhetRuB5FP0AK16NwPQowQPYoXI/CdTFA4XoUrkfhK0Bcj8L1KFwjQGZmZmZmZj5ACtejcD1KMkB7FK5H4To2QDMzMzMzM0BAzczMzMyMPEAK16NwPQoyQBSuR+F6FClA4XoUrkfhI0CPwvUoXI85QD0K16NwfTNAw/UoXI8iSEDXo3A9CpcxQBSuR+F6FDRAexSuR+E6NEAK16NwPQooQIXrUbgeBSVAMzMzMzMzO0DD9Shcj8I2QArXo3A9SjFAKVyPwvWoMED2KFyPwvUvQI/C9ShcDypASOF6FK5HMkD2KFyPwrU4QClcj8L1KDVAPQrXo3B9NkDsUbgehesoQD0K16NwPTJAAAAAAAAALEApXI/C9QhDQDMzMzMz8zdArkfhehTuPUDhehSuR2EnQIXrUbgehSxAZmZmZmbmL0AK16NwPQohQFK4HoXr0TZAFK5H4XoUM0BmZmZmZiZBQLgehetRmERAj8L1KFyPI0AK16NwPQoeQKRwPQrXIyxAw/UoXI9CKkDD9Shcj0IxQM3MzMzMjDhAhetRuB7FM0D2KFyPwhVIQD0K16NwfTBAAAAAAACANUBSuB6F61EpQB+F61G4nitAhetRuB6FOEDD9Shcj8I0QPYoXI/CtT9AcT0K16OwNEA9CtejcD0eQArXo3A9KkhAMzMzMzNzNECPwvUoXI8qQLgehetROCdACtejcD2KJUCkcD0K1yMkQEjhehSuBz1AUrgehevRMUA=",
          "dtype": "f8"
         },
         "xaxis": "x",
         "y": {
          "bdata": "j8L1KFyP+j8AAAAAAAAMQHsUrkfhegpA16NwPQrXEkAAAAAAAAAAQPYoXI/C9QhAXI/C9Shc/z/Xo3A9CtcJQFyPwvUoXPs/H4XrUbge+T8AAAAAAAAIQFyPwvUoXA9ArkfhehSuDUDNzMzMzMwKQFK4HoXrURBAUrgehetRHkBxPQrXo3AJQLgehetRuAJAAAAAAAAAAEAAAAAAAAAAQDMzMzMzMxFAMzMzMzMz9z8AAAAAAAAEQClcj8L1KApAzczMzMzMDEAAAAAAAAAAQHsUrkfhegJAAAAAAAAAFEDsUbgehesBQFK4HoXrUQRAexSuR+F6CEAfhetRuB71P2ZmZmZmZhZAAAAAAAAACEAAAAAAAAAUQAAAAAAAABhAZmZmZmZmAEAAAAAAAAAIQAAAAAAAAARA9ihcj8L1+D9cj8L1KFwRQBSuR+F6FAxA7FG4HoXrGkAfhetRuB4FQDMzMzMzMwlAFK5H4XoUAECF61G4HoX/PwAAAAAAAPQ/AAAAAAAAEEAAAAAAAAAIQK5H4XoUrgVAMzMzMzMzC0A9CtejcD0AQAAAAAAAAABAAAAAAAAAEEBmZmZmZmYXQAAAAAAAAAhAAAAAAAAADEAAAAAAAAD4PxSuR+F6FA5AAAAAAAAACEAAAAAAAAAQQGZmZmZmZgRASOF6FK5HFEB7FK5H4XoCQAAAAAAAAARAAAAAAAAAAECuR+F6FK73P3E9CtejcAFAAAAAAAAA+D/NzMzMzMwaQAAAAAAAABRArkfhehSu+z8AAAAAAAAAQAAAAAAAAARAAAAAAAAAAEDsUbgehesFQAAAAAAAAABAAAAAAAAAAEAAAAAAAAAUQAAAAAAAAABAAAAAAAAADEAAAAAAAAAEQAAAAAAAAABA16NwPQrXC0DsUbgehesBQAAAAAAAABJAAAAAAAAAFEAK16NwPQr3PwAAAAAAACJAAAAAAAAACEDD9Shcj8IFQB+F61G4HgtAhetRuB6F9z8AAAAAAAD0P65H4XoUrhdAAAAAAAAA/D8=",
          "dtype": "f8"
         },
         "yaxis": "y"
        },
        {
         "hovertemplate": "<b>OLS trendline</b><br>tip = 0.139719 * total_bill + 0.348195<br>R<sup>2</sup>=0.670010<br><br>sex=Male<br>smoker=No<br>total_bill=%{x}<br>tip=%{y} <b>(trend)</b><extra></extra>",
         "legendgroup": "Male",
         "marker": {
          "color": "#EF553B",
          "symbol": "circle"
         },
         "mode": "lines",
         "name": "Male",
         "showlegend": false,
         "type": "scatter",
         "x": {
          "bdata": "CtejcD0KHkA9CtejcD0eQArXo3A9CiFACtejcD2KIUCamZmZmRkjQFyPwvUoXCNAj8L1KFyPI0DhehSuR+EjQKRwPQrXIyRACtejcD2KJECuR+F6FK4kQIXrUbgeBSVACtejcD2KJUC4HoXrUTgnQOF6FK5HYSdACtejcD0KKEDsUbgehesoQBSuR+F6FClAUrgehetRKUDhehSuR2EpQI/C9ShcDypAw/UoXI9CKkCPwvUoXI8qQD0K16NwvSpAH4XrUbieK0DhehSuR+ErQAAAAAAAACxApHA9CtcjLECF61G4HoUsQI/C9Shcjy1AFK5H4XoULkDXo3A9CtcuQGZmZmZm5i9A9ihcj8L1L0AK16NwPQowQArXo3A9SjBAj8L1KFxPMEA9CtejcH0wQClcj8L1qDBAw/UoXI9CMUAK16NwPUoxQPYoXI/CdTFA16NwPQqXMUBI4XoUrscxQI/C9ShczzFAUrgehevRMUDsUbgehesxQArXo3A9CjJAPQrXo3A9MkBI4XoUrkcyQArXo3A9SjJAmpmZmZlZMkCuR+F6FG4yQHE9CtejsDJAFK5H4XoUM0A9CtejcH0zQIXrUbgexTNAUrgehevRM0AUrkfhehQ0QHsUrkfhOjRAMzMzMzNzNEBmZmZmZqY0QHE9CtejsDRAw/UoXI/CNEDD9ShcjwI1QClcj8L1KDVAAAAAAACANUAUrkfhepQ1QDMzMzMzszVAexSuR+E6NkA9CtejcH02QMP1KFyPwjZAUrgehevRNkCuR+F6FK43QDMzMzMz8zdAj8L1KFwPOECF61G4HoU4QM3MzMzMjDhA9ihcj8K1OEAK16NwPUo5QI/C9ShcjzlA4XoUrkfhOkAzMzMzMzM7QM3MzMzMjDxASOF6FK4HPUCuR+F6FO49QGZmZmZmZj5AhetRuB5FP0D2KFyPwrU/QDMzMzMzM0BAZmZmZmYmQUApXI/C9QhDQPYoXI/CtUNAuB6F61GYRED2KFyPwhVIQMP1KFyPIkhACtejcD0qSEA=",
          "dtype": "f8"
         },
         "xaxis": "x",
         "y": {
          "bdata": "pV2KshZc9j85Ukb8s3j2Pxuq+IMZnvg//nCk9Cst+T9nWOVyjuv6P03UmjL0Nfs/db0Sxi5v+z8bzAWyv8r7PwJIu3ElFfw/UBqrmJqH/D+5cOX/qa/8P0mwl/rzEP0/FqgCer+l/T/9tL5QeIb/P1A8uMZAtP8/Q8Wu1o04AEBn+RwbdbYAQBC9GVZZzQBAj+KUrq/vAEDuq7NERfgAQH7rZT+PWQFAEuAhiSx2AUDwzrt3GKEBQA4rGDrZugFAMl+GfsA4AkAmHWFe810CQOWvnooebwJAGds7PiaDAkDLK1RKhLkCQJkjv8lPTgNAf590ibWYA0DlQKWhcQUEQCfRb6gZnQRAh5qOPq+lBEBFLcxq2rYEQLcQIqNj/gRAoUHhsRwEBUDe+Zk2njcFQKcZ8zNDaAVAHtVa7vITBkB9nnmEiBwGQEa+0oEtTQZAOXytYWByBkDrzMVtvqgGQEqW5ANUsQZAwC5EizC0BkBUIwDVzdAGQNFIey0k8wZA+THzwF4sB0DOk3He0DcHQEMs0WWtOgdAA78OkthLB0CsggvNvGIHQJP+wIwirQdAbDhRLLscCEAwo6DaDJIIQAJQFakr4ghATErzTXrwCEAyxqgN4DoJQBC1QvzLZQlAIs95nr+kCUBJuPEx+t0JQB8acE9s6QlAU0UNA3T9CUDFKGM7/UQKQKIX/SnpbwpAMlevJDPRCkDbGqxfF+gKQFlAJ7htCgtAnNDxvhWiC0CCTKd+e+wLQN9gvMW9OQxAnvP58ehKDED7Khds/kANQFc/LLNAjg1AYMxHhLqtDUBuMXXXWjEOQM76k23wOQ5AIYKN47hnDkCtDDaPrw0PQAkhS9bxWg9Aut7K0VNqEEANZsRHHJgQQPMYeflBWRFA72Nvqu6dEUCIMD12sh4SQEmvg+PwYRJAMxdC5GneEkBFMXmGXR0TQA8928QVgBNAi9BUAeyPFEDUkjivTasWQLpF7WBzbBdAPHp5LbBpGED8Ucy6VFAcQEZMql+jXhxApRXJ9ThnHEA=",
          "dtype": "f8"
         },
         "yaxis": "y"
        },
        {
         "hovertemplate": "sex=Male<br>smoker=Yes<br>total_bill=%{x}<br>tip=%{y}<extra></extra>",
         "legendgroup": "Male",
         "marker": {
          "color": "#EF553B",
          "symbol": "circle"
         },
         "mode": "markers",
         "name": "Male",
         "orientation": "v",
         "showlegend": false,
         "type": "scatter",
         "x": {
          "bdata": "4XoUrkcBQ0B7FK5H4XomQArXo3A9SjRAH4XrUbieK0AK16NwPQomQArXo3A9SjJAhetRuB4FLkDsUbgehesxQHE9CtejcDNA16NwPQpXQEC4HoXrUfg8QPYoXI/CFURASOF6FK5HO0CPwvUoXA8oQMP1KFyPAjVAuB6F61G4LkA9CtejcH00QPYoXI/CNTlAAAAAAAAAMEBI4XoUrmdJQB+F61G4ni9AAAAAAAAAHUCamZmZmdk/QFK4HoXr0TBAMzMzMzNzQECkcD0K1+MxQPYoXI/C9SxAcT0K16NQQUAzMzMzM1NBQBSuR+F6VDdAzczMzMysRkDsUbgehSs3QGZmZmZmRkRA9ihcj8J1PkCamZmZmRk3QOF6FK5HYS9AcT0K16NwPED2KFyPwvUuQBSuR+F6lDBArkfhehSuJECF61G4HgUrQPYoXI/CtTJASOF6FK6HNEDXo3A9Cpc6QD0K16NwXUNAhetRuB5FOECPwvUoXA8+QKRwPQrX4zlAZmZmZmYmPECuR+F6FC4nQPYoXI/C9R5AUrgehetRKEApXI/C9SghQNejcD0K1ypAw/UoXI8COEDhehSuR2EvQI/C9ShcDy9AMzMzMzMzKUAK16NwPWpAQOxRuB6FqzZA",
          "dtype": "f8"
         },
         "xaxis": "x2",
         "y": {
          "bdata": "AAAAAAAACEApXI/C9Sj8P65H4XoUrglAAAAAAAAAAECuR+F6FK7/PxSuR+F6FA5AuB6F61G4AECkcD0K16MIQAAAAAAAAAhAAAAAAAAAFEAAAAAAAAAIQOxRuB6F6xJAAAAAAAAAEEAAAAAAAAD4PwAAAAAAAAhAPQrXo3A9+j89CtejcD0QQClcj8L1KBFAAAAAAAAAAEAAAAAAAAAkQEjhehSuRwlAmpmZmZmZFEBxPQrXo3AJQAAAAAAAABBA4XoUrkfhCEAAAAAAAAAAQAAAAAAAAABAZmZmZmZmDEBxPQrXo3ANQJqZmZmZmRZAAAAAAAAADEAAAAAAAAAaQAAAAAAAAAhAAAAAAAAAAEAAAAAAAAAQQAAAAAAAAPg/exSuR+F6BEApXI/C9SgAQAAAAAAAABBAAAAAAAAAAEAAAAAAAAAAQAAAAAAAABBAAAAAAAAAEEBI4XoUrkcLQAAAAAAAAAhAPQrXo3A9AEAAAAAAAAAAQKRwPQrXoxRAAAAAAAAACEAAAAAAAAD4PwrXo3A9Cvc/mpmZmZmZAUC4HoXrUbj+P0jhehSuR/k/AAAAAAAAAEAAAAAAAAAIQAAAAAAAAAhAAAAAAAAA8D+4HoXrUbjyPwAAAAAAAABA",
          "dtype": "f8"
         },
         "yaxis": "y2"
        },
        {
         "hovertemplate": "<b>OLS trendline</b><br>tip = 0.0729605 * total_bill + 1.42528<br>R<sup>2</sup>=0.232398<br><br>sex=Male<br>smoker=Yes<br>total_bill=%{x}<br>tip=%{y} <b>(trend)</b><extra></extra>",
         "legendgroup": "Male",
         "marker": {
          "color": "#EF553B",
          "symbol": "circle"
         },
         "mode": "lines",
         "name": "Male",
         "showlegend": false,
         "type": "scatter",
         "x": {
          "bdata": "AAAAAAAAHUD2KFyPwvUeQClcj8L1KCFArkfhehSuJEAK16NwPQomQHsUrkfheiZArkfhehQuJ0CPwvUoXA8oQFK4HoXrUShAMzMzMzMzKUDXo3A9CtcqQIXrUbgeBStAH4XrUbieK0D2KFyPwvUsQIXrUbgeBS5AuB6F61G4LkD2KFyPwvUuQI/C9ShcDy9A4XoUrkdhL0DhehSuR2EvQB+F61G4ni9AAAAAAAAAMEAUrkfhepQwQFK4HoXr0TBApHA9CtfjMUDsUbgehesxQArXo3A9SjJA9ihcj8K1MkBxPQrXo3AzQArXo3A9SjRAPQrXo3B9NEBI4XoUroc0QMP1KFyPAjVA7FG4HoWrNkCamZmZmRk3QOxRuB6FKzdAFK5H4XpUN0DD9ShcjwI4QIXrUbgeRThA9ihcj8I1OUCkcD0K1+M5QNejcD0KlzpASOF6FK5HO0BmZmZmZiY8QHE9CtejcDxAuB6F61H4PECPwvUoXA8+QPYoXI/CdT5AmpmZmZnZP0DXo3A9CldAQArXo3A9akBAMzMzMzNzQEBxPQrXo1BBQDMzMzMzU0FA4XoUrkcBQ0A9CtejcF1DQPYoXI/CFURAZmZmZmZGREDNzMzMzKxGQEjhehSuZ0lA",
          "dtype": "f8"
         },
         "xaxis": "x2",
         "y": {
          "bdata": "Xnnh/5NE/z8216c+A9f/P+fy/YsFaQBAqqA9lAFwAUCfaRAjndUBQFdfGKR89gFAtzdf8cgqAkAoI2/zh2wCQM8Frr/0fwJAQPG9wbPBAkDAEK2iOjwDQNIjdletSQNAtrhpB4F2A0DFDV8QntoDQEcMOMfPKQRApuR+FBxeBEBoU+BaCnAEQOSWM/iCdwRAO9UKVmuPBEA71QpWa48EQP1DbJxZoQRABd7bi729BEACIAjgZxQFQIb9ymxEOAVAcG5aYCbYBUAgyvLxodwFQEqK9ErrEwZA8I1JQa1SBkBgmm9twb8GQJIV99/DPgdAfiNEVaZcB0AV87lsoGIHQByuP4ZZqgdA6NTYU2SiCEB0TAvQpOIIQLp3GXka7QhAErbw1gIFCUAGf8NlnmoJQFREQf53kQlAl9KRJe0dCkCMm2S0iIMKQEpM8k4h7ApAJImiYztTC0Ag7OThOtULQB8N+wuQAAxAoQvUwsFPDEBWZB7CoPIMQDGAuKxlLg1Aym32Wxj+DUAwAcPCHXoOQKLLvJqHkA5A6PbKQ/2aDkD8SHK6fZ0PQMYwLcZ6oA9A+6ZqPEXLEEBA844PEAERQMqL17WlbBFA0iVHpQmJEUD0zOMkp+8SQKtkDOaThxRA",
          "dtype": "f8"
         },
         "yaxis": "y2"
        }
       ],
       "layout": {
        "annotations": [
         {
          "font": {},
          "showarrow": false,
          "text": "smoker=No",
          "x": 0.245,
          "xanchor": "center",
          "xref": "paper",
          "y": 1,
          "yanchor": "bottom",
          "yref": "paper"
         },
         {
          "font": {},
          "showarrow": false,
          "text": "smoker=Yes",
          "x": 0.755,
          "xanchor": "center",
          "xref": "paper",
          "y": 1,
          "yanchor": "bottom",
          "yref": "paper"
         }
        ],
        "legend": {
         "title": {
          "text": "sex"
         },
         "tracegroupgap": 0
        },
        "margin": {
         "t": 60
        },
        "template": {
         "data": {
          "bar": [
           {
            "error_x": {
             "color": "#2a3f5f"
            },
            "error_y": {
             "color": "#2a3f5f"
            },
            "marker": {
             "line": {
              "color": "#E5ECF6",
              "width": 0.5
             },
             "pattern": {
              "fillmode": "overlay",
              "size": 10,
              "solidity": 0.2
             }
            },
            "type": "bar"
           }
          ],
          "barpolar": [
           {
            "marker": {
             "line": {
              "color": "#E5ECF6",
              "width": 0.5
             },
             "pattern": {
              "fillmode": "overlay",
              "size": 10,
              "solidity": 0.2
             }
            },
            "type": "barpolar"
           }
          ],
          "carpet": [
           {
            "aaxis": {
             "endlinecolor": "#2a3f5f",
             "gridcolor": "white",
             "linecolor": "white",
             "minorgridcolor": "white",
             "startlinecolor": "#2a3f5f"
            },
            "baxis": {
             "endlinecolor": "#2a3f5f",
             "gridcolor": "white",
             "linecolor": "white",
             "minorgridcolor": "white",
             "startlinecolor": "#2a3f5f"
            },
            "type": "carpet"
           }
          ],
          "choropleth": [
           {
            "colorbar": {
             "outlinewidth": 0,
             "ticks": ""
            },
            "type": "choropleth"
           }
          ],
          "contour": [
           {
            "colorbar": {
             "outlinewidth": 0,
             "ticks": ""
            },
            "colorscale": [
             [
              0,
              "#0d0887"
             ],
             [
              0.1111111111111111,
              "#46039f"
             ],
             [
              0.2222222222222222,
              "#7201a8"
             ],
             [
              0.3333333333333333,
              "#9c179e"
             ],
             [
              0.4444444444444444,
              "#bd3786"
             ],
             [
              0.5555555555555556,
              "#d8576b"
             ],
             [
              0.6666666666666666,
              "#ed7953"
             ],
             [
              0.7777777777777778,
              "#fb9f3a"
             ],
             [
              0.8888888888888888,
              "#fdca26"
             ],
             [
              1,
              "#f0f921"
             ]
            ],
            "type": "contour"
           }
          ],
          "contourcarpet": [
           {
            "colorbar": {
             "outlinewidth": 0,
             "ticks": ""
            },
            "type": "contourcarpet"
           }
          ],
          "heatmap": [
           {
            "colorbar": {
             "outlinewidth": 0,
             "ticks": ""
            },
            "colorscale": [
             [
              0,
              "#0d0887"
             ],
             [
              0.1111111111111111,
              "#46039f"
             ],
             [
              0.2222222222222222,
              "#7201a8"
             ],
             [
              0.3333333333333333,
              "#9c179e"
             ],
             [
              0.4444444444444444,
              "#bd3786"
             ],
             [
              0.5555555555555556,
              "#d8576b"
             ],
             [
              0.6666666666666666,
              "#ed7953"
             ],
             [
              0.7777777777777778,
              "#fb9f3a"
             ],
             [
              0.8888888888888888,
              "#fdca26"
             ],
             [
              1,
              "#f0f921"
             ]
            ],
            "type": "heatmap"
           }
          ],
          "histogram": [
           {
            "marker": {
             "pattern": {
              "fillmode": "overlay",
              "size": 10,
              "solidity": 0.2
             }
            },
            "type": "histogram"
           }
          ],
          "histogram2d": [
           {
            "colorbar": {
             "outlinewidth": 0,
             "ticks": ""
            },
            "colorscale": [
             [
              0,
              "#0d0887"
             ],
             [
              0.1111111111111111,
              "#46039f"
             ],
             [
              0.2222222222222222,
              "#7201a8"
             ],
             [
              0.3333333333333333,
              "#9c179e"
             ],
             [
              0.4444444444444444,
              "#bd3786"
             ],
             [
              0.5555555555555556,
              "#d8576b"
             ],
             [
              0.6666666666666666,
              "#ed7953"
             ],
             [
              0.7777777777777778,
              "#fb9f3a"
             ],
             [
              0.8888888888888888,
              "#fdca26"
             ],
             [
              1,
              "#f0f921"
             ]
            ],
            "type": "histogram2d"
           }
          ],
          "histogram2dcontour": [
           {
            "colorbar": {
             "outlinewidth": 0,
             "ticks": ""
            },
            "colorscale": [
             [
              0,
              "#0d0887"
             ],
             [
              0.1111111111111111,
              "#46039f"
             ],
             [
              0.2222222222222222,
              "#7201a8"
             ],
             [
              0.3333333333333333,
              "#9c179e"
             ],
             [
              0.4444444444444444,
              "#bd3786"
             ],
             [
              0.5555555555555556,
              "#d8576b"
             ],
             [
              0.6666666666666666,
              "#ed7953"
             ],
             [
              0.7777777777777778,
              "#fb9f3a"
             ],
             [
              0.8888888888888888,
              "#fdca26"
             ],
             [
              1,
              "#f0f921"
             ]
            ],
            "type": "histogram2dcontour"
           }
          ],
          "mesh3d": [
           {
            "colorbar": {
             "outlinewidth": 0,
             "ticks": ""
            },
            "type": "mesh3d"
           }
          ],
          "parcoords": [
           {
            "line": {
             "colorbar": {
              "outlinewidth": 0,
              "ticks": ""
             }
            },
            "type": "parcoords"
           }
          ],
          "pie": [
           {
            "automargin": true,
            "type": "pie"
           }
          ],
          "scatter": [
           {
            "fillpattern": {
             "fillmode": "overlay",
             "size": 10,
             "solidity": 0.2
            },
            "type": "scatter"
           }
          ],
          "scatter3d": [
           {
            "line": {
             "colorbar": {
              "outlinewidth": 0,
              "ticks": ""
             }
            },
            "marker": {
             "colorbar": {
              "outlinewidth": 0,
              "ticks": ""
             }
            },
            "type": "scatter3d"
           }
          ],
          "scattercarpet": [
           {
            "marker": {
             "colorbar": {
              "outlinewidth": 0,
              "ticks": ""
             }
            },
            "type": "scattercarpet"
           }
          ],
          "scattergeo": [
           {
            "marker": {
             "colorbar": {
              "outlinewidth": 0,
              "ticks": ""
             }
            },
            "type": "scattergeo"
           }
          ],
          "scattergl": [
           {
            "marker": {
             "colorbar": {
              "outlinewidth": 0,
              "ticks": ""
             }
            },
            "type": "scattergl"
           }
          ],
          "scattermap": [
           {
            "marker": {
             "colorbar": {
              "outlinewidth": 0,
              "ticks": ""
             }
            },
            "type": "scattermap"
           }
          ],
          "scattermapbox": [
           {
            "marker": {
             "colorbar": {
              "outlinewidth": 0,
              "ticks": ""
             }
            },
            "type": "scattermapbox"
           }
          ],
          "scatterpolar": [
           {
            "marker": {
             "colorbar": {
              "outlinewidth": 0,
              "ticks": ""
             }
            },
            "type": "scatterpolar"
           }
          ],
          "scatterpolargl": [
           {
            "marker": {
             "colorbar": {
              "outlinewidth": 0,
              "ticks": ""
             }
            },
            "type": "scatterpolargl"
           }
          ],
          "scatterternary": [
           {
            "marker": {
             "colorbar": {
              "outlinewidth": 0,
              "ticks": ""
             }
            },
            "type": "scatterternary"
           }
          ],
          "surface": [
           {
            "colorbar": {
             "outlinewidth": 0,
             "ticks": ""
            },
            "colorscale": [
             [
              0,
              "#0d0887"
             ],
             [
              0.1111111111111111,
              "#46039f"
             ],
             [
              0.2222222222222222,
              "#7201a8"
             ],
             [
              0.3333333333333333,
              "#9c179e"
             ],
             [
              0.4444444444444444,
              "#bd3786"
             ],
             [
              0.5555555555555556,
              "#d8576b"
             ],
             [
              0.6666666666666666,
              "#ed7953"
             ],
             [
              0.7777777777777778,
              "#fb9f3a"
             ],
             [
              0.8888888888888888,
              "#fdca26"
             ],
             [
              1,
              "#f0f921"
             ]
            ],
            "type": "surface"
           }
          ],
          "table": [
           {
            "cells": {
             "fill": {
              "color": "#EBF0F8"
             },
             "line": {
              "color": "white"
             }
            },
            "header": {
             "fill": {
              "color": "#C8D4E3"
             },
             "line": {
              "color": "white"
             }
            },
            "type": "table"
           }
          ]
         },
         "layout": {
          "annotationdefaults": {
           "arrowcolor": "#2a3f5f",
           "arrowhead": 0,
           "arrowwidth": 1
          },
          "autotypenumbers": "strict",
          "coloraxis": {
           "colorbar": {
            "outlinewidth": 0,
            "ticks": ""
           }
          },
          "colorscale": {
           "diverging": [
            [
             0,
             "#8e0152"
            ],
            [
             0.1,
             "#c51b7d"
            ],
            [
             0.2,
             "#de77ae"
            ],
            [
             0.3,
             "#f1b6da"
            ],
            [
             0.4,
             "#fde0ef"
            ],
            [
             0.5,
             "#f7f7f7"
            ],
            [
             0.6,
             "#e6f5d0"
            ],
            [
             0.7,
             "#b8e186"
            ],
            [
             0.8,
             "#7fbc41"
            ],
            [
             0.9,
             "#4d9221"
            ],
            [
             1,
             "#276419"
            ]
           ],
           "sequential": [
            [
             0,
             "#0d0887"
            ],
            [
             0.1111111111111111,
             "#46039f"
            ],
            [
             0.2222222222222222,
             "#7201a8"
            ],
            [
             0.3333333333333333,
             "#9c179e"
            ],
            [
             0.4444444444444444,
             "#bd3786"
            ],
            [
             0.5555555555555556,
             "#d8576b"
            ],
            [
             0.6666666666666666,
             "#ed7953"
            ],
            [
             0.7777777777777778,
             "#fb9f3a"
            ],
            [
             0.8888888888888888,
             "#fdca26"
            ],
            [
             1,
             "#f0f921"
            ]
           ],
           "sequentialminus": [
            [
             0,
             "#0d0887"
            ],
            [
             0.1111111111111111,
             "#46039f"
            ],
            [
             0.2222222222222222,
             "#7201a8"
            ],
            [
             0.3333333333333333,
             "#9c179e"
            ],
            [
             0.4444444444444444,
             "#bd3786"
            ],
            [
             0.5555555555555556,
             "#d8576b"
            ],
            [
             0.6666666666666666,
             "#ed7953"
            ],
            [
             0.7777777777777778,
             "#fb9f3a"
            ],
            [
             0.8888888888888888,
             "#fdca26"
            ],
            [
             1,
             "#f0f921"
            ]
           ]
          },
          "colorway": [
           "#636efa",
           "#EF553B",
           "#00cc96",
           "#ab63fa",
           "#FFA15A",
           "#19d3f3",
           "#FF6692",
           "#B6E880",
           "#FF97FF",
           "#FECB52"
          ],
          "font": {
           "color": "#2a3f5f"
          },
          "geo": {
           "bgcolor": "white",
           "lakecolor": "white",
           "landcolor": "#E5ECF6",
           "showlakes": true,
           "showland": true,
           "subunitcolor": "white"
          },
          "hoverlabel": {
           "align": "left"
          },
          "hovermode": "closest",
          "mapbox": {
           "style": "light"
          },
          "paper_bgcolor": "white",
          "plot_bgcolor": "#E5ECF6",
          "polar": {
           "angularaxis": {
            "gridcolor": "white",
            "linecolor": "white",
            "ticks": ""
           },
           "bgcolor": "#E5ECF6",
           "radialaxis": {
            "gridcolor": "white",
            "linecolor": "white",
            "ticks": ""
           }
          },
          "scene": {
           "xaxis": {
            "backgroundcolor": "#E5ECF6",
            "gridcolor": "white",
            "gridwidth": 2,
            "linecolor": "white",
            "showbackground": true,
            "ticks": "",
            "zerolinecolor": "white"
           },
           "yaxis": {
            "backgroundcolor": "#E5ECF6",
            "gridcolor": "white",
            "gridwidth": 2,
            "linecolor": "white",
            "showbackground": true,
            "ticks": "",
            "zerolinecolor": "white"
           },
           "zaxis": {
            "backgroundcolor": "#E5ECF6",
            "gridcolor": "white",
            "gridwidth": 2,
            "linecolor": "white",
            "showbackground": true,
            "ticks": "",
            "zerolinecolor": "white"
           }
          },
          "shapedefaults": {
           "line": {
            "color": "#2a3f5f"
           }
          },
          "ternary": {
           "aaxis": {
            "gridcolor": "white",
            "linecolor": "white",
            "ticks": ""
           },
           "baxis": {
            "gridcolor": "white",
            "linecolor": "white",
            "ticks": ""
           },
           "bgcolor": "#E5ECF6",
           "caxis": {
            "gridcolor": "white",
            "linecolor": "white",
            "ticks": ""
           }
          },
          "title": {
           "x": 0.05
          },
          "xaxis": {
           "automargin": true,
           "gridcolor": "white",
           "linecolor": "white",
           "ticks": "",
           "title": {
            "standoff": 15
           },
           "zerolinecolor": "white",
           "zerolinewidth": 2
          },
          "yaxis": {
           "automargin": true,
           "gridcolor": "white",
           "linecolor": "white",
           "ticks": "",
           "title": {
            "standoff": 15
           },
           "zerolinecolor": "white",
           "zerolinewidth": 2
          }
         }
        },
        "xaxis": {
         "anchor": "y",
         "domain": [
          0,
          0.49
         ],
         "title": {
          "text": "total_bill"
         }
        },
        "xaxis2": {
         "anchor": "y2",
         "domain": [
          0.51,
          1
         ],
         "matches": "x",
         "title": {
          "text": "total_bill"
         }
        },
        "yaxis": {
         "anchor": "x",
         "domain": [
          0,
          1
         ],
         "title": {
          "text": "tip"
         }
        },
        "yaxis2": {
         "anchor": "x2",
         "domain": [
          0,
          1
         ],
         "matches": "y",
         "showticklabels": false
        }
       }
      }
     },
     "metadata": {},
     "output_type": "display_data"
    },
    {
     "name": "stdout",
     "output_type": "stream",
     "text": [
      "      sex smoker                                     px_fit_results\n",
      "0  Female     No  <statsmodels.regression.linear_model.Regressio...\n",
      "1  Female    Yes  <statsmodels.regression.linear_model.Regressio...\n",
      "2    Male     No  <statsmodels.regression.linear_model.Regressio...\n",
      "3    Male    Yes  <statsmodels.regression.linear_model.Regressio...\n"
     ]
    },
    {
     "data": {
      "text/html": [
       "<table class=\"simpletable\">\n",
       "<caption>OLS Regression Results</caption>\n",
       "<tr>\n",
       "  <th>Dep. Variable:</th>            <td>y</td>        <th>  R-squared:         </th> <td>   0.232</td>\n",
       "</tr>\n",
       "<tr>\n",
       "  <th>Model:</th>                   <td>OLS</td>       <th>  Adj. R-squared:    </th> <td>   0.219</td>\n",
       "</tr>\n",
       "<tr>\n",
       "  <th>Method:</th>             <td>Least Squares</td>  <th>  F-statistic:       </th> <td>   17.56</td>\n",
       "</tr>\n",
       "<tr>\n",
       "  <th>Date:</th>             <td>Fri, 31 Oct 2025</td> <th>  Prob (F-statistic):</th> <td>9.61e-05</td>\n",
       "</tr>\n",
       "<tr>\n",
       "  <th>Time:</th>                 <td>13:45:11</td>     <th>  Log-Likelihood:    </th> <td> -101.03</td>\n",
       "</tr>\n",
       "<tr>\n",
       "  <th>No. Observations:</th>      <td>    60</td>      <th>  AIC:               </th> <td>   206.1</td>\n",
       "</tr>\n",
       "<tr>\n",
       "  <th>Df Residuals:</th>          <td>    58</td>      <th>  BIC:               </th> <td>   210.2</td>\n",
       "</tr>\n",
       "<tr>\n",
       "  <th>Df Model:</th>              <td>     1</td>      <th>                     </th>     <td> </td>   \n",
       "</tr>\n",
       "<tr>\n",
       "  <th>Covariance Type:</th>      <td>nonrobust</td>    <th>                     </th>     <td> </td>   \n",
       "</tr>\n",
       "</table>\n",
       "<table class=\"simpletable\">\n",
       "<tr>\n",
       "    <td></td>       <th>coef</th>     <th>std err</th>      <th>t</th>      <th>P>|t|</th>  <th>[0.025</th>    <th>0.975]</th>  \n",
       "</tr>\n",
       "<tr>\n",
       "  <th>const</th> <td>    1.4253</td> <td>    0.424</td> <td>    3.361</td> <td> 0.001</td> <td>    0.576</td> <td>    2.274</td>\n",
       "</tr>\n",
       "<tr>\n",
       "  <th>x1</th>    <td>    0.0730</td> <td>    0.017</td> <td>    4.190</td> <td> 0.000</td> <td>    0.038</td> <td>    0.108</td>\n",
       "</tr>\n",
       "</table>\n",
       "<table class=\"simpletable\">\n",
       "<tr>\n",
       "  <th>Omnibus:</th>       <td>21.841</td> <th>  Durbin-Watson:     </th> <td>   1.383</td>\n",
       "</tr>\n",
       "<tr>\n",
       "  <th>Prob(Omnibus):</th> <td> 0.000</td> <th>  Jarque-Bera (JB):  </th> <td>  33.031</td>\n",
       "</tr>\n",
       "<tr>\n",
       "  <th>Skew:</th>          <td> 1.315</td> <th>  Prob(JB):          </th> <td>6.72e-08</td>\n",
       "</tr>\n",
       "<tr>\n",
       "  <th>Kurtosis:</th>      <td> 5.510</td> <th>  Cond. No.          </th> <td>    60.4</td>\n",
       "</tr>\n",
       "</table><br/><br/>Notes:<br/>[1] Standard Errors assume that the covariance matrix of the errors is correctly specified."
      ],
      "text/latex": [
       "\\begin{center}\n",
       "\\begin{tabular}{lclc}\n",
       "\\toprule\n",
       "\\textbf{Dep. Variable:}    &        y         & \\textbf{  R-squared:         } &     0.232   \\\\\n",
       "\\textbf{Model:}            &       OLS        & \\textbf{  Adj. R-squared:    } &     0.219   \\\\\n",
       "\\textbf{Method:}           &  Least Squares   & \\textbf{  F-statistic:       } &     17.56   \\\\\n",
       "\\textbf{Date:}             & Fri, 31 Oct 2025 & \\textbf{  Prob (F-statistic):} &  9.61e-05   \\\\\n",
       "\\textbf{Time:}             &     13:45:11     & \\textbf{  Log-Likelihood:    } &   -101.03   \\\\\n",
       "\\textbf{No. Observations:} &          60      & \\textbf{  AIC:               } &     206.1   \\\\\n",
       "\\textbf{Df Residuals:}     &          58      & \\textbf{  BIC:               } &     210.2   \\\\\n",
       "\\textbf{Df Model:}         &           1      & \\textbf{                     } &             \\\\\n",
       "\\textbf{Covariance Type:}  &    nonrobust     & \\textbf{                     } &             \\\\\n",
       "\\bottomrule\n",
       "\\end{tabular}\n",
       "\\begin{tabular}{lcccccc}\n",
       "               & \\textbf{coef} & \\textbf{std err} & \\textbf{t} & \\textbf{P$> |$t$|$} & \\textbf{[0.025} & \\textbf{0.975]}  \\\\\n",
       "\\midrule\n",
       "\\textbf{const} &       1.4253  &        0.424     &     3.361  &         0.001        &        0.576    &        2.274     \\\\\n",
       "\\textbf{x1}    &       0.0730  &        0.017     &     4.190  &         0.000        &        0.038    &        0.108     \\\\\n",
       "\\bottomrule\n",
       "\\end{tabular}\n",
       "\\begin{tabular}{lclc}\n",
       "\\textbf{Omnibus:}       & 21.841 & \\textbf{  Durbin-Watson:     } &    1.383  \\\\\n",
       "\\textbf{Prob(Omnibus):} &  0.000 & \\textbf{  Jarque-Bera (JB):  } &   33.031  \\\\\n",
       "\\textbf{Skew:}          &  1.315 & \\textbf{  Prob(JB):          } & 6.72e-08  \\\\\n",
       "\\textbf{Kurtosis:}      &  5.510 & \\textbf{  Cond. No.          } &     60.4  \\\\\n",
       "\\bottomrule\n",
       "\\end{tabular}\n",
       "%\\caption{OLS Regression Results}\n",
       "\\end{center}\n",
       "\n",
       "Notes: \\newline\n",
       " [1] Standard Errors assume that the covariance matrix of the errors is correctly specified."
      ],
      "text/plain": [
       "<class 'statsmodels.iolib.summary.Summary'>\n",
       "\"\"\"\n",
       "                            OLS Regression Results                            \n",
       "==============================================================================\n",
       "Dep. Variable:                      y   R-squared:                       0.232\n",
       "Model:                            OLS   Adj. R-squared:                  0.219\n",
       "Method:                 Least Squares   F-statistic:                     17.56\n",
       "Date:                Fri, 31 Oct 2025   Prob (F-statistic):           9.61e-05\n",
       "Time:                        13:45:11   Log-Likelihood:                -101.03\n",
       "No. Observations:                  60   AIC:                             206.1\n",
       "Df Residuals:                      58   BIC:                             210.2\n",
       "Df Model:                           1                                         \n",
       "Covariance Type:            nonrobust                                         \n",
       "==============================================================================\n",
       "                 coef    std err          t      P>|t|      [0.025      0.975]\n",
       "------------------------------------------------------------------------------\n",
       "const          1.4253      0.424      3.361      0.001       0.576       2.274\n",
       "x1             0.0730      0.017      4.190      0.000       0.038       0.108\n",
       "==============================================================================\n",
       "Omnibus:                       21.841   Durbin-Watson:                   1.383\n",
       "Prob(Omnibus):                  0.000   Jarque-Bera (JB):               33.031\n",
       "Skew:                           1.315   Prob(JB):                     6.72e-08\n",
       "Kurtosis:                       5.510   Cond. No.                         60.4\n",
       "==============================================================================\n",
       "\n",
       "Notes:\n",
       "[1] Standard Errors assume that the covariance matrix of the errors is correctly specified.\n",
       "\"\"\""
      ]
     },
     "execution_count": 3,
     "metadata": {},
     "output_type": "execute_result"
    }
   ],
   "source": [
    "import plotly.express as px\n",
    "\n",
    "df = px.data.tips()\n",
    "fig = px.scatter(df, x=\"total_bill\", y=\"tip\", facet_col=\"smoker\", color=\"sex\", trendline=\"ols\")\n",
    "fig.show()\n",
    "\n",
    "results = px.get_trendline_results(fig)\n",
    "print(results)\n",
    "\n",
    "results.query(\"sex == 'Male' and smoker == 'Yes'\").px_fit_results.iloc[0].summary()\n",
    "      "
   ]
  },
  {
   "cell_type": "code",
   "execution_count": 4,
   "metadata": {},
   "outputs": [
    {
     "data": {
      "application/vnd.plotly.v1+json": {
       "config": {
        "plotlyServerURL": "https://plot.ly"
       },
       "data": [
        {
         "hovertemplate": "sex=Female<br>smoker=No<br>total_bill=%{x}<br>tip=%{y}<extra></extra>",
         "legendgroup": "Female, No",
         "marker": {
          "color": "#636efa",
          "symbol": "circle"
         },
         "mode": "markers",
         "name": "Female, No",
         "orientation": "v",
         "showlegend": true,
         "type": "scatter",
         "x": {
          "bdata": "PQrXo3D9MEDXo3A9Cpc4QOF6FK5HoUFAKVyPwvWoLUApXI/C9agkQLgehetR+DBACtejcD1KNEAK16NwPYovQGZmZmZmpjNAH4XrUbgeLkBxPQrXo7A0QK5H4XoU7jBAFK5H4XqUJEBI4XoUrmdBQClcj8L1aDpAMzMzMzNzMEBSuB6F6xExQPYoXI/CdS1ApHA9CtcjJEAK16NwPWpBQAAAAAAAwDZA7FG4HoXrNEAAAAAAAAAdQPYoXI/CtTlAj8L1KFxPMUDNzMzMzEwlQFyPwvUo3ChAFK5H4XoUOEDXo3A9CtcqQPYoXI/C9ShAzczMzMzMPUAK16NwPQotQMP1KFyPwiZAhetRuB5FNEDXo3A9ClcmQIXrUbgehShAw/UoXI9CMkCF61G4HgUhQClcj8L1qCRAzczMzMxMLEBSuB6F61EqQLgehetReDFAzczMzMwMO0CuR+F6FG4wQDMzMzMzsyBApHA9CtejMkA9CtejcL0nQJqZmZmZ2T1AAAAAAAAAOUBI4XoUrscqQPYoXI/CNTBA9ihcj8L1L0AK16NwPepBQEjhehSuxzJA",
          "dtype": "f8"
         },
         "xaxis": "x",
         "y": {
          "bdata": "KVyPwvUo8D/hehSuR+EMQAAAAAAAABRAKVyPwvUoCEC4HoXrUbj6PwAAAAAAAAxAAAAAAAAABkDXo3A9CtcBQAAAAAAAAAhAAAAAAAAACECamZmZmZkDQI/C9ShcjwhAzczMzMzMBEDNzMzMzMwUQAAAAAAAAPg/w/UoXI/CA0AAAAAAAAAIQJqZmZmZmQFASOF6FK5H/T+uR+F6FK4UQAAAAAAAAApAUrgehetREEAAAAAAAADwPwAAAAAAABBAAAAAAAAADEAAAAAAAAD4P83MzMzMzPw/XI/C9ShcB0DhehSuR+H6Pylcj8L1KARAzczMzMzMEEAAAAAAAAAAQAAAAAAAAABApHA9CtejBkAAAAAAAAD4PwAAAAAAAABAAAAAAAAACkAAAAAAAAD0PwAAAAAAAABAAAAAAAAAAEAAAAAAAAAGQAAAAAAAAAxAAAAAAAAAFEBmZmZmZmYCQAAAAAAAAPg/w/UoXI/C9T8UrkfhehT6P4/C9ShcjxRAAAAAAAAADkDhehSuR+EEQAAAAAAAAABAAAAAAAAACECuR+F6FK4SQAAAAAAAAAhA",
          "dtype": "f8"
         },
         "yaxis": "y"
        },
        {
         "hovertemplate": "sex=Female<br>smoker=Yes<br>total_bill=%{x}<br>tip=%{y}<extra></extra>",
         "legendgroup": "Female, Yes",
         "marker": {
          "color": "#636efa",
          "symbol": "diamond"
         },
         "mode": "markers",
         "name": "Female, Yes",
         "orientation": "v",
         "showlegend": true,
         "type": "scatter",
         "x": {
          "bdata": "j8L1KFyPCEBcj8L1KNw6QEjhehSuRzlAAAAAAAAAF0BSuB6F61EwQDMzMzMzsyZAw/UoXI/CLkBmZmZmZiZGQOxRuB6FazZAH4XrUbieLEDD9Shcj4IxQK5H4XoULiVAw/UoXI9CJUAzMzMzMzMjQGZmZmZm5jRAZmZmZmYmMkCPwvUoXM8zQK5H4XoUjkVAAAAAAAAAKkB7FK5H4XopQAAAAAAAACpAZmZmZmZmMEC4HoXrUXgwQIXrUbgehSlACtejcD2KKkDsUbgehSs8QM3MzMzMzClApHA9CtcjPkDXo3A9CtcqQIXrUbgeRTBArkfhehQuJEAfhetRuB42QK5H4XoULjtA",
          "dtype": "f8"
         },
         "xaxis": "x",
         "y": {
          "bdata": "AAAAAAAA8D8fhetRuB4JQAAAAAAAABRAAAAAAAAA8D8zMzMzMzMRQAAAAAAAAARAAAAAAAAACEAAAAAAAAAEQNejcD0K1wtAAAAAAAAAEEAAAAAAAAAIQMP1KFyPwvk/AAAAAAAAAEAAAAAAAAAQQAAAAAAAAAxAAAAAAAAADEDD9Shcj8IQQAAAAAAAABRAAAAAAAAAAEAUrkfhehQAQAAAAAAAAABAAAAAAAAABEDXo3A9CtcJQNejcD0K1wFAAAAAAAAABEAAAAAAAAAaQJqZmZmZmfE/uB6F61G4CEDXo3A9CtcLQAAAAAAAAARAAAAAAAAAAEAK16NwPQoHQAAAAAAAAABA",
          "dtype": "f8"
         },
         "yaxis": "y"
        },
        {
         "hovertemplate": "sex=Male<br>smoker=No<br>total_bill=%{x}<br>tip=%{y}<extra></extra>",
         "legendgroup": "Male, No",
         "marker": {
          "color": "#EF553B",
          "symbol": "circle"
         },
         "mode": "markers",
         "name": "Male, No",
         "orientation": "v",
         "showlegend": true,
         "type": "scatter",
         "x": {
          "bdata": "rkfhehSuJEDD9ShcjwI1QK5H4XoUrjdACtejcD1KOUAK16NwPYohQOF6FK5H4TpAFK5H4XoULkCPwvUoXI8tQArXo3A9iiRA16NwPQrXLkCuR+F6FG4yQBSuR+F6lDVACtejcD1KMEBmZmZmZqY0QOxRuB6F6zFA9ihcj8K1Q0BSuB6F69EzQI/C9ShczzFAPQrXo3C9KkDhehSuR2EpQDMzMzMzszVAmpmZmZkZI0CamZmZmVkyQEjhehSuxzFAj8L1KFwPOECPwvUoXE8wQHE9CtejsDJAhetRuB5FP0AK16NwPQowQPYoXI/CdTFA4XoUrkfhK0Bcj8L1KFwjQGZmZmZmZj5ACtejcD1KMkB7FK5H4To2QDMzMzMzM0BAzczMzMyMPEAK16NwPQoyQBSuR+F6FClA4XoUrkfhI0CPwvUoXI85QD0K16NwfTNAw/UoXI8iSEDXo3A9CpcxQBSuR+F6FDRAexSuR+E6NEAK16NwPQooQIXrUbgeBSVAMzMzMzMzO0DD9Shcj8I2QArXo3A9SjFAKVyPwvWoMED2KFyPwvUvQI/C9ShcDypASOF6FK5HMkD2KFyPwrU4QClcj8L1KDVAPQrXo3B9NkDsUbgehesoQD0K16NwPTJAAAAAAAAALEApXI/C9QhDQDMzMzMz8zdArkfhehTuPUDhehSuR2EnQIXrUbgehSxAZmZmZmbmL0AK16NwPQohQFK4HoXr0TZAFK5H4XoUM0BmZmZmZiZBQLgehetRmERAj8L1KFyPI0AK16NwPQoeQKRwPQrXIyxAw/UoXI9CKkDD9Shcj0IxQM3MzMzMjDhAhetRuB7FM0D2KFyPwhVIQD0K16NwfTBAAAAAAACANUBSuB6F61EpQB+F61G4nitAhetRuB6FOEDD9Shcj8I0QPYoXI/CtT9AcT0K16OwNEA9CtejcD0eQArXo3A9KkhAMzMzMzNzNECPwvUoXI8qQLgehetROCdACtejcD2KJUCkcD0K1yMkQEjhehSuBz1AUrgehevRMUA=",
          "dtype": "f8"
         },
         "xaxis": "x",
         "y": {
          "bdata": "j8L1KFyP+j8AAAAAAAAMQHsUrkfhegpA16NwPQrXEkAAAAAAAAAAQPYoXI/C9QhAXI/C9Shc/z/Xo3A9CtcJQFyPwvUoXPs/H4XrUbge+T8AAAAAAAAIQFyPwvUoXA9ArkfhehSuDUDNzMzMzMwKQFK4HoXrURBAUrgehetRHkBxPQrXo3AJQLgehetRuAJAAAAAAAAAAEAAAAAAAAAAQDMzMzMzMxFAMzMzMzMz9z8AAAAAAAAEQClcj8L1KApAzczMzMzMDEAAAAAAAAAAQHsUrkfhegJAAAAAAAAAFEDsUbgehesBQFK4HoXrUQRAexSuR+F6CEAfhetRuB71P2ZmZmZmZhZAAAAAAAAACEAAAAAAAAAUQAAAAAAAABhAZmZmZmZmAEAAAAAAAAAIQAAAAAAAAARA9ihcj8L1+D9cj8L1KFwRQBSuR+F6FAxA7FG4HoXrGkAfhetRuB4FQDMzMzMzMwlAFK5H4XoUAECF61G4HoX/PwAAAAAAAPQ/AAAAAAAAEEAAAAAAAAAIQK5H4XoUrgVAMzMzMzMzC0A9CtejcD0AQAAAAAAAAABAAAAAAAAAEEBmZmZmZmYXQAAAAAAAAAhAAAAAAAAADEAAAAAAAAD4PxSuR+F6FA5AAAAAAAAACEAAAAAAAAAQQGZmZmZmZgRASOF6FK5HFEB7FK5H4XoCQAAAAAAAAARAAAAAAAAAAECuR+F6FK73P3E9CtejcAFAAAAAAAAA+D/NzMzMzMwaQAAAAAAAABRArkfhehSu+z8AAAAAAAAAQAAAAAAAAARAAAAAAAAAAEDsUbgehesFQAAAAAAAAABAAAAAAAAAAEAAAAAAAAAUQAAAAAAAAABAAAAAAAAADEAAAAAAAAAEQAAAAAAAAABA16NwPQrXC0DsUbgehesBQAAAAAAAABJAAAAAAAAAFEAK16NwPQr3PwAAAAAAACJAAAAAAAAACEDD9Shcj8IFQB+F61G4HgtAhetRuB6F9z8AAAAAAAD0P65H4XoUrhdAAAAAAAAA/D8=",
          "dtype": "f8"
         },
         "yaxis": "y"
        },
        {
         "hovertemplate": "sex=Male<br>smoker=Yes<br>total_bill=%{x}<br>tip=%{y}<extra></extra>",
         "legendgroup": "Male, Yes",
         "marker": {
          "color": "#EF553B",
          "symbol": "diamond"
         },
         "mode": "markers",
         "name": "Male, Yes",
         "orientation": "v",
         "showlegend": true,
         "type": "scatter",
         "x": {
          "bdata": "4XoUrkcBQ0B7FK5H4XomQArXo3A9SjRAH4XrUbieK0AK16NwPQomQArXo3A9SjJAhetRuB4FLkDsUbgehesxQHE9CtejcDNA16NwPQpXQEC4HoXrUfg8QPYoXI/CFURASOF6FK5HO0CPwvUoXA8oQMP1KFyPAjVAuB6F61G4LkA9CtejcH00QPYoXI/CNTlAAAAAAAAAMEBI4XoUrmdJQB+F61G4ni9AAAAAAAAAHUCamZmZmdk/QFK4HoXr0TBAMzMzMzNzQECkcD0K1+MxQPYoXI/C9SxAcT0K16NQQUAzMzMzM1NBQBSuR+F6VDdAzczMzMysRkDsUbgehSs3QGZmZmZmRkRA9ihcj8J1PkCamZmZmRk3QOF6FK5HYS9AcT0K16NwPED2KFyPwvUuQBSuR+F6lDBArkfhehSuJECF61G4HgUrQPYoXI/CtTJASOF6FK6HNEDXo3A9Cpc6QD0K16NwXUNAhetRuB5FOECPwvUoXA8+QKRwPQrX4zlAZmZmZmYmPECuR+F6FC4nQPYoXI/C9R5AUrgehetRKEApXI/C9SghQNejcD0K1ypAw/UoXI8COEDhehSuR2EvQI/C9ShcDy9AMzMzMzMzKUAK16NwPWpAQOxRuB6FqzZA",
          "dtype": "f8"
         },
         "xaxis": "x",
         "y": {
          "bdata": "AAAAAAAACEApXI/C9Sj8P65H4XoUrglAAAAAAAAAAECuR+F6FK7/PxSuR+F6FA5AuB6F61G4AECkcD0K16MIQAAAAAAAAAhAAAAAAAAAFEAAAAAAAAAIQOxRuB6F6xJAAAAAAAAAEEAAAAAAAAD4PwAAAAAAAAhAPQrXo3A9+j89CtejcD0QQClcj8L1KBFAAAAAAAAAAEAAAAAAAAAkQEjhehSuRwlAmpmZmZmZFEBxPQrXo3AJQAAAAAAAABBA4XoUrkfhCEAAAAAAAAAAQAAAAAAAAABAZmZmZmZmDEBxPQrXo3ANQJqZmZmZmRZAAAAAAAAADEAAAAAAAAAaQAAAAAAAAAhAAAAAAAAAAEAAAAAAAAAQQAAAAAAAAPg/exSuR+F6BEApXI/C9SgAQAAAAAAAABBAAAAAAAAAAEAAAAAAAAAAQAAAAAAAABBAAAAAAAAAEEBI4XoUrkcLQAAAAAAAAAhAPQrXo3A9AEAAAAAAAAAAQKRwPQrXoxRAAAAAAAAACEAAAAAAAAD4PwrXo3A9Cvc/mpmZmZmZAUC4HoXrUbj+P0jhehSuR/k/AAAAAAAAAEAAAAAAAAAIQAAAAAAAAAhAAAAAAAAA8D+4HoXrUbjyPwAAAAAAAABA",
          "dtype": "f8"
         },
         "yaxis": "y"
        },
        {
         "hovertemplate": "<b>OLS trendline</b><br>tip = 0.105025 * total_bill + 0.92027<br>R<sup>2</sup>=0.456617<br><br>total_bill=%{x}<br>tip=%{y} <b>(trend)</b><extra></extra>",
         "legendgroup": "Overall Trendline",
         "line": {
          "color": "#00cc96"
         },
         "mode": "lines",
         "name": "Overall Trendline",
         "showlegend": true,
         "type": "scatter",
         "x": {
          "bdata": "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",
          "dtype": "f8"
         },
         "xaxis": "x",
         "y": {
          "bdata": "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",
          "dtype": "f8"
         },
         "yaxis": "y"
        }
       ],
       "layout": {
        "legend": {
         "title": {
          "text": "sex, smoker"
         },
         "tracegroupgap": 0
        },
        "margin": {
         "t": 60
        },
        "template": {
         "data": {
          "bar": [
           {
            "error_x": {
             "color": "#2a3f5f"
            },
            "error_y": {
             "color": "#2a3f5f"
            },
            "marker": {
             "line": {
              "color": "#E5ECF6",
              "width": 0.5
             },
             "pattern": {
              "fillmode": "overlay",
              "size": 10,
              "solidity": 0.2
             }
            },
            "type": "bar"
           }
          ],
          "barpolar": [
           {
            "marker": {
             "line": {
              "color": "#E5ECF6",
              "width": 0.5
             },
             "pattern": {
              "fillmode": "overlay",
              "size": 10,
              "solidity": 0.2
             }
            },
            "type": "barpolar"
           }
          ],
          "carpet": [
           {
            "aaxis": {
             "endlinecolor": "#2a3f5f",
             "gridcolor": "white",
             "linecolor": "white",
             "minorgridcolor": "white",
             "startlinecolor": "#2a3f5f"
            },
            "baxis": {
             "endlinecolor": "#2a3f5f",
             "gridcolor": "white",
             "linecolor": "white",
             "minorgridcolor": "white",
             "startlinecolor": "#2a3f5f"
            },
            "type": "carpet"
           }
          ],
          "choropleth": [
           {
            "colorbar": {
             "outlinewidth": 0,
             "ticks": ""
            },
            "type": "choropleth"
           }
          ],
          "contour": [
           {
            "colorbar": {
             "outlinewidth": 0,
             "ticks": ""
            },
            "colorscale": [
             [
              0,
              "#0d0887"
             ],
             [
              0.1111111111111111,
              "#46039f"
             ],
             [
              0.2222222222222222,
              "#7201a8"
             ],
             [
              0.3333333333333333,
              "#9c179e"
             ],
             [
              0.4444444444444444,
              "#bd3786"
             ],
             [
              0.5555555555555556,
              "#d8576b"
             ],
             [
              0.6666666666666666,
              "#ed7953"
             ],
             [
              0.7777777777777778,
              "#fb9f3a"
             ],
             [
              0.8888888888888888,
              "#fdca26"
             ],
             [
              1,
              "#f0f921"
             ]
            ],
            "type": "contour"
           }
          ],
          "contourcarpet": [
           {
            "colorbar": {
             "outlinewidth": 0,
             "ticks": ""
            },
            "type": "contourcarpet"
           }
          ],
          "heatmap": [
           {
            "colorbar": {
             "outlinewidth": 0,
             "ticks": ""
            },
            "colorscale": [
             [
              0,
              "#0d0887"
             ],
             [
              0.1111111111111111,
              "#46039f"
             ],
             [
              0.2222222222222222,
              "#7201a8"
             ],
             [
              0.3333333333333333,
              "#9c179e"
             ],
             [
              0.4444444444444444,
              "#bd3786"
             ],
             [
              0.5555555555555556,
              "#d8576b"
             ],
             [
              0.6666666666666666,
              "#ed7953"
             ],
             [
              0.7777777777777778,
              "#fb9f3a"
             ],
             [
              0.8888888888888888,
              "#fdca26"
             ],
             [
              1,
              "#f0f921"
             ]
            ],
            "type": "heatmap"
           }
          ],
          "histogram": [
           {
            "marker": {
             "pattern": {
              "fillmode": "overlay",
              "size": 10,
              "solidity": 0.2
             }
            },
            "type": "histogram"
           }
          ],
          "histogram2d": [
           {
            "colorbar": {
             "outlinewidth": 0,
             "ticks": ""
            },
            "colorscale": [
             [
              0,
              "#0d0887"
             ],
             [
              0.1111111111111111,
              "#46039f"
             ],
             [
              0.2222222222222222,
              "#7201a8"
             ],
             [
              0.3333333333333333,
              "#9c179e"
             ],
             [
              0.4444444444444444,
              "#bd3786"
             ],
             [
              0.5555555555555556,
              "#d8576b"
             ],
             [
              0.6666666666666666,
              "#ed7953"
             ],
             [
              0.7777777777777778,
              "#fb9f3a"
             ],
             [
              0.8888888888888888,
              "#fdca26"
             ],
             [
              1,
              "#f0f921"
             ]
            ],
            "type": "histogram2d"
           }
          ],
          "histogram2dcontour": [
           {
            "colorbar": {
             "outlinewidth": 0,
             "ticks": ""
            },
            "colorscale": [
             [
              0,
              "#0d0887"
             ],
             [
              0.1111111111111111,
              "#46039f"
             ],
             [
              0.2222222222222222,
              "#7201a8"
             ],
             [
              0.3333333333333333,
              "#9c179e"
             ],
             [
              0.4444444444444444,
              "#bd3786"
             ],
             [
              0.5555555555555556,
              "#d8576b"
             ],
             [
              0.6666666666666666,
              "#ed7953"
             ],
             [
              0.7777777777777778,
              "#fb9f3a"
             ],
             [
              0.8888888888888888,
              "#fdca26"
             ],
             [
              1,
              "#f0f921"
             ]
            ],
            "type": "histogram2dcontour"
           }
          ],
          "mesh3d": [
           {
            "colorbar": {
             "outlinewidth": 0,
             "ticks": ""
            },
            "type": "mesh3d"
           }
          ],
          "parcoords": [
           {
            "line": {
             "colorbar": {
              "outlinewidth": 0,
              "ticks": ""
             }
            },
            "type": "parcoords"
           }
          ],
          "pie": [
           {
            "automargin": true,
            "type": "pie"
           }
          ],
          "scatter": [
           {
            "fillpattern": {
             "fillmode": "overlay",
             "size": 10,
             "solidity": 0.2
            },
            "type": "scatter"
           }
          ],
          "scatter3d": [
           {
            "line": {
             "colorbar": {
              "outlinewidth": 0,
              "ticks": ""
             }
            },
            "marker": {
             "colorbar": {
              "outlinewidth": 0,
              "ticks": ""
             }
            },
            "type": "scatter3d"
           }
          ],
          "scattercarpet": [
           {
            "marker": {
             "colorbar": {
              "outlinewidth": 0,
              "ticks": ""
             }
            },
            "type": "scattercarpet"
           }
          ],
          "scattergeo": [
           {
            "marker": {
             "colorbar": {
              "outlinewidth": 0,
              "ticks": ""
             }
            },
            "type": "scattergeo"
           }
          ],
          "scattergl": [
           {
            "marker": {
             "colorbar": {
              "outlinewidth": 0,
              "ticks": ""
             }
            },
            "type": "scattergl"
           }
          ],
          "scattermap": [
           {
            "marker": {
             "colorbar": {
              "outlinewidth": 0,
              "ticks": ""
             }
            },
            "type": "scattermap"
           }
          ],
          "scattermapbox": [
           {
            "marker": {
             "colorbar": {
              "outlinewidth": 0,
              "ticks": ""
             }
            },
            "type": "scattermapbox"
           }
          ],
          "scatterpolar": [
           {
            "marker": {
             "colorbar": {
              "outlinewidth": 0,
              "ticks": ""
             }
            },
            "type": "scatterpolar"
           }
          ],
          "scatterpolargl": [
           {
            "marker": {
             "colorbar": {
              "outlinewidth": 0,
              "ticks": ""
             }
            },
            "type": "scatterpolargl"
           }
          ],
          "scatterternary": [
           {
            "marker": {
             "colorbar": {
              "outlinewidth": 0,
              "ticks": ""
             }
            },
            "type": "scatterternary"
           }
          ],
          "surface": [
           {
            "colorbar": {
             "outlinewidth": 0,
             "ticks": ""
            },
            "colorscale": [
             [
              0,
              "#0d0887"
             ],
             [
              0.1111111111111111,
              "#46039f"
             ],
             [
              0.2222222222222222,
              "#7201a8"
             ],
             [
              0.3333333333333333,
              "#9c179e"
             ],
             [
              0.4444444444444444,
              "#bd3786"
             ],
             [
              0.5555555555555556,
              "#d8576b"
             ],
             [
              0.6666666666666666,
              "#ed7953"
             ],
             [
              0.7777777777777778,
              "#fb9f3a"
             ],
             [
              0.8888888888888888,
              "#fdca26"
             ],
             [
              1,
              "#f0f921"
             ]
            ],
            "type": "surface"
           }
          ],
          "table": [
           {
            "cells": {
             "fill": {
              "color": "#EBF0F8"
             },
             "line": {
              "color": "white"
             }
            },
            "header": {
             "fill": {
              "color": "#C8D4E3"
             },
             "line": {
              "color": "white"
             }
            },
            "type": "table"
           }
          ]
         },
         "layout": {
          "annotationdefaults": {
           "arrowcolor": "#2a3f5f",
           "arrowhead": 0,
           "arrowwidth": 1
          },
          "autotypenumbers": "strict",
          "coloraxis": {
           "colorbar": {
            "outlinewidth": 0,
            "ticks": ""
           }
          },
          "colorscale": {
           "diverging": [
            [
             0,
             "#8e0152"
            ],
            [
             0.1,
             "#c51b7d"
            ],
            [
             0.2,
             "#de77ae"
            ],
            [
             0.3,
             "#f1b6da"
            ],
            [
             0.4,
             "#fde0ef"
            ],
            [
             0.5,
             "#f7f7f7"
            ],
            [
             0.6,
             "#e6f5d0"
            ],
            [
             0.7,
             "#b8e186"
            ],
            [
             0.8,
             "#7fbc41"
            ],
            [
             0.9,
             "#4d9221"
            ],
            [
             1,
             "#276419"
            ]
           ],
           "sequential": [
            [
             0,
             "#0d0887"
            ],
            [
             0.1111111111111111,
             "#46039f"
            ],
            [
             0.2222222222222222,
             "#7201a8"
            ],
            [
             0.3333333333333333,
             "#9c179e"
            ],
            [
             0.4444444444444444,
             "#bd3786"
            ],
            [
             0.5555555555555556,
             "#d8576b"
            ],
            [
             0.6666666666666666,
             "#ed7953"
            ],
            [
             0.7777777777777778,
             "#fb9f3a"
            ],
            [
             0.8888888888888888,
             "#fdca26"
            ],
            [
             1,
             "#f0f921"
            ]
           ],
           "sequentialminus": [
            [
             0,
             "#0d0887"
            ],
            [
             0.1111111111111111,
             "#46039f"
            ],
            [
             0.2222222222222222,
             "#7201a8"
            ],
            [
             0.3333333333333333,
             "#9c179e"
            ],
            [
             0.4444444444444444,
             "#bd3786"
            ],
            [
             0.5555555555555556,
             "#d8576b"
            ],
            [
             0.6666666666666666,
             "#ed7953"
            ],
            [
             0.7777777777777778,
             "#fb9f3a"
            ],
            [
             0.8888888888888888,
             "#fdca26"
            ],
            [
             1,
             "#f0f921"
            ]
           ]
          },
          "colorway": [
           "#636efa",
           "#EF553B",
           "#00cc96",
           "#ab63fa",
           "#FFA15A",
           "#19d3f3",
           "#FF6692",
           "#B6E880",
           "#FF97FF",
           "#FECB52"
          ],
          "font": {
           "color": "#2a3f5f"
          },
          "geo": {
           "bgcolor": "white",
           "lakecolor": "white",
           "landcolor": "#E5ECF6",
           "showlakes": true,
           "showland": true,
           "subunitcolor": "white"
          },
          "hoverlabel": {
           "align": "left"
          },
          "hovermode": "closest",
          "mapbox": {
           "style": "light"
          },
          "paper_bgcolor": "white",
          "plot_bgcolor": "#E5ECF6",
          "polar": {
           "angularaxis": {
            "gridcolor": "white",
            "linecolor": "white",
            "ticks": ""
           },
           "bgcolor": "#E5ECF6",
           "radialaxis": {
            "gridcolor": "white",
            "linecolor": "white",
            "ticks": ""
           }
          },
          "scene": {
           "xaxis": {
            "backgroundcolor": "#E5ECF6",
            "gridcolor": "white",
            "gridwidth": 2,
            "linecolor": "white",
            "showbackground": true,
            "ticks": "",
            "zerolinecolor": "white"
           },
           "yaxis": {
            "backgroundcolor": "#E5ECF6",
            "gridcolor": "white",
            "gridwidth": 2,
            "linecolor": "white",
            "showbackground": true,
            "ticks": "",
            "zerolinecolor": "white"
           },
           "zaxis": {
            "backgroundcolor": "#E5ECF6",
            "gridcolor": "white",
            "gridwidth": 2,
            "linecolor": "white",
            "showbackground": true,
            "ticks": "",
            "zerolinecolor": "white"
           }
          },
          "shapedefaults": {
           "line": {
            "color": "#2a3f5f"
           }
          },
          "ternary": {
           "aaxis": {
            "gridcolor": "white",
            "linecolor": "white",
            "ticks": ""
           },
           "baxis": {
            "gridcolor": "white",
            "linecolor": "white",
            "ticks": ""
           },
           "bgcolor": "#E5ECF6",
           "caxis": {
            "gridcolor": "white",
            "linecolor": "white",
            "ticks": ""
           }
          },
          "title": {
           "x": 0.05
          },
          "xaxis": {
           "automargin": true,
           "gridcolor": "white",
           "linecolor": "white",
           "ticks": "",
           "title": {
            "standoff": 15
           },
           "zerolinecolor": "white",
           "zerolinewidth": 2
          },
          "yaxis": {
           "automargin": true,
           "gridcolor": "white",
           "linecolor": "white",
           "ticks": "",
           "title": {
            "standoff": 15
           },
           "zerolinecolor": "white",
           "zerolinewidth": 2
          }
         }
        },
        "xaxis": {
         "anchor": "y",
         "domain": [
          0,
          1
         ],
         "title": {
          "text": "total_bill"
         }
        },
        "yaxis": {
         "anchor": "x",
         "domain": [
          0,
          1
         ],
         "title": {
          "text": "tip"
         }
        }
       }
      }
     },
     "metadata": {},
     "output_type": "display_data"
    }
   ],
   "source": [
    "import plotly.express as px\n",
    "\n",
    "df = px.data.tips()\n",
    "fig = px.scatter(df, x=\"total_bill\", y=\"tip\", symbol=\"smoker\", color=\"sex\", trendline=\"ols\", trendline_scope=\"overall\")\n",
    "fig.show()\n"
   ]
  },
  {
   "cell_type": "code",
   "execution_count": 5,
   "metadata": {},
   "outputs": [
    {
     "data": {
      "application/vnd.plotly.v1+json": {
       "config": {
        "plotlyServerURL": "https://plot.ly"
       },
       "data": [
        {
         "hovertemplate": "gdpPercap=%{x}<br>lifeExp=%{y}<extra></extra>",
         "legendgroup": "",
         "marker": {
          "color": "#636efa",
          "symbol": "circle"
         },
         "mode": "markers",
         "name": "",
         "orientation": "v",
         "showlegend": false,
         "type": "scatter",
         "x": {
          "bdata": "54R1iKR0jkBgFASPBzG3QG2tLxJeT7hApWlQNDu9skAgJAuYsPXIQOeHEcJr0OBAWMoyxM+j4UDGpwAYAxndQPLPDOIDvZVAb7vQXJNz4EAOar+1I4WWQJzB3y9G3K1A8nhafkwWvUDboswG7YzIQGkAb4HmtMFAzzEge2XcxEDb2y3JIQSTQKHhg40h4XpAat/cXx3HmkAWNZiGYeifQAexM4Xnu+FAZJEm3iEQhkDiP91AQaCaQIY41sXRuclA0V0SZx1fs0D67laWlF67QBI+Stsu0Y5ANsjJadRYcUCMD7OXHWGsQKlNnNyH1sJAWTFcHQAjmEAUxhaCnI3MQIGzlCwNesFAH7qgvlNM1kCxbVFmzTnhQKwn84/2RKBAHkC/71+Jt0Dl9ssnQ9m6QKSK4lUuzbVArrzkf1pgtkBoke18C73HQM8Iysj0CoRAkQfH0XGWhUD5oGez4jbgQHbgnBGBwd1AIVnABD7LyUCOc5tw/4WHQL5Nf/aXat9A1GAahm++lEB47j1cmuTaQLQh/8wMQrRAcXkH0zt1jUCc8BKc2hmCQBAiGXKMxpJACJylZKm4q0Byv0NRn2XjQEJ4tHE8ltFAC2MLQZmq4UCzX3e6ayijQIDuy5lNqatAqYdodNuqxkBtVRLZD3exQCxlGeJ/3ONAbqMBvNHs2EC8lpAPbubbQOu12VjhmLxAi1QYWwTq3kDdek0PdqexQO3Vx0P/3JZAK2owDUPkmEATGVbxCM3WQEgbR6xfGedAd4TTgoduxEAVGohlU4WYQHXmHhIe6HlAxjNo6L+Mx0Ay/+ibFFOQQFKgqp3MuodAXCBB8dNRyEAKn62DU0qQQOZ1xCGbLJxANSkF3X5mxUBBDkqYyWTHQE7BGmeLL6hAS+fDs/ISwkCOHr+3WditQL3HmSZ8vYlAAAAAAACAjUC7YkZ4D8uyQEjfpGlwDZFAlufB3b334UAEHEKVQJjYQFJEhlWkeqVASAeQRmpdg0DeVKTC6HefQFZl3xWmGehAmGn7VwzL1UCwrDQp5VukQHui68KXKMNA4KKTpdZMsECIf9jS5/C8QLWpukf27KhAowvqW/YOzkBVTRB1aQfUQKJ6a2At4NJA3Qn2Xx/2vUDT2cngPBzFQAWrjyy1+IpAZof4h735mEAPRYE+tSXVQA+dnnfjwZpAWyOCcUQdw0DoJO93U/SKQKJinL/lBOdAYHZPHpQ90kByxFp8ECrZQAW4augg8YxAhnMNM9QawkAwKqkTRCXcQJ6xL9kwBK9AK97IPMpUpEANbmsLe6GxQP+ye/J3iOBAGH0FaU1Q4kBMio9PjFiwQI4ev7eRC9xA4UIewe1NkUCDr691ZSK9QKkf5XHCl4tAdF5jlyCW0UBkzF1L7LS7QJIIjWAjhcBAF35wPoWBkEDj32dcaDbgQOv/HOb0+ORAMJ5BQ7u5xEBblNkg50vGQJHSbB4nE6NAajS5GLOip0D9hR4xitGhQEDc1avY3JNA2On2SFlbfUA=",
          "dtype": "f8"
         },
         "xaxis": "x",
         "y": {
          "bdata": "RIts5/vpRUBQjZduEhtTQCUGgZVDE1JAIbByaJFdRUAUrkfhetRSQNejcD0KT1RAkxgEVg71U0BxPQrXo+hSQIcW2c73A1BATmIQWDncU0B3vp8aL11MQPp+arx0Y1BASgwCK4e2UkB3vp8aL11JQClcj8L1GFJAuB6F61FAUkD2KFyPwiVKQArXo3A9ykhABoGVQ4vcTUDXo3A9CjdJQG8Sg8DKKVRAAyuHFtleRkAX2c73U1NJQAisHFpko1NAL90kBoE9UkA3iUFg5ThSQH0/NV66SVBAQmDl0CI7R0Dwp8ZLN6lLQDVeukkMslNARIts5/spSEAdWmQ73+9SQLbz/dR4kVNAyXa+nxofU0Boke18P5VTQGiR7Xw/ZUtA16NwPQoPUkBWDi2ynb9SQBSDwMqh1VFA1XjpJjH4UUAmMQisHMpJQIXrUbgeBU1A8KfGSzd5SkB56SYxCNRTQDVeukkMKlRArkfhehReTEDTTWIQWLlNQESLbOf72VNAiUFg5dACTkD0/dR46d5TQH9qvHSTkFFAN4lBYOUATECNbOf7qTFHQGiR7Xw/dU5A6iYxCKyMUUBaZDvfT41UQBSDwMqhVVJAnMQgsHJwVEDqJjEIrCxQQJqZmZmZqVFABFYOLbK9UUD2KFyPwsVNQHE9CtejuFNASOF6FK4vVEBt5/up8SJUQD81XrpJJFJAO99PjZemVEAK16NwPSJSQK5H4XoUDktAXrpJDALTUEAdWmQ736dTQBSDwMqhZVNAZDvfT43/UUCyne+nxktFQBBYObTI1kZAsHJoke18UkBkEFg5tLhNQBBYObTIJkhAgZVDi2yPUkCyne+nxjtLQNEi2/l+ClBAJQaBlUMzUkAUrkfhegxTQAisHFpks1BAmG4Sg8CiUkDRItv5fspRQNEi2/l+CkVARrbz/dQIT0CJFtnO93NKQBSuR+F65E9AVOOlm8TwU0CTGARWDg1UQKjGSzeJOVJA5dAi2/luTEDLoUW2821HQAaBlUOLDFRAKVyPwvXoUkD0/dR46V5QQOx8PzVe4lJA46WbxCDwUUBt5/up8dpRQHnpJjEI7FFAeekmMQjkUkCDwMqhRYZTQDu0yHa+r1NAPzVeukkcU0BYObTIdh5SQOXQItv5HkdAbxKDwMphUEB9PzVeujFSQA4tsp3vh09A46WbxCCAUkBkEFg5tEhFQJHtfD81/lNA30+Nl26qUkAlBoGVQ3tTQDEIrBxaFEhACKwcWmSrSEBOYhBYOTxUQNNNYhBYGVJAukkMAitHTUBYObTIds5DQH9qvHSTOFRAwJ8aL91sVED+1HjpJolSQJqZmZmZmVNAGQRWDi1CSkCBlUOLbKdRQPYoXI/CNU1AI9v5fmp0UUBQjZduEntSQH0/NV668VFATDeJQWDFSUAzMzMzM9tTQHNoke18j1NAf2q8dJMYU0ArhxbZzm9SQA4tsp3vj1JAXrpJDAJbUkDTTWIQWFlPQP3UeOkmMUVAdZMYBFa+RUA=",
          "dtype": "f8"
         },
         "yaxis": "y"
        },
        {
         "hovertemplate": "<b>OLS trendline</b><br>lifeExp = 16.5851 * log10(gdpPercap) + 4.94961<br>R<sup>2</sup>=0.654449<br><br>gdpPercap=%{x}<br>lifeExp=%{y} <b>(trend)</b><extra></extra>",
         "legendgroup": "",
         "marker": {
          "color": "#636efa",
          "symbol": "circle"
         },
         "mode": "lines",
         "name": "",
         "showlegend": false,
         "type": "scatter",
         "x": {
          "bdata": "NsjJadRYcUB15h4SHuh5QKHhg40h4XpA2On2SFlbfUCc8BKc2hmCQEgHkEZqXYNAzwjKyPQKhECRB8fRcZaFQGSRJt4hEIZAjnObcP+Fh0BSoKqdzLqHQL3HmSZ8vYlA6CTvd1P0ikAFq48stfiKQKkf5XHCl4tABbhq6CDxjEBxeQfTO3WNQAAAAAAAgI1A54R1iKR0jkASPkrbLtGOQAqfrYNTSpBAMv/omxRTkEAXfnA+hYGQQEjfpGlwDZFA4UIewe1NkUAQIhlyjMaSQNvbLckhBJNAQNzVq9jck0DUYBqGb76UQPLPDOIDvZVADmq/tSOFlkDt1cdD/9yWQFkxXB0AI5hAFRqIZVOFmEArajANQ+SYQGaH+Ie9+ZhA4j/dQEGgmkAPnZ5348GaQGrf3F8dx5pA5nXEIZssnEDeVKTC6HefQBY1mIZh6J9ArCfzj/ZEoED9hR4xitGhQJHSbB4nE6NAs193umsoo0Ar3sg8ylSkQLCsNCnlW6RAUkSGVaR6pUBqNLkYs6KnQE7BGmeLL6hAtam6R/bsqECA7suZTamrQAicpWSpuKtAjA+zlx1hrECOHr+3WditQJzB3y9G3K1AnrEv2TAEr0DgopOl1kywQEyKj0+MWLBAbVUS2Q93sUANbmsLe6GxQN16TQ92p7FApWlQNDu9skC7YkZ4D8uyQNFdEmcdX7NAtCH/zAxCtECkiuJVLs21QK685H9aYLZAYBQEjwcxt0AeQL/vX4m3QG2tLxJeT7hA5fbLJ0PZukD67laWlF67QGTMXUvstLtA67XZWOGYvECIf9jS5/C8QPJ4Wn5MFr1Ag6+vdWUivUDdCfZfH/a9QJIIjWAjhcBAgbOULA16wUBpAG+B5rTBQEvnw7PyEsJAhnMNM9QawkCpTZzch9bCQFsjgnFEHcNAe6Lrwpcow0B3hNOCh27EQDCeQUO7ucRAzzEge2XcxEDT2cngPBzFQDUpBd1+ZsVAW5TZIOdLxkCph2h026rGQEEOSpjJZMdAxjNo6L+Mx0Boke18C73HQFwgQfHTUchA26LMBu2MyEAgJAuYsPXIQIY41sXRuclAIVnABD7LyUAUxhaCnI3MQKML6lv2Ds5AdF5jlyCW0UBCeLRxPJbRQGB2Tx6UPdJAonprYC3g0kBVTRB1aQfUQA9FgT61JdVAmGn7VwzL1UAfuqC+U0zWQBMZVvEIzdZABBxClUCY2EBuowG80ezYQHLEWnwQKtlAeO49XJrk2kC8lpAPbubbQI4ev7eRC9xAMCqpE0Ql3EDGpwAYAxndQHbgnBGBwd1Ai1QYWwTq3kC+TX/2l2rfQOPfZ1xoNuBA+aBns+I24EBvu9Bck3PgQP+ye/J3iOBA54cRwmvQ4ECxbVFmzTnhQFjKMsTPo+FAC2MLQZmq4UAHsTOF57vhQJbnwd299+FAGH0FaU1Q4kByv0NRn2XjQCxlGeJ/3ONA6/8c5vT45ECiYpy/5QTnQEgbR6xfGedAVmXfFaYZ6EA=",
          "dtype": "f8"
         },
         "xaxis": "x",
         "y": {
          "bdata": "g3j/Hn+8RkBDiH9ERy5IQIOxPMJCUEhAuB9VcYuhSEAqiN/ZxmJJQDb5NT8BoUlAnEx2K7rASUDLgDdiLwVKQBcHs/xDGUpA8vafk1tUSkDvu/0DaFxKQFpr2r9ip0pA9Syjy+HRSkBnk7Wed9JKQL3micN250pAmeIzV3kTS0AJF52JxCNLQCp1X0EVJUtA++HazXlCS0CjzwC1Wk1LQECmcwepgEtASL459peCS0Bqu+tHyIxLQOFWb/7QqktAEAQSLla4S0DOVjuIkANMQNcyPFJND0xAYJduH3U3TECFC8+Wel9MQI56IX2mikxAn+sxCjmrTEBxUnK/KrlMQKKlQrwj60xAWcWo7rH5TEBZy5q3iAdNQCxuo+qiCk1APsD5GaJFTUAD8lDYK0pNQJSK/dnfSk1Aty52EL55TUAvM1tDsN9NQBgwG6l47E1AZLVd4Ib+TUCvZ0iwYVJOQK/OBQYykU5ARYlZwTOVTkAjpO9rAcxOQKnjVmZDzU5AV45+I6T+TkB24DX12FZPQKbEUvgPbE9AZPUcT9iHT0CBdPRb2+dPQLOwjrXa6U9ATzp5tHv/T0AyaOPI9BZQQH2op18xF1BASeMMeLMoUEC70CcnqT9QQOyVZtjzQFBAgT3zXXtfUEDyfhu01WNQQFer8/dxZFBAgcFo2vB/UECuesaORIFQQCpnk249j1BAPLj0092jUECvUVkgt8VQQNrIr6220VBApVqgMTXiUEAd8NtMBOlQQC0Nq8Lr91BARJcafrUlUUCTZtmVkC5RQGcw0PM1NFFAIuN//cpCUUCCKvZ4TUhRQPXUGJWfSlFAM4a4Jl9LUUBbFPSGRlhRQLAFn3xdhVFAtk9XCFGfUUCrslAnV6VRQKMZY4/OrlFAHFcNZJevUUAPr8tc5MFRQPy4/cOayFFAmE/qlavJUUAYa0FxVOdRQEdajRDp7VFAkx/0k+nwUUDNeH32Y/ZRQFvApneu/FFAxAXfZpcPUkAApTBuMhdSQCVP5FC8JVJAdehmKs0oUkBeYATDeixSQK1uHjGhN1JALme1HPw7UkCqYt4Gm0NSQOaEW9mKUVJARpCQosJSUkDJ3K37m4FSQDANkt9KmVJARbQtDbrhUkBizEDnvOFSQO4FZamP8lJAgxoP+FYCU0CMM452rR1TQCHZK125NlNASAg1l5dEU0AM1kr1Jk9TQDLyaTxuWVNAVUHsYFd8U0DCAUPefYJTQC6VtyvlhlNAlqZtnYWlU0D2a8VYeLZTQNny5GPcuFNAiTZzA4K6U0Bv5QIl2MlTQIGYkbsn1FNA6qxnLMLlU0DDUHwMMO1TQCr8+G/B+1NAox5TBs/7U0B6t3X3fwJUQFCzRfPHBFRAr9IySI0MVEAYvuqisxdUQPGVuvymIlRA0HoFOFgjVEBiRtTsGiVUQMaAEy4kK1RAXElBse4zVEBVTIGKbE5UQPi7Wm9UWVRAeFsFlWxyVEB3AycOWZ1UQIndj2bynlRAPbsLDYGyVEA=",
          "dtype": "f8"
         },
         "yaxis": "y"
        }
       ],
       "layout": {
        "legend": {
         "tracegroupgap": 0
        },
        "template": {
         "data": {
          "bar": [
           {
            "error_x": {
             "color": "#2a3f5f"
            },
            "error_y": {
             "color": "#2a3f5f"
            },
            "marker": {
             "line": {
              "color": "#E5ECF6",
              "width": 0.5
             },
             "pattern": {
              "fillmode": "overlay",
              "size": 10,
              "solidity": 0.2
             }
            },
            "type": "bar"
           }
          ],
          "barpolar": [
           {
            "marker": {
             "line": {
              "color": "#E5ECF6",
              "width": 0.5
             },
             "pattern": {
              "fillmode": "overlay",
              "size": 10,
              "solidity": 0.2
             }
            },
            "type": "barpolar"
           }
          ],
          "carpet": [
           {
            "aaxis": {
             "endlinecolor": "#2a3f5f",
             "gridcolor": "white",
             "linecolor": "white",
             "minorgridcolor": "white",
             "startlinecolor": "#2a3f5f"
            },
            "baxis": {
             "endlinecolor": "#2a3f5f",
             "gridcolor": "white",
             "linecolor": "white",
             "minorgridcolor": "white",
             "startlinecolor": "#2a3f5f"
            },
            "type": "carpet"
           }
          ],
          "choropleth": [
           {
            "colorbar": {
             "outlinewidth": 0,
             "ticks": ""
            },
            "type": "choropleth"
           }
          ],
          "contour": [
           {
            "colorbar": {
             "outlinewidth": 0,
             "ticks": ""
            },
            "colorscale": [
             [
              0,
              "#0d0887"
             ],
             [
              0.1111111111111111,
              "#46039f"
             ],
             [
              0.2222222222222222,
              "#7201a8"
             ],
             [
              0.3333333333333333,
              "#9c179e"
             ],
             [
              0.4444444444444444,
              "#bd3786"
             ],
             [
              0.5555555555555556,
              "#d8576b"
             ],
             [
              0.6666666666666666,
              "#ed7953"
             ],
             [
              0.7777777777777778,
              "#fb9f3a"
             ],
             [
              0.8888888888888888,
              "#fdca26"
             ],
             [
              1,
              "#f0f921"
             ]
            ],
            "type": "contour"
           }
          ],
          "contourcarpet": [
           {
            "colorbar": {
             "outlinewidth": 0,
             "ticks": ""
            },
            "type": "contourcarpet"
           }
          ],
          "heatmap": [
           {
            "colorbar": {
             "outlinewidth": 0,
             "ticks": ""
            },
            "colorscale": [
             [
              0,
              "#0d0887"
             ],
             [
              0.1111111111111111,
              "#46039f"
             ],
             [
              0.2222222222222222,
              "#7201a8"
             ],
             [
              0.3333333333333333,
              "#9c179e"
             ],
             [
              0.4444444444444444,
              "#bd3786"
             ],
             [
              0.5555555555555556,
              "#d8576b"
             ],
             [
              0.6666666666666666,
              "#ed7953"
             ],
             [
              0.7777777777777778,
              "#fb9f3a"
             ],
             [
              0.8888888888888888,
              "#fdca26"
             ],
             [
              1,
              "#f0f921"
             ]
            ],
            "type": "heatmap"
           }
          ],
          "histogram": [
           {
            "marker": {
             "pattern": {
              "fillmode": "overlay",
              "size": 10,
              "solidity": 0.2
             }
            },
            "type": "histogram"
           }
          ],
          "histogram2d": [
           {
            "colorbar": {
             "outlinewidth": 0,
             "ticks": ""
            },
            "colorscale": [
             [
              0,
              "#0d0887"
             ],
             [
              0.1111111111111111,
              "#46039f"
             ],
             [
              0.2222222222222222,
              "#7201a8"
             ],
             [
              0.3333333333333333,
              "#9c179e"
             ],
             [
              0.4444444444444444,
              "#bd3786"
             ],
             [
              0.5555555555555556,
              "#d8576b"
             ],
             [
              0.6666666666666666,
              "#ed7953"
             ],
             [
              0.7777777777777778,
              "#fb9f3a"
             ],
             [
              0.8888888888888888,
              "#fdca26"
             ],
             [
              1,
              "#f0f921"
             ]
            ],
            "type": "histogram2d"
           }
          ],
          "histogram2dcontour": [
           {
            "colorbar": {
             "outlinewidth": 0,
             "ticks": ""
            },
            "colorscale": [
             [
              0,
              "#0d0887"
             ],
             [
              0.1111111111111111,
              "#46039f"
             ],
             [
              0.2222222222222222,
              "#7201a8"
             ],
             [
              0.3333333333333333,
              "#9c179e"
             ],
             [
              0.4444444444444444,
              "#bd3786"
             ],
             [
              0.5555555555555556,
              "#d8576b"
             ],
             [
              0.6666666666666666,
              "#ed7953"
             ],
             [
              0.7777777777777778,
              "#fb9f3a"
             ],
             [
              0.8888888888888888,
              "#fdca26"
             ],
             [
              1,
              "#f0f921"
             ]
            ],
            "type": "histogram2dcontour"
           }
          ],
          "mesh3d": [
           {
            "colorbar": {
             "outlinewidth": 0,
             "ticks": ""
            },
            "type": "mesh3d"
           }
          ],
          "parcoords": [
           {
            "line": {
             "colorbar": {
              "outlinewidth": 0,
              "ticks": ""
             }
            },
            "type": "parcoords"
           }
          ],
          "pie": [
           {
            "automargin": true,
            "type": "pie"
           }
          ],
          "scatter": [
           {
            "fillpattern": {
             "fillmode": "overlay",
             "size": 10,
             "solidity": 0.2
            },
            "type": "scatter"
           }
          ],
          "scatter3d": [
           {
            "line": {
             "colorbar": {
              "outlinewidth": 0,
              "ticks": ""
             }
            },
            "marker": {
             "colorbar": {
              "outlinewidth": 0,
              "ticks": ""
             }
            },
            "type": "scatter3d"
           }
          ],
          "scattercarpet": [
           {
            "marker": {
             "colorbar": {
              "outlinewidth": 0,
              "ticks": ""
             }
            },
            "type": "scattercarpet"
           }
          ],
          "scattergeo": [
           {
            "marker": {
             "colorbar": {
              "outlinewidth": 0,
              "ticks": ""
             }
            },
            "type": "scattergeo"
           }
          ],
          "scattergl": [
           {
            "marker": {
             "colorbar": {
              "outlinewidth": 0,
              "ticks": ""
             }
            },
            "type": "scattergl"
           }
          ],
          "scattermap": [
           {
            "marker": {
             "colorbar": {
              "outlinewidth": 0,
              "ticks": ""
             }
            },
            "type": "scattermap"
           }
          ],
          "scattermapbox": [
           {
            "marker": {
             "colorbar": {
              "outlinewidth": 0,
              "ticks": ""
             }
            },
            "type": "scattermapbox"
           }
          ],
          "scatterpolar": [
           {
            "marker": {
             "colorbar": {
              "outlinewidth": 0,
              "ticks": ""
             }
            },
            "type": "scatterpolar"
           }
          ],
          "scatterpolargl": [
           {
            "marker": {
             "colorbar": {
              "outlinewidth": 0,
              "ticks": ""
             }
            },
            "type": "scatterpolargl"
           }
          ],
          "scatterternary": [
           {
            "marker": {
             "colorbar": {
              "outlinewidth": 0,
              "ticks": ""
             }
            },
            "type": "scatterternary"
           }
          ],
          "surface": [
           {
            "colorbar": {
             "outlinewidth": 0,
             "ticks": ""
            },
            "colorscale": [
             [
              0,
              "#0d0887"
             ],
             [
              0.1111111111111111,
              "#46039f"
             ],
             [
              0.2222222222222222,
              "#7201a8"
             ],
             [
              0.3333333333333333,
              "#9c179e"
             ],
             [
              0.4444444444444444,
              "#bd3786"
             ],
             [
              0.5555555555555556,
              "#d8576b"
             ],
             [
              0.6666666666666666,
              "#ed7953"
             ],
             [
              0.7777777777777778,
              "#fb9f3a"
             ],
             [
              0.8888888888888888,
              "#fdca26"
             ],
             [
              1,
              "#f0f921"
             ]
            ],
            "type": "surface"
           }
          ],
          "table": [
           {
            "cells": {
             "fill": {
              "color": "#EBF0F8"
             },
             "line": {
              "color": "white"
             }
            },
            "header": {
             "fill": {
              "color": "#C8D4E3"
             },
             "line": {
              "color": "white"
             }
            },
            "type": "table"
           }
          ]
         },
         "layout": {
          "annotationdefaults": {
           "arrowcolor": "#2a3f5f",
           "arrowhead": 0,
           "arrowwidth": 1
          },
          "autotypenumbers": "strict",
          "coloraxis": {
           "colorbar": {
            "outlinewidth": 0,
            "ticks": ""
           }
          },
          "colorscale": {
           "diverging": [
            [
             0,
             "#8e0152"
            ],
            [
             0.1,
             "#c51b7d"
            ],
            [
             0.2,
             "#de77ae"
            ],
            [
             0.3,
             "#f1b6da"
            ],
            [
             0.4,
             "#fde0ef"
            ],
            [
             0.5,
             "#f7f7f7"
            ],
            [
             0.6,
             "#e6f5d0"
            ],
            [
             0.7,
             "#b8e186"
            ],
            [
             0.8,
             "#7fbc41"
            ],
            [
             0.9,
             "#4d9221"
            ],
            [
             1,
             "#276419"
            ]
           ],
           "sequential": [
            [
             0,
             "#0d0887"
            ],
            [
             0.1111111111111111,
             "#46039f"
            ],
            [
             0.2222222222222222,
             "#7201a8"
            ],
            [
             0.3333333333333333,
             "#9c179e"
            ],
            [
             0.4444444444444444,
             "#bd3786"
            ],
            [
             0.5555555555555556,
             "#d8576b"
            ],
            [
             0.6666666666666666,
             "#ed7953"
            ],
            [
             0.7777777777777778,
             "#fb9f3a"
            ],
            [
             0.8888888888888888,
             "#fdca26"
            ],
            [
             1,
             "#f0f921"
            ]
           ],
           "sequentialminus": [
            [
             0,
             "#0d0887"
            ],
            [
             0.1111111111111111,
             "#46039f"
            ],
            [
             0.2222222222222222,
             "#7201a8"
            ],
            [
             0.3333333333333333,
             "#9c179e"
            ],
            [
             0.4444444444444444,
             "#bd3786"
            ],
            [
             0.5555555555555556,
             "#d8576b"
            ],
            [
             0.6666666666666666,
             "#ed7953"
            ],
            [
             0.7777777777777778,
             "#fb9f3a"
            ],
            [
             0.8888888888888888,
             "#fdca26"
            ],
            [
             1,
             "#f0f921"
            ]
           ]
          },
          "colorway": [
           "#636efa",
           "#EF553B",
           "#00cc96",
           "#ab63fa",
           "#FFA15A",
           "#19d3f3",
           "#FF6692",
           "#B6E880",
           "#FF97FF",
           "#FECB52"
          ],
          "font": {
           "color": "#2a3f5f"
          },
          "geo": {
           "bgcolor": "white",
           "lakecolor": "white",
           "landcolor": "#E5ECF6",
           "showlakes": true,
           "showland": true,
           "subunitcolor": "white"
          },
          "hoverlabel": {
           "align": "left"
          },
          "hovermode": "closest",
          "mapbox": {
           "style": "light"
          },
          "paper_bgcolor": "white",
          "plot_bgcolor": "#E5ECF6",
          "polar": {
           "angularaxis": {
            "gridcolor": "white",
            "linecolor": "white",
            "ticks": ""
           },
           "bgcolor": "#E5ECF6",
           "radialaxis": {
            "gridcolor": "white",
            "linecolor": "white",
            "ticks": ""
           }
          },
          "scene": {
           "xaxis": {
            "backgroundcolor": "#E5ECF6",
            "gridcolor": "white",
            "gridwidth": 2,
            "linecolor": "white",
            "showbackground": true,
            "ticks": "",
            "zerolinecolor": "white"
           },
           "yaxis": {
            "backgroundcolor": "#E5ECF6",
            "gridcolor": "white",
            "gridwidth": 2,
            "linecolor": "white",
            "showbackground": true,
            "ticks": "",
            "zerolinecolor": "white"
           },
           "zaxis": {
            "backgroundcolor": "#E5ECF6",
            "gridcolor": "white",
            "gridwidth": 2,
            "linecolor": "white",
            "showbackground": true,
            "ticks": "",
            "zerolinecolor": "white"
           }
          },
          "shapedefaults": {
           "line": {
            "color": "#2a3f5f"
           }
          },
          "ternary": {
           "aaxis": {
            "gridcolor": "white",
            "linecolor": "white",
            "ticks": ""
           },
           "baxis": {
            "gridcolor": "white",
            "linecolor": "white",
            "ticks": ""
           },
           "bgcolor": "#E5ECF6",
           "caxis": {
            "gridcolor": "white",
            "linecolor": "white",
            "ticks": ""
           }
          },
          "title": {
           "x": 0.05
          },
          "xaxis": {
           "automargin": true,
           "gridcolor": "white",
           "linecolor": "white",
           "ticks": "",
           "title": {
            "standoff": 15
           },
           "zerolinecolor": "white",
           "zerolinewidth": 2
          },
          "yaxis": {
           "automargin": true,
           "gridcolor": "white",
           "linecolor": "white",
           "ticks": "",
           "title": {
            "standoff": 15
           },
           "zerolinecolor": "white",
           "zerolinewidth": 2
          }
         }
        },
        "title": {
         "text": "Log-transformed fit on linear axes"
        },
        "xaxis": {
         "anchor": "y",
         "domain": [
          0,
          1
         ],
         "title": {
          "text": "gdpPercap"
         }
        },
        "yaxis": {
         "anchor": "x",
         "domain": [
          0,
          1
         ],
         "title": {
          "text": "lifeExp"
         }
        }
       }
      }
     },
     "metadata": {},
     "output_type": "display_data"
    }
   ],
   "source": [
    "import plotly.express as px\n",
    "\n",
    "df = px.data.gapminder(year=2007)\n",
    "fig = px.scatter(df, x=\"gdpPercap\", y=\"lifeExp\", \n",
    "                 trendline=\"ols\", trendline_options=dict(log_x=True),\n",
    "                 title=\"Log-transformed fit on linear axes\")\n",
    "fig.show()\n"
   ]
  },
  {
   "cell_type": "code",
   "execution_count": 6,
   "metadata": {},
   "outputs": [
    {
     "data": {
      "application/vnd.plotly.v1+json": {
       "config": {
        "plotlyServerURL": "https://plot.ly"
       },
       "data": [
        {
         "hovertemplate": "gdpPercap=%{x}<br>lifeExp=%{y}<extra></extra>",
         "legendgroup": "",
         "marker": {
          "color": "#636efa",
          "symbol": "circle"
         },
         "mode": "markers",
         "name": "",
         "orientation": "v",
         "showlegend": false,
         "type": "scatter",
         "x": {
          "bdata": "54R1iKR0jkBgFASPBzG3QG2tLxJeT7hApWlQNDu9skAgJAuYsPXIQOeHEcJr0OBAWMoyxM+j4UDGpwAYAxndQPLPDOIDvZVAb7vQXJNz4EAOar+1I4WWQJzB3y9G3K1A8nhafkwWvUDboswG7YzIQGkAb4HmtMFAzzEge2XcxEDb2y3JIQSTQKHhg40h4XpAat/cXx3HmkAWNZiGYeifQAexM4Xnu+FAZJEm3iEQhkDiP91AQaCaQIY41sXRuclA0V0SZx1fs0D67laWlF67QBI+Stsu0Y5ANsjJadRYcUCMD7OXHWGsQKlNnNyH1sJAWTFcHQAjmEAUxhaCnI3MQIGzlCwNesFAH7qgvlNM1kCxbVFmzTnhQKwn84/2RKBAHkC/71+Jt0Dl9ssnQ9m6QKSK4lUuzbVArrzkf1pgtkBoke18C73HQM8Iysj0CoRAkQfH0XGWhUD5oGez4jbgQHbgnBGBwd1AIVnABD7LyUCOc5tw/4WHQL5Nf/aXat9A1GAahm++lEB47j1cmuTaQLQh/8wMQrRAcXkH0zt1jUCc8BKc2hmCQBAiGXKMxpJACJylZKm4q0Byv0NRn2XjQEJ4tHE8ltFAC2MLQZmq4UCzX3e6ayijQIDuy5lNqatAqYdodNuqxkBtVRLZD3exQCxlGeJ/3ONAbqMBvNHs2EC8lpAPbubbQOu12VjhmLxAi1QYWwTq3kDdek0PdqexQO3Vx0P/3JZAK2owDUPkmEATGVbxCM3WQEgbR6xfGedAd4TTgoduxEAVGohlU4WYQHXmHhIe6HlAxjNo6L+Mx0Ay/+ibFFOQQFKgqp3MuodAXCBB8dNRyEAKn62DU0qQQOZ1xCGbLJxANSkF3X5mxUBBDkqYyWTHQE7BGmeLL6hAS+fDs/ISwkCOHr+3WditQL3HmSZ8vYlAAAAAAACAjUC7YkZ4D8uyQEjfpGlwDZFAlufB3b334UAEHEKVQJjYQFJEhlWkeqVASAeQRmpdg0DeVKTC6HefQFZl3xWmGehAmGn7VwzL1UCwrDQp5VukQHui68KXKMNA4KKTpdZMsECIf9jS5/C8QLWpukf27KhAowvqW/YOzkBVTRB1aQfUQKJ6a2At4NJA3Qn2Xx/2vUDT2cngPBzFQAWrjyy1+IpAZof4h735mEAPRYE+tSXVQA+dnnfjwZpAWyOCcUQdw0DoJO93U/SKQKJinL/lBOdAYHZPHpQ90kByxFp8ECrZQAW4augg8YxAhnMNM9QawkAwKqkTRCXcQJ6xL9kwBK9AK97IPMpUpEANbmsLe6GxQP+ye/J3iOBAGH0FaU1Q4kBMio9PjFiwQI4ev7eRC9xA4UIewe1NkUCDr691ZSK9QKkf5XHCl4tAdF5jlyCW0UBkzF1L7LS7QJIIjWAjhcBAF35wPoWBkEDj32dcaDbgQOv/HOb0+ORAMJ5BQ7u5xEBblNkg50vGQJHSbB4nE6NAajS5GLOip0D9hR4xitGhQEDc1avY3JNA2On2SFlbfUA=",
          "dtype": "f8"
         },
         "xaxis": "x",
         "y": {
          "bdata": "RIts5/vpRUBQjZduEhtTQCUGgZVDE1JAIbByaJFdRUAUrkfhetRSQNejcD0KT1RAkxgEVg71U0BxPQrXo+hSQIcW2c73A1BATmIQWDncU0B3vp8aL11MQPp+arx0Y1BASgwCK4e2UkB3vp8aL11JQClcj8L1GFJAuB6F61FAUkD2KFyPwiVKQArXo3A9ykhABoGVQ4vcTUDXo3A9CjdJQG8Sg8DKKVRAAyuHFtleRkAX2c73U1NJQAisHFpko1NAL90kBoE9UkA3iUFg5ThSQH0/NV66SVBAQmDl0CI7R0Dwp8ZLN6lLQDVeukkMslNARIts5/spSEAdWmQ73+9SQLbz/dR4kVNAyXa+nxofU0Boke18P5VTQGiR7Xw/ZUtA16NwPQoPUkBWDi2ynb9SQBSDwMqh1VFA1XjpJjH4UUAmMQisHMpJQIXrUbgeBU1A8KfGSzd5SkB56SYxCNRTQDVeukkMKlRArkfhehReTEDTTWIQWLlNQESLbOf72VNAiUFg5dACTkD0/dR46d5TQH9qvHSTkFFAN4lBYOUATECNbOf7qTFHQGiR7Xw/dU5A6iYxCKyMUUBaZDvfT41UQBSDwMqhVVJAnMQgsHJwVEDqJjEIrCxQQJqZmZmZqVFABFYOLbK9UUD2KFyPwsVNQHE9CtejuFNASOF6FK4vVEBt5/up8SJUQD81XrpJJFJAO99PjZemVEAK16NwPSJSQK5H4XoUDktAXrpJDALTUEAdWmQ736dTQBSDwMqhZVNAZDvfT43/UUCyne+nxktFQBBYObTI1kZAsHJoke18UkBkEFg5tLhNQBBYObTIJkhAgZVDi2yPUkCyne+nxjtLQNEi2/l+ClBAJQaBlUMzUkAUrkfhegxTQAisHFpks1BAmG4Sg8CiUkDRItv5fspRQNEi2/l+CkVARrbz/dQIT0CJFtnO93NKQBSuR+F65E9AVOOlm8TwU0CTGARWDg1UQKjGSzeJOVJA5dAi2/luTEDLoUW2821HQAaBlUOLDFRAKVyPwvXoUkD0/dR46V5QQOx8PzVe4lJA46WbxCDwUUBt5/up8dpRQHnpJjEI7FFAeekmMQjkUkCDwMqhRYZTQDu0yHa+r1NAPzVeukkcU0BYObTIdh5SQOXQItv5HkdAbxKDwMphUEB9PzVeujFSQA4tsp3vh09A46WbxCCAUkBkEFg5tEhFQJHtfD81/lNA30+Nl26qUkAlBoGVQ3tTQDEIrBxaFEhACKwcWmSrSEBOYhBYOTxUQNNNYhBYGVJAukkMAitHTUBYObTIds5DQH9qvHSTOFRAwJ8aL91sVED+1HjpJolSQJqZmZmZmVNAGQRWDi1CSkCBlUOLbKdRQPYoXI/CNU1AI9v5fmp0UUBQjZduEntSQH0/NV668VFATDeJQWDFSUAzMzMzM9tTQHNoke18j1NAf2q8dJMYU0ArhxbZzm9SQA4tsp3vj1JAXrpJDAJbUkDTTWIQWFlPQP3UeOkmMUVAdZMYBFa+RUA=",
          "dtype": "f8"
         },
         "yaxis": "y"
        },
        {
         "hovertemplate": "<b>OLS trendline</b><br>lifeExp = 16.5851 * log10(gdpPercap) + 4.94961<br>R<sup>2</sup>=0.654449<br><br>gdpPercap=%{x}<br>lifeExp=%{y} <b>(trend)</b><extra></extra>",
         "legendgroup": "",
         "marker": {
          "color": "#636efa",
          "symbol": "circle"
         },
         "mode": "lines",
         "name": "",
         "showlegend": false,
         "type": "scatter",
         "x": {
          "bdata": "NsjJadRYcUB15h4SHuh5QKHhg40h4XpA2On2SFlbfUCc8BKc2hmCQEgHkEZqXYNAzwjKyPQKhECRB8fRcZaFQGSRJt4hEIZAjnObcP+Fh0BSoKqdzLqHQL3HmSZ8vYlA6CTvd1P0ikAFq48stfiKQKkf5XHCl4tABbhq6CDxjEBxeQfTO3WNQAAAAAAAgI1A54R1iKR0jkASPkrbLtGOQAqfrYNTSpBAMv/omxRTkEAXfnA+hYGQQEjfpGlwDZFA4UIewe1NkUAQIhlyjMaSQNvbLckhBJNAQNzVq9jck0DUYBqGb76UQPLPDOIDvZVADmq/tSOFlkDt1cdD/9yWQFkxXB0AI5hAFRqIZVOFmEArajANQ+SYQGaH+Ie9+ZhA4j/dQEGgmkAPnZ5348GaQGrf3F8dx5pA5nXEIZssnEDeVKTC6HefQBY1mIZh6J9ArCfzj/ZEoED9hR4xitGhQJHSbB4nE6NAs193umsoo0Ar3sg8ylSkQLCsNCnlW6RAUkSGVaR6pUBqNLkYs6KnQE7BGmeLL6hAtam6R/bsqECA7suZTamrQAicpWSpuKtAjA+zlx1hrECOHr+3WditQJzB3y9G3K1AnrEv2TAEr0DgopOl1kywQEyKj0+MWLBAbVUS2Q93sUANbmsLe6GxQN16TQ92p7FApWlQNDu9skC7YkZ4D8uyQNFdEmcdX7NAtCH/zAxCtECkiuJVLs21QK685H9aYLZAYBQEjwcxt0AeQL/vX4m3QG2tLxJeT7hA5fbLJ0PZukD67laWlF67QGTMXUvstLtA67XZWOGYvECIf9jS5/C8QPJ4Wn5MFr1Ag6+vdWUivUDdCfZfH/a9QJIIjWAjhcBAgbOULA16wUBpAG+B5rTBQEvnw7PyEsJAhnMNM9QawkCpTZzch9bCQFsjgnFEHcNAe6Lrwpcow0B3hNOCh27EQDCeQUO7ucRAzzEge2XcxEDT2cngPBzFQDUpBd1+ZsVAW5TZIOdLxkCph2h026rGQEEOSpjJZMdAxjNo6L+Mx0Boke18C73HQFwgQfHTUchA26LMBu2MyEAgJAuYsPXIQIY41sXRuclAIVnABD7LyUAUxhaCnI3MQKML6lv2Ds5AdF5jlyCW0UBCeLRxPJbRQGB2Tx6UPdJAonprYC3g0kBVTRB1aQfUQA9FgT61JdVAmGn7VwzL1UAfuqC+U0zWQBMZVvEIzdZABBxClUCY2EBuowG80ezYQHLEWnwQKtlAeO49XJrk2kC8lpAPbubbQI4ev7eRC9xAMCqpE0Ql3EDGpwAYAxndQHbgnBGBwd1Ai1QYWwTq3kC+TX/2l2rfQOPfZ1xoNuBA+aBns+I24EBvu9Bck3PgQP+ye/J3iOBA54cRwmvQ4ECxbVFmzTnhQFjKMsTPo+FAC2MLQZmq4UAHsTOF57vhQJbnwd299+FAGH0FaU1Q4kByv0NRn2XjQCxlGeJ/3ONA6/8c5vT45ECiYpy/5QTnQEgbR6xfGedAVmXfFaYZ6EA=",
          "dtype": "f8"
         },
         "xaxis": "x",
         "y": {
          "bdata": "g3j/Hn+8RkBDiH9ERy5IQIOxPMJCUEhAuB9VcYuhSEAqiN/ZxmJJQDb5NT8BoUlAnEx2K7rASUDLgDdiLwVKQBcHs/xDGUpA8vafk1tUSkDvu/0DaFxKQFpr2r9ip0pA9Syjy+HRSkBnk7Wed9JKQL3micN250pAmeIzV3kTS0AJF52JxCNLQCp1X0EVJUtA++HazXlCS0CjzwC1Wk1LQECmcwepgEtASL459peCS0Bqu+tHyIxLQOFWb/7QqktAEAQSLla4S0DOVjuIkANMQNcyPFJND0xAYJduH3U3TECFC8+Wel9MQI56IX2mikxAn+sxCjmrTEBxUnK/KrlMQKKlQrwj60xAWcWo7rH5TEBZy5q3iAdNQCxuo+qiCk1APsD5GaJFTUAD8lDYK0pNQJSK/dnfSk1Aty52EL55TUAvM1tDsN9NQBgwG6l47E1AZLVd4Ib+TUCvZ0iwYVJOQK/OBQYykU5ARYlZwTOVTkAjpO9rAcxOQKnjVmZDzU5AV45+I6T+TkB24DX12FZPQKbEUvgPbE9AZPUcT9iHT0CBdPRb2+dPQLOwjrXa6U9ATzp5tHv/T0AyaOPI9BZQQH2op18xF1BASeMMeLMoUEC70CcnqT9QQOyVZtjzQFBAgT3zXXtfUEDyfhu01WNQQFer8/dxZFBAgcFo2vB/UECuesaORIFQQCpnk249j1BAPLj0092jUECvUVkgt8VQQNrIr6220VBApVqgMTXiUEAd8NtMBOlQQC0Nq8Lr91BARJcafrUlUUCTZtmVkC5RQGcw0PM1NFFAIuN//cpCUUCCKvZ4TUhRQPXUGJWfSlFAM4a4Jl9LUUBbFPSGRlhRQLAFn3xdhVFAtk9XCFGfUUCrslAnV6VRQKMZY4/OrlFAHFcNZJevUUAPr8tc5MFRQPy4/cOayFFAmE/qlavJUUAYa0FxVOdRQEdajRDp7VFAkx/0k+nwUUDNeH32Y/ZRQFvApneu/FFAxAXfZpcPUkAApTBuMhdSQCVP5FC8JVJAdehmKs0oUkBeYATDeixSQK1uHjGhN1JALme1HPw7UkCqYt4Gm0NSQOaEW9mKUVJARpCQosJSUkDJ3K37m4FSQDANkt9KmVJARbQtDbrhUkBizEDnvOFSQO4FZamP8lJAgxoP+FYCU0CMM452rR1TQCHZK125NlNASAg1l5dEU0AM1kr1Jk9TQDLyaTxuWVNAVUHsYFd8U0DCAUPefYJTQC6VtyvlhlNAlqZtnYWlU0D2a8VYeLZTQNny5GPcuFNAiTZzA4K6U0Bv5QIl2MlTQIGYkbsn1FNA6qxnLMLlU0DDUHwMMO1TQCr8+G/B+1NAox5TBs/7U0B6t3X3fwJUQFCzRfPHBFRAr9IySI0MVEAYvuqisxdUQPGVuvymIlRA0HoFOFgjVEBiRtTsGiVUQMaAEy4kK1RAXElBse4zVEBVTIGKbE5UQPi7Wm9UWVRAeFsFlWxyVEB3AycOWZ1UQIndj2bynlRAPbsLDYGyVEA=",
          "dtype": "f8"
         },
         "yaxis": "y"
        }
       ],
       "layout": {
        "legend": {
         "tracegroupgap": 0
        },
        "template": {
         "data": {
          "bar": [
           {
            "error_x": {
             "color": "#2a3f5f"
            },
            "error_y": {
             "color": "#2a3f5f"
            },
            "marker": {
             "line": {
              "color": "#E5ECF6",
              "width": 0.5
             },
             "pattern": {
              "fillmode": "overlay",
              "size": 10,
              "solidity": 0.2
             }
            },
            "type": "bar"
           }
          ],
          "barpolar": [
           {
            "marker": {
             "line": {
              "color": "#E5ECF6",
              "width": 0.5
             },
             "pattern": {
              "fillmode": "overlay",
              "size": 10,
              "solidity": 0.2
             }
            },
            "type": "barpolar"
           }
          ],
          "carpet": [
           {
            "aaxis": {
             "endlinecolor": "#2a3f5f",
             "gridcolor": "white",
             "linecolor": "white",
             "minorgridcolor": "white",
             "startlinecolor": "#2a3f5f"
            },
            "baxis": {
             "endlinecolor": "#2a3f5f",
             "gridcolor": "white",
             "linecolor": "white",
             "minorgridcolor": "white",
             "startlinecolor": "#2a3f5f"
            },
            "type": "carpet"
           }
          ],
          "choropleth": [
           {
            "colorbar": {
             "outlinewidth": 0,
             "ticks": ""
            },
            "type": "choropleth"
           }
          ],
          "contour": [
           {
            "colorbar": {
             "outlinewidth": 0,
             "ticks": ""
            },
            "colorscale": [
             [
              0,
              "#0d0887"
             ],
             [
              0.1111111111111111,
              "#46039f"
             ],
             [
              0.2222222222222222,
              "#7201a8"
             ],
             [
              0.3333333333333333,
              "#9c179e"
             ],
             [
              0.4444444444444444,
              "#bd3786"
             ],
             [
              0.5555555555555556,
              "#d8576b"
             ],
             [
              0.6666666666666666,
              "#ed7953"
             ],
             [
              0.7777777777777778,
              "#fb9f3a"
             ],
             [
              0.8888888888888888,
              "#fdca26"
             ],
             [
              1,
              "#f0f921"
             ]
            ],
            "type": "contour"
           }
          ],
          "contourcarpet": [
           {
            "colorbar": {
             "outlinewidth": 0,
             "ticks": ""
            },
            "type": "contourcarpet"
           }
          ],
          "heatmap": [
           {
            "colorbar": {
             "outlinewidth": 0,
             "ticks": ""
            },
            "colorscale": [
             [
              0,
              "#0d0887"
             ],
             [
              0.1111111111111111,
              "#46039f"
             ],
             [
              0.2222222222222222,
              "#7201a8"
             ],
             [
              0.3333333333333333,
              "#9c179e"
             ],
             [
              0.4444444444444444,
              "#bd3786"
             ],
             [
              0.5555555555555556,
              "#d8576b"
             ],
             [
              0.6666666666666666,
              "#ed7953"
             ],
             [
              0.7777777777777778,
              "#fb9f3a"
             ],
             [
              0.8888888888888888,
              "#fdca26"
             ],
             [
              1,
              "#f0f921"
             ]
            ],
            "type": "heatmap"
           }
          ],
          "histogram": [
           {
            "marker": {
             "pattern": {
              "fillmode": "overlay",
              "size": 10,
              "solidity": 0.2
             }
            },
            "type": "histogram"
           }
          ],
          "histogram2d": [
           {
            "colorbar": {
             "outlinewidth": 0,
             "ticks": ""
            },
            "colorscale": [
             [
              0,
              "#0d0887"
             ],
             [
              0.1111111111111111,
              "#46039f"
             ],
             [
              0.2222222222222222,
              "#7201a8"
             ],
             [
              0.3333333333333333,
              "#9c179e"
             ],
             [
              0.4444444444444444,
              "#bd3786"
             ],
             [
              0.5555555555555556,
              "#d8576b"
             ],
             [
              0.6666666666666666,
              "#ed7953"
             ],
             [
              0.7777777777777778,
              "#fb9f3a"
             ],
             [
              0.8888888888888888,
              "#fdca26"
             ],
             [
              1,
              "#f0f921"
             ]
            ],
            "type": "histogram2d"
           }
          ],
          "histogram2dcontour": [
           {
            "colorbar": {
             "outlinewidth": 0,
             "ticks": ""
            },
            "colorscale": [
             [
              0,
              "#0d0887"
             ],
             [
              0.1111111111111111,
              "#46039f"
             ],
             [
              0.2222222222222222,
              "#7201a8"
             ],
             [
              0.3333333333333333,
              "#9c179e"
             ],
             [
              0.4444444444444444,
              "#bd3786"
             ],
             [
              0.5555555555555556,
              "#d8576b"
             ],
             [
              0.6666666666666666,
              "#ed7953"
             ],
             [
              0.7777777777777778,
              "#fb9f3a"
             ],
             [
              0.8888888888888888,
              "#fdca26"
             ],
             [
              1,
              "#f0f921"
             ]
            ],
            "type": "histogram2dcontour"
           }
          ],
          "mesh3d": [
           {
            "colorbar": {
             "outlinewidth": 0,
             "ticks": ""
            },
            "type": "mesh3d"
           }
          ],
          "parcoords": [
           {
            "line": {
             "colorbar": {
              "outlinewidth": 0,
              "ticks": ""
             }
            },
            "type": "parcoords"
           }
          ],
          "pie": [
           {
            "automargin": true,
            "type": "pie"
           }
          ],
          "scatter": [
           {
            "fillpattern": {
             "fillmode": "overlay",
             "size": 10,
             "solidity": 0.2
            },
            "type": "scatter"
           }
          ],
          "scatter3d": [
           {
            "line": {
             "colorbar": {
              "outlinewidth": 0,
              "ticks": ""
             }
            },
            "marker": {
             "colorbar": {
              "outlinewidth": 0,
              "ticks": ""
             }
            },
            "type": "scatter3d"
           }
          ],
          "scattercarpet": [
           {
            "marker": {
             "colorbar": {
              "outlinewidth": 0,
              "ticks": ""
             }
            },
            "type": "scattercarpet"
           }
          ],
          "scattergeo": [
           {
            "marker": {
             "colorbar": {
              "outlinewidth": 0,
              "ticks": ""
             }
            },
            "type": "scattergeo"
           }
          ],
          "scattergl": [
           {
            "marker": {
             "colorbar": {
              "outlinewidth": 0,
              "ticks": ""
             }
            },
            "type": "scattergl"
           }
          ],
          "scattermap": [
           {
            "marker": {
             "colorbar": {
              "outlinewidth": 0,
              "ticks": ""
             }
            },
            "type": "scattermap"
           }
          ],
          "scattermapbox": [
           {
            "marker": {
             "colorbar": {
              "outlinewidth": 0,
              "ticks": ""
             }
            },
            "type": "scattermapbox"
           }
          ],
          "scatterpolar": [
           {
            "marker": {
             "colorbar": {
              "outlinewidth": 0,
              "ticks": ""
             }
            },
            "type": "scatterpolar"
           }
          ],
          "scatterpolargl": [
           {
            "marker": {
             "colorbar": {
              "outlinewidth": 0,
              "ticks": ""
             }
            },
            "type": "scatterpolargl"
           }
          ],
          "scatterternary": [
           {
            "marker": {
             "colorbar": {
              "outlinewidth": 0,
              "ticks": ""
             }
            },
            "type": "scatterternary"
           }
          ],
          "surface": [
           {
            "colorbar": {
             "outlinewidth": 0,
             "ticks": ""
            },
            "colorscale": [
             [
              0,
              "#0d0887"
             ],
             [
              0.1111111111111111,
              "#46039f"
             ],
             [
              0.2222222222222222,
              "#7201a8"
             ],
             [
              0.3333333333333333,
              "#9c179e"
             ],
             [
              0.4444444444444444,
              "#bd3786"
             ],
             [
              0.5555555555555556,
              "#d8576b"
             ],
             [
              0.6666666666666666,
              "#ed7953"
             ],
             [
              0.7777777777777778,
              "#fb9f3a"
             ],
             [
              0.8888888888888888,
              "#fdca26"
             ],
             [
              1,
              "#f0f921"
             ]
            ],
            "type": "surface"
           }
          ],
          "table": [
           {
            "cells": {
             "fill": {
              "color": "#EBF0F8"
             },
             "line": {
              "color": "white"
             }
            },
            "header": {
             "fill": {
              "color": "#C8D4E3"
             },
             "line": {
              "color": "white"
             }
            },
            "type": "table"
           }
          ]
         },
         "layout": {
          "annotationdefaults": {
           "arrowcolor": "#2a3f5f",
           "arrowhead": 0,
           "arrowwidth": 1
          },
          "autotypenumbers": "strict",
          "coloraxis": {
           "colorbar": {
            "outlinewidth": 0,
            "ticks": ""
           }
          },
          "colorscale": {
           "diverging": [
            [
             0,
             "#8e0152"
            ],
            [
             0.1,
             "#c51b7d"
            ],
            [
             0.2,
             "#de77ae"
            ],
            [
             0.3,
             "#f1b6da"
            ],
            [
             0.4,
             "#fde0ef"
            ],
            [
             0.5,
             "#f7f7f7"
            ],
            [
             0.6,
             "#e6f5d0"
            ],
            [
             0.7,
             "#b8e186"
            ],
            [
             0.8,
             "#7fbc41"
            ],
            [
             0.9,
             "#4d9221"
            ],
            [
             1,
             "#276419"
            ]
           ],
           "sequential": [
            [
             0,
             "#0d0887"
            ],
            [
             0.1111111111111111,
             "#46039f"
            ],
            [
             0.2222222222222222,
             "#7201a8"
            ],
            [
             0.3333333333333333,
             "#9c179e"
            ],
            [
             0.4444444444444444,
             "#bd3786"
            ],
            [
             0.5555555555555556,
             "#d8576b"
            ],
            [
             0.6666666666666666,
             "#ed7953"
            ],
            [
             0.7777777777777778,
             "#fb9f3a"
            ],
            [
             0.8888888888888888,
             "#fdca26"
            ],
            [
             1,
             "#f0f921"
            ]
           ],
           "sequentialminus": [
            [
             0,
             "#0d0887"
            ],
            [
             0.1111111111111111,
             "#46039f"
            ],
            [
             0.2222222222222222,
             "#7201a8"
            ],
            [
             0.3333333333333333,
             "#9c179e"
            ],
            [
             0.4444444444444444,
             "#bd3786"
            ],
            [
             0.5555555555555556,
             "#d8576b"
            ],
            [
             0.6666666666666666,
             "#ed7953"
            ],
            [
             0.7777777777777778,
             "#fb9f3a"
            ],
            [
             0.8888888888888888,
             "#fdca26"
            ],
            [
             1,
             "#f0f921"
            ]
           ]
          },
          "colorway": [
           "#636efa",
           "#EF553B",
           "#00cc96",
           "#ab63fa",
           "#FFA15A",
           "#19d3f3",
           "#FF6692",
           "#B6E880",
           "#FF97FF",
           "#FECB52"
          ],
          "font": {
           "color": "#2a3f5f"
          },
          "geo": {
           "bgcolor": "white",
           "lakecolor": "white",
           "landcolor": "#E5ECF6",
           "showlakes": true,
           "showland": true,
           "subunitcolor": "white"
          },
          "hoverlabel": {
           "align": "left"
          },
          "hovermode": "closest",
          "mapbox": {
           "style": "light"
          },
          "paper_bgcolor": "white",
          "plot_bgcolor": "#E5ECF6",
          "polar": {
           "angularaxis": {
            "gridcolor": "white",
            "linecolor": "white",
            "ticks": ""
           },
           "bgcolor": "#E5ECF6",
           "radialaxis": {
            "gridcolor": "white",
            "linecolor": "white",
            "ticks": ""
           }
          },
          "scene": {
           "xaxis": {
            "backgroundcolor": "#E5ECF6",
            "gridcolor": "white",
            "gridwidth": 2,
            "linecolor": "white",
            "showbackground": true,
            "ticks": "",
            "zerolinecolor": "white"
           },
           "yaxis": {
            "backgroundcolor": "#E5ECF6",
            "gridcolor": "white",
            "gridwidth": 2,
            "linecolor": "white",
            "showbackground": true,
            "ticks": "",
            "zerolinecolor": "white"
           },
           "zaxis": {
            "backgroundcolor": "#E5ECF6",
            "gridcolor": "white",
            "gridwidth": 2,
            "linecolor": "white",
            "showbackground": true,
            "ticks": "",
            "zerolinecolor": "white"
           }
          },
          "shapedefaults": {
           "line": {
            "color": "#2a3f5f"
           }
          },
          "ternary": {
           "aaxis": {
            "gridcolor": "white",
            "linecolor": "white",
            "ticks": ""
           },
           "baxis": {
            "gridcolor": "white",
            "linecolor": "white",
            "ticks": ""
           },
           "bgcolor": "#E5ECF6",
           "caxis": {
            "gridcolor": "white",
            "linecolor": "white",
            "ticks": ""
           }
          },
          "title": {
           "x": 0.05
          },
          "xaxis": {
           "automargin": true,
           "gridcolor": "white",
           "linecolor": "white",
           "ticks": "",
           "title": {
            "standoff": 15
           },
           "zerolinecolor": "white",
           "zerolinewidth": 2
          },
          "yaxis": {
           "automargin": true,
           "gridcolor": "white",
           "linecolor": "white",
           "ticks": "",
           "title": {
            "standoff": 15
           },
           "zerolinecolor": "white",
           "zerolinewidth": 2
          }
         }
        },
        "title": {
         "text": "Log-scaled X axis and log-transformed fit"
        },
        "xaxis": {
         "anchor": "y",
         "domain": [
          0,
          1
         ],
         "title": {
          "text": "gdpPercap"
         },
         "type": "log"
        },
        "yaxis": {
         "anchor": "x",
         "domain": [
          0,
          1
         ],
         "title": {
          "text": "lifeExp"
         }
        }
       }
      }
     },
     "metadata": {},
     "output_type": "display_data"
    }
   ],
   "source": [
    "import plotly.express as px\n",
    "\n",
    "df = px.data.gapminder(year=2007)\n",
    "fig = px.scatter(df, x=\"gdpPercap\", y=\"lifeExp\", log_x=True, \n",
    "                 trendline=\"ols\", trendline_options=dict(log_x=True),\n",
    "                 title=\"Log-scaled X axis and log-transformed fit\")\n",
    "fig.show()\n"
   ]
  },
  {
   "cell_type": "code",
   "execution_count": 7,
   "metadata": {},
   "outputs": [
    {
     "data": {
      "application/vnd.plotly.v1+json": {
       "config": {
        "plotlyServerURL": "https://plot.ly"
       },
       "data": [
        {
         "hovertemplate": "date=%{x}<br>GOOG=%{y}<extra></extra>",
         "legendgroup": "",
         "marker": {
          "color": "#636efa",
          "symbol": "circle"
         },
         "mode": "markers",
         "name": "",
         "orientation": "v",
         "showlegend": false,
         "type": "scatter",
         "x": [
          "2018-01-01T00:00:00.000000000",
          "2018-01-08T00:00:00.000000000",
          "2018-01-15T00:00:00.000000000",
          "2018-01-22T00:00:00.000000000",
          "2018-01-29T00:00:00.000000000",
          "2018-02-05T00:00:00.000000000",
          "2018-02-12T00:00:00.000000000",
          "2018-02-19T00:00:00.000000000",
          "2018-02-26T00:00:00.000000000",
          "2018-03-05T00:00:00.000000000",
          "2018-03-12T00:00:00.000000000",
          "2018-03-19T00:00:00.000000000",
          "2018-03-26T00:00:00.000000000",
          "2018-04-02T00:00:00.000000000",
          "2018-04-09T00:00:00.000000000",
          "2018-04-16T00:00:00.000000000",
          "2018-04-23T00:00:00.000000000",
          "2018-04-30T00:00:00.000000000",
          "2018-05-07T00:00:00.000000000",
          "2018-05-14T00:00:00.000000000",
          "2018-05-21T00:00:00.000000000",
          "2018-05-28T00:00:00.000000000",
          "2018-06-04T00:00:00.000000000",
          "2018-06-11T00:00:00.000000000",
          "2018-06-18T00:00:00.000000000",
          "2018-06-25T00:00:00.000000000",
          "2018-07-02T00:00:00.000000000",
          "2018-07-09T00:00:00.000000000",
          "2018-07-16T00:00:00.000000000",
          "2018-07-23T00:00:00.000000000",
          "2018-07-30T00:00:00.000000000",
          "2018-08-06T00:00:00.000000000",
          "2018-08-13T00:00:00.000000000",
          "2018-08-20T00:00:00.000000000",
          "2018-08-27T00:00:00.000000000",
          "2018-09-03T00:00:00.000000000",
          "2018-09-10T00:00:00.000000000",
          "2018-09-17T00:00:00.000000000",
          "2018-09-24T00:00:00.000000000",
          "2018-10-01T00:00:00.000000000",
          "2018-10-08T00:00:00.000000000",
          "2018-10-15T00:00:00.000000000",
          "2018-10-22T00:00:00.000000000",
          "2018-10-29T00:00:00.000000000",
          "2018-11-05T00:00:00.000000000",
          "2018-11-12T00:00:00.000000000",
          "2018-11-19T00:00:00.000000000",
          "2018-11-26T00:00:00.000000000",
          "2018-12-03T00:00:00.000000000",
          "2018-12-10T00:00:00.000000000",
          "2018-12-17T00:00:00.000000000",
          "2018-12-24T00:00:00.000000000",
          "2018-12-31T00:00:00.000000000",
          "2019-01-07T00:00:00.000000000",
          "2019-01-14T00:00:00.000000000",
          "2019-01-21T00:00:00.000000000",
          "2019-01-28T00:00:00.000000000",
          "2019-02-04T00:00:00.000000000",
          "2019-02-11T00:00:00.000000000",
          "2019-02-18T00:00:00.000000000",
          "2019-02-25T00:00:00.000000000",
          "2019-03-04T00:00:00.000000000",
          "2019-03-11T00:00:00.000000000",
          "2019-03-18T00:00:00.000000000",
          "2019-03-25T00:00:00.000000000",
          "2019-04-01T00:00:00.000000000",
          "2019-04-08T00:00:00.000000000",
          "2019-04-15T00:00:00.000000000",
          "2019-04-22T00:00:00.000000000",
          "2019-04-29T00:00:00.000000000",
          "2019-05-06T00:00:00.000000000",
          "2019-05-13T00:00:00.000000000",
          "2019-05-20T00:00:00.000000000",
          "2019-05-27T00:00:00.000000000",
          "2019-06-03T00:00:00.000000000",
          "2019-06-10T00:00:00.000000000",
          "2019-06-17T00:00:00.000000000",
          "2019-06-24T00:00:00.000000000",
          "2019-07-01T00:00:00.000000000",
          "2019-07-08T00:00:00.000000000",
          "2019-07-15T00:00:00.000000000",
          "2019-07-22T00:00:00.000000000",
          "2019-07-29T00:00:00.000000000",
          "2019-08-05T00:00:00.000000000",
          "2019-08-12T00:00:00.000000000",
          "2019-08-19T00:00:00.000000000",
          "2019-08-26T00:00:00.000000000",
          "2019-09-02T00:00:00.000000000",
          "2019-09-09T00:00:00.000000000",
          "2019-09-16T00:00:00.000000000",
          "2019-09-23T00:00:00.000000000",
          "2019-09-30T00:00:00.000000000",
          "2019-10-07T00:00:00.000000000",
          "2019-10-14T00:00:00.000000000",
          "2019-10-21T00:00:00.000000000",
          "2019-10-28T00:00:00.000000000",
          "2019-11-04T00:00:00.000000000",
          "2019-11-11T00:00:00.000000000",
          "2019-11-18T00:00:00.000000000",
          "2019-11-25T00:00:00.000000000",
          "2019-12-02T00:00:00.000000000",
          "2019-12-09T00:00:00.000000000",
          "2019-12-16T00:00:00.000000000",
          "2019-12-23T00:00:00.000000000",
          "2019-12-30T00:00:00.000000000"
         ],
         "xaxis": "x",
         "y": {
          "bdata": "AAAAAAAA8D/OK9MDb0rwP68QOq4ag/A/9oPp0ooR8T8TsS9U7yPwP99D4KT+IO4/3Hw6e8fI7z+q8F+IRFvwP9LSdHnBUu8/LIMaANTW8D8JvFtMfXzwPz7QZruEqO0/HpxM0nn07T+3TPA/hzztPxfM6R6/4e0/IXrkjXUm7z8heCA9i+ftP6NcPhmDbu4/QjPHjn7i7z+qgyQlaPXuP+V5ctWGOu8/ZFIUWy1A8D9vrqGpREXwP4WiXq/qufA/U4wX6uHF8D/pH6HJ3jHwP3Um9zr9jPA/0NEB+MZB8T9XHtVhPzPxPyuHvbZk+vE/NwuPnm7D8T/XXM4FFvfxP6hIRQnkbvE/az8Jog+48T9kWBFN667xP01QZMGg6PA/pI7CAT4F8T+UMFxuT+3wP6R7NKQOU/E/85Ml4tTM8D/YyoXbKx3wP2L4PrQd1e8/L6n6oWIb7z/SWD6VtrXuP9oE9qnY8+4/8kBpRjbR7j+goGHWr7ntP/MQKYMHxu8/XzbgVBMY7j8FnNv3GUHuP7udcIUkcOw/dtxkp8ob7j+2jo+avBXvP53HSc9Ase4/QjPHjn7i7z9LiPtKdqzvPxmlC0mpH/A/OvEgMLbK7z+605ckcCrwP3zeMMc/HvA/rDRmQwmQ8D+apul6+pTwPymUuDeTMfE/Lh6kE8N/8T8zPRwRJAjxPzJ9CsjkhfE/OJ3k7bqt8T/lnXpkevLxPxPbLk2Nd/I/umBFhRE18T9FfGgTjObwP4oJl/853/A/NI4dTRd08D8JjgPgMwXwP1INy2YH8+4/3LqtWYuC7z8wZfiBBUnwP9tJ47eLYe8/dM57zxpt8D8PGkn3kJ7wP/vlhlmRZ/A/R53F/qYm8j95l9xY/VTxP0LUZHXEPvE/R7cjKRUY8T/i1RHuT7bwPzyHlAsaP/E/fDnW36R98T+zOPArVf7xP79xyu6L2vE/7Hfuco/I8T9/Y3S0xIzxP06g9q+8pPE/IwGMcl4U8j+pVbJuWl3yPzJVr01ZffI/r0ZXkS8J8z/PhYSkg2DzP8kL1dedzfI/E8Ioj13x8j/WQP++4XXzP+AKN76skPM/MT5xFDeX8z+urvcqw5/zP2qQawKBaPM/",
          "dtype": "f8"
         },
         "yaxis": "y"
        },
        {
         "hovertemplate": "<b>LOWESS trendline</b><br><br>date=%{x}<br>GOOG=%{y} <b>(trend)</b><extra></extra>",
         "legendgroup": "",
         "marker": {
          "color": "#636efa",
          "symbol": "circle"
         },
         "mode": "lines",
         "name": "",
         "showlegend": false,
         "type": "scatter",
         "x": [
          "2018-01-01T00:00:00.000000000",
          "2018-01-08T00:00:00.000000000",
          "2018-01-15T00:00:00.000000000",
          "2018-01-22T00:00:00.000000000",
          "2018-01-29T00:00:00.000000000",
          "2018-02-05T00:00:00.000000000",
          "2018-02-12T00:00:00.000000000",
          "2018-02-19T00:00:00.000000000",
          "2018-02-26T00:00:00.000000000",
          "2018-03-05T00:00:00.000000000",
          "2018-03-12T00:00:00.000000000",
          "2018-03-19T00:00:00.000000000",
          "2018-03-26T00:00:00.000000000",
          "2018-04-02T00:00:00.000000000",
          "2018-04-09T00:00:00.000000000",
          "2018-04-16T00:00:00.000000000",
          "2018-04-23T00:00:00.000000000",
          "2018-04-30T00:00:00.000000000",
          "2018-05-07T00:00:00.000000000",
          "2018-05-14T00:00:00.000000000",
          "2018-05-21T00:00:00.000000000",
          "2018-05-28T00:00:00.000000000",
          "2018-06-04T00:00:00.000000000",
          "2018-06-11T00:00:00.000000000",
          "2018-06-18T00:00:00.000000000",
          "2018-06-25T00:00:00.000000000",
          "2018-07-02T00:00:00.000000000",
          "2018-07-09T00:00:00.000000000",
          "2018-07-16T00:00:00.000000000",
          "2018-07-23T00:00:00.000000000",
          "2018-07-30T00:00:00.000000000",
          "2018-08-06T00:00:00.000000000",
          "2018-08-13T00:00:00.000000000",
          "2018-08-20T00:00:00.000000000",
          "2018-08-27T00:00:00.000000000",
          "2018-09-03T00:00:00.000000000",
          "2018-09-10T00:00:00.000000000",
          "2018-09-17T00:00:00.000000000",
          "2018-09-24T00:00:00.000000000",
          "2018-10-01T00:00:00.000000000",
          "2018-10-08T00:00:00.000000000",
          "2018-10-15T00:00:00.000000000",
          "2018-10-22T00:00:00.000000000",
          "2018-10-29T00:00:00.000000000",
          "2018-11-05T00:00:00.000000000",
          "2018-11-12T00:00:00.000000000",
          "2018-11-19T00:00:00.000000000",
          "2018-11-26T00:00:00.000000000",
          "2018-12-03T00:00:00.000000000",
          "2018-12-10T00:00:00.000000000",
          "2018-12-17T00:00:00.000000000",
          "2018-12-24T00:00:00.000000000",
          "2018-12-31T00:00:00.000000000",
          "2019-01-07T00:00:00.000000000",
          "2019-01-14T00:00:00.000000000",
          "2019-01-21T00:00:00.000000000",
          "2019-01-28T00:00:00.000000000",
          "2019-02-04T00:00:00.000000000",
          "2019-02-11T00:00:00.000000000",
          "2019-02-18T00:00:00.000000000",
          "2019-02-25T00:00:00.000000000",
          "2019-03-04T00:00:00.000000000",
          "2019-03-11T00:00:00.000000000",
          "2019-03-18T00:00:00.000000000",
          "2019-03-25T00:00:00.000000000",
          "2019-04-01T00:00:00.000000000",
          "2019-04-08T00:00:00.000000000",
          "2019-04-15T00:00:00.000000000",
          "2019-04-22T00:00:00.000000000",
          "2019-04-29T00:00:00.000000000",
          "2019-05-06T00:00:00.000000000",
          "2019-05-13T00:00:00.000000000",
          "2019-05-20T00:00:00.000000000",
          "2019-05-27T00:00:00.000000000",
          "2019-06-03T00:00:00.000000000",
          "2019-06-10T00:00:00.000000000",
          "2019-06-17T00:00:00.000000000",
          "2019-06-24T00:00:00.000000000",
          "2019-07-01T00:00:00.000000000",
          "2019-07-08T00:00:00.000000000",
          "2019-07-15T00:00:00.000000000",
          "2019-07-22T00:00:00.000000000",
          "2019-07-29T00:00:00.000000000",
          "2019-08-05T00:00:00.000000000",
          "2019-08-12T00:00:00.000000000",
          "2019-08-19T00:00:00.000000000",
          "2019-08-26T00:00:00.000000000",
          "2019-09-02T00:00:00.000000000",
          "2019-09-09T00:00:00.000000000",
          "2019-09-16T00:00:00.000000000",
          "2019-09-23T00:00:00.000000000",
          "2019-09-30T00:00:00.000000000",
          "2019-10-07T00:00:00.000000000",
          "2019-10-14T00:00:00.000000000",
          "2019-10-21T00:00:00.000000000",
          "2019-10-28T00:00:00.000000000",
          "2019-11-04T00:00:00.000000000",
          "2019-11-11T00:00:00.000000000",
          "2019-11-18T00:00:00.000000000",
          "2019-11-25T00:00:00.000000000",
          "2019-12-02T00:00:00.000000000",
          "2019-12-09T00:00:00.000000000",
          "2019-12-16T00:00:00.000000000",
          "2019-12-23T00:00:00.000000000",
          "2019-12-30T00:00:00.000000000"
         ],
         "xaxis": "x",
         "y": {
          "bdata": "poYCOTTl7z9pfNJvX+zvP7Y/dH548+8/WAwHVnz67z+PKDd+swDwP+uNqKkZBPA/oatB620H8D+FzL61rQrwP86y63vWDfA/w8hShuUQ8D++G7gS2BPwP6FAnwerFvA/lfLRFVsZ8D9QKF5A5RvwPw9DQwRHHvA/Pj9FcH4g8D/HzlMmiiLwPz4Gg09pJPA/lyhnzxsm8D8EqOJUoifwP2LZpU3+KPA/EutUKTIq8D9U7XyHQSvwP9MxQj4xLPA/SHtIiwct8D+2TxI+zC3wPyhkvSSJLvA/if/g30ov8D9fW/+HITDwP7RM3jchMfA/kUV6rWIy8D/REpYEAzTwP771F/AgNvA/Ie2BPtQ48D8ORPDOHjzwP/6DJlpePfA/3xeI3iM/8D/t7D+gYkHwP2GuhMMHRPA/D7hQpv5G8D/nXKKnLErwP4+wKOhrTfA/93NhPo9Q8D8rHYb4aVPwPwwlh3rTVfA/DRTUTq5X8D9zK+b37FjwP8uFIGGNWfA/tu5G15dZ8D/G2eVSIlnwPwNRpSpMWPA/VAvmzTtX8D/c4YeBGVbwP2w8gEEMVfA/Jl7dkDxU8D9Afi1q0lPwP/mhg8nzU/A/4Q2Q9sNU8D8Mz6pdYVbwPzLlGGTlWPA/+dsrgWRc8D9bEo087WDwP52gzkCJZvA/vGxxiz9t8D+7DMtJFXXwP9XNGqkMfvA/Y3HQ1SGI8D+37jo5SpPwPzljXfN1n/A/qTz+R5Cs8D9K4v7Vf7rwPwp3BwpHyvA/7zlbf+va8D/+vV6MFOzwP2EZr998/fA/n5u6zfoO8T81/yeXeCDxP6DbbzLsMfE/Cpm55FFD8T9PrNVjqVTxP3gS8Bz0ZfE/bpCoWjR38T87pJbLbIjxPxI8yN+fmfE/v56t/M+q8T9+AWKd/7vxP8FiLGUxzfE/fzfGLGje8T9qXQbdpu/xP2rS803wAPI/yeoJJ0cS8j94rqXurSPyP0lmsyAnNfI/ZlciR7VG8j8VkL70WljyPxsWN6MaavI/jz/hmvZ78j8Ia7ri8I3yP5PDGhYLoPI/fYobWUay8j/+wg+Mo8TyP6XiKUwj1/I/4EN6zcXp8j/0lHnTivzyP4PtFLlxD/M/",
          "dtype": "f8"
         },
         "yaxis": "y"
        }
       ],
       "layout": {
        "legend": {
         "tracegroupgap": 0
        },
        "margin": {
         "t": 60
        },
        "template": {
         "data": {
          "bar": [
           {
            "error_x": {
             "color": "#2a3f5f"
            },
            "error_y": {
             "color": "#2a3f5f"
            },
            "marker": {
             "line": {
              "color": "#E5ECF6",
              "width": 0.5
             },
             "pattern": {
              "fillmode": "overlay",
              "size": 10,
              "solidity": 0.2
             }
            },
            "type": "bar"
           }
          ],
          "barpolar": [
           {
            "marker": {
             "line": {
              "color": "#E5ECF6",
              "width": 0.5
             },
             "pattern": {
              "fillmode": "overlay",
              "size": 10,
              "solidity": 0.2
             }
            },
            "type": "barpolar"
           }
          ],
          "carpet": [
           {
            "aaxis": {
             "endlinecolor": "#2a3f5f",
             "gridcolor": "white",
             "linecolor": "white",
             "minorgridcolor": "white",
             "startlinecolor": "#2a3f5f"
            },
            "baxis": {
             "endlinecolor": "#2a3f5f",
             "gridcolor": "white",
             "linecolor": "white",
             "minorgridcolor": "white",
             "startlinecolor": "#2a3f5f"
            },
            "type": "carpet"
           }
          ],
          "choropleth": [
           {
            "colorbar": {
             "outlinewidth": 0,
             "ticks": ""
            },
            "type": "choropleth"
           }
          ],
          "contour": [
           {
            "colorbar": {
             "outlinewidth": 0,
             "ticks": ""
            },
            "colorscale": [
             [
              0,
              "#0d0887"
             ],
             [
              0.1111111111111111,
              "#46039f"
             ],
             [
              0.2222222222222222,
              "#7201a8"
             ],
             [
              0.3333333333333333,
              "#9c179e"
             ],
             [
              0.4444444444444444,
              "#bd3786"
             ],
             [
              0.5555555555555556,
              "#d8576b"
             ],
             [
              0.6666666666666666,
              "#ed7953"
             ],
             [
              0.7777777777777778,
              "#fb9f3a"
             ],
             [
              0.8888888888888888,
              "#fdca26"
             ],
             [
              1,
              "#f0f921"
             ]
            ],
            "type": "contour"
           }
          ],
          "contourcarpet": [
           {
            "colorbar": {
             "outlinewidth": 0,
             "ticks": ""
            },
            "type": "contourcarpet"
           }
          ],
          "heatmap": [
           {
            "colorbar": {
             "outlinewidth": 0,
             "ticks": ""
            },
            "colorscale": [
             [
              0,
              "#0d0887"
             ],
             [
              0.1111111111111111,
              "#46039f"
             ],
             [
              0.2222222222222222,
              "#7201a8"
             ],
             [
              0.3333333333333333,
              "#9c179e"
             ],
             [
              0.4444444444444444,
              "#bd3786"
             ],
             [
              0.5555555555555556,
              "#d8576b"
             ],
             [
              0.6666666666666666,
              "#ed7953"
             ],
             [
              0.7777777777777778,
              "#fb9f3a"
             ],
             [
              0.8888888888888888,
              "#fdca26"
             ],
             [
              1,
              "#f0f921"
             ]
            ],
            "type": "heatmap"
           }
          ],
          "histogram": [
           {
            "marker": {
             "pattern": {
              "fillmode": "overlay",
              "size": 10,
              "solidity": 0.2
             }
            },
            "type": "histogram"
           }
          ],
          "histogram2d": [
           {
            "colorbar": {
             "outlinewidth": 0,
             "ticks": ""
            },
            "colorscale": [
             [
              0,
              "#0d0887"
             ],
             [
              0.1111111111111111,
              "#46039f"
             ],
             [
              0.2222222222222222,
              "#7201a8"
             ],
             [
              0.3333333333333333,
              "#9c179e"
             ],
             [
              0.4444444444444444,
              "#bd3786"
             ],
             [
              0.5555555555555556,
              "#d8576b"
             ],
             [
              0.6666666666666666,
              "#ed7953"
             ],
             [
              0.7777777777777778,
              "#fb9f3a"
             ],
             [
              0.8888888888888888,
              "#fdca26"
             ],
             [
              1,
              "#f0f921"
             ]
            ],
            "type": "histogram2d"
           }
          ],
          "histogram2dcontour": [
           {
            "colorbar": {
             "outlinewidth": 0,
             "ticks": ""
            },
            "colorscale": [
             [
              0,
              "#0d0887"
             ],
             [
              0.1111111111111111,
              "#46039f"
             ],
             [
              0.2222222222222222,
              "#7201a8"
             ],
             [
              0.3333333333333333,
              "#9c179e"
             ],
             [
              0.4444444444444444,
              "#bd3786"
             ],
             [
              0.5555555555555556,
              "#d8576b"
             ],
             [
              0.6666666666666666,
              "#ed7953"
             ],
             [
              0.7777777777777778,
              "#fb9f3a"
             ],
             [
              0.8888888888888888,
              "#fdca26"
             ],
             [
              1,
              "#f0f921"
             ]
            ],
            "type": "histogram2dcontour"
           }
          ],
          "mesh3d": [
           {
            "colorbar": {
             "outlinewidth": 0,
             "ticks": ""
            },
            "type": "mesh3d"
           }
          ],
          "parcoords": [
           {
            "line": {
             "colorbar": {
              "outlinewidth": 0,
              "ticks": ""
             }
            },
            "type": "parcoords"
           }
          ],
          "pie": [
           {
            "automargin": true,
            "type": "pie"
           }
          ],
          "scatter": [
           {
            "fillpattern": {
             "fillmode": "overlay",
             "size": 10,
             "solidity": 0.2
            },
            "type": "scatter"
           }
          ],
          "scatter3d": [
           {
            "line": {
             "colorbar": {
              "outlinewidth": 0,
              "ticks": ""
             }
            },
            "marker": {
             "colorbar": {
              "outlinewidth": 0,
              "ticks": ""
             }
            },
            "type": "scatter3d"
           }
          ],
          "scattercarpet": [
           {
            "marker": {
             "colorbar": {
              "outlinewidth": 0,
              "ticks": ""
             }
            },
            "type": "scattercarpet"
           }
          ],
          "scattergeo": [
           {
            "marker": {
             "colorbar": {
              "outlinewidth": 0,
              "ticks": ""
             }
            },
            "type": "scattergeo"
           }
          ],
          "scattergl": [
           {
            "marker": {
             "colorbar": {
              "outlinewidth": 0,
              "ticks": ""
             }
            },
            "type": "scattergl"
           }
          ],
          "scattermap": [
           {
            "marker": {
             "colorbar": {
              "outlinewidth": 0,
              "ticks": ""
             }
            },
            "type": "scattermap"
           }
          ],
          "scattermapbox": [
           {
            "marker": {
             "colorbar": {
              "outlinewidth": 0,
              "ticks": ""
             }
            },
            "type": "scattermapbox"
           }
          ],
          "scatterpolar": [
           {
            "marker": {
             "colorbar": {
              "outlinewidth": 0,
              "ticks": ""
             }
            },
            "type": "scatterpolar"
           }
          ],
          "scatterpolargl": [
           {
            "marker": {
             "colorbar": {
              "outlinewidth": 0,
              "ticks": ""
             }
            },
            "type": "scatterpolargl"
           }
          ],
          "scatterternary": [
           {
            "marker": {
             "colorbar": {
              "outlinewidth": 0,
              "ticks": ""
             }
            },
            "type": "scatterternary"
           }
          ],
          "surface": [
           {
            "colorbar": {
             "outlinewidth": 0,
             "ticks": ""
            },
            "colorscale": [
             [
              0,
              "#0d0887"
             ],
             [
              0.1111111111111111,
              "#46039f"
             ],
             [
              0.2222222222222222,
              "#7201a8"
             ],
             [
              0.3333333333333333,
              "#9c179e"
             ],
             [
              0.4444444444444444,
              "#bd3786"
             ],
             [
              0.5555555555555556,
              "#d8576b"
             ],
             [
              0.6666666666666666,
              "#ed7953"
             ],
             [
              0.7777777777777778,
              "#fb9f3a"
             ],
             [
              0.8888888888888888,
              "#fdca26"
             ],
             [
              1,
              "#f0f921"
             ]
            ],
            "type": "surface"
           }
          ],
          "table": [
           {
            "cells": {
             "fill": {
              "color": "#EBF0F8"
             },
             "line": {
              "color": "white"
             }
            },
            "header": {
             "fill": {
              "color": "#C8D4E3"
             },
             "line": {
              "color": "white"
             }
            },
            "type": "table"
           }
          ]
         },
         "layout": {
          "annotationdefaults": {
           "arrowcolor": "#2a3f5f",
           "arrowhead": 0,
           "arrowwidth": 1
          },
          "autotypenumbers": "strict",
          "coloraxis": {
           "colorbar": {
            "outlinewidth": 0,
            "ticks": ""
           }
          },
          "colorscale": {
           "diverging": [
            [
             0,
             "#8e0152"
            ],
            [
             0.1,
             "#c51b7d"
            ],
            [
             0.2,
             "#de77ae"
            ],
            [
             0.3,
             "#f1b6da"
            ],
            [
             0.4,
             "#fde0ef"
            ],
            [
             0.5,
             "#f7f7f7"
            ],
            [
             0.6,
             "#e6f5d0"
            ],
            [
             0.7,
             "#b8e186"
            ],
            [
             0.8,
             "#7fbc41"
            ],
            [
             0.9,
             "#4d9221"
            ],
            [
             1,
             "#276419"
            ]
           ],
           "sequential": [
            [
             0,
             "#0d0887"
            ],
            [
             0.1111111111111111,
             "#46039f"
            ],
            [
             0.2222222222222222,
             "#7201a8"
            ],
            [
             0.3333333333333333,
             "#9c179e"
            ],
            [
             0.4444444444444444,
             "#bd3786"
            ],
            [
             0.5555555555555556,
             "#d8576b"
            ],
            [
             0.6666666666666666,
             "#ed7953"
            ],
            [
             0.7777777777777778,
             "#fb9f3a"
            ],
            [
             0.8888888888888888,
             "#fdca26"
            ],
            [
             1,
             "#f0f921"
            ]
           ],
           "sequentialminus": [
            [
             0,
             "#0d0887"
            ],
            [
             0.1111111111111111,
             "#46039f"
            ],
            [
             0.2222222222222222,
             "#7201a8"
            ],
            [
             0.3333333333333333,
             "#9c179e"
            ],
            [
             0.4444444444444444,
             "#bd3786"
            ],
            [
             0.5555555555555556,
             "#d8576b"
            ],
            [
             0.6666666666666666,
             "#ed7953"
            ],
            [
             0.7777777777777778,
             "#fb9f3a"
            ],
            [
             0.8888888888888888,
             "#fdca26"
            ],
            [
             1,
             "#f0f921"
            ]
           ]
          },
          "colorway": [
           "#636efa",
           "#EF553B",
           "#00cc96",
           "#ab63fa",
           "#FFA15A",
           "#19d3f3",
           "#FF6692",
           "#B6E880",
           "#FF97FF",
           "#FECB52"
          ],
          "font": {
           "color": "#2a3f5f"
          },
          "geo": {
           "bgcolor": "white",
           "lakecolor": "white",
           "landcolor": "#E5ECF6",
           "showlakes": true,
           "showland": true,
           "subunitcolor": "white"
          },
          "hoverlabel": {
           "align": "left"
          },
          "hovermode": "closest",
          "mapbox": {
           "style": "light"
          },
          "paper_bgcolor": "white",
          "plot_bgcolor": "#E5ECF6",
          "polar": {
           "angularaxis": {
            "gridcolor": "white",
            "linecolor": "white",
            "ticks": ""
           },
           "bgcolor": "#E5ECF6",
           "radialaxis": {
            "gridcolor": "white",
            "linecolor": "white",
            "ticks": ""
           }
          },
          "scene": {
           "xaxis": {
            "backgroundcolor": "#E5ECF6",
            "gridcolor": "white",
            "gridwidth": 2,
            "linecolor": "white",
            "showbackground": true,
            "ticks": "",
            "zerolinecolor": "white"
           },
           "yaxis": {
            "backgroundcolor": "#E5ECF6",
            "gridcolor": "white",
            "gridwidth": 2,
            "linecolor": "white",
            "showbackground": true,
            "ticks": "",
            "zerolinecolor": "white"
           },
           "zaxis": {
            "backgroundcolor": "#E5ECF6",
            "gridcolor": "white",
            "gridwidth": 2,
            "linecolor": "white",
            "showbackground": true,
            "ticks": "",
            "zerolinecolor": "white"
           }
          },
          "shapedefaults": {
           "line": {
            "color": "#2a3f5f"
           }
          },
          "ternary": {
           "aaxis": {
            "gridcolor": "white",
            "linecolor": "white",
            "ticks": ""
           },
           "baxis": {
            "gridcolor": "white",
            "linecolor": "white",
            "ticks": ""
           },
           "bgcolor": "#E5ECF6",
           "caxis": {
            "gridcolor": "white",
            "linecolor": "white",
            "ticks": ""
           }
          },
          "title": {
           "x": 0.05
          },
          "xaxis": {
           "automargin": true,
           "gridcolor": "white",
           "linecolor": "white",
           "ticks": "",
           "title": {
            "standoff": 15
           },
           "zerolinecolor": "white",
           "zerolinewidth": 2
          },
          "yaxis": {
           "automargin": true,
           "gridcolor": "white",
           "linecolor": "white",
           "ticks": "",
           "title": {
            "standoff": 15
           },
           "zerolinecolor": "white",
           "zerolinewidth": 2
          }
         }
        },
        "xaxis": {
         "anchor": "y",
         "domain": [
          0,
          1
         ],
         "title": {
          "text": "date"
         }
        },
        "yaxis": {
         "anchor": "x",
         "domain": [
          0,
          1
         ],
         "title": {
          "text": "GOOG"
         }
        }
       }
      }
     },
     "metadata": {},
     "output_type": "display_data"
    }
   ],
   "source": [
    "import plotly.express as px\n",
    "\n",
    "df = px.data.stocks(datetimes=True)\n",
    "fig = px.scatter(df, x=\"date\", y=\"GOOG\", trendline=\"lowess\")\n",
    "fig.show()\n"
   ]
  },
  {
   "cell_type": "code",
   "execution_count": 8,
   "metadata": {},
   "outputs": [
    {
     "data": {
      "application/vnd.plotly.v1+json": {
       "config": {
        "plotlyServerURL": "https://plot.ly"
       },
       "data": [
        {
         "hovertemplate": "date=%{x}<br>GOOG=%{y}<extra></extra>",
         "legendgroup": "",
         "marker": {
          "color": "#636efa",
          "symbol": "circle"
         },
         "mode": "markers",
         "name": "",
         "orientation": "v",
         "showlegend": false,
         "type": "scatter",
         "x": [
          "2018-01-01T00:00:00.000000000",
          "2018-01-08T00:00:00.000000000",
          "2018-01-15T00:00:00.000000000",
          "2018-01-22T00:00:00.000000000",
          "2018-01-29T00:00:00.000000000",
          "2018-02-05T00:00:00.000000000",
          "2018-02-12T00:00:00.000000000",
          "2018-02-19T00:00:00.000000000",
          "2018-02-26T00:00:00.000000000",
          "2018-03-05T00:00:00.000000000",
          "2018-03-12T00:00:00.000000000",
          "2018-03-19T00:00:00.000000000",
          "2018-03-26T00:00:00.000000000",
          "2018-04-02T00:00:00.000000000",
          "2018-04-09T00:00:00.000000000",
          "2018-04-16T00:00:00.000000000",
          "2018-04-23T00:00:00.000000000",
          "2018-04-30T00:00:00.000000000",
          "2018-05-07T00:00:00.000000000",
          "2018-05-14T00:00:00.000000000",
          "2018-05-21T00:00:00.000000000",
          "2018-05-28T00:00:00.000000000",
          "2018-06-04T00:00:00.000000000",
          "2018-06-11T00:00:00.000000000",
          "2018-06-18T00:00:00.000000000",
          "2018-06-25T00:00:00.000000000",
          "2018-07-02T00:00:00.000000000",
          "2018-07-09T00:00:00.000000000",
          "2018-07-16T00:00:00.000000000",
          "2018-07-23T00:00:00.000000000",
          "2018-07-30T00:00:00.000000000",
          "2018-08-06T00:00:00.000000000",
          "2018-08-13T00:00:00.000000000",
          "2018-08-20T00:00:00.000000000",
          "2018-08-27T00:00:00.000000000",
          "2018-09-03T00:00:00.000000000",
          "2018-09-10T00:00:00.000000000",
          "2018-09-17T00:00:00.000000000",
          "2018-09-24T00:00:00.000000000",
          "2018-10-01T00:00:00.000000000",
          "2018-10-08T00:00:00.000000000",
          "2018-10-15T00:00:00.000000000",
          "2018-10-22T00:00:00.000000000",
          "2018-10-29T00:00:00.000000000",
          "2018-11-05T00:00:00.000000000",
          "2018-11-12T00:00:00.000000000",
          "2018-11-19T00:00:00.000000000",
          "2018-11-26T00:00:00.000000000",
          "2018-12-03T00:00:00.000000000",
          "2018-12-10T00:00:00.000000000",
          "2018-12-17T00:00:00.000000000",
          "2018-12-24T00:00:00.000000000",
          "2018-12-31T00:00:00.000000000",
          "2019-01-07T00:00:00.000000000",
          "2019-01-14T00:00:00.000000000",
          "2019-01-21T00:00:00.000000000",
          "2019-01-28T00:00:00.000000000",
          "2019-02-04T00:00:00.000000000",
          "2019-02-11T00:00:00.000000000",
          "2019-02-18T00:00:00.000000000",
          "2019-02-25T00:00:00.000000000",
          "2019-03-04T00:00:00.000000000",
          "2019-03-11T00:00:00.000000000",
          "2019-03-18T00:00:00.000000000",
          "2019-03-25T00:00:00.000000000",
          "2019-04-01T00:00:00.000000000",
          "2019-04-08T00:00:00.000000000",
          "2019-04-15T00:00:00.000000000",
          "2019-04-22T00:00:00.000000000",
          "2019-04-29T00:00:00.000000000",
          "2019-05-06T00:00:00.000000000",
          "2019-05-13T00:00:00.000000000",
          "2019-05-20T00:00:00.000000000",
          "2019-05-27T00:00:00.000000000",
          "2019-06-03T00:00:00.000000000",
          "2019-06-10T00:00:00.000000000",
          "2019-06-17T00:00:00.000000000",
          "2019-06-24T00:00:00.000000000",
          "2019-07-01T00:00:00.000000000",
          "2019-07-08T00:00:00.000000000",
          "2019-07-15T00:00:00.000000000",
          "2019-07-22T00:00:00.000000000",
          "2019-07-29T00:00:00.000000000",
          "2019-08-05T00:00:00.000000000",
          "2019-08-12T00:00:00.000000000",
          "2019-08-19T00:00:00.000000000",
          "2019-08-26T00:00:00.000000000",
          "2019-09-02T00:00:00.000000000",
          "2019-09-09T00:00:00.000000000",
          "2019-09-16T00:00:00.000000000",
          "2019-09-23T00:00:00.000000000",
          "2019-09-30T00:00:00.000000000",
          "2019-10-07T00:00:00.000000000",
          "2019-10-14T00:00:00.000000000",
          "2019-10-21T00:00:00.000000000",
          "2019-10-28T00:00:00.000000000",
          "2019-11-04T00:00:00.000000000",
          "2019-11-11T00:00:00.000000000",
          "2019-11-18T00:00:00.000000000",
          "2019-11-25T00:00:00.000000000",
          "2019-12-02T00:00:00.000000000",
          "2019-12-09T00:00:00.000000000",
          "2019-12-16T00:00:00.000000000",
          "2019-12-23T00:00:00.000000000",
          "2019-12-30T00:00:00.000000000"
         ],
         "xaxis": "x",
         "y": {
          "bdata": "AAAAAAAA8D/OK9MDb0rwP68QOq4ag/A/9oPp0ooR8T8TsS9U7yPwP99D4KT+IO4/3Hw6e8fI7z+q8F+IRFvwP9LSdHnBUu8/LIMaANTW8D8JvFtMfXzwPz7QZruEqO0/HpxM0nn07T+3TPA/hzztPxfM6R6/4e0/IXrkjXUm7z8heCA9i+ftP6NcPhmDbu4/QjPHjn7i7z+qgyQlaPXuP+V5ctWGOu8/ZFIUWy1A8D9vrqGpREXwP4WiXq/qufA/U4wX6uHF8D/pH6HJ3jHwP3Um9zr9jPA/0NEB+MZB8T9XHtVhPzPxPyuHvbZk+vE/NwuPnm7D8T/XXM4FFvfxP6hIRQnkbvE/az8Jog+48T9kWBFN667xP01QZMGg6PA/pI7CAT4F8T+UMFxuT+3wP6R7NKQOU/E/85Ml4tTM8D/YyoXbKx3wP2L4PrQd1e8/L6n6oWIb7z/SWD6VtrXuP9oE9qnY8+4/8kBpRjbR7j+goGHWr7ntP/MQKYMHxu8/XzbgVBMY7j8FnNv3GUHuP7udcIUkcOw/dtxkp8ob7j+2jo+avBXvP53HSc9Ase4/QjPHjn7i7z9LiPtKdqzvPxmlC0mpH/A/OvEgMLbK7z+605ckcCrwP3zeMMc/HvA/rDRmQwmQ8D+apul6+pTwPymUuDeTMfE/Lh6kE8N/8T8zPRwRJAjxPzJ9CsjkhfE/OJ3k7bqt8T/lnXpkevLxPxPbLk2Nd/I/umBFhRE18T9FfGgTjObwP4oJl/853/A/NI4dTRd08D8JjgPgMwXwP1INy2YH8+4/3LqtWYuC7z8wZfiBBUnwP9tJ47eLYe8/dM57zxpt8D8PGkn3kJ7wP/vlhlmRZ/A/R53F/qYm8j95l9xY/VTxP0LUZHXEPvE/R7cjKRUY8T/i1RHuT7bwPzyHlAsaP/E/fDnW36R98T+zOPArVf7xP79xyu6L2vE/7Hfuco/I8T9/Y3S0xIzxP06g9q+8pPE/IwGMcl4U8j+pVbJuWl3yPzJVr01ZffI/r0ZXkS8J8z/PhYSkg2DzP8kL1dedzfI/E8Ioj13x8j/WQP++4XXzP+AKN76skPM/MT5xFDeX8z+urvcqw5/zP2qQawKBaPM/",
          "dtype": "f8"
         },
         "yaxis": "y"
        },
        {
         "hovertemplate": "<b>LOWESS trendline</b><br><br>date=%{x}<br>GOOG=%{y} <b>(trend)</b><extra></extra>",
         "legendgroup": "",
         "marker": {
          "color": "#636efa",
          "symbol": "circle"
         },
         "mode": "lines",
         "name": "",
         "showlegend": false,
         "type": "scatter",
         "x": [
          "2018-01-01T00:00:00.000000000",
          "2018-01-08T00:00:00.000000000",
          "2018-01-15T00:00:00.000000000",
          "2018-01-22T00:00:00.000000000",
          "2018-01-29T00:00:00.000000000",
          "2018-02-05T00:00:00.000000000",
          "2018-02-12T00:00:00.000000000",
          "2018-02-19T00:00:00.000000000",
          "2018-02-26T00:00:00.000000000",
          "2018-03-05T00:00:00.000000000",
          "2018-03-12T00:00:00.000000000",
          "2018-03-19T00:00:00.000000000",
          "2018-03-26T00:00:00.000000000",
          "2018-04-02T00:00:00.000000000",
          "2018-04-09T00:00:00.000000000",
          "2018-04-16T00:00:00.000000000",
          "2018-04-23T00:00:00.000000000",
          "2018-04-30T00:00:00.000000000",
          "2018-05-07T00:00:00.000000000",
          "2018-05-14T00:00:00.000000000",
          "2018-05-21T00:00:00.000000000",
          "2018-05-28T00:00:00.000000000",
          "2018-06-04T00:00:00.000000000",
          "2018-06-11T00:00:00.000000000",
          "2018-06-18T00:00:00.000000000",
          "2018-06-25T00:00:00.000000000",
          "2018-07-02T00:00:00.000000000",
          "2018-07-09T00:00:00.000000000",
          "2018-07-16T00:00:00.000000000",
          "2018-07-23T00:00:00.000000000",
          "2018-07-30T00:00:00.000000000",
          "2018-08-06T00:00:00.000000000",
          "2018-08-13T00:00:00.000000000",
          "2018-08-20T00:00:00.000000000",
          "2018-08-27T00:00:00.000000000",
          "2018-09-03T00:00:00.000000000",
          "2018-09-10T00:00:00.000000000",
          "2018-09-17T00:00:00.000000000",
          "2018-09-24T00:00:00.000000000",
          "2018-10-01T00:00:00.000000000",
          "2018-10-08T00:00:00.000000000",
          "2018-10-15T00:00:00.000000000",
          "2018-10-22T00:00:00.000000000",
          "2018-10-29T00:00:00.000000000",
          "2018-11-05T00:00:00.000000000",
          "2018-11-12T00:00:00.000000000",
          "2018-11-19T00:00:00.000000000",
          "2018-11-26T00:00:00.000000000",
          "2018-12-03T00:00:00.000000000",
          "2018-12-10T00:00:00.000000000",
          "2018-12-17T00:00:00.000000000",
          "2018-12-24T00:00:00.000000000",
          "2018-12-31T00:00:00.000000000",
          "2019-01-07T00:00:00.000000000",
          "2019-01-14T00:00:00.000000000",
          "2019-01-21T00:00:00.000000000",
          "2019-01-28T00:00:00.000000000",
          "2019-02-04T00:00:00.000000000",
          "2019-02-11T00:00:00.000000000",
          "2019-02-18T00:00:00.000000000",
          "2019-02-25T00:00:00.000000000",
          "2019-03-04T00:00:00.000000000",
          "2019-03-11T00:00:00.000000000",
          "2019-03-18T00:00:00.000000000",
          "2019-03-25T00:00:00.000000000",
          "2019-04-01T00:00:00.000000000",
          "2019-04-08T00:00:00.000000000",
          "2019-04-15T00:00:00.000000000",
          "2019-04-22T00:00:00.000000000",
          "2019-04-29T00:00:00.000000000",
          "2019-05-06T00:00:00.000000000",
          "2019-05-13T00:00:00.000000000",
          "2019-05-20T00:00:00.000000000",
          "2019-05-27T00:00:00.000000000",
          "2019-06-03T00:00:00.000000000",
          "2019-06-10T00:00:00.000000000",
          "2019-06-17T00:00:00.000000000",
          "2019-06-24T00:00:00.000000000",
          "2019-07-01T00:00:00.000000000",
          "2019-07-08T00:00:00.000000000",
          "2019-07-15T00:00:00.000000000",
          "2019-07-22T00:00:00.000000000",
          "2019-07-29T00:00:00.000000000",
          "2019-08-05T00:00:00.000000000",
          "2019-08-12T00:00:00.000000000",
          "2019-08-19T00:00:00.000000000",
          "2019-08-26T00:00:00.000000000",
          "2019-09-02T00:00:00.000000000",
          "2019-09-09T00:00:00.000000000",
          "2019-09-16T00:00:00.000000000",
          "2019-09-23T00:00:00.000000000",
          "2019-09-30T00:00:00.000000000",
          "2019-10-07T00:00:00.000000000",
          "2019-10-14T00:00:00.000000000",
          "2019-10-21T00:00:00.000000000",
          "2019-10-28T00:00:00.000000000",
          "2019-11-04T00:00:00.000000000",
          "2019-11-11T00:00:00.000000000",
          "2019-11-18T00:00:00.000000000",
          "2019-11-25T00:00:00.000000000",
          "2019-12-02T00:00:00.000000000",
          "2019-12-09T00:00:00.000000000",
          "2019-12-16T00:00:00.000000000",
          "2019-12-23T00:00:00.000000000",
          "2019-12-30T00:00:00.000000000"
         ],
         "xaxis": "x",
         "y": {
          "bdata": "3qlD/ZhG8D/KrklYCkbwP94ZF2vTQvA/XICjndU+8D8rQgS3IjzwP1goOEubKvA/eLqlwRYN8D/7WncmPtLvP+N+Dgeybe8/SvBOKxAI7z+T4E5aDqPuP9u3zEo4Pu4/53gpOFbo7T8JtMnvIOftP5HAMReoCu4/kwJArmFA7j+gXRorqH/uP5bayZ43wu4/QAl0iwYK7z+HCSNmk2DvP7MAqQeYy+8/EGylIE8Z8D+HnvzAu0PwP1JY1i1TavA/+Bt0HO6S8D+3CkHf7LvwP0oh7pAg6PA/9g3+k9sX8T/Q7YscvEzxP5xcTqWRfPE/Byy+x1Wd8T/IYkWbDazxP1CEgDCuo/E/CaTksiOF8T9YJuZYuGHxP0bXUv6hQvE/00BooGch8T8NDZvXqfLwP6Z2jJxbvPA/z1Tbdu6D8D8ewcAzeUXwPxz/yUtuAvA/X434DhSE7z9xTIMOMxvvP59iP79z2O4/ZXgPyWCu7j8G/bN/V43uP5H1ywvwau4/QFFh6q9V7j8KU7uzMlnuPwQfZ/Bobe4/P5azy+CQ7j/StxFNOsnuP5Xdgv0YFe8/MBdACQNm7z/BMZBZ1qrvP5nheJrC5e8/pFr/LcwQ8D9eLwe/2C/wP8yPAMbZWPA/P2rjkdGL8D+0IsYcu8DwP1h7z1c59PA/5eUjUEQo8T9P5qjgmFrxP73EyppOfvE/rIL9A2V/8T86CpLQa27xP3qDHtFvWPE/cgAXcsoz8T8Or9I67frwP5a9TFxIsPA/6r6vDBhs8D9aOkwFVTzwPzrRFC8sGfA/D/RUed0I8D8j4Vr1BQ7wP51jsc4fJ/A/GknMQQpO8D+mYBikxH7wPwPmx68Wr/A/X9wbBpnW8D9VfHXLH/LwPwx+2I44DfE/SrVhstEp8T+Dcr7spUHxP8I1yt2fXPE/9Qsy+B558T9zP+TQ55XxPzCz2QKyrvE/E4mBEQ7E8T/kvsjeutnxP21Rku0E9PE/ehWNQsQd8j/UTETuTlfyP/AsPpm4kPI/pEUEeNm/8j+bAu3EGuvyP4ZZG1+5FPM/VDxEnvo28z+CIsE8X0/zP7pl7NGSZPM/eQ275eB58z8AJssV1Y7zP/SOSftGovM/",
          "dtype": "f8"
         },
         "yaxis": "y"
        }
       ],
       "layout": {
        "legend": {
         "tracegroupgap": 0
        },
        "margin": {
         "t": 60
        },
        "template": {
         "data": {
          "bar": [
           {
            "error_x": {
             "color": "#2a3f5f"
            },
            "error_y": {
             "color": "#2a3f5f"
            },
            "marker": {
             "line": {
              "color": "#E5ECF6",
              "width": 0.5
             },
             "pattern": {
              "fillmode": "overlay",
              "size": 10,
              "solidity": 0.2
             }
            },
            "type": "bar"
           }
          ],
          "barpolar": [
           {
            "marker": {
             "line": {
              "color": "#E5ECF6",
              "width": 0.5
             },
             "pattern": {
              "fillmode": "overlay",
              "size": 10,
              "solidity": 0.2
             }
            },
            "type": "barpolar"
           }
          ],
          "carpet": [
           {
            "aaxis": {
             "endlinecolor": "#2a3f5f",
             "gridcolor": "white",
             "linecolor": "white",
             "minorgridcolor": "white",
             "startlinecolor": "#2a3f5f"
            },
            "baxis": {
             "endlinecolor": "#2a3f5f",
             "gridcolor": "white",
             "linecolor": "white",
             "minorgridcolor": "white",
             "startlinecolor": "#2a3f5f"
            },
            "type": "carpet"
           }
          ],
          "choropleth": [
           {
            "colorbar": {
             "outlinewidth": 0,
             "ticks": ""
            },
            "type": "choropleth"
           }
          ],
          "contour": [
           {
            "colorbar": {
             "outlinewidth": 0,
             "ticks": ""
            },
            "colorscale": [
             [
              0,
              "#0d0887"
             ],
             [
              0.1111111111111111,
              "#46039f"
             ],
             [
              0.2222222222222222,
              "#7201a8"
             ],
             [
              0.3333333333333333,
              "#9c179e"
             ],
             [
              0.4444444444444444,
              "#bd3786"
             ],
             [
              0.5555555555555556,
              "#d8576b"
             ],
             [
              0.6666666666666666,
              "#ed7953"
             ],
             [
              0.7777777777777778,
              "#fb9f3a"
             ],
             [
              0.8888888888888888,
              "#fdca26"
             ],
             [
              1,
              "#f0f921"
             ]
            ],
            "type": "contour"
           }
          ],
          "contourcarpet": [
           {
            "colorbar": {
             "outlinewidth": 0,
             "ticks": ""
            },
            "type": "contourcarpet"
           }
          ],
          "heatmap": [
           {
            "colorbar": {
             "outlinewidth": 0,
             "ticks": ""
            },
            "colorscale": [
             [
              0,
              "#0d0887"
             ],
             [
              0.1111111111111111,
              "#46039f"
             ],
             [
              0.2222222222222222,
              "#7201a8"
             ],
             [
              0.3333333333333333,
              "#9c179e"
             ],
             [
              0.4444444444444444,
              "#bd3786"
             ],
             [
              0.5555555555555556,
              "#d8576b"
             ],
             [
              0.6666666666666666,
              "#ed7953"
             ],
             [
              0.7777777777777778,
              "#fb9f3a"
             ],
             [
              0.8888888888888888,
              "#fdca26"
             ],
             [
              1,
              "#f0f921"
             ]
            ],
            "type": "heatmap"
           }
          ],
          "histogram": [
           {
            "marker": {
             "pattern": {
              "fillmode": "overlay",
              "size": 10,
              "solidity": 0.2
             }
            },
            "type": "histogram"
           }
          ],
          "histogram2d": [
           {
            "colorbar": {
             "outlinewidth": 0,
             "ticks": ""
            },
            "colorscale": [
             [
              0,
              "#0d0887"
             ],
             [
              0.1111111111111111,
              "#46039f"
             ],
             [
              0.2222222222222222,
              "#7201a8"
             ],
             [
              0.3333333333333333,
              "#9c179e"
             ],
             [
              0.4444444444444444,
              "#bd3786"
             ],
             [
              0.5555555555555556,
              "#d8576b"
             ],
             [
              0.6666666666666666,
              "#ed7953"
             ],
             [
              0.7777777777777778,
              "#fb9f3a"
             ],
             [
              0.8888888888888888,
              "#fdca26"
             ],
             [
              1,
              "#f0f921"
             ]
            ],
            "type": "histogram2d"
           }
          ],
          "histogram2dcontour": [
           {
            "colorbar": {
             "outlinewidth": 0,
             "ticks": ""
            },
            "colorscale": [
             [
              0,
              "#0d0887"
             ],
             [
              0.1111111111111111,
              "#46039f"
             ],
             [
              0.2222222222222222,
              "#7201a8"
             ],
             [
              0.3333333333333333,
              "#9c179e"
             ],
             [
              0.4444444444444444,
              "#bd3786"
             ],
             [
              0.5555555555555556,
              "#d8576b"
             ],
             [
              0.6666666666666666,
              "#ed7953"
             ],
             [
              0.7777777777777778,
              "#fb9f3a"
             ],
             [
              0.8888888888888888,
              "#fdca26"
             ],
             [
              1,
              "#f0f921"
             ]
            ],
            "type": "histogram2dcontour"
           }
          ],
          "mesh3d": [
           {
            "colorbar": {
             "outlinewidth": 0,
             "ticks": ""
            },
            "type": "mesh3d"
           }
          ],
          "parcoords": [
           {
            "line": {
             "colorbar": {
              "outlinewidth": 0,
              "ticks": ""
             }
            },
            "type": "parcoords"
           }
          ],
          "pie": [
           {
            "automargin": true,
            "type": "pie"
           }
          ],
          "scatter": [
           {
            "fillpattern": {
             "fillmode": "overlay",
             "size": 10,
             "solidity": 0.2
            },
            "type": "scatter"
           }
          ],
          "scatter3d": [
           {
            "line": {
             "colorbar": {
              "outlinewidth": 0,
              "ticks": ""
             }
            },
            "marker": {
             "colorbar": {
              "outlinewidth": 0,
              "ticks": ""
             }
            },
            "type": "scatter3d"
           }
          ],
          "scattercarpet": [
           {
            "marker": {
             "colorbar": {
              "outlinewidth": 0,
              "ticks": ""
             }
            },
            "type": "scattercarpet"
           }
          ],
          "scattergeo": [
           {
            "marker": {
             "colorbar": {
              "outlinewidth": 0,
              "ticks": ""
             }
            },
            "type": "scattergeo"
           }
          ],
          "scattergl": [
           {
            "marker": {
             "colorbar": {
              "outlinewidth": 0,
              "ticks": ""
             }
            },
            "type": "scattergl"
           }
          ],
          "scattermap": [
           {
            "marker": {
             "colorbar": {
              "outlinewidth": 0,
              "ticks": ""
             }
            },
            "type": "scattermap"
           }
          ],
          "scattermapbox": [
           {
            "marker": {
             "colorbar": {
              "outlinewidth": 0,
              "ticks": ""
             }
            },
            "type": "scattermapbox"
           }
          ],
          "scatterpolar": [
           {
            "marker": {
             "colorbar": {
              "outlinewidth": 0,
              "ticks": ""
             }
            },
            "type": "scatterpolar"
           }
          ],
          "scatterpolargl": [
           {
            "marker": {
             "colorbar": {
              "outlinewidth": 0,
              "ticks": ""
             }
            },
            "type": "scatterpolargl"
           }
          ],
          "scatterternary": [
           {
            "marker": {
             "colorbar": {
              "outlinewidth": 0,
              "ticks": ""
             }
            },
            "type": "scatterternary"
           }
          ],
          "surface": [
           {
            "colorbar": {
             "outlinewidth": 0,
             "ticks": ""
            },
            "colorscale": [
             [
              0,
              "#0d0887"
             ],
             [
              0.1111111111111111,
              "#46039f"
             ],
             [
              0.2222222222222222,
              "#7201a8"
             ],
             [
              0.3333333333333333,
              "#9c179e"
             ],
             [
              0.4444444444444444,
              "#bd3786"
             ],
             [
              0.5555555555555556,
              "#d8576b"
             ],
             [
              0.6666666666666666,
              "#ed7953"
             ],
             [
              0.7777777777777778,
              "#fb9f3a"
             ],
             [
              0.8888888888888888,
              "#fdca26"
             ],
             [
              1,
              "#f0f921"
             ]
            ],
            "type": "surface"
           }
          ],
          "table": [
           {
            "cells": {
             "fill": {
              "color": "#EBF0F8"
             },
             "line": {
              "color": "white"
             }
            },
            "header": {
             "fill": {
              "color": "#C8D4E3"
             },
             "line": {
              "color": "white"
             }
            },
            "type": "table"
           }
          ]
         },
         "layout": {
          "annotationdefaults": {
           "arrowcolor": "#2a3f5f",
           "arrowhead": 0,
           "arrowwidth": 1
          },
          "autotypenumbers": "strict",
          "coloraxis": {
           "colorbar": {
            "outlinewidth": 0,
            "ticks": ""
           }
          },
          "colorscale": {
           "diverging": [
            [
             0,
             "#8e0152"
            ],
            [
             0.1,
             "#c51b7d"
            ],
            [
             0.2,
             "#de77ae"
            ],
            [
             0.3,
             "#f1b6da"
            ],
            [
             0.4,
             "#fde0ef"
            ],
            [
             0.5,
             "#f7f7f7"
            ],
            [
             0.6,
             "#e6f5d0"
            ],
            [
             0.7,
             "#b8e186"
            ],
            [
             0.8,
             "#7fbc41"
            ],
            [
             0.9,
             "#4d9221"
            ],
            [
             1,
             "#276419"
            ]
           ],
           "sequential": [
            [
             0,
             "#0d0887"
            ],
            [
             0.1111111111111111,
             "#46039f"
            ],
            [
             0.2222222222222222,
             "#7201a8"
            ],
            [
             0.3333333333333333,
             "#9c179e"
            ],
            [
             0.4444444444444444,
             "#bd3786"
            ],
            [
             0.5555555555555556,
             "#d8576b"
            ],
            [
             0.6666666666666666,
             "#ed7953"
            ],
            [
             0.7777777777777778,
             "#fb9f3a"
            ],
            [
             0.8888888888888888,
             "#fdca26"
            ],
            [
             1,
             "#f0f921"
            ]
           ],
           "sequentialminus": [
            [
             0,
             "#0d0887"
            ],
            [
             0.1111111111111111,
             "#46039f"
            ],
            [
             0.2222222222222222,
             "#7201a8"
            ],
            [
             0.3333333333333333,
             "#9c179e"
            ],
            [
             0.4444444444444444,
             "#bd3786"
            ],
            [
             0.5555555555555556,
             "#d8576b"
            ],
            [
             0.6666666666666666,
             "#ed7953"
            ],
            [
             0.7777777777777778,
             "#fb9f3a"
            ],
            [
             0.8888888888888888,
             "#fdca26"
            ],
            [
             1,
             "#f0f921"
            ]
           ]
          },
          "colorway": [
           "#636efa",
           "#EF553B",
           "#00cc96",
           "#ab63fa",
           "#FFA15A",
           "#19d3f3",
           "#FF6692",
           "#B6E880",
           "#FF97FF",
           "#FECB52"
          ],
          "font": {
           "color": "#2a3f5f"
          },
          "geo": {
           "bgcolor": "white",
           "lakecolor": "white",
           "landcolor": "#E5ECF6",
           "showlakes": true,
           "showland": true,
           "subunitcolor": "white"
          },
          "hoverlabel": {
           "align": "left"
          },
          "hovermode": "closest",
          "mapbox": {
           "style": "light"
          },
          "paper_bgcolor": "white",
          "plot_bgcolor": "#E5ECF6",
          "polar": {
           "angularaxis": {
            "gridcolor": "white",
            "linecolor": "white",
            "ticks": ""
           },
           "bgcolor": "#E5ECF6",
           "radialaxis": {
            "gridcolor": "white",
            "linecolor": "white",
            "ticks": ""
           }
          },
          "scene": {
           "xaxis": {
            "backgroundcolor": "#E5ECF6",
            "gridcolor": "white",
            "gridwidth": 2,
            "linecolor": "white",
            "showbackground": true,
            "ticks": "",
            "zerolinecolor": "white"
           },
           "yaxis": {
            "backgroundcolor": "#E5ECF6",
            "gridcolor": "white",
            "gridwidth": 2,
            "linecolor": "white",
            "showbackground": true,
            "ticks": "",
            "zerolinecolor": "white"
           },
           "zaxis": {
            "backgroundcolor": "#E5ECF6",
            "gridcolor": "white",
            "gridwidth": 2,
            "linecolor": "white",
            "showbackground": true,
            "ticks": "",
            "zerolinecolor": "white"
           }
          },
          "shapedefaults": {
           "line": {
            "color": "#2a3f5f"
           }
          },
          "ternary": {
           "aaxis": {
            "gridcolor": "white",
            "linecolor": "white",
            "ticks": ""
           },
           "baxis": {
            "gridcolor": "white",
            "linecolor": "white",
            "ticks": ""
           },
           "bgcolor": "#E5ECF6",
           "caxis": {
            "gridcolor": "white",
            "linecolor": "white",
            "ticks": ""
           }
          },
          "title": {
           "x": 0.05
          },
          "xaxis": {
           "automargin": true,
           "gridcolor": "white",
           "linecolor": "white",
           "ticks": "",
           "title": {
            "standoff": 15
           },
           "zerolinecolor": "white",
           "zerolinewidth": 2
          },
          "yaxis": {
           "automargin": true,
           "gridcolor": "white",
           "linecolor": "white",
           "ticks": "",
           "title": {
            "standoff": 15
           },
           "zerolinecolor": "white",
           "zerolinewidth": 2
          }
         }
        },
        "xaxis": {
         "anchor": "y",
         "domain": [
          0,
          1
         ],
         "title": {
          "text": "date"
         }
        },
        "yaxis": {
         "anchor": "x",
         "domain": [
          0,
          1
         ],
         "title": {
          "text": "GOOG"
         }
        }
       }
      }
     },
     "metadata": {},
     "output_type": "display_data"
    }
   ],
   "source": [
    "import plotly.express as px\n",
    "\n",
    "df = px.data.stocks(datetimes=True)\n",
    "fig = px.scatter(df, x=\"date\", y=\"GOOG\", trendline=\"lowess\", trendline_options=dict(frac=0.1))\n",
    "fig.show()\n"
   ]
  },
  {
   "cell_type": "code",
   "execution_count": 9,
   "metadata": {},
   "outputs": [
    {
     "data": {
      "application/vnd.plotly.v1+json": {
       "config": {
        "plotlyServerURL": "https://plot.ly"
       },
       "data": [
        {
         "hovertemplate": "date=%{x}<br>GOOG=%{y}<extra></extra>",
         "legendgroup": "",
         "marker": {
          "color": "#636efa",
          "symbol": "circle"
         },
         "mode": "markers",
         "name": "",
         "orientation": "v",
         "showlegend": false,
         "type": "scatter",
         "x": [
          "2018-01-01T00:00:00.000000000",
          "2018-01-08T00:00:00.000000000",
          "2018-01-15T00:00:00.000000000",
          "2018-01-22T00:00:00.000000000",
          "2018-01-29T00:00:00.000000000",
          "2018-02-05T00:00:00.000000000",
          "2018-02-12T00:00:00.000000000",
          "2018-02-19T00:00:00.000000000",
          "2018-02-26T00:00:00.000000000",
          "2018-03-05T00:00:00.000000000",
          "2018-03-12T00:00:00.000000000",
          "2018-03-19T00:00:00.000000000",
          "2018-03-26T00:00:00.000000000",
          "2018-04-02T00:00:00.000000000",
          "2018-04-09T00:00:00.000000000",
          "2018-04-16T00:00:00.000000000",
          "2018-04-23T00:00:00.000000000",
          "2018-04-30T00:00:00.000000000",
          "2018-05-07T00:00:00.000000000",
          "2018-05-14T00:00:00.000000000",
          "2018-05-21T00:00:00.000000000",
          "2018-05-28T00:00:00.000000000",
          "2018-06-04T00:00:00.000000000",
          "2018-06-11T00:00:00.000000000",
          "2018-06-18T00:00:00.000000000",
          "2018-06-25T00:00:00.000000000",
          "2018-07-02T00:00:00.000000000",
          "2018-07-09T00:00:00.000000000",
          "2018-07-16T00:00:00.000000000",
          "2018-07-23T00:00:00.000000000",
          "2018-07-30T00:00:00.000000000",
          "2018-08-06T00:00:00.000000000",
          "2018-08-13T00:00:00.000000000",
          "2018-08-20T00:00:00.000000000",
          "2018-08-27T00:00:00.000000000",
          "2018-09-03T00:00:00.000000000",
          "2018-09-10T00:00:00.000000000",
          "2018-09-17T00:00:00.000000000",
          "2018-09-24T00:00:00.000000000",
          "2018-10-01T00:00:00.000000000",
          "2018-10-08T00:00:00.000000000",
          "2018-10-15T00:00:00.000000000",
          "2018-10-22T00:00:00.000000000",
          "2018-10-29T00:00:00.000000000",
          "2018-11-05T00:00:00.000000000",
          "2018-11-12T00:00:00.000000000",
          "2018-11-19T00:00:00.000000000",
          "2018-11-26T00:00:00.000000000",
          "2018-12-03T00:00:00.000000000",
          "2018-12-10T00:00:00.000000000",
          "2018-12-17T00:00:00.000000000",
          "2018-12-24T00:00:00.000000000",
          "2018-12-31T00:00:00.000000000",
          "2019-01-07T00:00:00.000000000",
          "2019-01-14T00:00:00.000000000",
          "2019-01-21T00:00:00.000000000",
          "2019-01-28T00:00:00.000000000",
          "2019-02-04T00:00:00.000000000",
          "2019-02-11T00:00:00.000000000",
          "2019-02-18T00:00:00.000000000",
          "2019-02-25T00:00:00.000000000",
          "2019-03-04T00:00:00.000000000",
          "2019-03-11T00:00:00.000000000",
          "2019-03-18T00:00:00.000000000",
          "2019-03-25T00:00:00.000000000",
          "2019-04-01T00:00:00.000000000",
          "2019-04-08T00:00:00.000000000",
          "2019-04-15T00:00:00.000000000",
          "2019-04-22T00:00:00.000000000",
          "2019-04-29T00:00:00.000000000",
          "2019-05-06T00:00:00.000000000",
          "2019-05-13T00:00:00.000000000",
          "2019-05-20T00:00:00.000000000",
          "2019-05-27T00:00:00.000000000",
          "2019-06-03T00:00:00.000000000",
          "2019-06-10T00:00:00.000000000",
          "2019-06-17T00:00:00.000000000",
          "2019-06-24T00:00:00.000000000",
          "2019-07-01T00:00:00.000000000",
          "2019-07-08T00:00:00.000000000",
          "2019-07-15T00:00:00.000000000",
          "2019-07-22T00:00:00.000000000",
          "2019-07-29T00:00:00.000000000",
          "2019-08-05T00:00:00.000000000",
          "2019-08-12T00:00:00.000000000",
          "2019-08-19T00:00:00.000000000",
          "2019-08-26T00:00:00.000000000",
          "2019-09-02T00:00:00.000000000",
          "2019-09-09T00:00:00.000000000",
          "2019-09-16T00:00:00.000000000",
          "2019-09-23T00:00:00.000000000",
          "2019-09-30T00:00:00.000000000",
          "2019-10-07T00:00:00.000000000",
          "2019-10-14T00:00:00.000000000",
          "2019-10-21T00:00:00.000000000",
          "2019-10-28T00:00:00.000000000",
          "2019-11-04T00:00:00.000000000",
          "2019-11-11T00:00:00.000000000",
          "2019-11-18T00:00:00.000000000",
          "2019-11-25T00:00:00.000000000",
          "2019-12-02T00:00:00.000000000",
          "2019-12-09T00:00:00.000000000",
          "2019-12-16T00:00:00.000000000",
          "2019-12-23T00:00:00.000000000",
          "2019-12-30T00:00:00.000000000"
         ],
         "xaxis": "x",
         "y": {
          "bdata": "AAAAAAAA8D/OK9MDb0rwP68QOq4ag/A/9oPp0ooR8T8TsS9U7yPwP99D4KT+IO4/3Hw6e8fI7z+q8F+IRFvwP9LSdHnBUu8/LIMaANTW8D8JvFtMfXzwPz7QZruEqO0/HpxM0nn07T+3TPA/hzztPxfM6R6/4e0/IXrkjXUm7z8heCA9i+ftP6NcPhmDbu4/QjPHjn7i7z+qgyQlaPXuP+V5ctWGOu8/ZFIUWy1A8D9vrqGpREXwP4WiXq/qufA/U4wX6uHF8D/pH6HJ3jHwP3Um9zr9jPA/0NEB+MZB8T9XHtVhPzPxPyuHvbZk+vE/NwuPnm7D8T/XXM4FFvfxP6hIRQnkbvE/az8Jog+48T9kWBFN667xP01QZMGg6PA/pI7CAT4F8T+UMFxuT+3wP6R7NKQOU/E/85Ml4tTM8D/YyoXbKx3wP2L4PrQd1e8/L6n6oWIb7z/SWD6VtrXuP9oE9qnY8+4/8kBpRjbR7j+goGHWr7ntP/MQKYMHxu8/XzbgVBMY7j8FnNv3GUHuP7udcIUkcOw/dtxkp8ob7j+2jo+avBXvP53HSc9Ase4/QjPHjn7i7z9LiPtKdqzvPxmlC0mpH/A/OvEgMLbK7z+605ckcCrwP3zeMMc/HvA/rDRmQwmQ8D+apul6+pTwPymUuDeTMfE/Lh6kE8N/8T8zPRwRJAjxPzJ9CsjkhfE/OJ3k7bqt8T/lnXpkevLxPxPbLk2Nd/I/umBFhRE18T9FfGgTjObwP4oJl/853/A/NI4dTRd08D8JjgPgMwXwP1INy2YH8+4/3LqtWYuC7z8wZfiBBUnwP9tJ47eLYe8/dM57zxpt8D8PGkn3kJ7wP/vlhlmRZ/A/R53F/qYm8j95l9xY/VTxP0LUZHXEPvE/R7cjKRUY8T/i1RHuT7bwPzyHlAsaP/E/fDnW36R98T+zOPArVf7xP79xyu6L2vE/7Hfuco/I8T9/Y3S0xIzxP06g9q+8pPE/IwGMcl4U8j+pVbJuWl3yPzJVr01ZffI/r0ZXkS8J8z/PhYSkg2DzP8kL1dedzfI/E8Ioj13x8j/WQP++4XXzP+AKN76skPM/MT5xFDeX8z+urvcqw5/zP2qQawKBaPM/",
          "dtype": "f8"
         },
         "yaxis": "y"
        },
        {
         "hovertemplate": "<b>Rolling mean trendline</b><br><br>date=%{x}<br>GOOG=%{y} <b>(trend)</b><extra></extra>",
         "legendgroup": "",
         "marker": {
          "color": "#636efa",
          "symbol": "circle"
         },
         "mode": "lines",
         "name": "",
         "showlegend": false,
         "type": "scatter",
         "x": [
          "2018-01-01T00:00:00.000000000",
          "2018-01-08T00:00:00.000000000",
          "2018-01-15T00:00:00.000000000",
          "2018-01-22T00:00:00.000000000",
          "2018-01-29T00:00:00.000000000",
          "2018-02-05T00:00:00.000000000",
          "2018-02-12T00:00:00.000000000",
          "2018-02-19T00:00:00.000000000",
          "2018-02-26T00:00:00.000000000",
          "2018-03-05T00:00:00.000000000",
          "2018-03-12T00:00:00.000000000",
          "2018-03-19T00:00:00.000000000",
          "2018-03-26T00:00:00.000000000",
          "2018-04-02T00:00:00.000000000",
          "2018-04-09T00:00:00.000000000",
          "2018-04-16T00:00:00.000000000",
          "2018-04-23T00:00:00.000000000",
          "2018-04-30T00:00:00.000000000",
          "2018-05-07T00:00:00.000000000",
          "2018-05-14T00:00:00.000000000",
          "2018-05-21T00:00:00.000000000",
          "2018-05-28T00:00:00.000000000",
          "2018-06-04T00:00:00.000000000",
          "2018-06-11T00:00:00.000000000",
          "2018-06-18T00:00:00.000000000",
          "2018-06-25T00:00:00.000000000",
          "2018-07-02T00:00:00.000000000",
          "2018-07-09T00:00:00.000000000",
          "2018-07-16T00:00:00.000000000",
          "2018-07-23T00:00:00.000000000",
          "2018-07-30T00:00:00.000000000",
          "2018-08-06T00:00:00.000000000",
          "2018-08-13T00:00:00.000000000",
          "2018-08-20T00:00:00.000000000",
          "2018-08-27T00:00:00.000000000",
          "2018-09-03T00:00:00.000000000",
          "2018-09-10T00:00:00.000000000",
          "2018-09-17T00:00:00.000000000",
          "2018-09-24T00:00:00.000000000",
          "2018-10-01T00:00:00.000000000",
          "2018-10-08T00:00:00.000000000",
          "2018-10-15T00:00:00.000000000",
          "2018-10-22T00:00:00.000000000",
          "2018-10-29T00:00:00.000000000",
          "2018-11-05T00:00:00.000000000",
          "2018-11-12T00:00:00.000000000",
          "2018-11-19T00:00:00.000000000",
          "2018-11-26T00:00:00.000000000",
          "2018-12-03T00:00:00.000000000",
          "2018-12-10T00:00:00.000000000",
          "2018-12-17T00:00:00.000000000",
          "2018-12-24T00:00:00.000000000",
          "2018-12-31T00:00:00.000000000",
          "2019-01-07T00:00:00.000000000",
          "2019-01-14T00:00:00.000000000",
          "2019-01-21T00:00:00.000000000",
          "2019-01-28T00:00:00.000000000",
          "2019-02-04T00:00:00.000000000",
          "2019-02-11T00:00:00.000000000",
          "2019-02-18T00:00:00.000000000",
          "2019-02-25T00:00:00.000000000",
          "2019-03-04T00:00:00.000000000",
          "2019-03-11T00:00:00.000000000",
          "2019-03-18T00:00:00.000000000",
          "2019-03-25T00:00:00.000000000",
          "2019-04-01T00:00:00.000000000",
          "2019-04-08T00:00:00.000000000",
          "2019-04-15T00:00:00.000000000",
          "2019-04-22T00:00:00.000000000",
          "2019-04-29T00:00:00.000000000",
          "2019-05-06T00:00:00.000000000",
          "2019-05-13T00:00:00.000000000",
          "2019-05-20T00:00:00.000000000",
          "2019-05-27T00:00:00.000000000",
          "2019-06-03T00:00:00.000000000",
          "2019-06-10T00:00:00.000000000",
          "2019-06-17T00:00:00.000000000",
          "2019-06-24T00:00:00.000000000",
          "2019-07-01T00:00:00.000000000",
          "2019-07-08T00:00:00.000000000",
          "2019-07-15T00:00:00.000000000",
          "2019-07-22T00:00:00.000000000",
          "2019-07-29T00:00:00.000000000",
          "2019-08-05T00:00:00.000000000",
          "2019-08-12T00:00:00.000000000",
          "2019-08-19T00:00:00.000000000",
          "2019-08-26T00:00:00.000000000",
          "2019-09-02T00:00:00.000000000",
          "2019-09-09T00:00:00.000000000",
          "2019-09-16T00:00:00.000000000",
          "2019-09-23T00:00:00.000000000",
          "2019-09-30T00:00:00.000000000",
          "2019-10-07T00:00:00.000000000",
          "2019-10-14T00:00:00.000000000",
          "2019-10-21T00:00:00.000000000",
          "2019-10-28T00:00:00.000000000",
          "2019-11-04T00:00:00.000000000",
          "2019-11-11T00:00:00.000000000",
          "2019-11-18T00:00:00.000000000",
          "2019-11-25T00:00:00.000000000",
          "2019-12-02T00:00:00.000000000",
          "2019-12-09T00:00:00.000000000",
          "2019-12-16T00:00:00.000000000",
          "2019-12-23T00:00:00.000000000",
          "2019-12-30T00:00:00.000000000"
         ],
         "xaxis": "x",
         "y": {
          "bdata": "AAAAAAAA+H8AAAAAAAD4fwAAAAAAAPh/AAAAAAAA+H9OsAfFAGfwP0rq6jsaN/A/nodGlLEi8D+d5xrzuRrwPzVeiRBjpe8/pRi0u/Hs7z8lKwlDRT/wP65m2i/YCPA/6yUEIHqE7z/m1xyuoRnvP6YydOc/V+4/DjN9GPL57T897jv/jAbuPyN7n0D1Hu4/c9wwHY2m7j/Dmjzrrt3uP7aa8l+y4e4/pqNaq6hm7z9+cCjqqdLvPwY6Ez13EfA/uhVhm7NT8D+33PVHbHHwP4dtVg7JgPA/zqdphEmz8D/F8xqojcvwP1aMompBCfE/AFUFYpFZ8T96+cm9/KHxP9iqCo4Cq/E/qeThmpLF8T+0QYxSerbxPx/ptoy3ivE/e1mBJVla8T/ehx+gbkDxP4ItKDo7LPE/bDksiwP/8D+7HmaQUtbwPz5OEiLJnfA/2LtlT3ZX8D/LJPZ6PuXvP2O3fkKuXe8/1gwrX3QV7z9K+zGZkanuPwoQCJOyy+4/jW8ohius7j8u9O/Ia4juP1agJG+bDu4/gt++ZToi7j92xTk3+P7tP4LiTumaHe4/JmfkbRVx7j/eYjNivxbvP51FivdAhO8/6/JA4nKo7z9IuTuUX/zvP9BQreMvB/A/uM3bHFks8D/Smm7Az0PwP7oGXWBBhvA/a+LFKYXK8D8qwsFrTPnwP6vQFVN4KvE/MTV70J5i8T9WaghzM4nxP+pcV0vCuvE/n/3Flb7D8T+jMD8L4KPxP01GyQ6TevE/w9zp1hgu8T/0ZhTB07DwPyUITsodWPA/X+gwHHYd8D8Cj1U51/7vP+VkqqW2sO8/dkunOEba7z82wxpdvyfwP7mR17IBSfA/VwNnZYio8D9zzWJ+k/zwP84BKzmCJvE/QSG93M8+8T8JHgyUj07xPwaANTBAIPE/bqCasWEo8T+25xzWsU7xPwINC2SWdfE/N/oD5W+s8T/evzBt+LvxP9U6N/3Jw/E/H5aJPjLI8T+CkFGLW+LxP/bvROqDBvI/zIOlSZlS8j/m5MGtWqvyP25NnVtn0PI/TpZOlQHu8j+j+MR4th/zP0aGvoHPOvM/Jqu6McBF8z+ImMGox2/zP83Bm4ybh/M/",
          "dtype": "f8"
         },
         "yaxis": "y"
        }
       ],
       "layout": {
        "legend": {
         "tracegroupgap": 0
        },
        "template": {
         "data": {
          "bar": [
           {
            "error_x": {
             "color": "#2a3f5f"
            },
            "error_y": {
             "color": "#2a3f5f"
            },
            "marker": {
             "line": {
              "color": "#E5ECF6",
              "width": 0.5
             },
             "pattern": {
              "fillmode": "overlay",
              "size": 10,
              "solidity": 0.2
             }
            },
            "type": "bar"
           }
          ],
          "barpolar": [
           {
            "marker": {
             "line": {
              "color": "#E5ECF6",
              "width": 0.5
             },
             "pattern": {
              "fillmode": "overlay",
              "size": 10,
              "solidity": 0.2
             }
            },
            "type": "barpolar"
           }
          ],
          "carpet": [
           {
            "aaxis": {
             "endlinecolor": "#2a3f5f",
             "gridcolor": "white",
             "linecolor": "white",
             "minorgridcolor": "white",
             "startlinecolor": "#2a3f5f"
            },
            "baxis": {
             "endlinecolor": "#2a3f5f",
             "gridcolor": "white",
             "linecolor": "white",
             "minorgridcolor": "white",
             "startlinecolor": "#2a3f5f"
            },
            "type": "carpet"
           }
          ],
          "choropleth": [
           {
            "colorbar": {
             "outlinewidth": 0,
             "ticks": ""
            },
            "type": "choropleth"
           }
          ],
          "contour": [
           {
            "colorbar": {
             "outlinewidth": 0,
             "ticks": ""
            },
            "colorscale": [
             [
              0,
              "#0d0887"
             ],
             [
              0.1111111111111111,
              "#46039f"
             ],
             [
              0.2222222222222222,
              "#7201a8"
             ],
             [
              0.3333333333333333,
              "#9c179e"
             ],
             [
              0.4444444444444444,
              "#bd3786"
             ],
             [
              0.5555555555555556,
              "#d8576b"
             ],
             [
              0.6666666666666666,
              "#ed7953"
             ],
             [
              0.7777777777777778,
              "#fb9f3a"
             ],
             [
              0.8888888888888888,
              "#fdca26"
             ],
             [
              1,
              "#f0f921"
             ]
            ],
            "type": "contour"
           }
          ],
          "contourcarpet": [
           {
            "colorbar": {
             "outlinewidth": 0,
             "ticks": ""
            },
            "type": "contourcarpet"
           }
          ],
          "heatmap": [
           {
            "colorbar": {
             "outlinewidth": 0,
             "ticks": ""
            },
            "colorscale": [
             [
              0,
              "#0d0887"
             ],
             [
              0.1111111111111111,
              "#46039f"
             ],
             [
              0.2222222222222222,
              "#7201a8"
             ],
             [
              0.3333333333333333,
              "#9c179e"
             ],
             [
              0.4444444444444444,
              "#bd3786"
             ],
             [
              0.5555555555555556,
              "#d8576b"
             ],
             [
              0.6666666666666666,
              "#ed7953"
             ],
             [
              0.7777777777777778,
              "#fb9f3a"
             ],
             [
              0.8888888888888888,
              "#fdca26"
             ],
             [
              1,
              "#f0f921"
             ]
            ],
            "type": "heatmap"
           }
          ],
          "histogram": [
           {
            "marker": {
             "pattern": {
              "fillmode": "overlay",
              "size": 10,
              "solidity": 0.2
             }
            },
            "type": "histogram"
           }
          ],
          "histogram2d": [
           {
            "colorbar": {
             "outlinewidth": 0,
             "ticks": ""
            },
            "colorscale": [
             [
              0,
              "#0d0887"
             ],
             [
              0.1111111111111111,
              "#46039f"
             ],
             [
              0.2222222222222222,
              "#7201a8"
             ],
             [
              0.3333333333333333,
              "#9c179e"
             ],
             [
              0.4444444444444444,
              "#bd3786"
             ],
             [
              0.5555555555555556,
              "#d8576b"
             ],
             [
              0.6666666666666666,
              "#ed7953"
             ],
             [
              0.7777777777777778,
              "#fb9f3a"
             ],
             [
              0.8888888888888888,
              "#fdca26"
             ],
             [
              1,
              "#f0f921"
             ]
            ],
            "type": "histogram2d"
           }
          ],
          "histogram2dcontour": [
           {
            "colorbar": {
             "outlinewidth": 0,
             "ticks": ""
            },
            "colorscale": [
             [
              0,
              "#0d0887"
             ],
             [
              0.1111111111111111,
              "#46039f"
             ],
             [
              0.2222222222222222,
              "#7201a8"
             ],
             [
              0.3333333333333333,
              "#9c179e"
             ],
             [
              0.4444444444444444,
              "#bd3786"
             ],
             [
              0.5555555555555556,
              "#d8576b"
             ],
             [
              0.6666666666666666,
              "#ed7953"
             ],
             [
              0.7777777777777778,
              "#fb9f3a"
             ],
             [
              0.8888888888888888,
              "#fdca26"
             ],
             [
              1,
              "#f0f921"
             ]
            ],
            "type": "histogram2dcontour"
           }
          ],
          "mesh3d": [
           {
            "colorbar": {
             "outlinewidth": 0,
             "ticks": ""
            },
            "type": "mesh3d"
           }
          ],
          "parcoords": [
           {
            "line": {
             "colorbar": {
              "outlinewidth": 0,
              "ticks": ""
             }
            },
            "type": "parcoords"
           }
          ],
          "pie": [
           {
            "automargin": true,
            "type": "pie"
           }
          ],
          "scatter": [
           {
            "fillpattern": {
             "fillmode": "overlay",
             "size": 10,
             "solidity": 0.2
            },
            "type": "scatter"
           }
          ],
          "scatter3d": [
           {
            "line": {
             "colorbar": {
              "outlinewidth": 0,
              "ticks": ""
             }
            },
            "marker": {
             "colorbar": {
              "outlinewidth": 0,
              "ticks": ""
             }
            },
            "type": "scatter3d"
           }
          ],
          "scattercarpet": [
           {
            "marker": {
             "colorbar": {
              "outlinewidth": 0,
              "ticks": ""
             }
            },
            "type": "scattercarpet"
           }
          ],
          "scattergeo": [
           {
            "marker": {
             "colorbar": {
              "outlinewidth": 0,
              "ticks": ""
             }
            },
            "type": "scattergeo"
           }
          ],
          "scattergl": [
           {
            "marker": {
             "colorbar": {
              "outlinewidth": 0,
              "ticks": ""
             }
            },
            "type": "scattergl"
           }
          ],
          "scattermap": [
           {
            "marker": {
             "colorbar": {
              "outlinewidth": 0,
              "ticks": ""
             }
            },
            "type": "scattermap"
           }
          ],
          "scattermapbox": [
           {
            "marker": {
             "colorbar": {
              "outlinewidth": 0,
              "ticks": ""
             }
            },
            "type": "scattermapbox"
           }
          ],
          "scatterpolar": [
           {
            "marker": {
             "colorbar": {
              "outlinewidth": 0,
              "ticks": ""
             }
            },
            "type": "scatterpolar"
           }
          ],
          "scatterpolargl": [
           {
            "marker": {
             "colorbar": {
              "outlinewidth": 0,
              "ticks": ""
             }
            },
            "type": "scatterpolargl"
           }
          ],
          "scatterternary": [
           {
            "marker": {
             "colorbar": {
              "outlinewidth": 0,
              "ticks": ""
             }
            },
            "type": "scatterternary"
           }
          ],
          "surface": [
           {
            "colorbar": {
             "outlinewidth": 0,
             "ticks": ""
            },
            "colorscale": [
             [
              0,
              "#0d0887"
             ],
             [
              0.1111111111111111,
              "#46039f"
             ],
             [
              0.2222222222222222,
              "#7201a8"
             ],
             [
              0.3333333333333333,
              "#9c179e"
             ],
             [
              0.4444444444444444,
              "#bd3786"
             ],
             [
              0.5555555555555556,
              "#d8576b"
             ],
             [
              0.6666666666666666,
              "#ed7953"
             ],
             [
              0.7777777777777778,
              "#fb9f3a"
             ],
             [
              0.8888888888888888,
              "#fdca26"
             ],
             [
              1,
              "#f0f921"
             ]
            ],
            "type": "surface"
           }
          ],
          "table": [
           {
            "cells": {
             "fill": {
              "color": "#EBF0F8"
             },
             "line": {
              "color": "white"
             }
            },
            "header": {
             "fill": {
              "color": "#C8D4E3"
             },
             "line": {
              "color": "white"
             }
            },
            "type": "table"
           }
          ]
         },
         "layout": {
          "annotationdefaults": {
           "arrowcolor": "#2a3f5f",
           "arrowhead": 0,
           "arrowwidth": 1
          },
          "autotypenumbers": "strict",
          "coloraxis": {
           "colorbar": {
            "outlinewidth": 0,
            "ticks": ""
           }
          },
          "colorscale": {
           "diverging": [
            [
             0,
             "#8e0152"
            ],
            [
             0.1,
             "#c51b7d"
            ],
            [
             0.2,
             "#de77ae"
            ],
            [
             0.3,
             "#f1b6da"
            ],
            [
             0.4,
             "#fde0ef"
            ],
            [
             0.5,
             "#f7f7f7"
            ],
            [
             0.6,
             "#e6f5d0"
            ],
            [
             0.7,
             "#b8e186"
            ],
            [
             0.8,
             "#7fbc41"
            ],
            [
             0.9,
             "#4d9221"
            ],
            [
             1,
             "#276419"
            ]
           ],
           "sequential": [
            [
             0,
             "#0d0887"
            ],
            [
             0.1111111111111111,
             "#46039f"
            ],
            [
             0.2222222222222222,
             "#7201a8"
            ],
            [
             0.3333333333333333,
             "#9c179e"
            ],
            [
             0.4444444444444444,
             "#bd3786"
            ],
            [
             0.5555555555555556,
             "#d8576b"
            ],
            [
             0.6666666666666666,
             "#ed7953"
            ],
            [
             0.7777777777777778,
             "#fb9f3a"
            ],
            [
             0.8888888888888888,
             "#fdca26"
            ],
            [
             1,
             "#f0f921"
            ]
           ],
           "sequentialminus": [
            [
             0,
             "#0d0887"
            ],
            [
             0.1111111111111111,
             "#46039f"
            ],
            [
             0.2222222222222222,
             "#7201a8"
            ],
            [
             0.3333333333333333,
             "#9c179e"
            ],
            [
             0.4444444444444444,
             "#bd3786"
            ],
            [
             0.5555555555555556,
             "#d8576b"
            ],
            [
             0.6666666666666666,
             "#ed7953"
            ],
            [
             0.7777777777777778,
             "#fb9f3a"
            ],
            [
             0.8888888888888888,
             "#fdca26"
            ],
            [
             1,
             "#f0f921"
            ]
           ]
          },
          "colorway": [
           "#636efa",
           "#EF553B",
           "#00cc96",
           "#ab63fa",
           "#FFA15A",
           "#19d3f3",
           "#FF6692",
           "#B6E880",
           "#FF97FF",
           "#FECB52"
          ],
          "font": {
           "color": "#2a3f5f"
          },
          "geo": {
           "bgcolor": "white",
           "lakecolor": "white",
           "landcolor": "#E5ECF6",
           "showlakes": true,
           "showland": true,
           "subunitcolor": "white"
          },
          "hoverlabel": {
           "align": "left"
          },
          "hovermode": "closest",
          "mapbox": {
           "style": "light"
          },
          "paper_bgcolor": "white",
          "plot_bgcolor": "#E5ECF6",
          "polar": {
           "angularaxis": {
            "gridcolor": "white",
            "linecolor": "white",
            "ticks": ""
           },
           "bgcolor": "#E5ECF6",
           "radialaxis": {
            "gridcolor": "white",
            "linecolor": "white",
            "ticks": ""
           }
          },
          "scene": {
           "xaxis": {
            "backgroundcolor": "#E5ECF6",
            "gridcolor": "white",
            "gridwidth": 2,
            "linecolor": "white",
            "showbackground": true,
            "ticks": "",
            "zerolinecolor": "white"
           },
           "yaxis": {
            "backgroundcolor": "#E5ECF6",
            "gridcolor": "white",
            "gridwidth": 2,
            "linecolor": "white",
            "showbackground": true,
            "ticks": "",
            "zerolinecolor": "white"
           },
           "zaxis": {
            "backgroundcolor": "#E5ECF6",
            "gridcolor": "white",
            "gridwidth": 2,
            "linecolor": "white",
            "showbackground": true,
            "ticks": "",
            "zerolinecolor": "white"
           }
          },
          "shapedefaults": {
           "line": {
            "color": "#2a3f5f"
           }
          },
          "ternary": {
           "aaxis": {
            "gridcolor": "white",
            "linecolor": "white",
            "ticks": ""
           },
           "baxis": {
            "gridcolor": "white",
            "linecolor": "white",
            "ticks": ""
           },
           "bgcolor": "#E5ECF6",
           "caxis": {
            "gridcolor": "white",
            "linecolor": "white",
            "ticks": ""
           }
          },
          "title": {
           "x": 0.05
          },
          "xaxis": {
           "automargin": true,
           "gridcolor": "white",
           "linecolor": "white",
           "ticks": "",
           "title": {
            "standoff": 15
           },
           "zerolinecolor": "white",
           "zerolinewidth": 2
          },
          "yaxis": {
           "automargin": true,
           "gridcolor": "white",
           "linecolor": "white",
           "ticks": "",
           "title": {
            "standoff": 15
           },
           "zerolinecolor": "white",
           "zerolinewidth": 2
          }
         }
        },
        "title": {
         "text": "5-point moving average"
        },
        "xaxis": {
         "anchor": "y",
         "domain": [
          0,
          1
         ],
         "title": {
          "text": "date"
         }
        },
        "yaxis": {
         "anchor": "x",
         "domain": [
          0,
          1
         ],
         "title": {
          "text": "GOOG"
         }
        }
       }
      }
     },
     "metadata": {},
     "output_type": "display_data"
    }
   ],
   "source": [
    "import plotly.express as px\n",
    "\n",
    "df = px.data.stocks(datetimes=True)\n",
    "fig = px.scatter(df, x=\"date\", y=\"GOOG\", trendline=\"rolling\", trendline_options=dict(window=5),\n",
    "                title=\"5-point moving average\")\n",
    "fig.show()\n"
   ]
  },
  {
   "cell_type": "code",
   "execution_count": 10,
   "metadata": {},
   "outputs": [
    {
     "data": {
      "application/vnd.plotly.v1+json": {
       "config": {
        "plotlyServerURL": "https://plot.ly"
       },
       "data": [
        {
         "hovertemplate": "date=%{x}<br>GOOG=%{y}<extra></extra>",
         "legendgroup": "",
         "marker": {
          "color": "#636efa",
          "symbol": "circle"
         },
         "mode": "markers",
         "name": "",
         "orientation": "v",
         "showlegend": false,
         "type": "scatter",
         "x": [
          "2018-01-01T00:00:00.000000000",
          "2018-01-08T00:00:00.000000000",
          "2018-01-15T00:00:00.000000000",
          "2018-01-22T00:00:00.000000000",
          "2018-01-29T00:00:00.000000000",
          "2018-02-05T00:00:00.000000000",
          "2018-02-12T00:00:00.000000000",
          "2018-02-19T00:00:00.000000000",
          "2018-02-26T00:00:00.000000000",
          "2018-03-05T00:00:00.000000000",
          "2018-03-12T00:00:00.000000000",
          "2018-03-19T00:00:00.000000000",
          "2018-03-26T00:00:00.000000000",
          "2018-04-02T00:00:00.000000000",
          "2018-04-09T00:00:00.000000000",
          "2018-04-16T00:00:00.000000000",
          "2018-04-23T00:00:00.000000000",
          "2018-04-30T00:00:00.000000000",
          "2018-05-07T00:00:00.000000000",
          "2018-05-14T00:00:00.000000000",
          "2018-05-21T00:00:00.000000000",
          "2018-05-28T00:00:00.000000000",
          "2018-06-04T00:00:00.000000000",
          "2018-06-11T00:00:00.000000000",
          "2018-06-18T00:00:00.000000000",
          "2018-06-25T00:00:00.000000000",
          "2018-07-02T00:00:00.000000000",
          "2018-07-09T00:00:00.000000000",
          "2018-07-16T00:00:00.000000000",
          "2018-07-23T00:00:00.000000000",
          "2018-07-30T00:00:00.000000000",
          "2018-08-06T00:00:00.000000000",
          "2018-08-13T00:00:00.000000000",
          "2018-08-20T00:00:00.000000000",
          "2018-08-27T00:00:00.000000000",
          "2018-09-03T00:00:00.000000000",
          "2018-09-10T00:00:00.000000000",
          "2018-09-17T00:00:00.000000000",
          "2018-09-24T00:00:00.000000000",
          "2018-10-01T00:00:00.000000000",
          "2018-10-08T00:00:00.000000000",
          "2018-10-15T00:00:00.000000000",
          "2018-10-22T00:00:00.000000000",
          "2018-10-29T00:00:00.000000000",
          "2018-11-05T00:00:00.000000000",
          "2018-11-12T00:00:00.000000000",
          "2018-11-19T00:00:00.000000000",
          "2018-11-26T00:00:00.000000000",
          "2018-12-03T00:00:00.000000000",
          "2018-12-10T00:00:00.000000000",
          "2018-12-17T00:00:00.000000000",
          "2018-12-24T00:00:00.000000000",
          "2018-12-31T00:00:00.000000000",
          "2019-01-07T00:00:00.000000000",
          "2019-01-14T00:00:00.000000000",
          "2019-01-21T00:00:00.000000000",
          "2019-01-28T00:00:00.000000000",
          "2019-02-04T00:00:00.000000000",
          "2019-02-11T00:00:00.000000000",
          "2019-02-18T00:00:00.000000000",
          "2019-02-25T00:00:00.000000000",
          "2019-03-04T00:00:00.000000000",
          "2019-03-11T00:00:00.000000000",
          "2019-03-18T00:00:00.000000000",
          "2019-03-25T00:00:00.000000000",
          "2019-04-01T00:00:00.000000000",
          "2019-04-08T00:00:00.000000000",
          "2019-04-15T00:00:00.000000000",
          "2019-04-22T00:00:00.000000000",
          "2019-04-29T00:00:00.000000000",
          "2019-05-06T00:00:00.000000000",
          "2019-05-13T00:00:00.000000000",
          "2019-05-20T00:00:00.000000000",
          "2019-05-27T00:00:00.000000000",
          "2019-06-03T00:00:00.000000000",
          "2019-06-10T00:00:00.000000000",
          "2019-06-17T00:00:00.000000000",
          "2019-06-24T00:00:00.000000000",
          "2019-07-01T00:00:00.000000000",
          "2019-07-08T00:00:00.000000000",
          "2019-07-15T00:00:00.000000000",
          "2019-07-22T00:00:00.000000000",
          "2019-07-29T00:00:00.000000000",
          "2019-08-05T00:00:00.000000000",
          "2019-08-12T00:00:00.000000000",
          "2019-08-19T00:00:00.000000000",
          "2019-08-26T00:00:00.000000000",
          "2019-09-02T00:00:00.000000000",
          "2019-09-09T00:00:00.000000000",
          "2019-09-16T00:00:00.000000000",
          "2019-09-23T00:00:00.000000000",
          "2019-09-30T00:00:00.000000000",
          "2019-10-07T00:00:00.000000000",
          "2019-10-14T00:00:00.000000000",
          "2019-10-21T00:00:00.000000000",
          "2019-10-28T00:00:00.000000000",
          "2019-11-04T00:00:00.000000000",
          "2019-11-11T00:00:00.000000000",
          "2019-11-18T00:00:00.000000000",
          "2019-11-25T00:00:00.000000000",
          "2019-12-02T00:00:00.000000000",
          "2019-12-09T00:00:00.000000000",
          "2019-12-16T00:00:00.000000000",
          "2019-12-23T00:00:00.000000000",
          "2019-12-30T00:00:00.000000000"
         ],
         "xaxis": "x",
         "y": {
          "bdata": "AAAAAAAA8D/OK9MDb0rwP68QOq4ag/A/9oPp0ooR8T8TsS9U7yPwP99D4KT+IO4/3Hw6e8fI7z+q8F+IRFvwP9LSdHnBUu8/LIMaANTW8D8JvFtMfXzwPz7QZruEqO0/HpxM0nn07T+3TPA/hzztPxfM6R6/4e0/IXrkjXUm7z8heCA9i+ftP6NcPhmDbu4/QjPHjn7i7z+qgyQlaPXuP+V5ctWGOu8/ZFIUWy1A8D9vrqGpREXwP4WiXq/qufA/U4wX6uHF8D/pH6HJ3jHwP3Um9zr9jPA/0NEB+MZB8T9XHtVhPzPxPyuHvbZk+vE/NwuPnm7D8T/XXM4FFvfxP6hIRQnkbvE/az8Jog+48T9kWBFN667xP01QZMGg6PA/pI7CAT4F8T+UMFxuT+3wP6R7NKQOU/E/85Ml4tTM8D/YyoXbKx3wP2L4PrQd1e8/L6n6oWIb7z/SWD6VtrXuP9oE9qnY8+4/8kBpRjbR7j+goGHWr7ntP/MQKYMHxu8/XzbgVBMY7j8FnNv3GUHuP7udcIUkcOw/dtxkp8ob7j+2jo+avBXvP53HSc9Ase4/QjPHjn7i7z9LiPtKdqzvPxmlC0mpH/A/OvEgMLbK7z+605ckcCrwP3zeMMc/HvA/rDRmQwmQ8D+apul6+pTwPymUuDeTMfE/Lh6kE8N/8T8zPRwRJAjxPzJ9CsjkhfE/OJ3k7bqt8T/lnXpkevLxPxPbLk2Nd/I/umBFhRE18T9FfGgTjObwP4oJl/853/A/NI4dTRd08D8JjgPgMwXwP1INy2YH8+4/3LqtWYuC7z8wZfiBBUnwP9tJ47eLYe8/dM57zxpt8D8PGkn3kJ7wP/vlhlmRZ/A/R53F/qYm8j95l9xY/VTxP0LUZHXEPvE/R7cjKRUY8T/i1RHuT7bwPzyHlAsaP/E/fDnW36R98T+zOPArVf7xP79xyu6L2vE/7Hfuco/I8T9/Y3S0xIzxP06g9q+8pPE/IwGMcl4U8j+pVbJuWl3yPzJVr01ZffI/r0ZXkS8J8z/PhYSkg2DzP8kL1dedzfI/E8Ioj13x8j/WQP++4XXzP+AKN76skPM/MT5xFDeX8z+urvcqw5/zP2qQawKBaPM/",
          "dtype": "f8"
         },
         "yaxis": "y"
        },
        {
         "hovertemplate": "<b>Exponentially Weighted mean trendline</b><br><br>date=%{x}<br>GOOG=%{y} <b>(trend)</b><extra></extra>",
         "legendgroup": "",
         "marker": {
          "color": "#636efa",
          "symbol": "circle"
         },
         "mode": "lines",
         "name": "",
         "showlegend": false,
         "type": "scatter",
         "x": [
          "2018-01-01T00:00:00.000000000",
          "2018-01-08T00:00:00.000000000",
          "2018-01-15T00:00:00.000000000",
          "2018-01-22T00:00:00.000000000",
          "2018-01-29T00:00:00.000000000",
          "2018-02-05T00:00:00.000000000",
          "2018-02-12T00:00:00.000000000",
          "2018-02-19T00:00:00.000000000",
          "2018-02-26T00:00:00.000000000",
          "2018-03-05T00:00:00.000000000",
          "2018-03-12T00:00:00.000000000",
          "2018-03-19T00:00:00.000000000",
          "2018-03-26T00:00:00.000000000",
          "2018-04-02T00:00:00.000000000",
          "2018-04-09T00:00:00.000000000",
          "2018-04-16T00:00:00.000000000",
          "2018-04-23T00:00:00.000000000",
          "2018-04-30T00:00:00.000000000",
          "2018-05-07T00:00:00.000000000",
          "2018-05-14T00:00:00.000000000",
          "2018-05-21T00:00:00.000000000",
          "2018-05-28T00:00:00.000000000",
          "2018-06-04T00:00:00.000000000",
          "2018-06-11T00:00:00.000000000",
          "2018-06-18T00:00:00.000000000",
          "2018-06-25T00:00:00.000000000",
          "2018-07-02T00:00:00.000000000",
          "2018-07-09T00:00:00.000000000",
          "2018-07-16T00:00:00.000000000",
          "2018-07-23T00:00:00.000000000",
          "2018-07-30T00:00:00.000000000",
          "2018-08-06T00:00:00.000000000",
          "2018-08-13T00:00:00.000000000",
          "2018-08-20T00:00:00.000000000",
          "2018-08-27T00:00:00.000000000",
          "2018-09-03T00:00:00.000000000",
          "2018-09-10T00:00:00.000000000",
          "2018-09-17T00:00:00.000000000",
          "2018-09-24T00:00:00.000000000",
          "2018-10-01T00:00:00.000000000",
          "2018-10-08T00:00:00.000000000",
          "2018-10-15T00:00:00.000000000",
          "2018-10-22T00:00:00.000000000",
          "2018-10-29T00:00:00.000000000",
          "2018-11-05T00:00:00.000000000",
          "2018-11-12T00:00:00.000000000",
          "2018-11-19T00:00:00.000000000",
          "2018-11-26T00:00:00.000000000",
          "2018-12-03T00:00:00.000000000",
          "2018-12-10T00:00:00.000000000",
          "2018-12-17T00:00:00.000000000",
          "2018-12-24T00:00:00.000000000",
          "2018-12-31T00:00:00.000000000",
          "2019-01-07T00:00:00.000000000",
          "2019-01-14T00:00:00.000000000",
          "2019-01-21T00:00:00.000000000",
          "2019-01-28T00:00:00.000000000",
          "2019-02-04T00:00:00.000000000",
          "2019-02-11T00:00:00.000000000",
          "2019-02-18T00:00:00.000000000",
          "2019-02-25T00:00:00.000000000",
          "2019-03-04T00:00:00.000000000",
          "2019-03-11T00:00:00.000000000",
          "2019-03-18T00:00:00.000000000",
          "2019-03-25T00:00:00.000000000",
          "2019-04-01T00:00:00.000000000",
          "2019-04-08T00:00:00.000000000",
          "2019-04-15T00:00:00.000000000",
          "2019-04-22T00:00:00.000000000",
          "2019-04-29T00:00:00.000000000",
          "2019-05-06T00:00:00.000000000",
          "2019-05-13T00:00:00.000000000",
          "2019-05-20T00:00:00.000000000",
          "2019-05-27T00:00:00.000000000",
          "2019-06-03T00:00:00.000000000",
          "2019-06-10T00:00:00.000000000",
          "2019-06-17T00:00:00.000000000",
          "2019-06-24T00:00:00.000000000",
          "2019-07-01T00:00:00.000000000",
          "2019-07-08T00:00:00.000000000",
          "2019-07-15T00:00:00.000000000",
          "2019-07-22T00:00:00.000000000",
          "2019-07-29T00:00:00.000000000",
          "2019-08-05T00:00:00.000000000",
          "2019-08-12T00:00:00.000000000",
          "2019-08-19T00:00:00.000000000",
          "2019-08-26T00:00:00.000000000",
          "2019-09-02T00:00:00.000000000",
          "2019-09-09T00:00:00.000000000",
          "2019-09-16T00:00:00.000000000",
          "2019-09-23T00:00:00.000000000",
          "2019-09-30T00:00:00.000000000",
          "2019-10-07T00:00:00.000000000",
          "2019-10-14T00:00:00.000000000",
          "2019-10-21T00:00:00.000000000",
          "2019-10-28T00:00:00.000000000",
          "2019-11-04T00:00:00.000000000",
          "2019-11-11T00:00:00.000000000",
          "2019-11-18T00:00:00.000000000",
          "2019-11-25T00:00:00.000000000",
          "2019-12-02T00:00:00.000000000",
          "2019-12-09T00:00:00.000000000",
          "2019-12-16T00:00:00.000000000",
          "2019-12-23T00:00:00.000000000",
          "2019-12-30T00:00:00.000000000"
         ],
         "xaxis": "x",
         "y": {
          "bdata": "AAAAAAAA8D9GolgrmivwP0svJW8/U/A/AIkr+o+d8D/gnQ3sSXLwP8txboa59+8/9RxZOqTo7z808xy/exTwPxtwzCdT5+8/HJAJEVg48D8M5m4dwUzwP4AEQ1Z2ue8/KbB3qE0z7z/pVBlq4p7uP3r19/MtZ+4/cdO/eWyf7j+hpgHbamnuPxqdZZvpau4/a4/i7RHZ7j861YC3YOHuP1tIdceB++4/qCngDnRt7z89b8Mo+8DvP/eLMlIwIPA/UduqSrpQ8D/tsUtMsEfwPw7HAvL8W/A/HSqKvUuf8D/Kz+G8ocrwP6BqZ66aI/E/PfPQ8GpS8T/CKRYRpoLxPx+3gZbcfPE/CzGEbjOO8T9DPyauyJfxP+Q//FF7ZPE/DsD8LZZI8T9n5VI02i3xP2975tm/OPE/zAyJFyQZ8T+B3fE5V8/wPyhOQfBUjPA///1p679B8D9v8ljMPvzvP2QYMvzNru8/JUlR0uZt7z++FBIlI+7uP3r5NuBeLe8/o0/IGifc7j/lwPdAva7uP5s6Dp5xBu4/Zy0gSrIM7j8jrMovU1ruP1xlPB/Jc+4/5SK9LzHf7j+aeaV2UBvvPxTiQW/XcO8/cFro9CmL7z/kNCB5PsbvP7bT/kDh6O8/qoIFVgMi8D+CGcCEr0PwP6kMoaBcifA/1iik4IfR8D/PR4WUhuHwP1bO/f+qEfE/L/ctpmA/8T9es2G61XPxP9SUyXznv/E/ofyCfD2X8T9vH1rtfGPxP8MOZOC/PPE/1nKBXvoB8T/LRLAa8bfwP9d5pTWtWvA/woDr174t8D90ArkEvDXwP2Pk73jKDvA/tx9wL2oq8D8BLQlNb0zwPyL8YsBhVPA/9IKeBfPc8D/OOc65GwDxP+OHmfJ1EvE/o+S/exsU8T+bX4epovjwP2IRckZGDfE/c2cn0S8u8T/ZGW28JmvxP3P8xTrHi/E/eZNatpSd8T+qBgUZqJjxP7tzceUxnPE/o1brn2S/8T/RApiVqO3xP2QMQpS+F/I/vQpEA3Ze8j8jFSQEC6ryP7gGElh2tPI/dfy850zG8j8aG6wduvnyPx5Zg0fwJfM/UqPU1B1H8z/hnkSOFGHzP+3CjC9BY/M/",
          "dtype": "f8"
         },
         "yaxis": "y"
        }
       ],
       "layout": {
        "legend": {
         "tracegroupgap": 0
        },
        "template": {
         "data": {
          "bar": [
           {
            "error_x": {
             "color": "#2a3f5f"
            },
            "error_y": {
             "color": "#2a3f5f"
            },
            "marker": {
             "line": {
              "color": "#E5ECF6",
              "width": 0.5
             },
             "pattern": {
              "fillmode": "overlay",
              "size": 10,
              "solidity": 0.2
             }
            },
            "type": "bar"
           }
          ],
          "barpolar": [
           {
            "marker": {
             "line": {
              "color": "#E5ECF6",
              "width": 0.5
             },
             "pattern": {
              "fillmode": "overlay",
              "size": 10,
              "solidity": 0.2
             }
            },
            "type": "barpolar"
           }
          ],
          "carpet": [
           {
            "aaxis": {
             "endlinecolor": "#2a3f5f",
             "gridcolor": "white",
             "linecolor": "white",
             "minorgridcolor": "white",
             "startlinecolor": "#2a3f5f"
            },
            "baxis": {
             "endlinecolor": "#2a3f5f",
             "gridcolor": "white",
             "linecolor": "white",
             "minorgridcolor": "white",
             "startlinecolor": "#2a3f5f"
            },
            "type": "carpet"
           }
          ],
          "choropleth": [
           {
            "colorbar": {
             "outlinewidth": 0,
             "ticks": ""
            },
            "type": "choropleth"
           }
          ],
          "contour": [
           {
            "colorbar": {
             "outlinewidth": 0,
             "ticks": ""
            },
            "colorscale": [
             [
              0,
              "#0d0887"
             ],
             [
              0.1111111111111111,
              "#46039f"
             ],
             [
              0.2222222222222222,
              "#7201a8"
             ],
             [
              0.3333333333333333,
              "#9c179e"
             ],
             [
              0.4444444444444444,
              "#bd3786"
             ],
             [
              0.5555555555555556,
              "#d8576b"
             ],
             [
              0.6666666666666666,
              "#ed7953"
             ],
             [
              0.7777777777777778,
              "#fb9f3a"
             ],
             [
              0.8888888888888888,
              "#fdca26"
             ],
             [
              1,
              "#f0f921"
             ]
            ],
            "type": "contour"
           }
          ],
          "contourcarpet": [
           {
            "colorbar": {
             "outlinewidth": 0,
             "ticks": ""
            },
            "type": "contourcarpet"
           }
          ],
          "heatmap": [
           {
            "colorbar": {
             "outlinewidth": 0,
             "ticks": ""
            },
            "colorscale": [
             [
              0,
              "#0d0887"
             ],
             [
              0.1111111111111111,
              "#46039f"
             ],
             [
              0.2222222222222222,
              "#7201a8"
             ],
             [
              0.3333333333333333,
              "#9c179e"
             ],
             [
              0.4444444444444444,
              "#bd3786"
             ],
             [
              0.5555555555555556,
              "#d8576b"
             ],
             [
              0.6666666666666666,
              "#ed7953"
             ],
             [
              0.7777777777777778,
              "#fb9f3a"
             ],
             [
              0.8888888888888888,
              "#fdca26"
             ],
             [
              1,
              "#f0f921"
             ]
            ],
            "type": "heatmap"
           }
          ],
          "histogram": [
           {
            "marker": {
             "pattern": {
              "fillmode": "overlay",
              "size": 10,
              "solidity": 0.2
             }
            },
            "type": "histogram"
           }
          ],
          "histogram2d": [
           {
            "colorbar": {
             "outlinewidth": 0,
             "ticks": ""
            },
            "colorscale": [
             [
              0,
              "#0d0887"
             ],
             [
              0.1111111111111111,
              "#46039f"
             ],
             [
              0.2222222222222222,
              "#7201a8"
             ],
             [
              0.3333333333333333,
              "#9c179e"
             ],
             [
              0.4444444444444444,
              "#bd3786"
             ],
             [
              0.5555555555555556,
              "#d8576b"
             ],
             [
              0.6666666666666666,
              "#ed7953"
             ],
             [
              0.7777777777777778,
              "#fb9f3a"
             ],
             [
              0.8888888888888888,
              "#fdca26"
             ],
             [
              1,
              "#f0f921"
             ]
            ],
            "type": "histogram2d"
           }
          ],
          "histogram2dcontour": [
           {
            "colorbar": {
             "outlinewidth": 0,
             "ticks": ""
            },
            "colorscale": [
             [
              0,
              "#0d0887"
             ],
             [
              0.1111111111111111,
              "#46039f"
             ],
             [
              0.2222222222222222,
              "#7201a8"
             ],
             [
              0.3333333333333333,
              "#9c179e"
             ],
             [
              0.4444444444444444,
              "#bd3786"
             ],
             [
              0.5555555555555556,
              "#d8576b"
             ],
             [
              0.6666666666666666,
              "#ed7953"
             ],
             [
              0.7777777777777778,
              "#fb9f3a"
             ],
             [
              0.8888888888888888,
              "#fdca26"
             ],
             [
              1,
              "#f0f921"
             ]
            ],
            "type": "histogram2dcontour"
           }
          ],
          "mesh3d": [
           {
            "colorbar": {
             "outlinewidth": 0,
             "ticks": ""
            },
            "type": "mesh3d"
           }
          ],
          "parcoords": [
           {
            "line": {
             "colorbar": {
              "outlinewidth": 0,
              "ticks": ""
             }
            },
            "type": "parcoords"
           }
          ],
          "pie": [
           {
            "automargin": true,
            "type": "pie"
           }
          ],
          "scatter": [
           {
            "fillpattern": {
             "fillmode": "overlay",
             "size": 10,
             "solidity": 0.2
            },
            "type": "scatter"
           }
          ],
          "scatter3d": [
           {
            "line": {
             "colorbar": {
              "outlinewidth": 0,
              "ticks": ""
             }
            },
            "marker": {
             "colorbar": {
              "outlinewidth": 0,
              "ticks": ""
             }
            },
            "type": "scatter3d"
           }
          ],
          "scattercarpet": [
           {
            "marker": {
             "colorbar": {
              "outlinewidth": 0,
              "ticks": ""
             }
            },
            "type": "scattercarpet"
           }
          ],
          "scattergeo": [
           {
            "marker": {
             "colorbar": {
              "outlinewidth": 0,
              "ticks": ""
             }
            },
            "type": "scattergeo"
           }
          ],
          "scattergl": [
           {
            "marker": {
             "colorbar": {
              "outlinewidth": 0,
              "ticks": ""
             }
            },
            "type": "scattergl"
           }
          ],
          "scattermap": [
           {
            "marker": {
             "colorbar": {
              "outlinewidth": 0,
              "ticks": ""
             }
            },
            "type": "scattermap"
           }
          ],
          "scattermapbox": [
           {
            "marker": {
             "colorbar": {
              "outlinewidth": 0,
              "ticks": ""
             }
            },
            "type": "scattermapbox"
           }
          ],
          "scatterpolar": [
           {
            "marker": {
             "colorbar": {
              "outlinewidth": 0,
              "ticks": ""
             }
            },
            "type": "scatterpolar"
           }
          ],
          "scatterpolargl": [
           {
            "marker": {
             "colorbar": {
              "outlinewidth": 0,
              "ticks": ""
             }
            },
            "type": "scatterpolargl"
           }
          ],
          "scatterternary": [
           {
            "marker": {
             "colorbar": {
              "outlinewidth": 0,
              "ticks": ""
             }
            },
            "type": "scatterternary"
           }
          ],
          "surface": [
           {
            "colorbar": {
             "outlinewidth": 0,
             "ticks": ""
            },
            "colorscale": [
             [
              0,
              "#0d0887"
             ],
             [
              0.1111111111111111,
              "#46039f"
             ],
             [
              0.2222222222222222,
              "#7201a8"
             ],
             [
              0.3333333333333333,
              "#9c179e"
             ],
             [
              0.4444444444444444,
              "#bd3786"
             ],
             [
              0.5555555555555556,
              "#d8576b"
             ],
             [
              0.6666666666666666,
              "#ed7953"
             ],
             [
              0.7777777777777778,
              "#fb9f3a"
             ],
             [
              0.8888888888888888,
              "#fdca26"
             ],
             [
              1,
              "#f0f921"
             ]
            ],
            "type": "surface"
           }
          ],
          "table": [
           {
            "cells": {
             "fill": {
              "color": "#EBF0F8"
             },
             "line": {
              "color": "white"
             }
            },
            "header": {
             "fill": {
              "color": "#C8D4E3"
             },
             "line": {
              "color": "white"
             }
            },
            "type": "table"
           }
          ]
         },
         "layout": {
          "annotationdefaults": {
           "arrowcolor": "#2a3f5f",
           "arrowhead": 0,
           "arrowwidth": 1
          },
          "autotypenumbers": "strict",
          "coloraxis": {
           "colorbar": {
            "outlinewidth": 0,
            "ticks": ""
           }
          },
          "colorscale": {
           "diverging": [
            [
             0,
             "#8e0152"
            ],
            [
             0.1,
             "#c51b7d"
            ],
            [
             0.2,
             "#de77ae"
            ],
            [
             0.3,
             "#f1b6da"
            ],
            [
             0.4,
             "#fde0ef"
            ],
            [
             0.5,
             "#f7f7f7"
            ],
            [
             0.6,
             "#e6f5d0"
            ],
            [
             0.7,
             "#b8e186"
            ],
            [
             0.8,
             "#7fbc41"
            ],
            [
             0.9,
             "#4d9221"
            ],
            [
             1,
             "#276419"
            ]
           ],
           "sequential": [
            [
             0,
             "#0d0887"
            ],
            [
             0.1111111111111111,
             "#46039f"
            ],
            [
             0.2222222222222222,
             "#7201a8"
            ],
            [
             0.3333333333333333,
             "#9c179e"
            ],
            [
             0.4444444444444444,
             "#bd3786"
            ],
            [
             0.5555555555555556,
             "#d8576b"
            ],
            [
             0.6666666666666666,
             "#ed7953"
            ],
            [
             0.7777777777777778,
             "#fb9f3a"
            ],
            [
             0.8888888888888888,
             "#fdca26"
            ],
            [
             1,
             "#f0f921"
            ]
           ],
           "sequentialminus": [
            [
             0,
             "#0d0887"
            ],
            [
             0.1111111111111111,
             "#46039f"
            ],
            [
             0.2222222222222222,
             "#7201a8"
            ],
            [
             0.3333333333333333,
             "#9c179e"
            ],
            [
             0.4444444444444444,
             "#bd3786"
            ],
            [
             0.5555555555555556,
             "#d8576b"
            ],
            [
             0.6666666666666666,
             "#ed7953"
            ],
            [
             0.7777777777777778,
             "#fb9f3a"
            ],
            [
             0.8888888888888888,
             "#fdca26"
            ],
            [
             1,
             "#f0f921"
            ]
           ]
          },
          "colorway": [
           "#636efa",
           "#EF553B",
           "#00cc96",
           "#ab63fa",
           "#FFA15A",
           "#19d3f3",
           "#FF6692",
           "#B6E880",
           "#FF97FF",
           "#FECB52"
          ],
          "font": {
           "color": "#2a3f5f"
          },
          "geo": {
           "bgcolor": "white",
           "lakecolor": "white",
           "landcolor": "#E5ECF6",
           "showlakes": true,
           "showland": true,
           "subunitcolor": "white"
          },
          "hoverlabel": {
           "align": "left"
          },
          "hovermode": "closest",
          "mapbox": {
           "style": "light"
          },
          "paper_bgcolor": "white",
          "plot_bgcolor": "#E5ECF6",
          "polar": {
           "angularaxis": {
            "gridcolor": "white",
            "linecolor": "white",
            "ticks": ""
           },
           "bgcolor": "#E5ECF6",
           "radialaxis": {
            "gridcolor": "white",
            "linecolor": "white",
            "ticks": ""
           }
          },
          "scene": {
           "xaxis": {
            "backgroundcolor": "#E5ECF6",
            "gridcolor": "white",
            "gridwidth": 2,
            "linecolor": "white",
            "showbackground": true,
            "ticks": "",
            "zerolinecolor": "white"
           },
           "yaxis": {
            "backgroundcolor": "#E5ECF6",
            "gridcolor": "white",
            "gridwidth": 2,
            "linecolor": "white",
            "showbackground": true,
            "ticks": "",
            "zerolinecolor": "white"
           },
           "zaxis": {
            "backgroundcolor": "#E5ECF6",
            "gridcolor": "white",
            "gridwidth": 2,
            "linecolor": "white",
            "showbackground": true,
            "ticks": "",
            "zerolinecolor": "white"
           }
          },
          "shapedefaults": {
           "line": {
            "color": "#2a3f5f"
           }
          },
          "ternary": {
           "aaxis": {
            "gridcolor": "white",
            "linecolor": "white",
            "ticks": ""
           },
           "baxis": {
            "gridcolor": "white",
            "linecolor": "white",
            "ticks": ""
           },
           "bgcolor": "#E5ECF6",
           "caxis": {
            "gridcolor": "white",
            "linecolor": "white",
            "ticks": ""
           }
          },
          "title": {
           "x": 0.05
          },
          "xaxis": {
           "automargin": true,
           "gridcolor": "white",
           "linecolor": "white",
           "ticks": "",
           "title": {
            "standoff": 15
           },
           "zerolinecolor": "white",
           "zerolinewidth": 2
          },
          "yaxis": {
           "automargin": true,
           "gridcolor": "white",
           "linecolor": "white",
           "ticks": "",
           "title": {
            "standoff": 15
           },
           "zerolinecolor": "white",
           "zerolinewidth": 2
          }
         }
        },
        "title": {
         "text": "Exponentially-weighted moving average (halflife of 2 points)"
        },
        "xaxis": {
         "anchor": "y",
         "domain": [
          0,
          1
         ],
         "title": {
          "text": "date"
         }
        },
        "yaxis": {
         "anchor": "x",
         "domain": [
          0,
          1
         ],
         "title": {
          "text": "GOOG"
         }
        }
       }
      }
     },
     "metadata": {},
     "output_type": "display_data"
    }
   ],
   "source": [
    "import plotly.express as px\n",
    "\n",
    "df = px.data.stocks(datetimes=True)\n",
    "fig = px.scatter(df, x=\"date\", y=\"GOOG\", trendline=\"ewm\", trendline_options=dict(halflife=2),\n",
    "                title=\"Exponentially-weighted moving average (halflife of 2 points)\")\n",
    "fig.show()\n"
   ]
  },
  {
   "cell_type": "code",
   "execution_count": 11,
   "metadata": {},
   "outputs": [
    {
     "data": {
      "application/vnd.plotly.v1+json": {
       "config": {
        "plotlyServerURL": "https://plot.ly"
       },
       "data": [
        {
         "hovertemplate": "date=%{x}<br>GOOG=%{y}<extra></extra>",
         "legendgroup": "",
         "marker": {
          "color": "#636efa",
          "symbol": "circle"
         },
         "mode": "markers",
         "name": "",
         "orientation": "v",
         "showlegend": false,
         "type": "scatter",
         "x": [
          "2018-01-01T00:00:00.000000000",
          "2018-01-08T00:00:00.000000000",
          "2018-01-15T00:00:00.000000000",
          "2018-01-22T00:00:00.000000000",
          "2018-01-29T00:00:00.000000000",
          "2018-02-05T00:00:00.000000000",
          "2018-02-12T00:00:00.000000000",
          "2018-02-19T00:00:00.000000000",
          "2018-02-26T00:00:00.000000000",
          "2018-03-05T00:00:00.000000000",
          "2018-03-12T00:00:00.000000000",
          "2018-03-19T00:00:00.000000000",
          "2018-03-26T00:00:00.000000000",
          "2018-04-02T00:00:00.000000000",
          "2018-04-09T00:00:00.000000000",
          "2018-04-16T00:00:00.000000000",
          "2018-04-23T00:00:00.000000000",
          "2018-04-30T00:00:00.000000000",
          "2018-05-07T00:00:00.000000000",
          "2018-05-14T00:00:00.000000000",
          "2018-05-21T00:00:00.000000000",
          "2018-05-28T00:00:00.000000000",
          "2018-06-04T00:00:00.000000000",
          "2018-06-11T00:00:00.000000000",
          "2018-06-18T00:00:00.000000000",
          "2018-06-25T00:00:00.000000000",
          "2018-07-02T00:00:00.000000000",
          "2018-07-09T00:00:00.000000000",
          "2018-07-16T00:00:00.000000000",
          "2018-07-23T00:00:00.000000000",
          "2018-07-30T00:00:00.000000000",
          "2018-08-06T00:00:00.000000000",
          "2018-08-13T00:00:00.000000000",
          "2018-08-20T00:00:00.000000000",
          "2018-08-27T00:00:00.000000000",
          "2018-09-03T00:00:00.000000000",
          "2018-09-10T00:00:00.000000000",
          "2018-09-17T00:00:00.000000000",
          "2018-09-24T00:00:00.000000000",
          "2018-10-01T00:00:00.000000000",
          "2018-10-08T00:00:00.000000000",
          "2018-10-15T00:00:00.000000000",
          "2018-10-22T00:00:00.000000000",
          "2018-10-29T00:00:00.000000000",
          "2018-11-05T00:00:00.000000000",
          "2018-11-12T00:00:00.000000000",
          "2018-11-19T00:00:00.000000000",
          "2018-11-26T00:00:00.000000000",
          "2018-12-03T00:00:00.000000000",
          "2018-12-10T00:00:00.000000000",
          "2018-12-17T00:00:00.000000000",
          "2018-12-24T00:00:00.000000000",
          "2018-12-31T00:00:00.000000000",
          "2019-01-07T00:00:00.000000000",
          "2019-01-14T00:00:00.000000000",
          "2019-01-21T00:00:00.000000000",
          "2019-01-28T00:00:00.000000000",
          "2019-02-04T00:00:00.000000000",
          "2019-02-11T00:00:00.000000000",
          "2019-02-18T00:00:00.000000000",
          "2019-02-25T00:00:00.000000000",
          "2019-03-04T00:00:00.000000000",
          "2019-03-11T00:00:00.000000000",
          "2019-03-18T00:00:00.000000000",
          "2019-03-25T00:00:00.000000000",
          "2019-04-01T00:00:00.000000000",
          "2019-04-08T00:00:00.000000000",
          "2019-04-15T00:00:00.000000000",
          "2019-04-22T00:00:00.000000000",
          "2019-04-29T00:00:00.000000000",
          "2019-05-06T00:00:00.000000000",
          "2019-05-13T00:00:00.000000000",
          "2019-05-20T00:00:00.000000000",
          "2019-05-27T00:00:00.000000000",
          "2019-06-03T00:00:00.000000000",
          "2019-06-10T00:00:00.000000000",
          "2019-06-17T00:00:00.000000000",
          "2019-06-24T00:00:00.000000000",
          "2019-07-01T00:00:00.000000000",
          "2019-07-08T00:00:00.000000000",
          "2019-07-15T00:00:00.000000000",
          "2019-07-22T00:00:00.000000000",
          "2019-07-29T00:00:00.000000000",
          "2019-08-05T00:00:00.000000000",
          "2019-08-12T00:00:00.000000000",
          "2019-08-19T00:00:00.000000000",
          "2019-08-26T00:00:00.000000000",
          "2019-09-02T00:00:00.000000000",
          "2019-09-09T00:00:00.000000000",
          "2019-09-16T00:00:00.000000000",
          "2019-09-23T00:00:00.000000000",
          "2019-09-30T00:00:00.000000000",
          "2019-10-07T00:00:00.000000000",
          "2019-10-14T00:00:00.000000000",
          "2019-10-21T00:00:00.000000000",
          "2019-10-28T00:00:00.000000000",
          "2019-11-04T00:00:00.000000000",
          "2019-11-11T00:00:00.000000000",
          "2019-11-18T00:00:00.000000000",
          "2019-11-25T00:00:00.000000000",
          "2019-12-02T00:00:00.000000000",
          "2019-12-09T00:00:00.000000000",
          "2019-12-16T00:00:00.000000000",
          "2019-12-23T00:00:00.000000000",
          "2019-12-30T00:00:00.000000000"
         ],
         "xaxis": "x",
         "y": {
          "bdata": "AAAAAAAA8D/OK9MDb0rwP68QOq4ag/A/9oPp0ooR8T8TsS9U7yPwP99D4KT+IO4/3Hw6e8fI7z+q8F+IRFvwP9LSdHnBUu8/LIMaANTW8D8JvFtMfXzwPz7QZruEqO0/HpxM0nn07T+3TPA/hzztPxfM6R6/4e0/IXrkjXUm7z8heCA9i+ftP6NcPhmDbu4/QjPHjn7i7z+qgyQlaPXuP+V5ctWGOu8/ZFIUWy1A8D9vrqGpREXwP4WiXq/qufA/U4wX6uHF8D/pH6HJ3jHwP3Um9zr9jPA/0NEB+MZB8T9XHtVhPzPxPyuHvbZk+vE/NwuPnm7D8T/XXM4FFvfxP6hIRQnkbvE/az8Jog+48T9kWBFN667xP01QZMGg6PA/pI7CAT4F8T+UMFxuT+3wP6R7NKQOU/E/85Ml4tTM8D/YyoXbKx3wP2L4PrQd1e8/L6n6oWIb7z/SWD6VtrXuP9oE9qnY8+4/8kBpRjbR7j+goGHWr7ntP/MQKYMHxu8/XzbgVBMY7j8FnNv3GUHuP7udcIUkcOw/dtxkp8ob7j+2jo+avBXvP53HSc9Ase4/QjPHjn7i7z9LiPtKdqzvPxmlC0mpH/A/OvEgMLbK7z+605ckcCrwP3zeMMc/HvA/rDRmQwmQ8D+apul6+pTwPymUuDeTMfE/Lh6kE8N/8T8zPRwRJAjxPzJ9CsjkhfE/OJ3k7bqt8T/lnXpkevLxPxPbLk2Nd/I/umBFhRE18T9FfGgTjObwP4oJl/853/A/NI4dTRd08D8JjgPgMwXwP1INy2YH8+4/3LqtWYuC7z8wZfiBBUnwP9tJ47eLYe8/dM57zxpt8D8PGkn3kJ7wP/vlhlmRZ/A/R53F/qYm8j95l9xY/VTxP0LUZHXEPvE/R7cjKRUY8T/i1RHuT7bwPzyHlAsaP/E/fDnW36R98T+zOPArVf7xP79xyu6L2vE/7Hfuco/I8T9/Y3S0xIzxP06g9q+8pPE/IwGMcl4U8j+pVbJuWl3yPzJVr01ZffI/r0ZXkS8J8z/PhYSkg2DzP8kL1dedzfI/E8Ioj13x8j/WQP++4XXzP+AKN76skPM/MT5xFDeX8z+urvcqw5/zP2qQawKBaPM/",
          "dtype": "f8"
         },
         "yaxis": "y"
        },
        {
         "hovertemplate": "<b>Rolling median trendline</b><br><br>date=%{x}<br>GOOG=%{y} <b>(trend)</b><extra></extra>",
         "legendgroup": "",
         "marker": {
          "color": "#636efa",
          "symbol": "circle"
         },
         "mode": "lines",
         "name": "",
         "showlegend": false,
         "type": "scatter",
         "x": [
          "2018-01-01T00:00:00.000000000",
          "2018-01-08T00:00:00.000000000",
          "2018-01-15T00:00:00.000000000",
          "2018-01-22T00:00:00.000000000",
          "2018-01-29T00:00:00.000000000",
          "2018-02-05T00:00:00.000000000",
          "2018-02-12T00:00:00.000000000",
          "2018-02-19T00:00:00.000000000",
          "2018-02-26T00:00:00.000000000",
          "2018-03-05T00:00:00.000000000",
          "2018-03-12T00:00:00.000000000",
          "2018-03-19T00:00:00.000000000",
          "2018-03-26T00:00:00.000000000",
          "2018-04-02T00:00:00.000000000",
          "2018-04-09T00:00:00.000000000",
          "2018-04-16T00:00:00.000000000",
          "2018-04-23T00:00:00.000000000",
          "2018-04-30T00:00:00.000000000",
          "2018-05-07T00:00:00.000000000",
          "2018-05-14T00:00:00.000000000",
          "2018-05-21T00:00:00.000000000",
          "2018-05-28T00:00:00.000000000",
          "2018-06-04T00:00:00.000000000",
          "2018-06-11T00:00:00.000000000",
          "2018-06-18T00:00:00.000000000",
          "2018-06-25T00:00:00.000000000",
          "2018-07-02T00:00:00.000000000",
          "2018-07-09T00:00:00.000000000",
          "2018-07-16T00:00:00.000000000",
          "2018-07-23T00:00:00.000000000",
          "2018-07-30T00:00:00.000000000",
          "2018-08-06T00:00:00.000000000",
          "2018-08-13T00:00:00.000000000",
          "2018-08-20T00:00:00.000000000",
          "2018-08-27T00:00:00.000000000",
          "2018-09-03T00:00:00.000000000",
          "2018-09-10T00:00:00.000000000",
          "2018-09-17T00:00:00.000000000",
          "2018-09-24T00:00:00.000000000",
          "2018-10-01T00:00:00.000000000",
          "2018-10-08T00:00:00.000000000",
          "2018-10-15T00:00:00.000000000",
          "2018-10-22T00:00:00.000000000",
          "2018-10-29T00:00:00.000000000",
          "2018-11-05T00:00:00.000000000",
          "2018-11-12T00:00:00.000000000",
          "2018-11-19T00:00:00.000000000",
          "2018-11-26T00:00:00.000000000",
          "2018-12-03T00:00:00.000000000",
          "2018-12-10T00:00:00.000000000",
          "2018-12-17T00:00:00.000000000",
          "2018-12-24T00:00:00.000000000",
          "2018-12-31T00:00:00.000000000",
          "2019-01-07T00:00:00.000000000",
          "2019-01-14T00:00:00.000000000",
          "2019-01-21T00:00:00.000000000",
          "2019-01-28T00:00:00.000000000",
          "2019-02-04T00:00:00.000000000",
          "2019-02-11T00:00:00.000000000",
          "2019-02-18T00:00:00.000000000",
          "2019-02-25T00:00:00.000000000",
          "2019-03-04T00:00:00.000000000",
          "2019-03-11T00:00:00.000000000",
          "2019-03-18T00:00:00.000000000",
          "2019-03-25T00:00:00.000000000",
          "2019-04-01T00:00:00.000000000",
          "2019-04-08T00:00:00.000000000",
          "2019-04-15T00:00:00.000000000",
          "2019-04-22T00:00:00.000000000",
          "2019-04-29T00:00:00.000000000",
          "2019-05-06T00:00:00.000000000",
          "2019-05-13T00:00:00.000000000",
          "2019-05-20T00:00:00.000000000",
          "2019-05-27T00:00:00.000000000",
          "2019-06-03T00:00:00.000000000",
          "2019-06-10T00:00:00.000000000",
          "2019-06-17T00:00:00.000000000",
          "2019-06-24T00:00:00.000000000",
          "2019-07-01T00:00:00.000000000",
          "2019-07-08T00:00:00.000000000",
          "2019-07-15T00:00:00.000000000",
          "2019-07-22T00:00:00.000000000",
          "2019-07-29T00:00:00.000000000",
          "2019-08-05T00:00:00.000000000",
          "2019-08-12T00:00:00.000000000",
          "2019-08-19T00:00:00.000000000",
          "2019-08-26T00:00:00.000000000",
          "2019-09-02T00:00:00.000000000",
          "2019-09-09T00:00:00.000000000",
          "2019-09-16T00:00:00.000000000",
          "2019-09-23T00:00:00.000000000",
          "2019-09-30T00:00:00.000000000",
          "2019-10-07T00:00:00.000000000",
          "2019-10-14T00:00:00.000000000",
          "2019-10-21T00:00:00.000000000",
          "2019-10-28T00:00:00.000000000",
          "2019-11-04T00:00:00.000000000",
          "2019-11-11T00:00:00.000000000",
          "2019-11-18T00:00:00.000000000",
          "2019-11-25T00:00:00.000000000",
          "2019-12-02T00:00:00.000000000",
          "2019-12-09T00:00:00.000000000",
          "2019-12-16T00:00:00.000000000",
          "2019-12-23T00:00:00.000000000",
          "2019-12-30T00:00:00.000000000"
         ],
         "xaxis": "x",
         "y": {
          "bdata": "AAAAAAAA+H8AAAAAAAD4fwAAAAAAAPh/AAAAAAAA+H/OK9MDb0rwP84r0wNvSvA/E7EvVO8j8D8TsS9U7yPwP9x8OnvHyO8/3Hw6e8fI7z+q8F+IRFvwP6rwX4hEW/A/0tJ0ecFS7z8enEzSefTtPxfM6R6/4e0/F8zpHr/h7T8heCA9i+ftPyF4ID2L5+0/o1w+GYNu7j+qgyQlaPXuP6qDJCVo9e4/5Xly1YY67z9CM8eOfuLvP2RSFFstQPA/b66hqURF8D9vrqGpREXwP3Um9zr9jPA/haJer+q58D9TjBfq4cXwP1ce1WE/M/E/0NEB+MZB8T83C4+ebsPxPzcLj55uw/E/NwuPnm7D8T9rPwmiD7jxP2RYEU3rrvE/qEhFCeRu8T+kjsIBPgXxP6SOwgE+BfE/lDBcbk/t8D+UMFxuT+3wP/OTJeLUzPA/2MqF2ysd8D9i+D60HdXvPy+p+qFiG+8/2gT2qdjz7j/yQGlGNtHuP/JAaUY20e4/8kBpRjbR7j8FnNv3GUHuP1824FQTGO4/dtxkp8ob7j923GSnyhvuPwWc2/cZQe4/ncdJz0Cx7j+2jo+avBXvP0uI+0p2rO8/OvEgMLbK7z9CM8eOfuLvP3zeMMc/HvA/GaULSakf8D+605ckcCrwP6w0ZkMJkPA/mqbpevqU8D8zPRwRJAjxPymUuDeTMfE/Lh6kE8N/8T8yfQrI5IXxPzid5O26rfE/OJ3k7bqt8T84neTtuq3xP7pgRYURNfE/RXxoE4zm8D+KCZf/Od/wPzSOHU0XdPA/CY4D4DMF8D8JjgPgMwXwP9y6rVmLgu8/3LqtWYuC7z8wZfiBBUnwP/vlhlmRZ/A/dM57zxpt8D8PGkn3kJ7wP0LUZHXEPvE/QtRkdcQ+8T9C1GR1xD7xP0LUZHXEPvE/QtRkdcQ+8T88h5QLGj/xP3w51t+kffE/7Hfuco/I8T/sd+5yj8jxP+x37nKPyPE/7Hfuco/I8T/sd+5yj8jxPyMBjHJeFPI/qVWyblpd8j8yVa9NWX3yP8kL1dedzfI/E8Ioj13x8j+vRleRLwnzP8+FhKSDYPM/1kD/vuF18z/gCje+rJDzP+AKN76skPM/",
          "dtype": "f8"
         },
         "yaxis": "y"
        }
       ],
       "layout": {
        "legend": {
         "tracegroupgap": 0
        },
        "template": {
         "data": {
          "bar": [
           {
            "error_x": {
             "color": "#2a3f5f"
            },
            "error_y": {
             "color": "#2a3f5f"
            },
            "marker": {
             "line": {
              "color": "#E5ECF6",
              "width": 0.5
             },
             "pattern": {
              "fillmode": "overlay",
              "size": 10,
              "solidity": 0.2
             }
            },
            "type": "bar"
           }
          ],
          "barpolar": [
           {
            "marker": {
             "line": {
              "color": "#E5ECF6",
              "width": 0.5
             },
             "pattern": {
              "fillmode": "overlay",
              "size": 10,
              "solidity": 0.2
             }
            },
            "type": "barpolar"
           }
          ],
          "carpet": [
           {
            "aaxis": {
             "endlinecolor": "#2a3f5f",
             "gridcolor": "white",
             "linecolor": "white",
             "minorgridcolor": "white",
             "startlinecolor": "#2a3f5f"
            },
            "baxis": {
             "endlinecolor": "#2a3f5f",
             "gridcolor": "white",
             "linecolor": "white",
             "minorgridcolor": "white",
             "startlinecolor": "#2a3f5f"
            },
            "type": "carpet"
           }
          ],
          "choropleth": [
           {
            "colorbar": {
             "outlinewidth": 0,
             "ticks": ""
            },
            "type": "choropleth"
           }
          ],
          "contour": [
           {
            "colorbar": {
             "outlinewidth": 0,
             "ticks": ""
            },
            "colorscale": [
             [
              0,
              "#0d0887"
             ],
             [
              0.1111111111111111,
              "#46039f"
             ],
             [
              0.2222222222222222,
              "#7201a8"
             ],
             [
              0.3333333333333333,
              "#9c179e"
             ],
             [
              0.4444444444444444,
              "#bd3786"
             ],
             [
              0.5555555555555556,
              "#d8576b"
             ],
             [
              0.6666666666666666,
              "#ed7953"
             ],
             [
              0.7777777777777778,
              "#fb9f3a"
             ],
             [
              0.8888888888888888,
              "#fdca26"
             ],
             [
              1,
              "#f0f921"
             ]
            ],
            "type": "contour"
           }
          ],
          "contourcarpet": [
           {
            "colorbar": {
             "outlinewidth": 0,
             "ticks": ""
            },
            "type": "contourcarpet"
           }
          ],
          "heatmap": [
           {
            "colorbar": {
             "outlinewidth": 0,
             "ticks": ""
            },
            "colorscale": [
             [
              0,
              "#0d0887"
             ],
             [
              0.1111111111111111,
              "#46039f"
             ],
             [
              0.2222222222222222,
              "#7201a8"
             ],
             [
              0.3333333333333333,
              "#9c179e"
             ],
             [
              0.4444444444444444,
              "#bd3786"
             ],
             [
              0.5555555555555556,
              "#d8576b"
             ],
             [
              0.6666666666666666,
              "#ed7953"
             ],
             [
              0.7777777777777778,
              "#fb9f3a"
             ],
             [
              0.8888888888888888,
              "#fdca26"
             ],
             [
              1,
              "#f0f921"
             ]
            ],
            "type": "heatmap"
           }
          ],
          "histogram": [
           {
            "marker": {
             "pattern": {
              "fillmode": "overlay",
              "size": 10,
              "solidity": 0.2
             }
            },
            "type": "histogram"
           }
          ],
          "histogram2d": [
           {
            "colorbar": {
             "outlinewidth": 0,
             "ticks": ""
            },
            "colorscale": [
             [
              0,
              "#0d0887"
             ],
             [
              0.1111111111111111,
              "#46039f"
             ],
             [
              0.2222222222222222,
              "#7201a8"
             ],
             [
              0.3333333333333333,
              "#9c179e"
             ],
             [
              0.4444444444444444,
              "#bd3786"
             ],
             [
              0.5555555555555556,
              "#d8576b"
             ],
             [
              0.6666666666666666,
              "#ed7953"
             ],
             [
              0.7777777777777778,
              "#fb9f3a"
             ],
             [
              0.8888888888888888,
              "#fdca26"
             ],
             [
              1,
              "#f0f921"
             ]
            ],
            "type": "histogram2d"
           }
          ],
          "histogram2dcontour": [
           {
            "colorbar": {
             "outlinewidth": 0,
             "ticks": ""
            },
            "colorscale": [
             [
              0,
              "#0d0887"
             ],
             [
              0.1111111111111111,
              "#46039f"
             ],
             [
              0.2222222222222222,
              "#7201a8"
             ],
             [
              0.3333333333333333,
              "#9c179e"
             ],
             [
              0.4444444444444444,
              "#bd3786"
             ],
             [
              0.5555555555555556,
              "#d8576b"
             ],
             [
              0.6666666666666666,
              "#ed7953"
             ],
             [
              0.7777777777777778,
              "#fb9f3a"
             ],
             [
              0.8888888888888888,
              "#fdca26"
             ],
             [
              1,
              "#f0f921"
             ]
            ],
            "type": "histogram2dcontour"
           }
          ],
          "mesh3d": [
           {
            "colorbar": {
             "outlinewidth": 0,
             "ticks": ""
            },
            "type": "mesh3d"
           }
          ],
          "parcoords": [
           {
            "line": {
             "colorbar": {
              "outlinewidth": 0,
              "ticks": ""
             }
            },
            "type": "parcoords"
           }
          ],
          "pie": [
           {
            "automargin": true,
            "type": "pie"
           }
          ],
          "scatter": [
           {
            "fillpattern": {
             "fillmode": "overlay",
             "size": 10,
             "solidity": 0.2
            },
            "type": "scatter"
           }
          ],
          "scatter3d": [
           {
            "line": {
             "colorbar": {
              "outlinewidth": 0,
              "ticks": ""
             }
            },
            "marker": {
             "colorbar": {
              "outlinewidth": 0,
              "ticks": ""
             }
            },
            "type": "scatter3d"
           }
          ],
          "scattercarpet": [
           {
            "marker": {
             "colorbar": {
              "outlinewidth": 0,
              "ticks": ""
             }
            },
            "type": "scattercarpet"
           }
          ],
          "scattergeo": [
           {
            "marker": {
             "colorbar": {
              "outlinewidth": 0,
              "ticks": ""
             }
            },
            "type": "scattergeo"
           }
          ],
          "scattergl": [
           {
            "marker": {
             "colorbar": {
              "outlinewidth": 0,
              "ticks": ""
             }
            },
            "type": "scattergl"
           }
          ],
          "scattermap": [
           {
            "marker": {
             "colorbar": {
              "outlinewidth": 0,
              "ticks": ""
             }
            },
            "type": "scattermap"
           }
          ],
          "scattermapbox": [
           {
            "marker": {
             "colorbar": {
              "outlinewidth": 0,
              "ticks": ""
             }
            },
            "type": "scattermapbox"
           }
          ],
          "scatterpolar": [
           {
            "marker": {
             "colorbar": {
              "outlinewidth": 0,
              "ticks": ""
             }
            },
            "type": "scatterpolar"
           }
          ],
          "scatterpolargl": [
           {
            "marker": {
             "colorbar": {
              "outlinewidth": 0,
              "ticks": ""
             }
            },
            "type": "scatterpolargl"
           }
          ],
          "scatterternary": [
           {
            "marker": {
             "colorbar": {
              "outlinewidth": 0,
              "ticks": ""
             }
            },
            "type": "scatterternary"
           }
          ],
          "surface": [
           {
            "colorbar": {
             "outlinewidth": 0,
             "ticks": ""
            },
            "colorscale": [
             [
              0,
              "#0d0887"
             ],
             [
              0.1111111111111111,
              "#46039f"
             ],
             [
              0.2222222222222222,
              "#7201a8"
             ],
             [
              0.3333333333333333,
              "#9c179e"
             ],
             [
              0.4444444444444444,
              "#bd3786"
             ],
             [
              0.5555555555555556,
              "#d8576b"
             ],
             [
              0.6666666666666666,
              "#ed7953"
             ],
             [
              0.7777777777777778,
              "#fb9f3a"
             ],
             [
              0.8888888888888888,
              "#fdca26"
             ],
             [
              1,
              "#f0f921"
             ]
            ],
            "type": "surface"
           }
          ],
          "table": [
           {
            "cells": {
             "fill": {
              "color": "#EBF0F8"
             },
             "line": {
              "color": "white"
             }
            },
            "header": {
             "fill": {
              "color": "#C8D4E3"
             },
             "line": {
              "color": "white"
             }
            },
            "type": "table"
           }
          ]
         },
         "layout": {
          "annotationdefaults": {
           "arrowcolor": "#2a3f5f",
           "arrowhead": 0,
           "arrowwidth": 1
          },
          "autotypenumbers": "strict",
          "coloraxis": {
           "colorbar": {
            "outlinewidth": 0,
            "ticks": ""
           }
          },
          "colorscale": {
           "diverging": [
            [
             0,
             "#8e0152"
            ],
            [
             0.1,
             "#c51b7d"
            ],
            [
             0.2,
             "#de77ae"
            ],
            [
             0.3,
             "#f1b6da"
            ],
            [
             0.4,
             "#fde0ef"
            ],
            [
             0.5,
             "#f7f7f7"
            ],
            [
             0.6,
             "#e6f5d0"
            ],
            [
             0.7,
             "#b8e186"
            ],
            [
             0.8,
             "#7fbc41"
            ],
            [
             0.9,
             "#4d9221"
            ],
            [
             1,
             "#276419"
            ]
           ],
           "sequential": [
            [
             0,
             "#0d0887"
            ],
            [
             0.1111111111111111,
             "#46039f"
            ],
            [
             0.2222222222222222,
             "#7201a8"
            ],
            [
             0.3333333333333333,
             "#9c179e"
            ],
            [
             0.4444444444444444,
             "#bd3786"
            ],
            [
             0.5555555555555556,
             "#d8576b"
            ],
            [
             0.6666666666666666,
             "#ed7953"
            ],
            [
             0.7777777777777778,
             "#fb9f3a"
            ],
            [
             0.8888888888888888,
             "#fdca26"
            ],
            [
             1,
             "#f0f921"
            ]
           ],
           "sequentialminus": [
            [
             0,
             "#0d0887"
            ],
            [
             0.1111111111111111,
             "#46039f"
            ],
            [
             0.2222222222222222,
             "#7201a8"
            ],
            [
             0.3333333333333333,
             "#9c179e"
            ],
            [
             0.4444444444444444,
             "#bd3786"
            ],
            [
             0.5555555555555556,
             "#d8576b"
            ],
            [
             0.6666666666666666,
             "#ed7953"
            ],
            [
             0.7777777777777778,
             "#fb9f3a"
            ],
            [
             0.8888888888888888,
             "#fdca26"
            ],
            [
             1,
             "#f0f921"
            ]
           ]
          },
          "colorway": [
           "#636efa",
           "#EF553B",
           "#00cc96",
           "#ab63fa",
           "#FFA15A",
           "#19d3f3",
           "#FF6692",
           "#B6E880",
           "#FF97FF",
           "#FECB52"
          ],
          "font": {
           "color": "#2a3f5f"
          },
          "geo": {
           "bgcolor": "white",
           "lakecolor": "white",
           "landcolor": "#E5ECF6",
           "showlakes": true,
           "showland": true,
           "subunitcolor": "white"
          },
          "hoverlabel": {
           "align": "left"
          },
          "hovermode": "closest",
          "mapbox": {
           "style": "light"
          },
          "paper_bgcolor": "white",
          "plot_bgcolor": "#E5ECF6",
          "polar": {
           "angularaxis": {
            "gridcolor": "white",
            "linecolor": "white",
            "ticks": ""
           },
           "bgcolor": "#E5ECF6",
           "radialaxis": {
            "gridcolor": "white",
            "linecolor": "white",
            "ticks": ""
           }
          },
          "scene": {
           "xaxis": {
            "backgroundcolor": "#E5ECF6",
            "gridcolor": "white",
            "gridwidth": 2,
            "linecolor": "white",
            "showbackground": true,
            "ticks": "",
            "zerolinecolor": "white"
           },
           "yaxis": {
            "backgroundcolor": "#E5ECF6",
            "gridcolor": "white",
            "gridwidth": 2,
            "linecolor": "white",
            "showbackground": true,
            "ticks": "",
            "zerolinecolor": "white"
           },
           "zaxis": {
            "backgroundcolor": "#E5ECF6",
            "gridcolor": "white",
            "gridwidth": 2,
            "linecolor": "white",
            "showbackground": true,
            "ticks": "",
            "zerolinecolor": "white"
           }
          },
          "shapedefaults": {
           "line": {
            "color": "#2a3f5f"
           }
          },
          "ternary": {
           "aaxis": {
            "gridcolor": "white",
            "linecolor": "white",
            "ticks": ""
           },
           "baxis": {
            "gridcolor": "white",
            "linecolor": "white",
            "ticks": ""
           },
           "bgcolor": "#E5ECF6",
           "caxis": {
            "gridcolor": "white",
            "linecolor": "white",
            "ticks": ""
           }
          },
          "title": {
           "x": 0.05
          },
          "xaxis": {
           "automargin": true,
           "gridcolor": "white",
           "linecolor": "white",
           "ticks": "",
           "title": {
            "standoff": 15
           },
           "zerolinecolor": "white",
           "zerolinewidth": 2
          },
          "yaxis": {
           "automargin": true,
           "gridcolor": "white",
           "linecolor": "white",
           "ticks": "",
           "title": {
            "standoff": 15
           },
           "zerolinecolor": "white",
           "zerolinewidth": 2
          }
         }
        },
        "title": {
         "text": "Rolling Median"
        },
        "xaxis": {
         "anchor": "y",
         "domain": [
          0,
          1
         ],
         "title": {
          "text": "date"
         }
        },
        "yaxis": {
         "anchor": "x",
         "domain": [
          0,
          1
         ],
         "title": {
          "text": "GOOG"
         }
        }
       }
      }
     },
     "metadata": {},
     "output_type": "display_data"
    }
   ],
   "source": [
    "import plotly.express as px\n",
    "\n",
    "df = px.data.stocks(datetimes=True)\n",
    "fig = px.scatter(df, x=\"date\", y=\"GOOG\", trendline=\"rolling\", trendline_options=dict(function=\"median\", window=5),\n",
    "                title=\"Rolling Median\")\n",
    "fig.show()\n"
   ]
  },
  {
   "cell_type": "code",
   "execution_count": 12,
   "metadata": {},
   "outputs": [
    {
     "data": {
      "application/vnd.plotly.v1+json": {
       "config": {
        "plotlyServerURL": "https://plot.ly"
       },
       "data": [
        {
         "hovertemplate": "date=%{x}<br>GOOG=%{y}<extra></extra>",
         "legendgroup": "",
         "marker": {
          "color": "#636efa",
          "symbol": "circle"
         },
         "mode": "markers",
         "name": "",
         "orientation": "v",
         "showlegend": false,
         "type": "scatter",
         "x": [
          "2018-01-01T00:00:00.000000000",
          "2018-01-08T00:00:00.000000000",
          "2018-01-15T00:00:00.000000000",
          "2018-01-22T00:00:00.000000000",
          "2018-01-29T00:00:00.000000000",
          "2018-02-05T00:00:00.000000000",
          "2018-02-12T00:00:00.000000000",
          "2018-02-19T00:00:00.000000000",
          "2018-02-26T00:00:00.000000000",
          "2018-03-05T00:00:00.000000000",
          "2018-03-12T00:00:00.000000000",
          "2018-03-19T00:00:00.000000000",
          "2018-03-26T00:00:00.000000000",
          "2018-04-02T00:00:00.000000000",
          "2018-04-09T00:00:00.000000000",
          "2018-04-16T00:00:00.000000000",
          "2018-04-23T00:00:00.000000000",
          "2018-04-30T00:00:00.000000000",
          "2018-05-07T00:00:00.000000000",
          "2018-05-14T00:00:00.000000000",
          "2018-05-21T00:00:00.000000000",
          "2018-05-28T00:00:00.000000000",
          "2018-06-04T00:00:00.000000000",
          "2018-06-11T00:00:00.000000000",
          "2018-06-18T00:00:00.000000000",
          "2018-06-25T00:00:00.000000000",
          "2018-07-02T00:00:00.000000000",
          "2018-07-09T00:00:00.000000000",
          "2018-07-16T00:00:00.000000000",
          "2018-07-23T00:00:00.000000000",
          "2018-07-30T00:00:00.000000000",
          "2018-08-06T00:00:00.000000000",
          "2018-08-13T00:00:00.000000000",
          "2018-08-20T00:00:00.000000000",
          "2018-08-27T00:00:00.000000000",
          "2018-09-03T00:00:00.000000000",
          "2018-09-10T00:00:00.000000000",
          "2018-09-17T00:00:00.000000000",
          "2018-09-24T00:00:00.000000000",
          "2018-10-01T00:00:00.000000000",
          "2018-10-08T00:00:00.000000000",
          "2018-10-15T00:00:00.000000000",
          "2018-10-22T00:00:00.000000000",
          "2018-10-29T00:00:00.000000000",
          "2018-11-05T00:00:00.000000000",
          "2018-11-12T00:00:00.000000000",
          "2018-11-19T00:00:00.000000000",
          "2018-11-26T00:00:00.000000000",
          "2018-12-03T00:00:00.000000000",
          "2018-12-10T00:00:00.000000000",
          "2018-12-17T00:00:00.000000000",
          "2018-12-24T00:00:00.000000000",
          "2018-12-31T00:00:00.000000000",
          "2019-01-07T00:00:00.000000000",
          "2019-01-14T00:00:00.000000000",
          "2019-01-21T00:00:00.000000000",
          "2019-01-28T00:00:00.000000000",
          "2019-02-04T00:00:00.000000000",
          "2019-02-11T00:00:00.000000000",
          "2019-02-18T00:00:00.000000000",
          "2019-02-25T00:00:00.000000000",
          "2019-03-04T00:00:00.000000000",
          "2019-03-11T00:00:00.000000000",
          "2019-03-18T00:00:00.000000000",
          "2019-03-25T00:00:00.000000000",
          "2019-04-01T00:00:00.000000000",
          "2019-04-08T00:00:00.000000000",
          "2019-04-15T00:00:00.000000000",
          "2019-04-22T00:00:00.000000000",
          "2019-04-29T00:00:00.000000000",
          "2019-05-06T00:00:00.000000000",
          "2019-05-13T00:00:00.000000000",
          "2019-05-20T00:00:00.000000000",
          "2019-05-27T00:00:00.000000000",
          "2019-06-03T00:00:00.000000000",
          "2019-06-10T00:00:00.000000000",
          "2019-06-17T00:00:00.000000000",
          "2019-06-24T00:00:00.000000000",
          "2019-07-01T00:00:00.000000000",
          "2019-07-08T00:00:00.000000000",
          "2019-07-15T00:00:00.000000000",
          "2019-07-22T00:00:00.000000000",
          "2019-07-29T00:00:00.000000000",
          "2019-08-05T00:00:00.000000000",
          "2019-08-12T00:00:00.000000000",
          "2019-08-19T00:00:00.000000000",
          "2019-08-26T00:00:00.000000000",
          "2019-09-02T00:00:00.000000000",
          "2019-09-09T00:00:00.000000000",
          "2019-09-16T00:00:00.000000000",
          "2019-09-23T00:00:00.000000000",
          "2019-09-30T00:00:00.000000000",
          "2019-10-07T00:00:00.000000000",
          "2019-10-14T00:00:00.000000000",
          "2019-10-21T00:00:00.000000000",
          "2019-10-28T00:00:00.000000000",
          "2019-11-04T00:00:00.000000000",
          "2019-11-11T00:00:00.000000000",
          "2019-11-18T00:00:00.000000000",
          "2019-11-25T00:00:00.000000000",
          "2019-12-02T00:00:00.000000000",
          "2019-12-09T00:00:00.000000000",
          "2019-12-16T00:00:00.000000000",
          "2019-12-23T00:00:00.000000000",
          "2019-12-30T00:00:00.000000000"
         ],
         "xaxis": "x",
         "y": {
          "bdata": "AAAAAAAA8D/OK9MDb0rwP68QOq4ag/A/9oPp0ooR8T8TsS9U7yPwP99D4KT+IO4/3Hw6e8fI7z+q8F+IRFvwP9LSdHnBUu8/LIMaANTW8D8JvFtMfXzwPz7QZruEqO0/HpxM0nn07T+3TPA/hzztPxfM6R6/4e0/IXrkjXUm7z8heCA9i+ftP6NcPhmDbu4/QjPHjn7i7z+qgyQlaPXuP+V5ctWGOu8/ZFIUWy1A8D9vrqGpREXwP4WiXq/qufA/U4wX6uHF8D/pH6HJ3jHwP3Um9zr9jPA/0NEB+MZB8T9XHtVhPzPxPyuHvbZk+vE/NwuPnm7D8T/XXM4FFvfxP6hIRQnkbvE/az8Jog+48T9kWBFN667xP01QZMGg6PA/pI7CAT4F8T+UMFxuT+3wP6R7NKQOU/E/85Ml4tTM8D/YyoXbKx3wP2L4PrQd1e8/L6n6oWIb7z/SWD6VtrXuP9oE9qnY8+4/8kBpRjbR7j+goGHWr7ntP/MQKYMHxu8/XzbgVBMY7j8FnNv3GUHuP7udcIUkcOw/dtxkp8ob7j+2jo+avBXvP53HSc9Ase4/QjPHjn7i7z9LiPtKdqzvPxmlC0mpH/A/OvEgMLbK7z+605ckcCrwP3zeMMc/HvA/rDRmQwmQ8D+apul6+pTwPymUuDeTMfE/Lh6kE8N/8T8zPRwRJAjxPzJ9CsjkhfE/OJ3k7bqt8T/lnXpkevLxPxPbLk2Nd/I/umBFhRE18T9FfGgTjObwP4oJl/853/A/NI4dTRd08D8JjgPgMwXwP1INy2YH8+4/3LqtWYuC7z8wZfiBBUnwP9tJ47eLYe8/dM57zxpt8D8PGkn3kJ7wP/vlhlmRZ/A/R53F/qYm8j95l9xY/VTxP0LUZHXEPvE/R7cjKRUY8T/i1RHuT7bwPzyHlAsaP/E/fDnW36R98T+zOPArVf7xP79xyu6L2vE/7Hfuco/I8T9/Y3S0xIzxP06g9q+8pPE/IwGMcl4U8j+pVbJuWl3yPzJVr01ZffI/r0ZXkS8J8z/PhYSkg2DzP8kL1dedzfI/E8Ioj13x8j/WQP++4XXzP+AKN76skPM/MT5xFDeX8z+urvcqw5/zP2qQawKBaPM/",
          "dtype": "f8"
         },
         "yaxis": "y"
        },
        {
         "hovertemplate": "<b>Expanding max trendline</b><br><br>date=%{x}<br>GOOG=%{y} <b>(trend)</b><extra></extra>",
         "legendgroup": "",
         "marker": {
          "color": "#636efa",
          "symbol": "circle"
         },
         "mode": "lines",
         "name": "",
         "showlegend": false,
         "type": "scatter",
         "x": [
          "2018-01-01T00:00:00.000000000",
          "2018-01-08T00:00:00.000000000",
          "2018-01-15T00:00:00.000000000",
          "2018-01-22T00:00:00.000000000",
          "2018-01-29T00:00:00.000000000",
          "2018-02-05T00:00:00.000000000",
          "2018-02-12T00:00:00.000000000",
          "2018-02-19T00:00:00.000000000",
          "2018-02-26T00:00:00.000000000",
          "2018-03-05T00:00:00.000000000",
          "2018-03-12T00:00:00.000000000",
          "2018-03-19T00:00:00.000000000",
          "2018-03-26T00:00:00.000000000",
          "2018-04-02T00:00:00.000000000",
          "2018-04-09T00:00:00.000000000",
          "2018-04-16T00:00:00.000000000",
          "2018-04-23T00:00:00.000000000",
          "2018-04-30T00:00:00.000000000",
          "2018-05-07T00:00:00.000000000",
          "2018-05-14T00:00:00.000000000",
          "2018-05-21T00:00:00.000000000",
          "2018-05-28T00:00:00.000000000",
          "2018-06-04T00:00:00.000000000",
          "2018-06-11T00:00:00.000000000",
          "2018-06-18T00:00:00.000000000",
          "2018-06-25T00:00:00.000000000",
          "2018-07-02T00:00:00.000000000",
          "2018-07-09T00:00:00.000000000",
          "2018-07-16T00:00:00.000000000",
          "2018-07-23T00:00:00.000000000",
          "2018-07-30T00:00:00.000000000",
          "2018-08-06T00:00:00.000000000",
          "2018-08-13T00:00:00.000000000",
          "2018-08-20T00:00:00.000000000",
          "2018-08-27T00:00:00.000000000",
          "2018-09-03T00:00:00.000000000",
          "2018-09-10T00:00:00.000000000",
          "2018-09-17T00:00:00.000000000",
          "2018-09-24T00:00:00.000000000",
          "2018-10-01T00:00:00.000000000",
          "2018-10-08T00:00:00.000000000",
          "2018-10-15T00:00:00.000000000",
          "2018-10-22T00:00:00.000000000",
          "2018-10-29T00:00:00.000000000",
          "2018-11-05T00:00:00.000000000",
          "2018-11-12T00:00:00.000000000",
          "2018-11-19T00:00:00.000000000",
          "2018-11-26T00:00:00.000000000",
          "2018-12-03T00:00:00.000000000",
          "2018-12-10T00:00:00.000000000",
          "2018-12-17T00:00:00.000000000",
          "2018-12-24T00:00:00.000000000",
          "2018-12-31T00:00:00.000000000",
          "2019-01-07T00:00:00.000000000",
          "2019-01-14T00:00:00.000000000",
          "2019-01-21T00:00:00.000000000",
          "2019-01-28T00:00:00.000000000",
          "2019-02-04T00:00:00.000000000",
          "2019-02-11T00:00:00.000000000",
          "2019-02-18T00:00:00.000000000",
          "2019-02-25T00:00:00.000000000",
          "2019-03-04T00:00:00.000000000",
          "2019-03-11T00:00:00.000000000",
          "2019-03-18T00:00:00.000000000",
          "2019-03-25T00:00:00.000000000",
          "2019-04-01T00:00:00.000000000",
          "2019-04-08T00:00:00.000000000",
          "2019-04-15T00:00:00.000000000",
          "2019-04-22T00:00:00.000000000",
          "2019-04-29T00:00:00.000000000",
          "2019-05-06T00:00:00.000000000",
          "2019-05-13T00:00:00.000000000",
          "2019-05-20T00:00:00.000000000",
          "2019-05-27T00:00:00.000000000",
          "2019-06-03T00:00:00.000000000",
          "2019-06-10T00:00:00.000000000",
          "2019-06-17T00:00:00.000000000",
          "2019-06-24T00:00:00.000000000",
          "2019-07-01T00:00:00.000000000",
          "2019-07-08T00:00:00.000000000",
          "2019-07-15T00:00:00.000000000",
          "2019-07-22T00:00:00.000000000",
          "2019-07-29T00:00:00.000000000",
          "2019-08-05T00:00:00.000000000",
          "2019-08-12T00:00:00.000000000",
          "2019-08-19T00:00:00.000000000",
          "2019-08-26T00:00:00.000000000",
          "2019-09-02T00:00:00.000000000",
          "2019-09-09T00:00:00.000000000",
          "2019-09-16T00:00:00.000000000",
          "2019-09-23T00:00:00.000000000",
          "2019-09-30T00:00:00.000000000",
          "2019-10-07T00:00:00.000000000",
          "2019-10-14T00:00:00.000000000",
          "2019-10-21T00:00:00.000000000",
          "2019-10-28T00:00:00.000000000",
          "2019-11-04T00:00:00.000000000",
          "2019-11-11T00:00:00.000000000",
          "2019-11-18T00:00:00.000000000",
          "2019-11-25T00:00:00.000000000",
          "2019-12-02T00:00:00.000000000",
          "2019-12-09T00:00:00.000000000",
          "2019-12-16T00:00:00.000000000",
          "2019-12-23T00:00:00.000000000",
          "2019-12-30T00:00:00.000000000"
         ],
         "xaxis": "x",
         "y": {
          "bdata": "AAAAAAAA8D/OK9MDb0rwP68QOq4ag/A/9oPp0ooR8T/2g+nSihHxP/aD6dKKEfE/9oPp0ooR8T/2g+nSihHxP/aD6dKKEfE/9oPp0ooR8T/2g+nSihHxP/aD6dKKEfE/9oPp0ooR8T/2g+nSihHxP/aD6dKKEfE/9oPp0ooR8T/2g+nSihHxP/aD6dKKEfE/9oPp0ooR8T/2g+nSihHxP/aD6dKKEfE/9oPp0ooR8T/2g+nSihHxP/aD6dKKEfE/9oPp0ooR8T/2g+nSihHxP/aD6dKKEfE/0NEB+MZB8T/Q0QH4xkHxPyuHvbZk+vE/K4e9tmT68T8rh722ZPrxPyuHvbZk+vE/K4e9tmT68T8rh722ZPrxPyuHvbZk+vE/K4e9tmT68T8rh722ZPrxPyuHvbZk+vE/K4e9tmT68T8rh722ZPrxPyuHvbZk+vE/K4e9tmT68T8rh722ZPrxPyuHvbZk+vE/K4e9tmT68T8rh722ZPrxPyuHvbZk+vE/K4e9tmT68T8rh722ZPrxPyuHvbZk+vE/K4e9tmT68T8rh722ZPrxPyuHvbZk+vE/K4e9tmT68T8rh722ZPrxPyuHvbZk+vE/K4e9tmT68T8rh722ZPrxPyuHvbZk+vE/K4e9tmT68T8rh722ZPrxPyuHvbZk+vE/K4e9tmT68T8rh722ZPrxPyuHvbZk+vE/K4e9tmT68T8rh722ZPrxPxPbLk2Nd/I/E9suTY138j8T2y5NjXfyPxPbLk2Nd/I/E9suTY138j8T2y5NjXfyPxPbLk2Nd/I/E9suTY138j8T2y5NjXfyPxPbLk2Nd/I/E9suTY138j8T2y5NjXfyPxPbLk2Nd/I/E9suTY138j8T2y5NjXfyPxPbLk2Nd/I/E9suTY138j8T2y5NjXfyPxPbLk2Nd/I/E9suTY138j8T2y5NjXfyPxPbLk2Nd/I/E9suTY138j8T2y5NjXfyPxPbLk2Nd/I/E9suTY138j8T2y5NjXfyPzJVr01ZffI/r0ZXkS8J8z/PhYSkg2DzP8+FhKSDYPM/z4WEpINg8z/WQP++4XXzP+AKN76skPM/MT5xFDeX8z+urvcqw5/zP66u9yrDn/M/",
          "dtype": "f8"
         },
         "yaxis": "y"
        }
       ],
       "layout": {
        "legend": {
         "tracegroupgap": 0
        },
        "template": {
         "data": {
          "bar": [
           {
            "error_x": {
             "color": "#2a3f5f"
            },
            "error_y": {
             "color": "#2a3f5f"
            },
            "marker": {
             "line": {
              "color": "#E5ECF6",
              "width": 0.5
             },
             "pattern": {
              "fillmode": "overlay",
              "size": 10,
              "solidity": 0.2
             }
            },
            "type": "bar"
           }
          ],
          "barpolar": [
           {
            "marker": {
             "line": {
              "color": "#E5ECF6",
              "width": 0.5
             },
             "pattern": {
              "fillmode": "overlay",
              "size": 10,
              "solidity": 0.2
             }
            },
            "type": "barpolar"
           }
          ],
          "carpet": [
           {
            "aaxis": {
             "endlinecolor": "#2a3f5f",
             "gridcolor": "white",
             "linecolor": "white",
             "minorgridcolor": "white",
             "startlinecolor": "#2a3f5f"
            },
            "baxis": {
             "endlinecolor": "#2a3f5f",
             "gridcolor": "white",
             "linecolor": "white",
             "minorgridcolor": "white",
             "startlinecolor": "#2a3f5f"
            },
            "type": "carpet"
           }
          ],
          "choropleth": [
           {
            "colorbar": {
             "outlinewidth": 0,
             "ticks": ""
            },
            "type": "choropleth"
           }
          ],
          "contour": [
           {
            "colorbar": {
             "outlinewidth": 0,
             "ticks": ""
            },
            "colorscale": [
             [
              0,
              "#0d0887"
             ],
             [
              0.1111111111111111,
              "#46039f"
             ],
             [
              0.2222222222222222,
              "#7201a8"
             ],
             [
              0.3333333333333333,
              "#9c179e"
             ],
             [
              0.4444444444444444,
              "#bd3786"
             ],
             [
              0.5555555555555556,
              "#d8576b"
             ],
             [
              0.6666666666666666,
              "#ed7953"
             ],
             [
              0.7777777777777778,
              "#fb9f3a"
             ],
             [
              0.8888888888888888,
              "#fdca26"
             ],
             [
              1,
              "#f0f921"
             ]
            ],
            "type": "contour"
           }
          ],
          "contourcarpet": [
           {
            "colorbar": {
             "outlinewidth": 0,
             "ticks": ""
            },
            "type": "contourcarpet"
           }
          ],
          "heatmap": [
           {
            "colorbar": {
             "outlinewidth": 0,
             "ticks": ""
            },
            "colorscale": [
             [
              0,
              "#0d0887"
             ],
             [
              0.1111111111111111,
              "#46039f"
             ],
             [
              0.2222222222222222,
              "#7201a8"
             ],
             [
              0.3333333333333333,
              "#9c179e"
             ],
             [
              0.4444444444444444,
              "#bd3786"
             ],
             [
              0.5555555555555556,
              "#d8576b"
             ],
             [
              0.6666666666666666,
              "#ed7953"
             ],
             [
              0.7777777777777778,
              "#fb9f3a"
             ],
             [
              0.8888888888888888,
              "#fdca26"
             ],
             [
              1,
              "#f0f921"
             ]
            ],
            "type": "heatmap"
           }
          ],
          "histogram": [
           {
            "marker": {
             "pattern": {
              "fillmode": "overlay",
              "size": 10,
              "solidity": 0.2
             }
            },
            "type": "histogram"
           }
          ],
          "histogram2d": [
           {
            "colorbar": {
             "outlinewidth": 0,
             "ticks": ""
            },
            "colorscale": [
             [
              0,
              "#0d0887"
             ],
             [
              0.1111111111111111,
              "#46039f"
             ],
             [
              0.2222222222222222,
              "#7201a8"
             ],
             [
              0.3333333333333333,
              "#9c179e"
             ],
             [
              0.4444444444444444,
              "#bd3786"
             ],
             [
              0.5555555555555556,
              "#d8576b"
             ],
             [
              0.6666666666666666,
              "#ed7953"
             ],
             [
              0.7777777777777778,
              "#fb9f3a"
             ],
             [
              0.8888888888888888,
              "#fdca26"
             ],
             [
              1,
              "#f0f921"
             ]
            ],
            "type": "histogram2d"
           }
          ],
          "histogram2dcontour": [
           {
            "colorbar": {
             "outlinewidth": 0,
             "ticks": ""
            },
            "colorscale": [
             [
              0,
              "#0d0887"
             ],
             [
              0.1111111111111111,
              "#46039f"
             ],
             [
              0.2222222222222222,
              "#7201a8"
             ],
             [
              0.3333333333333333,
              "#9c179e"
             ],
             [
              0.4444444444444444,
              "#bd3786"
             ],
             [
              0.5555555555555556,
              "#d8576b"
             ],
             [
              0.6666666666666666,
              "#ed7953"
             ],
             [
              0.7777777777777778,
              "#fb9f3a"
             ],
             [
              0.8888888888888888,
              "#fdca26"
             ],
             [
              1,
              "#f0f921"
             ]
            ],
            "type": "histogram2dcontour"
           }
          ],
          "mesh3d": [
           {
            "colorbar": {
             "outlinewidth": 0,
             "ticks": ""
            },
            "type": "mesh3d"
           }
          ],
          "parcoords": [
           {
            "line": {
             "colorbar": {
              "outlinewidth": 0,
              "ticks": ""
             }
            },
            "type": "parcoords"
           }
          ],
          "pie": [
           {
            "automargin": true,
            "type": "pie"
           }
          ],
          "scatter": [
           {
            "fillpattern": {
             "fillmode": "overlay",
             "size": 10,
             "solidity": 0.2
            },
            "type": "scatter"
           }
          ],
          "scatter3d": [
           {
            "line": {
             "colorbar": {
              "outlinewidth": 0,
              "ticks": ""
             }
            },
            "marker": {
             "colorbar": {
              "outlinewidth": 0,
              "ticks": ""
             }
            },
            "type": "scatter3d"
           }
          ],
          "scattercarpet": [
           {
            "marker": {
             "colorbar": {
              "outlinewidth": 0,
              "ticks": ""
             }
            },
            "type": "scattercarpet"
           }
          ],
          "scattergeo": [
           {
            "marker": {
             "colorbar": {
              "outlinewidth": 0,
              "ticks": ""
             }
            },
            "type": "scattergeo"
           }
          ],
          "scattergl": [
           {
            "marker": {
             "colorbar": {
              "outlinewidth": 0,
              "ticks": ""
             }
            },
            "type": "scattergl"
           }
          ],
          "scattermap": [
           {
            "marker": {
             "colorbar": {
              "outlinewidth": 0,
              "ticks": ""
             }
            },
            "type": "scattermap"
           }
          ],
          "scattermapbox": [
           {
            "marker": {
             "colorbar": {
              "outlinewidth": 0,
              "ticks": ""
             }
            },
            "type": "scattermapbox"
           }
          ],
          "scatterpolar": [
           {
            "marker": {
             "colorbar": {
              "outlinewidth": 0,
              "ticks": ""
             }
            },
            "type": "scatterpolar"
           }
          ],
          "scatterpolargl": [
           {
            "marker": {
             "colorbar": {
              "outlinewidth": 0,
              "ticks": ""
             }
            },
            "type": "scatterpolargl"
           }
          ],
          "scatterternary": [
           {
            "marker": {
             "colorbar": {
              "outlinewidth": 0,
              "ticks": ""
             }
            },
            "type": "scatterternary"
           }
          ],
          "surface": [
           {
            "colorbar": {
             "outlinewidth": 0,
             "ticks": ""
            },
            "colorscale": [
             [
              0,
              "#0d0887"
             ],
             [
              0.1111111111111111,
              "#46039f"
             ],
             [
              0.2222222222222222,
              "#7201a8"
             ],
             [
              0.3333333333333333,
              "#9c179e"
             ],
             [
              0.4444444444444444,
              "#bd3786"
             ],
             [
              0.5555555555555556,
              "#d8576b"
             ],
             [
              0.6666666666666666,
              "#ed7953"
             ],
             [
              0.7777777777777778,
              "#fb9f3a"
             ],
             [
              0.8888888888888888,
              "#fdca26"
             ],
             [
              1,
              "#f0f921"
             ]
            ],
            "type": "surface"
           }
          ],
          "table": [
           {
            "cells": {
             "fill": {
              "color": "#EBF0F8"
             },
             "line": {
              "color": "white"
             }
            },
            "header": {
             "fill": {
              "color": "#C8D4E3"
             },
             "line": {
              "color": "white"
             }
            },
            "type": "table"
           }
          ]
         },
         "layout": {
          "annotationdefaults": {
           "arrowcolor": "#2a3f5f",
           "arrowhead": 0,
           "arrowwidth": 1
          },
          "autotypenumbers": "strict",
          "coloraxis": {
           "colorbar": {
            "outlinewidth": 0,
            "ticks": ""
           }
          },
          "colorscale": {
           "diverging": [
            [
             0,
             "#8e0152"
            ],
            [
             0.1,
             "#c51b7d"
            ],
            [
             0.2,
             "#de77ae"
            ],
            [
             0.3,
             "#f1b6da"
            ],
            [
             0.4,
             "#fde0ef"
            ],
            [
             0.5,
             "#f7f7f7"
            ],
            [
             0.6,
             "#e6f5d0"
            ],
            [
             0.7,
             "#b8e186"
            ],
            [
             0.8,
             "#7fbc41"
            ],
            [
             0.9,
             "#4d9221"
            ],
            [
             1,
             "#276419"
            ]
           ],
           "sequential": [
            [
             0,
             "#0d0887"
            ],
            [
             0.1111111111111111,
             "#46039f"
            ],
            [
             0.2222222222222222,
             "#7201a8"
            ],
            [
             0.3333333333333333,
             "#9c179e"
            ],
            [
             0.4444444444444444,
             "#bd3786"
            ],
            [
             0.5555555555555556,
             "#d8576b"
            ],
            [
             0.6666666666666666,
             "#ed7953"
            ],
            [
             0.7777777777777778,
             "#fb9f3a"
            ],
            [
             0.8888888888888888,
             "#fdca26"
            ],
            [
             1,
             "#f0f921"
            ]
           ],
           "sequentialminus": [
            [
             0,
             "#0d0887"
            ],
            [
             0.1111111111111111,
             "#46039f"
            ],
            [
             0.2222222222222222,
             "#7201a8"
            ],
            [
             0.3333333333333333,
             "#9c179e"
            ],
            [
             0.4444444444444444,
             "#bd3786"
            ],
            [
             0.5555555555555556,
             "#d8576b"
            ],
            [
             0.6666666666666666,
             "#ed7953"
            ],
            [
             0.7777777777777778,
             "#fb9f3a"
            ],
            [
             0.8888888888888888,
             "#fdca26"
            ],
            [
             1,
             "#f0f921"
            ]
           ]
          },
          "colorway": [
           "#636efa",
           "#EF553B",
           "#00cc96",
           "#ab63fa",
           "#FFA15A",
           "#19d3f3",
           "#FF6692",
           "#B6E880",
           "#FF97FF",
           "#FECB52"
          ],
          "font": {
           "color": "#2a3f5f"
          },
          "geo": {
           "bgcolor": "white",
           "lakecolor": "white",
           "landcolor": "#E5ECF6",
           "showlakes": true,
           "showland": true,
           "subunitcolor": "white"
          },
          "hoverlabel": {
           "align": "left"
          },
          "hovermode": "closest",
          "mapbox": {
           "style": "light"
          },
          "paper_bgcolor": "white",
          "plot_bgcolor": "#E5ECF6",
          "polar": {
           "angularaxis": {
            "gridcolor": "white",
            "linecolor": "white",
            "ticks": ""
           },
           "bgcolor": "#E5ECF6",
           "radialaxis": {
            "gridcolor": "white",
            "linecolor": "white",
            "ticks": ""
           }
          },
          "scene": {
           "xaxis": {
            "backgroundcolor": "#E5ECF6",
            "gridcolor": "white",
            "gridwidth": 2,
            "linecolor": "white",
            "showbackground": true,
            "ticks": "",
            "zerolinecolor": "white"
           },
           "yaxis": {
            "backgroundcolor": "#E5ECF6",
            "gridcolor": "white",
            "gridwidth": 2,
            "linecolor": "white",
            "showbackground": true,
            "ticks": "",
            "zerolinecolor": "white"
           },
           "zaxis": {
            "backgroundcolor": "#E5ECF6",
            "gridcolor": "white",
            "gridwidth": 2,
            "linecolor": "white",
            "showbackground": true,
            "ticks": "",
            "zerolinecolor": "white"
           }
          },
          "shapedefaults": {
           "line": {
            "color": "#2a3f5f"
           }
          },
          "ternary": {
           "aaxis": {
            "gridcolor": "white",
            "linecolor": "white",
            "ticks": ""
           },
           "baxis": {
            "gridcolor": "white",
            "linecolor": "white",
            "ticks": ""
           },
           "bgcolor": "#E5ECF6",
           "caxis": {
            "gridcolor": "white",
            "linecolor": "white",
            "ticks": ""
           }
          },
          "title": {
           "x": 0.05
          },
          "xaxis": {
           "automargin": true,
           "gridcolor": "white",
           "linecolor": "white",
           "ticks": "",
           "title": {
            "standoff": 15
           },
           "zerolinecolor": "white",
           "zerolinewidth": 2
          },
          "yaxis": {
           "automargin": true,
           "gridcolor": "white",
           "linecolor": "white",
           "ticks": "",
           "title": {
            "standoff": 15
           },
           "zerolinecolor": "white",
           "zerolinewidth": 2
          }
         }
        },
        "title": {
         "text": "Expanding Maximum"
        },
        "xaxis": {
         "anchor": "y",
         "domain": [
          0,
          1
         ],
         "title": {
          "text": "date"
         }
        },
        "yaxis": {
         "anchor": "x",
         "domain": [
          0,
          1
         ],
         "title": {
          "text": "GOOG"
         }
        }
       }
      }
     },
     "metadata": {},
     "output_type": "display_data"
    }
   ],
   "source": [
    "import plotly.express as px\n",
    "\n",
    "df = px.data.stocks(datetimes=True)\n",
    "fig = px.scatter(df, x=\"date\", y=\"GOOG\", trendline=\"expanding\", trendline_options=dict(function=\"max\"),\n",
    "                title=\"Expanding Maximum\")\n",
    "fig.show()\n"
   ]
  },
  {
   "cell_type": "code",
   "execution_count": 13,
   "metadata": {},
   "outputs": [
    {
     "data": {
      "application/vnd.plotly.v1+json": {
       "config": {
        "plotlyServerURL": "https://plot.ly"
       },
       "data": [
        {
         "hovertemplate": "date=%{x}<br>GOOG=%{y}<extra></extra>",
         "legendgroup": "",
         "marker": {
          "color": "#636efa",
          "symbol": "circle"
         },
         "mode": "markers",
         "name": "",
         "orientation": "v",
         "showlegend": false,
         "type": "scatter",
         "x": [
          "2018-01-01T00:00:00.000000000",
          "2018-01-08T00:00:00.000000000",
          "2018-01-15T00:00:00.000000000",
          "2018-01-22T00:00:00.000000000",
          "2018-01-29T00:00:00.000000000",
          "2018-02-05T00:00:00.000000000",
          "2018-02-12T00:00:00.000000000",
          "2018-02-19T00:00:00.000000000",
          "2018-02-26T00:00:00.000000000",
          "2018-03-05T00:00:00.000000000",
          "2018-03-12T00:00:00.000000000",
          "2018-03-19T00:00:00.000000000",
          "2018-03-26T00:00:00.000000000",
          "2018-04-02T00:00:00.000000000",
          "2018-04-09T00:00:00.000000000",
          "2018-04-16T00:00:00.000000000",
          "2018-04-23T00:00:00.000000000",
          "2018-04-30T00:00:00.000000000",
          "2018-05-07T00:00:00.000000000",
          "2018-05-14T00:00:00.000000000",
          "2018-05-21T00:00:00.000000000",
          "2018-05-28T00:00:00.000000000",
          "2018-06-04T00:00:00.000000000",
          "2018-06-11T00:00:00.000000000",
          "2018-06-18T00:00:00.000000000",
          "2018-06-25T00:00:00.000000000",
          "2018-07-02T00:00:00.000000000",
          "2018-07-09T00:00:00.000000000",
          "2018-07-16T00:00:00.000000000",
          "2018-07-23T00:00:00.000000000",
          "2018-07-30T00:00:00.000000000",
          "2018-08-06T00:00:00.000000000",
          "2018-08-13T00:00:00.000000000",
          "2018-08-20T00:00:00.000000000",
          "2018-08-27T00:00:00.000000000",
          "2018-09-03T00:00:00.000000000",
          "2018-09-10T00:00:00.000000000",
          "2018-09-17T00:00:00.000000000",
          "2018-09-24T00:00:00.000000000",
          "2018-10-01T00:00:00.000000000",
          "2018-10-08T00:00:00.000000000",
          "2018-10-15T00:00:00.000000000",
          "2018-10-22T00:00:00.000000000",
          "2018-10-29T00:00:00.000000000",
          "2018-11-05T00:00:00.000000000",
          "2018-11-12T00:00:00.000000000",
          "2018-11-19T00:00:00.000000000",
          "2018-11-26T00:00:00.000000000",
          "2018-12-03T00:00:00.000000000",
          "2018-12-10T00:00:00.000000000",
          "2018-12-17T00:00:00.000000000",
          "2018-12-24T00:00:00.000000000",
          "2018-12-31T00:00:00.000000000",
          "2019-01-07T00:00:00.000000000",
          "2019-01-14T00:00:00.000000000",
          "2019-01-21T00:00:00.000000000",
          "2019-01-28T00:00:00.000000000",
          "2019-02-04T00:00:00.000000000",
          "2019-02-11T00:00:00.000000000",
          "2019-02-18T00:00:00.000000000",
          "2019-02-25T00:00:00.000000000",
          "2019-03-04T00:00:00.000000000",
          "2019-03-11T00:00:00.000000000",
          "2019-03-18T00:00:00.000000000",
          "2019-03-25T00:00:00.000000000",
          "2019-04-01T00:00:00.000000000",
          "2019-04-08T00:00:00.000000000",
          "2019-04-15T00:00:00.000000000",
          "2019-04-22T00:00:00.000000000",
          "2019-04-29T00:00:00.000000000",
          "2019-05-06T00:00:00.000000000",
          "2019-05-13T00:00:00.000000000",
          "2019-05-20T00:00:00.000000000",
          "2019-05-27T00:00:00.000000000",
          "2019-06-03T00:00:00.000000000",
          "2019-06-10T00:00:00.000000000",
          "2019-06-17T00:00:00.000000000",
          "2019-06-24T00:00:00.000000000",
          "2019-07-01T00:00:00.000000000",
          "2019-07-08T00:00:00.000000000",
          "2019-07-15T00:00:00.000000000",
          "2019-07-22T00:00:00.000000000",
          "2019-07-29T00:00:00.000000000",
          "2019-08-05T00:00:00.000000000",
          "2019-08-12T00:00:00.000000000",
          "2019-08-19T00:00:00.000000000",
          "2019-08-26T00:00:00.000000000",
          "2019-09-02T00:00:00.000000000",
          "2019-09-09T00:00:00.000000000",
          "2019-09-16T00:00:00.000000000",
          "2019-09-23T00:00:00.000000000",
          "2019-09-30T00:00:00.000000000",
          "2019-10-07T00:00:00.000000000",
          "2019-10-14T00:00:00.000000000",
          "2019-10-21T00:00:00.000000000",
          "2019-10-28T00:00:00.000000000",
          "2019-11-04T00:00:00.000000000",
          "2019-11-11T00:00:00.000000000",
          "2019-11-18T00:00:00.000000000",
          "2019-11-25T00:00:00.000000000",
          "2019-12-02T00:00:00.000000000",
          "2019-12-09T00:00:00.000000000",
          "2019-12-16T00:00:00.000000000",
          "2019-12-23T00:00:00.000000000",
          "2019-12-30T00:00:00.000000000"
         ],
         "xaxis": "x",
         "y": {
          "bdata": "AAAAAAAA8D/OK9MDb0rwP68QOq4ag/A/9oPp0ooR8T8TsS9U7yPwP99D4KT+IO4/3Hw6e8fI7z+q8F+IRFvwP9LSdHnBUu8/LIMaANTW8D8JvFtMfXzwPz7QZruEqO0/HpxM0nn07T+3TPA/hzztPxfM6R6/4e0/IXrkjXUm7z8heCA9i+ftP6NcPhmDbu4/QjPHjn7i7z+qgyQlaPXuP+V5ctWGOu8/ZFIUWy1A8D9vrqGpREXwP4WiXq/qufA/U4wX6uHF8D/pH6HJ3jHwP3Um9zr9jPA/0NEB+MZB8T9XHtVhPzPxPyuHvbZk+vE/NwuPnm7D8T/XXM4FFvfxP6hIRQnkbvE/az8Jog+48T9kWBFN667xP01QZMGg6PA/pI7CAT4F8T+UMFxuT+3wP6R7NKQOU/E/85Ml4tTM8D/YyoXbKx3wP2L4PrQd1e8/L6n6oWIb7z/SWD6VtrXuP9oE9qnY8+4/8kBpRjbR7j+goGHWr7ntP/MQKYMHxu8/XzbgVBMY7j8FnNv3GUHuP7udcIUkcOw/dtxkp8ob7j+2jo+avBXvP53HSc9Ase4/QjPHjn7i7z9LiPtKdqzvPxmlC0mpH/A/OvEgMLbK7z+605ckcCrwP3zeMMc/HvA/rDRmQwmQ8D+apul6+pTwPymUuDeTMfE/Lh6kE8N/8T8zPRwRJAjxPzJ9CsjkhfE/OJ3k7bqt8T/lnXpkevLxPxPbLk2Nd/I/umBFhRE18T9FfGgTjObwP4oJl/853/A/NI4dTRd08D8JjgPgMwXwP1INy2YH8+4/3LqtWYuC7z8wZfiBBUnwP9tJ47eLYe8/dM57zxpt8D8PGkn3kJ7wP/vlhlmRZ/A/R53F/qYm8j95l9xY/VTxP0LUZHXEPvE/R7cjKRUY8T/i1RHuT7bwPzyHlAsaP/E/fDnW36R98T+zOPArVf7xP79xyu6L2vE/7Hfuco/I8T9/Y3S0xIzxP06g9q+8pPE/IwGMcl4U8j+pVbJuWl3yPzJVr01ZffI/r0ZXkS8J8z/PhYSkg2DzP8kL1dedzfI/E8Ioj13x8j/WQP++4XXzP+AKN76skPM/MT5xFDeX8z+urvcqw5/zP2qQawKBaPM/",
          "dtype": "f8"
         },
         "yaxis": "y"
        },
        {
         "hovertemplate": "<b>Rolling mean trendline</b><br><br>date=%{x}<br>GOOG=%{y} <b>(trend)</b><extra></extra>",
         "legendgroup": "",
         "marker": {
          "color": "#636efa",
          "symbol": "circle"
         },
         "mode": "lines",
         "name": "",
         "showlegend": false,
         "type": "scatter",
         "x": [
          "2018-01-01T00:00:00.000000000",
          "2018-01-08T00:00:00.000000000",
          "2018-01-15T00:00:00.000000000",
          "2018-01-22T00:00:00.000000000",
          "2018-01-29T00:00:00.000000000",
          "2018-02-05T00:00:00.000000000",
          "2018-02-12T00:00:00.000000000",
          "2018-02-19T00:00:00.000000000",
          "2018-02-26T00:00:00.000000000",
          "2018-03-05T00:00:00.000000000",
          "2018-03-12T00:00:00.000000000",
          "2018-03-19T00:00:00.000000000",
          "2018-03-26T00:00:00.000000000",
          "2018-04-02T00:00:00.000000000",
          "2018-04-09T00:00:00.000000000",
          "2018-04-16T00:00:00.000000000",
          "2018-04-23T00:00:00.000000000",
          "2018-04-30T00:00:00.000000000",
          "2018-05-07T00:00:00.000000000",
          "2018-05-14T00:00:00.000000000",
          "2018-05-21T00:00:00.000000000",
          "2018-05-28T00:00:00.000000000",
          "2018-06-04T00:00:00.000000000",
          "2018-06-11T00:00:00.000000000",
          "2018-06-18T00:00:00.000000000",
          "2018-06-25T00:00:00.000000000",
          "2018-07-02T00:00:00.000000000",
          "2018-07-09T00:00:00.000000000",
          "2018-07-16T00:00:00.000000000",
          "2018-07-23T00:00:00.000000000",
          "2018-07-30T00:00:00.000000000",
          "2018-08-06T00:00:00.000000000",
          "2018-08-13T00:00:00.000000000",
          "2018-08-20T00:00:00.000000000",
          "2018-08-27T00:00:00.000000000",
          "2018-09-03T00:00:00.000000000",
          "2018-09-10T00:00:00.000000000",
          "2018-09-17T00:00:00.000000000",
          "2018-09-24T00:00:00.000000000",
          "2018-10-01T00:00:00.000000000",
          "2018-10-08T00:00:00.000000000",
          "2018-10-15T00:00:00.000000000",
          "2018-10-22T00:00:00.000000000",
          "2018-10-29T00:00:00.000000000",
          "2018-11-05T00:00:00.000000000",
          "2018-11-12T00:00:00.000000000",
          "2018-11-19T00:00:00.000000000",
          "2018-11-26T00:00:00.000000000",
          "2018-12-03T00:00:00.000000000",
          "2018-12-10T00:00:00.000000000",
          "2018-12-17T00:00:00.000000000",
          "2018-12-24T00:00:00.000000000",
          "2018-12-31T00:00:00.000000000",
          "2019-01-07T00:00:00.000000000",
          "2019-01-14T00:00:00.000000000",
          "2019-01-21T00:00:00.000000000",
          "2019-01-28T00:00:00.000000000",
          "2019-02-04T00:00:00.000000000",
          "2019-02-11T00:00:00.000000000",
          "2019-02-18T00:00:00.000000000",
          "2019-02-25T00:00:00.000000000",
          "2019-03-04T00:00:00.000000000",
          "2019-03-11T00:00:00.000000000",
          "2019-03-18T00:00:00.000000000",
          "2019-03-25T00:00:00.000000000",
          "2019-04-01T00:00:00.000000000",
          "2019-04-08T00:00:00.000000000",
          "2019-04-15T00:00:00.000000000",
          "2019-04-22T00:00:00.000000000",
          "2019-04-29T00:00:00.000000000",
          "2019-05-06T00:00:00.000000000",
          "2019-05-13T00:00:00.000000000",
          "2019-05-20T00:00:00.000000000",
          "2019-05-27T00:00:00.000000000",
          "2019-06-03T00:00:00.000000000",
          "2019-06-10T00:00:00.000000000",
          "2019-06-17T00:00:00.000000000",
          "2019-06-24T00:00:00.000000000",
          "2019-07-01T00:00:00.000000000",
          "2019-07-08T00:00:00.000000000",
          "2019-07-15T00:00:00.000000000",
          "2019-07-22T00:00:00.000000000",
          "2019-07-29T00:00:00.000000000",
          "2019-08-05T00:00:00.000000000",
          "2019-08-12T00:00:00.000000000",
          "2019-08-19T00:00:00.000000000",
          "2019-08-26T00:00:00.000000000",
          "2019-09-02T00:00:00.000000000",
          "2019-09-09T00:00:00.000000000",
          "2019-09-16T00:00:00.000000000",
          "2019-09-23T00:00:00.000000000",
          "2019-09-30T00:00:00.000000000",
          "2019-10-07T00:00:00.000000000",
          "2019-10-14T00:00:00.000000000",
          "2019-10-21T00:00:00.000000000",
          "2019-10-28T00:00:00.000000000",
          "2019-11-04T00:00:00.000000000",
          "2019-11-11T00:00:00.000000000",
          "2019-11-18T00:00:00.000000000",
          "2019-11-25T00:00:00.000000000",
          "2019-12-02T00:00:00.000000000",
          "2019-12-09T00:00:00.000000000",
          "2019-12-16T00:00:00.000000000",
          "2019-12-23T00:00:00.000000000",
          "2019-12-30T00:00:00.000000000"
         ],
         "xaxis": "x",
         "y": {
          "bdata": "AAAAAAAA+H8AAAAAAAD4fwAAAAAAAPh/AAAAAAAA+H+kmvmZoXPwP2A22aumUPA/9+siQl0g8D86+ieqhvrvP0IBeZXkoO8/wRpCrK3z7z+K6eiY5jzwP2F5ED6eHvA/shD5m62u7z9jmS4DCgLvPyGQHda+Le4/8/vr9ybl7T/WDg1a3gjuP2yILCvuMO4/2CPy9qSY7j+RsoWEtNPuP9Rexyx59O4/c94Tfvxg7z9WXcHqUMDvP5KVnFGeEfA/kwvLqgJY8D/kxt+sY3vwP4uID8wbhvA/3Rjtph6l8D88QR6+58LwP8DX0ncjCfE/H7Dxtkhf8T+kArCRXqXxP0mOHMs1uPE/DNBn6E7E8T+cnIcu/bPxP6Zvj3TIj/E/vHLIPlNh8T/lfsNWTjvxP5ULG/dRH/E/Pf61boYD8T+MV6eomOPwP0FgbIgXpvA/z0gLq0hS8D/PeeuGjNvvP1kYZrPBU+8/gh2QkxAK7z9pujAXgrTuP3i9Hv0EvO4/R4wGE0+q7j8gicZOs5HuP55qor2HMe4/ssmny3YG7j+wZ0rZG97tPyf3H7DYEO4/KWd0eud/7j+CD8zjxRrvPwFj6hS6ge8/UyG4wla37z+grNCsAfrvP9geGu37B/A/OLc0l0Em8D/alkS3n0PwP6SAfW4HgfA//o6B+1DI8D8p51HCOwHxP8ZGAoUEMfE/bTcQwCNe8T9qZ7dsdILxP1zxYBOrufE/iPOcN1DT8T9Fomr8k7bxP7oibfD6evE/RU8AQQgi8T8eRJIH7rTwP8WZLBuBXvA/Y9b9wbIV8D8ehUDwh9zvP3BlUaGeru8/U72YWf3d7z8OPdh3GSPwPxbHN6fzR/A/UlhQ5+qe8D9ExTmH/vvwPxGXZ4XSNfE/VnZk8hVR8T99WNhZqknxPykLm+01GvE/hpgZYosd8T+t5AKY1kXxP++qjEIXfPE/y3ZHbn208T8Dml7HeMTxPzrR4NUFwvE/xRypNeK/8T986ZZqy9nxP1GwRmkgB/I/tSOIp09S8j+Zdlvr5qfyP5R/z29B2vI/11i7gvj48j+zSxBz3xjzP6pNwKkRMPM/pfWw5NpJ8z+URHdLMXbzPzVnhb50i/M/",
          "dtype": "f8"
         },
         "yaxis": "y"
        }
       ],
       "layout": {
        "legend": {
         "tracegroupgap": 0
        },
        "template": {
         "data": {
          "bar": [
           {
            "error_x": {
             "color": "#2a3f5f"
            },
            "error_y": {
             "color": "#2a3f5f"
            },
            "marker": {
             "line": {
              "color": "#E5ECF6",
              "width": 0.5
             },
             "pattern": {
              "fillmode": "overlay",
              "size": 10,
              "solidity": 0.2
             }
            },
            "type": "bar"
           }
          ],
          "barpolar": [
           {
            "marker": {
             "line": {
              "color": "#E5ECF6",
              "width": 0.5
             },
             "pattern": {
              "fillmode": "overlay",
              "size": 10,
              "solidity": 0.2
             }
            },
            "type": "barpolar"
           }
          ],
          "carpet": [
           {
            "aaxis": {
             "endlinecolor": "#2a3f5f",
             "gridcolor": "white",
             "linecolor": "white",
             "minorgridcolor": "white",
             "startlinecolor": "#2a3f5f"
            },
            "baxis": {
             "endlinecolor": "#2a3f5f",
             "gridcolor": "white",
             "linecolor": "white",
             "minorgridcolor": "white",
             "startlinecolor": "#2a3f5f"
            },
            "type": "carpet"
           }
          ],
          "choropleth": [
           {
            "colorbar": {
             "outlinewidth": 0,
             "ticks": ""
            },
            "type": "choropleth"
           }
          ],
          "contour": [
           {
            "colorbar": {
             "outlinewidth": 0,
             "ticks": ""
            },
            "colorscale": [
             [
              0,
              "#0d0887"
             ],
             [
              0.1111111111111111,
              "#46039f"
             ],
             [
              0.2222222222222222,
              "#7201a8"
             ],
             [
              0.3333333333333333,
              "#9c179e"
             ],
             [
              0.4444444444444444,
              "#bd3786"
             ],
             [
              0.5555555555555556,
              "#d8576b"
             ],
             [
              0.6666666666666666,
              "#ed7953"
             ],
             [
              0.7777777777777778,
              "#fb9f3a"
             ],
             [
              0.8888888888888888,
              "#fdca26"
             ],
             [
              1,
              "#f0f921"
             ]
            ],
            "type": "contour"
           }
          ],
          "contourcarpet": [
           {
            "colorbar": {
             "outlinewidth": 0,
             "ticks": ""
            },
            "type": "contourcarpet"
           }
          ],
          "heatmap": [
           {
            "colorbar": {
             "outlinewidth": 0,
             "ticks": ""
            },
            "colorscale": [
             [
              0,
              "#0d0887"
             ],
             [
              0.1111111111111111,
              "#46039f"
             ],
             [
              0.2222222222222222,
              "#7201a8"
             ],
             [
              0.3333333333333333,
              "#9c179e"
             ],
             [
              0.4444444444444444,
              "#bd3786"
             ],
             [
              0.5555555555555556,
              "#d8576b"
             ],
             [
              0.6666666666666666,
              "#ed7953"
             ],
             [
              0.7777777777777778,
              "#fb9f3a"
             ],
             [
              0.8888888888888888,
              "#fdca26"
             ],
             [
              1,
              "#f0f921"
             ]
            ],
            "type": "heatmap"
           }
          ],
          "histogram": [
           {
            "marker": {
             "pattern": {
              "fillmode": "overlay",
              "size": 10,
              "solidity": 0.2
             }
            },
            "type": "histogram"
           }
          ],
          "histogram2d": [
           {
            "colorbar": {
             "outlinewidth": 0,
             "ticks": ""
            },
            "colorscale": [
             [
              0,
              "#0d0887"
             ],
             [
              0.1111111111111111,
              "#46039f"
             ],
             [
              0.2222222222222222,
              "#7201a8"
             ],
             [
              0.3333333333333333,
              "#9c179e"
             ],
             [
              0.4444444444444444,
              "#bd3786"
             ],
             [
              0.5555555555555556,
              "#d8576b"
             ],
             [
              0.6666666666666666,
              "#ed7953"
             ],
             [
              0.7777777777777778,
              "#fb9f3a"
             ],
             [
              0.8888888888888888,
              "#fdca26"
             ],
             [
              1,
              "#f0f921"
             ]
            ],
            "type": "histogram2d"
           }
          ],
          "histogram2dcontour": [
           {
            "colorbar": {
             "outlinewidth": 0,
             "ticks": ""
            },
            "colorscale": [
             [
              0,
              "#0d0887"
             ],
             [
              0.1111111111111111,
              "#46039f"
             ],
             [
              0.2222222222222222,
              "#7201a8"
             ],
             [
              0.3333333333333333,
              "#9c179e"
             ],
             [
              0.4444444444444444,
              "#bd3786"
             ],
             [
              0.5555555555555556,
              "#d8576b"
             ],
             [
              0.6666666666666666,
              "#ed7953"
             ],
             [
              0.7777777777777778,
              "#fb9f3a"
             ],
             [
              0.8888888888888888,
              "#fdca26"
             ],
             [
              1,
              "#f0f921"
             ]
            ],
            "type": "histogram2dcontour"
           }
          ],
          "mesh3d": [
           {
            "colorbar": {
             "outlinewidth": 0,
             "ticks": ""
            },
            "type": "mesh3d"
           }
          ],
          "parcoords": [
           {
            "line": {
             "colorbar": {
              "outlinewidth": 0,
              "ticks": ""
             }
            },
            "type": "parcoords"
           }
          ],
          "pie": [
           {
            "automargin": true,
            "type": "pie"
           }
          ],
          "scatter": [
           {
            "fillpattern": {
             "fillmode": "overlay",
             "size": 10,
             "solidity": 0.2
            },
            "type": "scatter"
           }
          ],
          "scatter3d": [
           {
            "line": {
             "colorbar": {
              "outlinewidth": 0,
              "ticks": ""
             }
            },
            "marker": {
             "colorbar": {
              "outlinewidth": 0,
              "ticks": ""
             }
            },
            "type": "scatter3d"
           }
          ],
          "scattercarpet": [
           {
            "marker": {
             "colorbar": {
              "outlinewidth": 0,
              "ticks": ""
             }
            },
            "type": "scattercarpet"
           }
          ],
          "scattergeo": [
           {
            "marker": {
             "colorbar": {
              "outlinewidth": 0,
              "ticks": ""
             }
            },
            "type": "scattergeo"
           }
          ],
          "scattergl": [
           {
            "marker": {
             "colorbar": {
              "outlinewidth": 0,
              "ticks": ""
             }
            },
            "type": "scattergl"
           }
          ],
          "scattermap": [
           {
            "marker": {
             "colorbar": {
              "outlinewidth": 0,
              "ticks": ""
             }
            },
            "type": "scattermap"
           }
          ],
          "scattermapbox": [
           {
            "marker": {
             "colorbar": {
              "outlinewidth": 0,
              "ticks": ""
             }
            },
            "type": "scattermapbox"
           }
          ],
          "scatterpolar": [
           {
            "marker": {
             "colorbar": {
              "outlinewidth": 0,
              "ticks": ""
             }
            },
            "type": "scatterpolar"
           }
          ],
          "scatterpolargl": [
           {
            "marker": {
             "colorbar": {
              "outlinewidth": 0,
              "ticks": ""
             }
            },
            "type": "scatterpolargl"
           }
          ],
          "scatterternary": [
           {
            "marker": {
             "colorbar": {
              "outlinewidth": 0,
              "ticks": ""
             }
            },
            "type": "scatterternary"
           }
          ],
          "surface": [
           {
            "colorbar": {
             "outlinewidth": 0,
             "ticks": ""
            },
            "colorscale": [
             [
              0,
              "#0d0887"
             ],
             [
              0.1111111111111111,
              "#46039f"
             ],
             [
              0.2222222222222222,
              "#7201a8"
             ],
             [
              0.3333333333333333,
              "#9c179e"
             ],
             [
              0.4444444444444444,
              "#bd3786"
             ],
             [
              0.5555555555555556,
              "#d8576b"
             ],
             [
              0.6666666666666666,
              "#ed7953"
             ],
             [
              0.7777777777777778,
              "#fb9f3a"
             ],
             [
              0.8888888888888888,
              "#fdca26"
             ],
             [
              1,
              "#f0f921"
             ]
            ],
            "type": "surface"
           }
          ],
          "table": [
           {
            "cells": {
             "fill": {
              "color": "#EBF0F8"
             },
             "line": {
              "color": "white"
             }
            },
            "header": {
             "fill": {
              "color": "#C8D4E3"
             },
             "line": {
              "color": "white"
             }
            },
            "type": "table"
           }
          ]
         },
         "layout": {
          "annotationdefaults": {
           "arrowcolor": "#2a3f5f",
           "arrowhead": 0,
           "arrowwidth": 1
          },
          "autotypenumbers": "strict",
          "coloraxis": {
           "colorbar": {
            "outlinewidth": 0,
            "ticks": ""
           }
          },
          "colorscale": {
           "diverging": [
            [
             0,
             "#8e0152"
            ],
            [
             0.1,
             "#c51b7d"
            ],
            [
             0.2,
             "#de77ae"
            ],
            [
             0.3,
             "#f1b6da"
            ],
            [
             0.4,
             "#fde0ef"
            ],
            [
             0.5,
             "#f7f7f7"
            ],
            [
             0.6,
             "#e6f5d0"
            ],
            [
             0.7,
             "#b8e186"
            ],
            [
             0.8,
             "#7fbc41"
            ],
            [
             0.9,
             "#4d9221"
            ],
            [
             1,
             "#276419"
            ]
           ],
           "sequential": [
            [
             0,
             "#0d0887"
            ],
            [
             0.1111111111111111,
             "#46039f"
            ],
            [
             0.2222222222222222,
             "#7201a8"
            ],
            [
             0.3333333333333333,
             "#9c179e"
            ],
            [
             0.4444444444444444,
             "#bd3786"
            ],
            [
             0.5555555555555556,
             "#d8576b"
            ],
            [
             0.6666666666666666,
             "#ed7953"
            ],
            [
             0.7777777777777778,
             "#fb9f3a"
            ],
            [
             0.8888888888888888,
             "#fdca26"
            ],
            [
             1,
             "#f0f921"
            ]
           ],
           "sequentialminus": [
            [
             0,
             "#0d0887"
            ],
            [
             0.1111111111111111,
             "#46039f"
            ],
            [
             0.2222222222222222,
             "#7201a8"
            ],
            [
             0.3333333333333333,
             "#9c179e"
            ],
            [
             0.4444444444444444,
             "#bd3786"
            ],
            [
             0.5555555555555556,
             "#d8576b"
            ],
            [
             0.6666666666666666,
             "#ed7953"
            ],
            [
             0.7777777777777778,
             "#fb9f3a"
            ],
            [
             0.8888888888888888,
             "#fdca26"
            ],
            [
             1,
             "#f0f921"
            ]
           ]
          },
          "colorway": [
           "#636efa",
           "#EF553B",
           "#00cc96",
           "#ab63fa",
           "#FFA15A",
           "#19d3f3",
           "#FF6692",
           "#B6E880",
           "#FF97FF",
           "#FECB52"
          ],
          "font": {
           "color": "#2a3f5f"
          },
          "geo": {
           "bgcolor": "white",
           "lakecolor": "white",
           "landcolor": "#E5ECF6",
           "showlakes": true,
           "showland": true,
           "subunitcolor": "white"
          },
          "hoverlabel": {
           "align": "left"
          },
          "hovermode": "closest",
          "mapbox": {
           "style": "light"
          },
          "paper_bgcolor": "white",
          "plot_bgcolor": "#E5ECF6",
          "polar": {
           "angularaxis": {
            "gridcolor": "white",
            "linecolor": "white",
            "ticks": ""
           },
           "bgcolor": "#E5ECF6",
           "radialaxis": {
            "gridcolor": "white",
            "linecolor": "white",
            "ticks": ""
           }
          },
          "scene": {
           "xaxis": {
            "backgroundcolor": "#E5ECF6",
            "gridcolor": "white",
            "gridwidth": 2,
            "linecolor": "white",
            "showbackground": true,
            "ticks": "",
            "zerolinecolor": "white"
           },
           "yaxis": {
            "backgroundcolor": "#E5ECF6",
            "gridcolor": "white",
            "gridwidth": 2,
            "linecolor": "white",
            "showbackground": true,
            "ticks": "",
            "zerolinecolor": "white"
           },
           "zaxis": {
            "backgroundcolor": "#E5ECF6",
            "gridcolor": "white",
            "gridwidth": 2,
            "linecolor": "white",
            "showbackground": true,
            "ticks": "",
            "zerolinecolor": "white"
           }
          },
          "shapedefaults": {
           "line": {
            "color": "#2a3f5f"
           }
          },
          "ternary": {
           "aaxis": {
            "gridcolor": "white",
            "linecolor": "white",
            "ticks": ""
           },
           "baxis": {
            "gridcolor": "white",
            "linecolor": "white",
            "ticks": ""
           },
           "bgcolor": "#E5ECF6",
           "caxis": {
            "gridcolor": "white",
            "linecolor": "white",
            "ticks": ""
           }
          },
          "title": {
           "x": 0.05
          },
          "xaxis": {
           "automargin": true,
           "gridcolor": "white",
           "linecolor": "white",
           "ticks": "",
           "title": {
            "standoff": 15
           },
           "zerolinecolor": "white",
           "zerolinewidth": 2
          },
          "yaxis": {
           "automargin": true,
           "gridcolor": "white",
           "linecolor": "white",
           "ticks": "",
           "title": {
            "standoff": 15
           },
           "zerolinecolor": "white",
           "zerolinewidth": 2
          }
         }
        },
        "title": {
         "text": "Rolling Mean with Gaussian Window"
        },
        "xaxis": {
         "anchor": "y",
         "domain": [
          0,
          1
         ],
         "title": {
          "text": "date"
         }
        },
        "yaxis": {
         "anchor": "x",
         "domain": [
          0,
          1
         ],
         "title": {
          "text": "GOOG"
         }
        }
       }
      }
     },
     "metadata": {},
     "output_type": "display_data"
    }
   ],
   "source": [
    "import plotly.express as px\n",
    "\n",
    "df = px.data.stocks(datetimes=True)\n",
    "fig = px.scatter(df, x=\"date\", y=\"GOOG\", trendline=\"rolling\", \n",
    "                 trendline_options=dict(window=5, win_type=\"gaussian\", function_args=dict(std=2)),\n",
    "                title=\"Rolling Mean with Gaussian Window\")\n",
    "fig.show()\n"
   ]
  },
  {
   "cell_type": "code",
   "execution_count": 14,
   "metadata": {},
   "outputs": [
    {
     "data": {
      "application/vnd.plotly.v1+json": {
       "config": {
        "plotlyServerURL": "https://plot.ly"
       },
       "data": [
        {
         "hovertemplate": "<b>Rolling mean trendline</b><br><br>company=GOOG<br>date=%{x}<br>value=%{y} <b>(trend)</b><extra></extra>",
         "legendgroup": "GOOG",
         "marker": {
          "color": "#636efa",
          "symbol": "circle"
         },
         "mode": "lines",
         "name": "GOOG",
         "showlegend": true,
         "type": "scatter",
         "x": [
          "2018-01-01T00:00:00.000000000",
          "2018-01-08T00:00:00.000000000",
          "2018-01-15T00:00:00.000000000",
          "2018-01-22T00:00:00.000000000",
          "2018-01-29T00:00:00.000000000",
          "2018-02-05T00:00:00.000000000",
          "2018-02-12T00:00:00.000000000",
          "2018-02-19T00:00:00.000000000",
          "2018-02-26T00:00:00.000000000",
          "2018-03-05T00:00:00.000000000",
          "2018-03-12T00:00:00.000000000",
          "2018-03-19T00:00:00.000000000",
          "2018-03-26T00:00:00.000000000",
          "2018-04-02T00:00:00.000000000",
          "2018-04-09T00:00:00.000000000",
          "2018-04-16T00:00:00.000000000",
          "2018-04-23T00:00:00.000000000",
          "2018-04-30T00:00:00.000000000",
          "2018-05-07T00:00:00.000000000",
          "2018-05-14T00:00:00.000000000",
          "2018-05-21T00:00:00.000000000",
          "2018-05-28T00:00:00.000000000",
          "2018-06-04T00:00:00.000000000",
          "2018-06-11T00:00:00.000000000",
          "2018-06-18T00:00:00.000000000",
          "2018-06-25T00:00:00.000000000",
          "2018-07-02T00:00:00.000000000",
          "2018-07-09T00:00:00.000000000",
          "2018-07-16T00:00:00.000000000",
          "2018-07-23T00:00:00.000000000",
          "2018-07-30T00:00:00.000000000",
          "2018-08-06T00:00:00.000000000",
          "2018-08-13T00:00:00.000000000",
          "2018-08-20T00:00:00.000000000",
          "2018-08-27T00:00:00.000000000",
          "2018-09-03T00:00:00.000000000",
          "2018-09-10T00:00:00.000000000",
          "2018-09-17T00:00:00.000000000",
          "2018-09-24T00:00:00.000000000",
          "2018-10-01T00:00:00.000000000",
          "2018-10-08T00:00:00.000000000",
          "2018-10-15T00:00:00.000000000",
          "2018-10-22T00:00:00.000000000",
          "2018-10-29T00:00:00.000000000",
          "2018-11-05T00:00:00.000000000",
          "2018-11-12T00:00:00.000000000",
          "2018-11-19T00:00:00.000000000",
          "2018-11-26T00:00:00.000000000",
          "2018-12-03T00:00:00.000000000",
          "2018-12-10T00:00:00.000000000",
          "2018-12-17T00:00:00.000000000",
          "2018-12-24T00:00:00.000000000",
          "2018-12-31T00:00:00.000000000",
          "2019-01-07T00:00:00.000000000",
          "2019-01-14T00:00:00.000000000",
          "2019-01-21T00:00:00.000000000",
          "2019-01-28T00:00:00.000000000",
          "2019-02-04T00:00:00.000000000",
          "2019-02-11T00:00:00.000000000",
          "2019-02-18T00:00:00.000000000",
          "2019-02-25T00:00:00.000000000",
          "2019-03-04T00:00:00.000000000",
          "2019-03-11T00:00:00.000000000",
          "2019-03-18T00:00:00.000000000",
          "2019-03-25T00:00:00.000000000",
          "2019-04-01T00:00:00.000000000",
          "2019-04-08T00:00:00.000000000",
          "2019-04-15T00:00:00.000000000",
          "2019-04-22T00:00:00.000000000",
          "2019-04-29T00:00:00.000000000",
          "2019-05-06T00:00:00.000000000",
          "2019-05-13T00:00:00.000000000",
          "2019-05-20T00:00:00.000000000",
          "2019-05-27T00:00:00.000000000",
          "2019-06-03T00:00:00.000000000",
          "2019-06-10T00:00:00.000000000",
          "2019-06-17T00:00:00.000000000",
          "2019-06-24T00:00:00.000000000",
          "2019-07-01T00:00:00.000000000",
          "2019-07-08T00:00:00.000000000",
          "2019-07-15T00:00:00.000000000",
          "2019-07-22T00:00:00.000000000",
          "2019-07-29T00:00:00.000000000",
          "2019-08-05T00:00:00.000000000",
          "2019-08-12T00:00:00.000000000",
          "2019-08-19T00:00:00.000000000",
          "2019-08-26T00:00:00.000000000",
          "2019-09-02T00:00:00.000000000",
          "2019-09-09T00:00:00.000000000",
          "2019-09-16T00:00:00.000000000",
          "2019-09-23T00:00:00.000000000",
          "2019-09-30T00:00:00.000000000",
          "2019-10-07T00:00:00.000000000",
          "2019-10-14T00:00:00.000000000",
          "2019-10-21T00:00:00.000000000",
          "2019-10-28T00:00:00.000000000",
          "2019-11-04T00:00:00.000000000",
          "2019-11-11T00:00:00.000000000",
          "2019-11-18T00:00:00.000000000",
          "2019-11-25T00:00:00.000000000",
          "2019-12-02T00:00:00.000000000",
          "2019-12-09T00:00:00.000000000",
          "2019-12-16T00:00:00.000000000",
          "2019-12-23T00:00:00.000000000",
          "2019-12-30T00:00:00.000000000"
         ],
         "xaxis": "x",
         "y": {
          "bdata": "AAAAAAAA+H8AAAAAAAD4fwAAAAAAAPh/AAAAAAAA+H9OsAfFAGfwP0rq6jsaN/A/nodGlLEi8D+d5xrzuRrwPzVeiRBjpe8/pRi0u/Hs7z8lKwlDRT/wP65m2i/YCPA/6yUEIHqE7z/m1xyuoRnvP6YydOc/V+4/DjN9GPL57T897jv/jAbuPyN7n0D1Hu4/c9wwHY2m7j/Dmjzrrt3uP7aa8l+y4e4/pqNaq6hm7z9+cCjqqdLvPwY6Ez13EfA/uhVhm7NT8D+33PVHbHHwP4dtVg7JgPA/zqdphEmz8D/F8xqojcvwP1aMompBCfE/AFUFYpFZ8T96+cm9/KHxP9iqCo4Cq/E/qeThmpLF8T+0QYxSerbxPx/ptoy3ivE/e1mBJVla8T/ehx+gbkDxP4ItKDo7LPE/bDksiwP/8D+7HmaQUtbwPz5OEiLJnfA/2LtlT3ZX8D/LJPZ6PuXvP2O3fkKuXe8/1gwrX3QV7z9K+zGZkanuPwoQCJOyy+4/jW8ohius7j8u9O/Ia4juP1agJG+bDu4/gt++ZToi7j92xTk3+P7tP4LiTumaHe4/JmfkbRVx7j/eYjNivxbvP51FivdAhO8/6/JA4nKo7z9IuTuUX/zvP9BQreMvB/A/uM3bHFks8D/Smm7Az0PwP7oGXWBBhvA/a+LFKYXK8D8qwsFrTPnwP6vQFVN4KvE/MTV70J5i8T9WaghzM4nxP+pcV0vCuvE/n/3Flb7D8T+jMD8L4KPxP01GyQ6TevE/w9zp1hgu8T/0ZhTB07DwPyUITsodWPA/X+gwHHYd8D8Cj1U51/7vP+VkqqW2sO8/dkunOEba7z82wxpdvyfwP7mR17IBSfA/VwNnZYio8D9zzWJ+k/zwP84BKzmCJvE/QSG93M8+8T8JHgyUj07xPwaANTBAIPE/bqCasWEo8T+25xzWsU7xPwINC2SWdfE/N/oD5W+s8T/evzBt+LvxP9U6N/3Jw/E/H5aJPjLI8T+CkFGLW+LxP/bvROqDBvI/zIOlSZlS8j/m5MGtWqvyP25NnVtn0PI/TpZOlQHu8j+j+MR4th/zP0aGvoHPOvM/Jqu6McBF8z+ImMGox2/zP83Bm4ybh/M/",
          "dtype": "f8"
         },
         "yaxis": "y"
        },
        {
         "hovertemplate": "<b>Rolling mean trendline</b><br><br>company=AAPL<br>date=%{x}<br>value=%{y} <b>(trend)</b><extra></extra>",
         "legendgroup": "AAPL",
         "marker": {
          "color": "#EF553B",
          "symbol": "circle"
         },
         "mode": "lines",
         "name": "AAPL",
         "showlegend": true,
         "type": "scatter",
         "x": [
          "2018-01-01T00:00:00.000000000",
          "2018-01-08T00:00:00.000000000",
          "2018-01-15T00:00:00.000000000",
          "2018-01-22T00:00:00.000000000",
          "2018-01-29T00:00:00.000000000",
          "2018-02-05T00:00:00.000000000",
          "2018-02-12T00:00:00.000000000",
          "2018-02-19T00:00:00.000000000",
          "2018-02-26T00:00:00.000000000",
          "2018-03-05T00:00:00.000000000",
          "2018-03-12T00:00:00.000000000",
          "2018-03-19T00:00:00.000000000",
          "2018-03-26T00:00:00.000000000",
          "2018-04-02T00:00:00.000000000",
          "2018-04-09T00:00:00.000000000",
          "2018-04-16T00:00:00.000000000",
          "2018-04-23T00:00:00.000000000",
          "2018-04-30T00:00:00.000000000",
          "2018-05-07T00:00:00.000000000",
          "2018-05-14T00:00:00.000000000",
          "2018-05-21T00:00:00.000000000",
          "2018-05-28T00:00:00.000000000",
          "2018-06-04T00:00:00.000000000",
          "2018-06-11T00:00:00.000000000",
          "2018-06-18T00:00:00.000000000",
          "2018-06-25T00:00:00.000000000",
          "2018-07-02T00:00:00.000000000",
          "2018-07-09T00:00:00.000000000",
          "2018-07-16T00:00:00.000000000",
          "2018-07-23T00:00:00.000000000",
          "2018-07-30T00:00:00.000000000",
          "2018-08-06T00:00:00.000000000",
          "2018-08-13T00:00:00.000000000",
          "2018-08-20T00:00:00.000000000",
          "2018-08-27T00:00:00.000000000",
          "2018-09-03T00:00:00.000000000",
          "2018-09-10T00:00:00.000000000",
          "2018-09-17T00:00:00.000000000",
          "2018-09-24T00:00:00.000000000",
          "2018-10-01T00:00:00.000000000",
          "2018-10-08T00:00:00.000000000",
          "2018-10-15T00:00:00.000000000",
          "2018-10-22T00:00:00.000000000",
          "2018-10-29T00:00:00.000000000",
          "2018-11-05T00:00:00.000000000",
          "2018-11-12T00:00:00.000000000",
          "2018-11-19T00:00:00.000000000",
          "2018-11-26T00:00:00.000000000",
          "2018-12-03T00:00:00.000000000",
          "2018-12-10T00:00:00.000000000",
          "2018-12-17T00:00:00.000000000",
          "2018-12-24T00:00:00.000000000",
          "2018-12-31T00:00:00.000000000",
          "2019-01-07T00:00:00.000000000",
          "2019-01-14T00:00:00.000000000",
          "2019-01-21T00:00:00.000000000",
          "2019-01-28T00:00:00.000000000",
          "2019-02-04T00:00:00.000000000",
          "2019-02-11T00:00:00.000000000",
          "2019-02-18T00:00:00.000000000",
          "2019-02-25T00:00:00.000000000",
          "2019-03-04T00:00:00.000000000",
          "2019-03-11T00:00:00.000000000",
          "2019-03-18T00:00:00.000000000",
          "2019-03-25T00:00:00.000000000",
          "2019-04-01T00:00:00.000000000",
          "2019-04-08T00:00:00.000000000",
          "2019-04-15T00:00:00.000000000",
          "2019-04-22T00:00:00.000000000",
          "2019-04-29T00:00:00.000000000",
          "2019-05-06T00:00:00.000000000",
          "2019-05-13T00:00:00.000000000",
          "2019-05-20T00:00:00.000000000",
          "2019-05-27T00:00:00.000000000",
          "2019-06-03T00:00:00.000000000",
          "2019-06-10T00:00:00.000000000",
          "2019-06-17T00:00:00.000000000",
          "2019-06-24T00:00:00.000000000",
          "2019-07-01T00:00:00.000000000",
          "2019-07-08T00:00:00.000000000",
          "2019-07-15T00:00:00.000000000",
          "2019-07-22T00:00:00.000000000",
          "2019-07-29T00:00:00.000000000",
          "2019-08-05T00:00:00.000000000",
          "2019-08-12T00:00:00.000000000",
          "2019-08-19T00:00:00.000000000",
          "2019-08-26T00:00:00.000000000",
          "2019-09-02T00:00:00.000000000",
          "2019-09-09T00:00:00.000000000",
          "2019-09-16T00:00:00.000000000",
          "2019-09-23T00:00:00.000000000",
          "2019-09-30T00:00:00.000000000",
          "2019-10-07T00:00:00.000000000",
          "2019-10-14T00:00:00.000000000",
          "2019-10-21T00:00:00.000000000",
          "2019-10-28T00:00:00.000000000",
          "2019-11-04T00:00:00.000000000",
          "2019-11-11T00:00:00.000000000",
          "2019-11-18T00:00:00.000000000",
          "2019-11-25T00:00:00.000000000",
          "2019-12-02T00:00:00.000000000",
          "2019-12-09T00:00:00.000000000",
          "2019-12-16T00:00:00.000000000",
          "2019-12-23T00:00:00.000000000",
          "2019-12-30T00:00:00.000000000"
         ],
         "xaxis": "x",
         "y": {
          "bdata": "AAAAAAAA+H8AAAAAAAD4fwAAAAAAAPh/AAAAAAAA+H/KNFJ8iIvvPwtOxQB93e4/iCrYKdyx7j/oMfPHJZbuPyqUEYMmwu4/HkwIGYd47z9vKlJhbCHwP95EKCm5/O8/Q9kuSXK07z9+fUDEI2vvP4Cox9r8Oe8/yljV4dTG7j+jvv9rTa7uP1pdSDCRRO8/ypd0seMA8D8r7ZbZGDfwPxGI7KUbovA/Umw7Nc4k8T/ko+JkpUnxP7nZuvzQSvE/c4XVP09E8T/PYjTlEDTxP05ztZVwKfE/uopkMbUn8T8gWQT44DPxPysDrRo/UPE/uB+Z31m78T/BJN0J6hbyPzw5i1HLkfI/C8VEF4MF8z/IBth0E7HzP/7J/sph7/M/1on5Prs79D/lMkIeGzz0P0JQVIfzaPQ/Bhsq81BZ9D+SWhahG130P+dL/wDnR/Q/qMZLN4lB9D/YJQzsDuzzP1Gw8S9Hj/M/SA5hsn0J8z9J8WU2Yi3yP4L/D5nPfPE/h3jnD0vG8D+SbnOCxg/wPyU+4VHYju4/HiqcmXz47T9qfEFFn9zsP4LBb/jzROw/SukSL+Dz6z/9TcJMsTXsP1i4l9MHluw/LdfFwGdl7T9VJSPBJA/uP4ITkyxYpu4/ZvIiLHhH7z9FBLZfS4PvP0Ci9xswC/A/qGOYisJr8D9OpSHnPrvwP6X1pQxfIvE/6jRjyuSb8T9p6Fvt7+7xP5INH132LPI/FjOw4wKT8j/gg4yW2pPyP6SdI6imZfI/DoXaKSPx8T+V9e68TmjxP94rH+IxA/E/5oOaH2nu8D9qhrw0MRzxP7On1VzmdPE/IlLF5Gb98T+Oz/SA9TryP8eqeHYRafI/u6lh4wKT8j/LadT3kK/yP/P0cUBmoPI/wNZVCmGv8j/JsGz2nK/yPx6IzVVLtPI/8wh1SYzf8j8eu7hgrzLzP5om1RhBZ/M/DPlYxv6y8z/m2pkHhQj0P9hl0LHzc/Q/SHCA9Z7G9D8pU84DrE31P3Zyzczf+vU/3cNC6PWV9j81bgLSSSD3PxheyIYMl/c/MSmZ4s739z/EQjGigj34PxUPQi7Gg/g/gjFr6M/D+D9+vU1L+kb5P71TplKPwvk/",
          "dtype": "f8"
         },
         "yaxis": "y"
        },
        {
         "hovertemplate": "<b>Rolling mean trendline</b><br><br>company=AMZN<br>date=%{x}<br>value=%{y} <b>(trend)</b><extra></extra>",
         "legendgroup": "AMZN",
         "marker": {
          "color": "#00cc96",
          "symbol": "circle"
         },
         "mode": "lines",
         "name": "AMZN",
         "showlegend": true,
         "type": "scatter",
         "x": [
          "2018-01-01T00:00:00.000000000",
          "2018-01-08T00:00:00.000000000",
          "2018-01-15T00:00:00.000000000",
          "2018-01-22T00:00:00.000000000",
          "2018-01-29T00:00:00.000000000",
          "2018-02-05T00:00:00.000000000",
          "2018-02-12T00:00:00.000000000",
          "2018-02-19T00:00:00.000000000",
          "2018-02-26T00:00:00.000000000",
          "2018-03-05T00:00:00.000000000",
          "2018-03-12T00:00:00.000000000",
          "2018-03-19T00:00:00.000000000",
          "2018-03-26T00:00:00.000000000",
          "2018-04-02T00:00:00.000000000",
          "2018-04-09T00:00:00.000000000",
          "2018-04-16T00:00:00.000000000",
          "2018-04-23T00:00:00.000000000",
          "2018-04-30T00:00:00.000000000",
          "2018-05-07T00:00:00.000000000",
          "2018-05-14T00:00:00.000000000",
          "2018-05-21T00:00:00.000000000",
          "2018-05-28T00:00:00.000000000",
          "2018-06-04T00:00:00.000000000",
          "2018-06-11T00:00:00.000000000",
          "2018-06-18T00:00:00.000000000",
          "2018-06-25T00:00:00.000000000",
          "2018-07-02T00:00:00.000000000",
          "2018-07-09T00:00:00.000000000",
          "2018-07-16T00:00:00.000000000",
          "2018-07-23T00:00:00.000000000",
          "2018-07-30T00:00:00.000000000",
          "2018-08-06T00:00:00.000000000",
          "2018-08-13T00:00:00.000000000",
          "2018-08-20T00:00:00.000000000",
          "2018-08-27T00:00:00.000000000",
          "2018-09-03T00:00:00.000000000",
          "2018-09-10T00:00:00.000000000",
          "2018-09-17T00:00:00.000000000",
          "2018-09-24T00:00:00.000000000",
          "2018-10-01T00:00:00.000000000",
          "2018-10-08T00:00:00.000000000",
          "2018-10-15T00:00:00.000000000",
          "2018-10-22T00:00:00.000000000",
          "2018-10-29T00:00:00.000000000",
          "2018-11-05T00:00:00.000000000",
          "2018-11-12T00:00:00.000000000",
          "2018-11-19T00:00:00.000000000",
          "2018-11-26T00:00:00.000000000",
          "2018-12-03T00:00:00.000000000",
          "2018-12-10T00:00:00.000000000",
          "2018-12-17T00:00:00.000000000",
          "2018-12-24T00:00:00.000000000",
          "2018-12-31T00:00:00.000000000",
          "2019-01-07T00:00:00.000000000",
          "2019-01-14T00:00:00.000000000",
          "2019-01-21T00:00:00.000000000",
          "2019-01-28T00:00:00.000000000",
          "2019-02-04T00:00:00.000000000",
          "2019-02-11T00:00:00.000000000",
          "2019-02-18T00:00:00.000000000",
          "2019-02-25T00:00:00.000000000",
          "2019-03-04T00:00:00.000000000",
          "2019-03-11T00:00:00.000000000",
          "2019-03-18T00:00:00.000000000",
          "2019-03-25T00:00:00.000000000",
          "2019-04-01T00:00:00.000000000",
          "2019-04-08T00:00:00.000000000",
          "2019-04-15T00:00:00.000000000",
          "2019-04-22T00:00:00.000000000",
          "2019-04-29T00:00:00.000000000",
          "2019-05-06T00:00:00.000000000",
          "2019-05-13T00:00:00.000000000",
          "2019-05-20T00:00:00.000000000",
          "2019-05-27T00:00:00.000000000",
          "2019-06-03T00:00:00.000000000",
          "2019-06-10T00:00:00.000000000",
          "2019-06-17T00:00:00.000000000",
          "2019-06-24T00:00:00.000000000",
          "2019-07-01T00:00:00.000000000",
          "2019-07-08T00:00:00.000000000",
          "2019-07-15T00:00:00.000000000",
          "2019-07-22T00:00:00.000000000",
          "2019-07-29T00:00:00.000000000",
          "2019-08-05T00:00:00.000000000",
          "2019-08-12T00:00:00.000000000",
          "2019-08-19T00:00:00.000000000",
          "2019-08-26T00:00:00.000000000",
          "2019-09-02T00:00:00.000000000",
          "2019-09-09T00:00:00.000000000",
          "2019-09-16T00:00:00.000000000",
          "2019-09-23T00:00:00.000000000",
          "2019-09-30T00:00:00.000000000",
          "2019-10-07T00:00:00.000000000",
          "2019-10-14T00:00:00.000000000",
          "2019-10-21T00:00:00.000000000",
          "2019-10-28T00:00:00.000000000",
          "2019-11-04T00:00:00.000000000",
          "2019-11-11T00:00:00.000000000",
          "2019-11-18T00:00:00.000000000",
          "2019-11-25T00:00:00.000000000",
          "2019-12-02T00:00:00.000000000",
          "2019-12-09T00:00:00.000000000",
          "2019-12-16T00:00:00.000000000",
          "2019-12-23T00:00:00.000000000",
          "2019-12-30T00:00:00.000000000"
         ],
         "xaxis": "x",
         "y": {
          "bdata": "AAAAAAAA+H8AAAAAAAD4fwAAAAAAAPh/AAAAAAAA+H9WrJuHYlfxP2Gd6iUBofE/eSMCVaMA8j9EavT8i4nyP6Clbc/+yvI/VUEE4kIu8z+9FWhC8MjzP0wCojYt6PM/qg4YYxTF8z8wLH4fwIXzP3iGwWILI/M/9ft7s5cF8z/F6hug8zjzP4k4mxYAkvM/w5fGJsAV9D9eb3SvcXX0P+FOaRiJrPQ/DH4bMnja9D89NcHUJB/1PzgHUw5/avU/Htrml6vI9T+dVr6hawT2PwgtZLl3MvY/Pkoid3iI9j+q+fAZm8n2P2JLrghSDfc/OjQp1J9f9z+Dt1WOtNT3PzbbyrTRAvg/MVuk0O0/+D8C8dqrL8L4P7a+ZgcEGPk/IkXPRu1P+T+XrSvlx2X5P7VGxA7Wpvk/GiZko9FU+T+Nx08w4Of4P80u+0t5Xvg/+DR8sA6p9z8tHCm/I8j2P0REa5IGUvY/C9ugqe3P9T8wjy59VCH1P9J2GgblQPU/ub64eKIo9T/0xlBpT9j0Pz8gbWtgSPQ/mDyluFo49D/8F+YD2+vzP9X+bjR58/M/elT6F/s49D9HN00RV/z0PwLJ+5EeX/U/ZilAnKtn9T9yNQWx71H1PyzTSd7aJvU/fUvtyqAn9T9Phz9XAiT1P/qb2gq/dvU/FS3gmEPf9T9Cl7xNskL2P5615FwIsfY/a96mPipF9z9uVivXsKj3P56YgCuQJPg/3HmtbKud+D+uArwPy8D4P5uwiesU0vg/MOUZcXu4+D9ufOp6eUP4P/kJXUDi2fc/KOYv+1jM9z9FSEkxiuj3P0rkYURtF/g/gC4xDUqH+D9y+L8nOxH5P0oIEmhyUPk/ug4Bk5tl+T8msg+rsTb5PzzjV7l/3Pg/qG2gTutK+D/98ZAusbv3P1rKB66MTPc/4jjt8WRT9z8WOxXSj2j3Pyqq3h6fafc/crSnPYNZ9z86oc69F0H3P0ZLSoRi/fY/+mX2u9jG9j/4PMFI97D2P7jh2XXy3PY/VkTNMcL79j9HWUzGzQD3P4ovISry+PY/43/Eh0AT9z/ESqUOs/j2P2nkDMwT6PY/6oSPnmgH9z9gOz8YG1r3P0p1DQV1efc/",
          "dtype": "f8"
         },
         "yaxis": "y"
        },
        {
         "hovertemplate": "<b>Rolling mean trendline</b><br><br>company=FB<br>date=%{x}<br>value=%{y} <b>(trend)</b><extra></extra>",
         "legendgroup": "FB",
         "marker": {
          "color": "#ab63fa",
          "symbol": "circle"
         },
         "mode": "lines",
         "name": "FB",
         "showlegend": true,
         "type": "scatter",
         "x": [
          "2018-01-01T00:00:00.000000000",
          "2018-01-08T00:00:00.000000000",
          "2018-01-15T00:00:00.000000000",
          "2018-01-22T00:00:00.000000000",
          "2018-01-29T00:00:00.000000000",
          "2018-02-05T00:00:00.000000000",
          "2018-02-12T00:00:00.000000000",
          "2018-02-19T00:00:00.000000000",
          "2018-02-26T00:00:00.000000000",
          "2018-03-05T00:00:00.000000000",
          "2018-03-12T00:00:00.000000000",
          "2018-03-19T00:00:00.000000000",
          "2018-03-26T00:00:00.000000000",
          "2018-04-02T00:00:00.000000000",
          "2018-04-09T00:00:00.000000000",
          "2018-04-16T00:00:00.000000000",
          "2018-04-23T00:00:00.000000000",
          "2018-04-30T00:00:00.000000000",
          "2018-05-07T00:00:00.000000000",
          "2018-05-14T00:00:00.000000000",
          "2018-05-21T00:00:00.000000000",
          "2018-05-28T00:00:00.000000000",
          "2018-06-04T00:00:00.000000000",
          "2018-06-11T00:00:00.000000000",
          "2018-06-18T00:00:00.000000000",
          "2018-06-25T00:00:00.000000000",
          "2018-07-02T00:00:00.000000000",
          "2018-07-09T00:00:00.000000000",
          "2018-07-16T00:00:00.000000000",
          "2018-07-23T00:00:00.000000000",
          "2018-07-30T00:00:00.000000000",
          "2018-08-06T00:00:00.000000000",
          "2018-08-13T00:00:00.000000000",
          "2018-08-20T00:00:00.000000000",
          "2018-08-27T00:00:00.000000000",
          "2018-09-03T00:00:00.000000000",
          "2018-09-10T00:00:00.000000000",
          "2018-09-17T00:00:00.000000000",
          "2018-09-24T00:00:00.000000000",
          "2018-10-01T00:00:00.000000000",
          "2018-10-08T00:00:00.000000000",
          "2018-10-15T00:00:00.000000000",
          "2018-10-22T00:00:00.000000000",
          "2018-10-29T00:00:00.000000000",
          "2018-11-05T00:00:00.000000000",
          "2018-11-12T00:00:00.000000000",
          "2018-11-19T00:00:00.000000000",
          "2018-11-26T00:00:00.000000000",
          "2018-12-03T00:00:00.000000000",
          "2018-12-10T00:00:00.000000000",
          "2018-12-17T00:00:00.000000000",
          "2018-12-24T00:00:00.000000000",
          "2018-12-31T00:00:00.000000000",
          "2019-01-07T00:00:00.000000000",
          "2019-01-14T00:00:00.000000000",
          "2019-01-21T00:00:00.000000000",
          "2019-01-28T00:00:00.000000000",
          "2019-02-04T00:00:00.000000000",
          "2019-02-11T00:00:00.000000000",
          "2019-02-18T00:00:00.000000000",
          "2019-02-25T00:00:00.000000000",
          "2019-03-04T00:00:00.000000000",
          "2019-03-11T00:00:00.000000000",
          "2019-03-18T00:00:00.000000000",
          "2019-03-25T00:00:00.000000000",
          "2019-04-01T00:00:00.000000000",
          "2019-04-08T00:00:00.000000000",
          "2019-04-15T00:00:00.000000000",
          "2019-04-22T00:00:00.000000000",
          "2019-04-29T00:00:00.000000000",
          "2019-05-06T00:00:00.000000000",
          "2019-05-13T00:00:00.000000000",
          "2019-05-20T00:00:00.000000000",
          "2019-05-27T00:00:00.000000000",
          "2019-06-03T00:00:00.000000000",
          "2019-06-10T00:00:00.000000000",
          "2019-06-17T00:00:00.000000000",
          "2019-06-24T00:00:00.000000000",
          "2019-07-01T00:00:00.000000000",
          "2019-07-08T00:00:00.000000000",
          "2019-07-15T00:00:00.000000000",
          "2019-07-22T00:00:00.000000000",
          "2019-07-29T00:00:00.000000000",
          "2019-08-05T00:00:00.000000000",
          "2019-08-12T00:00:00.000000000",
          "2019-08-19T00:00:00.000000000",
          "2019-08-26T00:00:00.000000000",
          "2019-09-02T00:00:00.000000000",
          "2019-09-09T00:00:00.000000000",
          "2019-09-16T00:00:00.000000000",
          "2019-09-23T00:00:00.000000000",
          "2019-09-30T00:00:00.000000000",
          "2019-10-07T00:00:00.000000000",
          "2019-10-14T00:00:00.000000000",
          "2019-10-21T00:00:00.000000000",
          "2019-10-28T00:00:00.000000000",
          "2019-11-04T00:00:00.000000000",
          "2019-11-11T00:00:00.000000000",
          "2019-11-18T00:00:00.000000000",
          "2019-11-25T00:00:00.000000000",
          "2019-12-02T00:00:00.000000000",
          "2019-12-09T00:00:00.000000000",
          "2019-12-16T00:00:00.000000000",
          "2019-12-23T00:00:00.000000000",
          "2019-12-30T00:00:00.000000000"
         ],
         "xaxis": "x",
         "y": {
          "bdata": "AAAAAAAA+H8AAAAAAAD4fwAAAAAAAPh/AAAAAAAA+H8NKirfWsfvP6qeyU8uae8/oFnYY45X7z9F97DgF2nvP+ogozHF8+4/mqMTO33H7j/SNOwEOxbvPwtpyveoeO4/uizZfJmq7T94+hmRUADtPyvGmPC3Suw/qmWfUMil6z+t1bSrSyLsP1Mls0fItew/iH2PN/+67T+T+Y+9O1ruPyUVb8Ot/e4/4yrWjo6w7z8bILq1CQ/wPyDOG+3hNfA/YF41WXKJ8D+5N5WnqLLwP296blwr2/A/5luD+gwr8T+7PsYx02jxP0qta4Ab8/A/YwsLdpeq8D+47rST4kXwP0Z12lTZZe8/jWuqTWgw7j9iOajhxTfuPyZWA1iGtu0/PRKPqjcZ7T/gxDtH57nsP2IAIl6NYOw/kzQyGDa/6z+OFPUAqm3rP6ZylPYlJes/HlgPRCyL6j9DXpPtcg/qP/ZGPHX7ouk/RYNvomEm6T+onrDvqmLoP9uAFfjtOOg/tt7LaY3H5z//yaQfqb/nP0+EAcHQP+c/+B6Vh7RM5z9gvISAYTXnP/tqnPpSbec/vA8wicKh5z+bKnURu3ToP42cf7bLkek/EGBSTGqT6j/GMk8AYzfrP1W3qzpLn+s/WuMp/aYT7D9LdEsKwzXsP2ArYJ/sKew/eis38Q467D8TlSu4JWTsPwYGxBT/2ew/1fLIJUwt7T+aq+mAJpntP2PVq1E3h+4/GItkC5OD7z8btlazO/LvP8bXhI1MFPA/8THhvnwg8D++/HIsCsbvP+3ke3MUBO8/xhVtz5zG7j8rUfUa0vnuP+NL61mEYu8/Vw0Qq0AE8D91HJzRcY7wPzoovM8b2fA/ZUxQb9v+8D+QOilmaO3wPx1I8yHsx/A/A+p0hRtr8D/r7FZvvxDwP467QN8Ipu8/wGmPap6Y7z/NpFfg1JLvP9B5GZ91ye8/GCUsjcLD7z/aYoL8/JXvP3tvMFMNee8/y5aPYE1t7z+gWfwcalvvP4bZu0FF7O8/aLVOErAj8D/Yq1UnhVPwP2c+jlFijPA/Tty27qrI8D+e1DEqPunwP8vunFOU9/A/kjCF464o8T/oisF/XlHxPwXqRkMyYfE/",
          "dtype": "f8"
         },
         "yaxis": "y"
        },
        {
         "hovertemplate": "<b>Rolling mean trendline</b><br><br>company=NFLX<br>date=%{x}<br>value=%{y} <b>(trend)</b><extra></extra>",
         "legendgroup": "NFLX",
         "marker": {
          "color": "#FFA15A",
          "symbol": "circle"
         },
         "mode": "lines",
         "name": "NFLX",
         "showlegend": true,
         "type": "scatter",
         "x": [
          "2018-01-01T00:00:00.000000000",
          "2018-01-08T00:00:00.000000000",
          "2018-01-15T00:00:00.000000000",
          "2018-01-22T00:00:00.000000000",
          "2018-01-29T00:00:00.000000000",
          "2018-02-05T00:00:00.000000000",
          "2018-02-12T00:00:00.000000000",
          "2018-02-19T00:00:00.000000000",
          "2018-02-26T00:00:00.000000000",
          "2018-03-05T00:00:00.000000000",
          "2018-03-12T00:00:00.000000000",
          "2018-03-19T00:00:00.000000000",
          "2018-03-26T00:00:00.000000000",
          "2018-04-02T00:00:00.000000000",
          "2018-04-09T00:00:00.000000000",
          "2018-04-16T00:00:00.000000000",
          "2018-04-23T00:00:00.000000000",
          "2018-04-30T00:00:00.000000000",
          "2018-05-07T00:00:00.000000000",
          "2018-05-14T00:00:00.000000000",
          "2018-05-21T00:00:00.000000000",
          "2018-05-28T00:00:00.000000000",
          "2018-06-04T00:00:00.000000000",
          "2018-06-11T00:00:00.000000000",
          "2018-06-18T00:00:00.000000000",
          "2018-06-25T00:00:00.000000000",
          "2018-07-02T00:00:00.000000000",
          "2018-07-09T00:00:00.000000000",
          "2018-07-16T00:00:00.000000000",
          "2018-07-23T00:00:00.000000000",
          "2018-07-30T00:00:00.000000000",
          "2018-08-06T00:00:00.000000000",
          "2018-08-13T00:00:00.000000000",
          "2018-08-20T00:00:00.000000000",
          "2018-08-27T00:00:00.000000000",
          "2018-09-03T00:00:00.000000000",
          "2018-09-10T00:00:00.000000000",
          "2018-09-17T00:00:00.000000000",
          "2018-09-24T00:00:00.000000000",
          "2018-10-01T00:00:00.000000000",
          "2018-10-08T00:00:00.000000000",
          "2018-10-15T00:00:00.000000000",
          "2018-10-22T00:00:00.000000000",
          "2018-10-29T00:00:00.000000000",
          "2018-11-05T00:00:00.000000000",
          "2018-11-12T00:00:00.000000000",
          "2018-11-19T00:00:00.000000000",
          "2018-11-26T00:00:00.000000000",
          "2018-12-03T00:00:00.000000000",
          "2018-12-10T00:00:00.000000000",
          "2018-12-17T00:00:00.000000000",
          "2018-12-24T00:00:00.000000000",
          "2018-12-31T00:00:00.000000000",
          "2019-01-07T00:00:00.000000000",
          "2019-01-14T00:00:00.000000000",
          "2019-01-21T00:00:00.000000000",
          "2019-01-28T00:00:00.000000000",
          "2019-02-04T00:00:00.000000000",
          "2019-02-11T00:00:00.000000000",
          "2019-02-18T00:00:00.000000000",
          "2019-02-25T00:00:00.000000000",
          "2019-03-04T00:00:00.000000000",
          "2019-03-11T00:00:00.000000000",
          "2019-03-18T00:00:00.000000000",
          "2019-03-25T00:00:00.000000000",
          "2019-04-01T00:00:00.000000000",
          "2019-04-08T00:00:00.000000000",
          "2019-04-15T00:00:00.000000000",
          "2019-04-22T00:00:00.000000000",
          "2019-04-29T00:00:00.000000000",
          "2019-05-06T00:00:00.000000000",
          "2019-05-13T00:00:00.000000000",
          "2019-05-20T00:00:00.000000000",
          "2019-05-27T00:00:00.000000000",
          "2019-06-03T00:00:00.000000000",
          "2019-06-10T00:00:00.000000000",
          "2019-06-17T00:00:00.000000000",
          "2019-06-24T00:00:00.000000000",
          "2019-07-01T00:00:00.000000000",
          "2019-07-08T00:00:00.000000000",
          "2019-07-15T00:00:00.000000000",
          "2019-07-22T00:00:00.000000000",
          "2019-07-29T00:00:00.000000000",
          "2019-08-05T00:00:00.000000000",
          "2019-08-12T00:00:00.000000000",
          "2019-08-19T00:00:00.000000000",
          "2019-08-26T00:00:00.000000000",
          "2019-09-02T00:00:00.000000000",
          "2019-09-09T00:00:00.000000000",
          "2019-09-16T00:00:00.000000000",
          "2019-09-23T00:00:00.000000000",
          "2019-09-30T00:00:00.000000000",
          "2019-10-07T00:00:00.000000000",
          "2019-10-14T00:00:00.000000000",
          "2019-10-21T00:00:00.000000000",
          "2019-10-28T00:00:00.000000000",
          "2019-11-04T00:00:00.000000000",
          "2019-11-11T00:00:00.000000000",
          "2019-11-18T00:00:00.000000000",
          "2019-11-25T00:00:00.000000000",
          "2019-12-02T00:00:00.000000000",
          "2019-12-09T00:00:00.000000000",
          "2019-12-16T00:00:00.000000000",
          "2019-12-23T00:00:00.000000000",
          "2019-12-30T00:00:00.000000000"
         ],
         "xaxis": "x",
         "y": {
          "bdata": "AAAAAAAA+H8AAAAAAAD4fwAAAAAAAPh/AAAAAAAA+H/Gc3PZ0zDyP1LY+y3YyvI/stkbM1eq8z9BtwKCv6n0P2YQOuDuEPU/rPwhHqUK9j+e1oTbvhf3P4rJxoc1b/c/zBE/N/WT9z/eKQwzXWT3P32s+RYpF/c/Xiq+3oQ79z9lWOm3umX3P9cKDVU+xvc/iX9AGfdY+D8C4T2z2In4P81hxfCZ5fg/tTOw4oSh+T82Kwrsbz/6PyAi4jIKP/s//qRhdxaS/D+oRrzrrS79P1JGibEu6/0/QK0Nkp50/j+aZDoG9fv9P+B9qSX2If0/akceaWFl/D9diygKB3L7P9j19XXCPfo/k6LnZQ81+j+gN8MUtWX6P24aQcODe/o/c/CQTm3E+j8tFEIxrXH7PyCXpSdnrfs/ln7JibJt+z8IEGp6Hkr7PwaA6zm2zfo/08yvglbe+T+z1w2dpeD4P2KBW0TcJfg/XlSwE7xV9z+TSBy3ojX2P5Klb6kwAPY/fgcOM7JU9T8/rGwhzMX0P+vm0T90KvQ/xr+m0MMf9D+tb5PYZEz0P+ITyQMIZ/U/VfgPdu2A9j9LU6d/geb3P16QMeRNLfk/5ZZgdVzw+T81wgE6kzv6P2PuEejjmPo/Nb8ptRDk+j8y/8DyGQr7PwpXScFJQPs/82MnWnBQ+z/DCqnQPDf7P6YKOxscV/s/3kGbGR5d+z8GQE+RyVj7P3o0qXPHjvs/E3cAMtj9+z9Nnq4JfOz7P2PVArRl+fs/OmUCgyXi+z/qY6/R/Gb7P3MqqG68CPs/M7tdUpq1+j+t/Cf8Lu/6P1aLWQ6gIfs/Qp96RQWz+z/IVEETUeP7PyPSbU07g/s/cPERD9EA+z97AOZ+pkP6P8bJCzpALPk/l9TgaGoZ+D8ohFdeHb33PzJuVV8mGfc/UoWM51ep9j87i1g/r2/2Pz3mrzOn8vU/s0bqTASE9T/Jhyi9PzL1P2ovkDEBFvU/ZkQW23fM9D9t2VPrJeT0P5bSM+C4QPU/nqEVTPyJ9T/Kwut3MLn1PydI7XNuQvY/FmEk7gzW9j8BvPMOLib3P6LRf/s2Qfc/V18WL47k9z8TPZnQJy34PwHAXijqT/g/",
          "dtype": "f8"
         },
         "yaxis": "y"
        },
        {
         "hovertemplate": "<b>Rolling mean trendline</b><br><br>company=MSFT<br>date=%{x}<br>value=%{y} <b>(trend)</b><extra></extra>",
         "legendgroup": "MSFT",
         "marker": {
          "color": "#19d3f3",
          "symbol": "circle"
         },
         "mode": "lines",
         "name": "MSFT",
         "showlegend": true,
         "type": "scatter",
         "x": [
          "2018-01-01T00:00:00.000000000",
          "2018-01-08T00:00:00.000000000",
          "2018-01-15T00:00:00.000000000",
          "2018-01-22T00:00:00.000000000",
          "2018-01-29T00:00:00.000000000",
          "2018-02-05T00:00:00.000000000",
          "2018-02-12T00:00:00.000000000",
          "2018-02-19T00:00:00.000000000",
          "2018-02-26T00:00:00.000000000",
          "2018-03-05T00:00:00.000000000",
          "2018-03-12T00:00:00.000000000",
          "2018-03-19T00:00:00.000000000",
          "2018-03-26T00:00:00.000000000",
          "2018-04-02T00:00:00.000000000",
          "2018-04-09T00:00:00.000000000",
          "2018-04-16T00:00:00.000000000",
          "2018-04-23T00:00:00.000000000",
          "2018-04-30T00:00:00.000000000",
          "2018-05-07T00:00:00.000000000",
          "2018-05-14T00:00:00.000000000",
          "2018-05-21T00:00:00.000000000",
          "2018-05-28T00:00:00.000000000",
          "2018-06-04T00:00:00.000000000",
          "2018-06-11T00:00:00.000000000",
          "2018-06-18T00:00:00.000000000",
          "2018-06-25T00:00:00.000000000",
          "2018-07-02T00:00:00.000000000",
          "2018-07-09T00:00:00.000000000",
          "2018-07-16T00:00:00.000000000",
          "2018-07-23T00:00:00.000000000",
          "2018-07-30T00:00:00.000000000",
          "2018-08-06T00:00:00.000000000",
          "2018-08-13T00:00:00.000000000",
          "2018-08-20T00:00:00.000000000",
          "2018-08-27T00:00:00.000000000",
          "2018-09-03T00:00:00.000000000",
          "2018-09-10T00:00:00.000000000",
          "2018-09-17T00:00:00.000000000",
          "2018-09-24T00:00:00.000000000",
          "2018-10-01T00:00:00.000000000",
          "2018-10-08T00:00:00.000000000",
          "2018-10-15T00:00:00.000000000",
          "2018-10-22T00:00:00.000000000",
          "2018-10-29T00:00:00.000000000",
          "2018-11-05T00:00:00.000000000",
          "2018-11-12T00:00:00.000000000",
          "2018-11-19T00:00:00.000000000",
          "2018-11-26T00:00:00.000000000",
          "2018-12-03T00:00:00.000000000",
          "2018-12-10T00:00:00.000000000",
          "2018-12-17T00:00:00.000000000",
          "2018-12-24T00:00:00.000000000",
          "2018-12-31T00:00:00.000000000",
          "2019-01-07T00:00:00.000000000",
          "2019-01-14T00:00:00.000000000",
          "2019-01-21T00:00:00.000000000",
          "2019-01-28T00:00:00.000000000",
          "2019-02-04T00:00:00.000000000",
          "2019-02-11T00:00:00.000000000",
          "2019-02-18T00:00:00.000000000",
          "2019-02-25T00:00:00.000000000",
          "2019-03-04T00:00:00.000000000",
          "2019-03-11T00:00:00.000000000",
          "2019-03-18T00:00:00.000000000",
          "2019-03-25T00:00:00.000000000",
          "2019-04-01T00:00:00.000000000",
          "2019-04-08T00:00:00.000000000",
          "2019-04-15T00:00:00.000000000",
          "2019-04-22T00:00:00.000000000",
          "2019-04-29T00:00:00.000000000",
          "2019-05-06T00:00:00.000000000",
          "2019-05-13T00:00:00.000000000",
          "2019-05-20T00:00:00.000000000",
          "2019-05-27T00:00:00.000000000",
          "2019-06-03T00:00:00.000000000",
          "2019-06-10T00:00:00.000000000",
          "2019-06-17T00:00:00.000000000",
          "2019-06-24T00:00:00.000000000",
          "2019-07-01T00:00:00.000000000",
          "2019-07-08T00:00:00.000000000",
          "2019-07-15T00:00:00.000000000",
          "2019-07-22T00:00:00.000000000",
          "2019-07-29T00:00:00.000000000",
          "2019-08-05T00:00:00.000000000",
          "2019-08-12T00:00:00.000000000",
          "2019-08-19T00:00:00.000000000",
          "2019-08-26T00:00:00.000000000",
          "2019-09-02T00:00:00.000000000",
          "2019-09-09T00:00:00.000000000",
          "2019-09-16T00:00:00.000000000",
          "2019-09-23T00:00:00.000000000",
          "2019-09-30T00:00:00.000000000",
          "2019-10-07T00:00:00.000000000",
          "2019-10-14T00:00:00.000000000",
          "2019-10-21T00:00:00.000000000",
          "2019-10-28T00:00:00.000000000",
          "2019-11-04T00:00:00.000000000",
          "2019-11-11T00:00:00.000000000",
          "2019-11-18T00:00:00.000000000",
          "2019-11-25T00:00:00.000000000",
          "2019-12-02T00:00:00.000000000",
          "2019-12-09T00:00:00.000000000",
          "2019-12-16T00:00:00.000000000",
          "2019-12-23T00:00:00.000000000",
          "2019-12-30T00:00:00.000000000"
         ],
         "xaxis": "x",
         "y": {
          "bdata": "AAAAAAAA+H8AAAAAAAD4fwAAAAAAAPh/AAAAAAAA+H9ohFTryHXwP0JkcyKxdfA/6geEUvyL8D994gP4srHwP0bwNTVRqPA/l8d5dYjU8D/V1SwrKxDxPwYPKD5l4/A/gjXjo3rJ8D9A5D2zSK/wP3Bu2Ngkj/A/jZyJDNyS8D9ib2PoHePwP8JzHVFAB/E/Ggzg6KNM8T/bolu5G2vxP2VpWshRivE/g5foaHy48T/8nN8BlvTxP0jgtIcoC/I/aoOWaMcw8j8dciLoGTPyP3ooc8WJNvI/69zIJtZZ8j/SXCsH35LyP2rm6AZn1vI/HkUMgP8t8z+8u4P00nbzP7JwCKXLivM/Es4NyJSe8z/21Ql0xsnzP96UErVay/M/UzYii/Lz8z9oU0KJ/zH0P008ACh0afQ/2ES4i5hn9D/WlVeeOnT0P452NkZ6SPQ/arQ566oE9D9uh3GZZ7jzPx4d1fGfoPM/6fu4HbyU8z+6KE4gz2DzPy4Ea6NQhfM/yQpLHt548z8wZWIF/FfzP/opxGqJ+vI/4h/HZKTh8j/TJluUaY7yP7BZfAqme/I/59CtEUGL8j+qiVdQTN7yPy0Nh7d/9PI/bOnYZz0X8z/jPFwflknzPwx8WGLeZ/M/Iri2baiZ8z8GSClSduHzPxojkPuUQPQ/JfU0qpqS9D/QmCJHWdP0P1dyRE63F/U/QsM1irF49T8qJFpd/b31P6RAwMhCNfY/isZIkRGb9j9+sEE7Ut72P0h8l5B1IPc/xsSAZB479z9WDRgPbwH3P0VgjwqoGPc/dQSs9hJK9z9VJRQWv5z3P+JVhDZ15Pc/vr/fwL5g+D+KuEWzaab4P4piDe0lzfg/MEM+vr31+D+C2uoCDRH5PwXgaroWF/k/nAfHtlv9+D/lKG7OWt/4P5czJWcHv/g/TokPBHfT+D9Wez+Z18/4P7uxf7+W7vg/vvLrOucW+T/IQHp+URn5P3Ck87K0Hvk/qgsVtoof+T9SZM9Ohiv5P4KNT38qY/k/vYWE/f2r+T/CQHKOkwv6P0Ygun23fPo/g3EXI6Xf+j9wv/VqPCr7P9XBTszXefs/PqOPEvS++z9gq2zk/RX8P4hJ2smyUPw/",
          "dtype": "f8"
         },
         "yaxis": "y"
        }
       ],
       "layout": {
        "legend": {
         "title": {
          "text": "company"
         },
         "tracegroupgap": 0
        },
        "template": {
         "data": {
          "bar": [
           {
            "error_x": {
             "color": "#2a3f5f"
            },
            "error_y": {
             "color": "#2a3f5f"
            },
            "marker": {
             "line": {
              "color": "#E5ECF6",
              "width": 0.5
             },
             "pattern": {
              "fillmode": "overlay",
              "size": 10,
              "solidity": 0.2
             }
            },
            "type": "bar"
           }
          ],
          "barpolar": [
           {
            "marker": {
             "line": {
              "color": "#E5ECF6",
              "width": 0.5
             },
             "pattern": {
              "fillmode": "overlay",
              "size": 10,
              "solidity": 0.2
             }
            },
            "type": "barpolar"
           }
          ],
          "carpet": [
           {
            "aaxis": {
             "endlinecolor": "#2a3f5f",
             "gridcolor": "white",
             "linecolor": "white",
             "minorgridcolor": "white",
             "startlinecolor": "#2a3f5f"
            },
            "baxis": {
             "endlinecolor": "#2a3f5f",
             "gridcolor": "white",
             "linecolor": "white",
             "minorgridcolor": "white",
             "startlinecolor": "#2a3f5f"
            },
            "type": "carpet"
           }
          ],
          "choropleth": [
           {
            "colorbar": {
             "outlinewidth": 0,
             "ticks": ""
            },
            "type": "choropleth"
           }
          ],
          "contour": [
           {
            "colorbar": {
             "outlinewidth": 0,
             "ticks": ""
            },
            "colorscale": [
             [
              0,
              "#0d0887"
             ],
             [
              0.1111111111111111,
              "#46039f"
             ],
             [
              0.2222222222222222,
              "#7201a8"
             ],
             [
              0.3333333333333333,
              "#9c179e"
             ],
             [
              0.4444444444444444,
              "#bd3786"
             ],
             [
              0.5555555555555556,
              "#d8576b"
             ],
             [
              0.6666666666666666,
              "#ed7953"
             ],
             [
              0.7777777777777778,
              "#fb9f3a"
             ],
             [
              0.8888888888888888,
              "#fdca26"
             ],
             [
              1,
              "#f0f921"
             ]
            ],
            "type": "contour"
           }
          ],
          "contourcarpet": [
           {
            "colorbar": {
             "outlinewidth": 0,
             "ticks": ""
            },
            "type": "contourcarpet"
           }
          ],
          "heatmap": [
           {
            "colorbar": {
             "outlinewidth": 0,
             "ticks": ""
            },
            "colorscale": [
             [
              0,
              "#0d0887"
             ],
             [
              0.1111111111111111,
              "#46039f"
             ],
             [
              0.2222222222222222,
              "#7201a8"
             ],
             [
              0.3333333333333333,
              "#9c179e"
             ],
             [
              0.4444444444444444,
              "#bd3786"
             ],
             [
              0.5555555555555556,
              "#d8576b"
             ],
             [
              0.6666666666666666,
              "#ed7953"
             ],
             [
              0.7777777777777778,
              "#fb9f3a"
             ],
             [
              0.8888888888888888,
              "#fdca26"
             ],
             [
              1,
              "#f0f921"
             ]
            ],
            "type": "heatmap"
           }
          ],
          "histogram": [
           {
            "marker": {
             "pattern": {
              "fillmode": "overlay",
              "size": 10,
              "solidity": 0.2
             }
            },
            "type": "histogram"
           }
          ],
          "histogram2d": [
           {
            "colorbar": {
             "outlinewidth": 0,
             "ticks": ""
            },
            "colorscale": [
             [
              0,
              "#0d0887"
             ],
             [
              0.1111111111111111,
              "#46039f"
             ],
             [
              0.2222222222222222,
              "#7201a8"
             ],
             [
              0.3333333333333333,
              "#9c179e"
             ],
             [
              0.4444444444444444,
              "#bd3786"
             ],
             [
              0.5555555555555556,
              "#d8576b"
             ],
             [
              0.6666666666666666,
              "#ed7953"
             ],
             [
              0.7777777777777778,
              "#fb9f3a"
             ],
             [
              0.8888888888888888,
              "#fdca26"
             ],
             [
              1,
              "#f0f921"
             ]
            ],
            "type": "histogram2d"
           }
          ],
          "histogram2dcontour": [
           {
            "colorbar": {
             "outlinewidth": 0,
             "ticks": ""
            },
            "colorscale": [
             [
              0,
              "#0d0887"
             ],
             [
              0.1111111111111111,
              "#46039f"
             ],
             [
              0.2222222222222222,
              "#7201a8"
             ],
             [
              0.3333333333333333,
              "#9c179e"
             ],
             [
              0.4444444444444444,
              "#bd3786"
             ],
             [
              0.5555555555555556,
              "#d8576b"
             ],
             [
              0.6666666666666666,
              "#ed7953"
             ],
             [
              0.7777777777777778,
              "#fb9f3a"
             ],
             [
              0.8888888888888888,
              "#fdca26"
             ],
             [
              1,
              "#f0f921"
             ]
            ],
            "type": "histogram2dcontour"
           }
          ],
          "mesh3d": [
           {
            "colorbar": {
             "outlinewidth": 0,
             "ticks": ""
            },
            "type": "mesh3d"
           }
          ],
          "parcoords": [
           {
            "line": {
             "colorbar": {
              "outlinewidth": 0,
              "ticks": ""
             }
            },
            "type": "parcoords"
           }
          ],
          "pie": [
           {
            "automargin": true,
            "type": "pie"
           }
          ],
          "scatter": [
           {
            "fillpattern": {
             "fillmode": "overlay",
             "size": 10,
             "solidity": 0.2
            },
            "type": "scatter"
           }
          ],
          "scatter3d": [
           {
            "line": {
             "colorbar": {
              "outlinewidth": 0,
              "ticks": ""
             }
            },
            "marker": {
             "colorbar": {
              "outlinewidth": 0,
              "ticks": ""
             }
            },
            "type": "scatter3d"
           }
          ],
          "scattercarpet": [
           {
            "marker": {
             "colorbar": {
              "outlinewidth": 0,
              "ticks": ""
             }
            },
            "type": "scattercarpet"
           }
          ],
          "scattergeo": [
           {
            "marker": {
             "colorbar": {
              "outlinewidth": 0,
              "ticks": ""
             }
            },
            "type": "scattergeo"
           }
          ],
          "scattergl": [
           {
            "marker": {
             "colorbar": {
              "outlinewidth": 0,
              "ticks": ""
             }
            },
            "type": "scattergl"
           }
          ],
          "scattermap": [
           {
            "marker": {
             "colorbar": {
              "outlinewidth": 0,
              "ticks": ""
             }
            },
            "type": "scattermap"
           }
          ],
          "scattermapbox": [
           {
            "marker": {
             "colorbar": {
              "outlinewidth": 0,
              "ticks": ""
             }
            },
            "type": "scattermapbox"
           }
          ],
          "scatterpolar": [
           {
            "marker": {
             "colorbar": {
              "outlinewidth": 0,
              "ticks": ""
             }
            },
            "type": "scatterpolar"
           }
          ],
          "scatterpolargl": [
           {
            "marker": {
             "colorbar": {
              "outlinewidth": 0,
              "ticks": ""
             }
            },
            "type": "scatterpolargl"
           }
          ],
          "scatterternary": [
           {
            "marker": {
             "colorbar": {
              "outlinewidth": 0,
              "ticks": ""
             }
            },
            "type": "scatterternary"
           }
          ],
          "surface": [
           {
            "colorbar": {
             "outlinewidth": 0,
             "ticks": ""
            },
            "colorscale": [
             [
              0,
              "#0d0887"
             ],
             [
              0.1111111111111111,
              "#46039f"
             ],
             [
              0.2222222222222222,
              "#7201a8"
             ],
             [
              0.3333333333333333,
              "#9c179e"
             ],
             [
              0.4444444444444444,
              "#bd3786"
             ],
             [
              0.5555555555555556,
              "#d8576b"
             ],
             [
              0.6666666666666666,
              "#ed7953"
             ],
             [
              0.7777777777777778,
              "#fb9f3a"
             ],
             [
              0.8888888888888888,
              "#fdca26"
             ],
             [
              1,
              "#f0f921"
             ]
            ],
            "type": "surface"
           }
          ],
          "table": [
           {
            "cells": {
             "fill": {
              "color": "#EBF0F8"
             },
             "line": {
              "color": "white"
             }
            },
            "header": {
             "fill": {
              "color": "#C8D4E3"
             },
             "line": {
              "color": "white"
             }
            },
            "type": "table"
           }
          ]
         },
         "layout": {
          "annotationdefaults": {
           "arrowcolor": "#2a3f5f",
           "arrowhead": 0,
           "arrowwidth": 1
          },
          "autotypenumbers": "strict",
          "coloraxis": {
           "colorbar": {
            "outlinewidth": 0,
            "ticks": ""
           }
          },
          "colorscale": {
           "diverging": [
            [
             0,
             "#8e0152"
            ],
            [
             0.1,
             "#c51b7d"
            ],
            [
             0.2,
             "#de77ae"
            ],
            [
             0.3,
             "#f1b6da"
            ],
            [
             0.4,
             "#fde0ef"
            ],
            [
             0.5,
             "#f7f7f7"
            ],
            [
             0.6,
             "#e6f5d0"
            ],
            [
             0.7,
             "#b8e186"
            ],
            [
             0.8,
             "#7fbc41"
            ],
            [
             0.9,
             "#4d9221"
            ],
            [
             1,
             "#276419"
            ]
           ],
           "sequential": [
            [
             0,
             "#0d0887"
            ],
            [
             0.1111111111111111,
             "#46039f"
            ],
            [
             0.2222222222222222,
             "#7201a8"
            ],
            [
             0.3333333333333333,
             "#9c179e"
            ],
            [
             0.4444444444444444,
             "#bd3786"
            ],
            [
             0.5555555555555556,
             "#d8576b"
            ],
            [
             0.6666666666666666,
             "#ed7953"
            ],
            [
             0.7777777777777778,
             "#fb9f3a"
            ],
            [
             0.8888888888888888,
             "#fdca26"
            ],
            [
             1,
             "#f0f921"
            ]
           ],
           "sequentialminus": [
            [
             0,
             "#0d0887"
            ],
            [
             0.1111111111111111,
             "#46039f"
            ],
            [
             0.2222222222222222,
             "#7201a8"
            ],
            [
             0.3333333333333333,
             "#9c179e"
            ],
            [
             0.4444444444444444,
             "#bd3786"
            ],
            [
             0.5555555555555556,
             "#d8576b"
            ],
            [
             0.6666666666666666,
             "#ed7953"
            ],
            [
             0.7777777777777778,
             "#fb9f3a"
            ],
            [
             0.8888888888888888,
             "#fdca26"
            ],
            [
             1,
             "#f0f921"
            ]
           ]
          },
          "colorway": [
           "#636efa",
           "#EF553B",
           "#00cc96",
           "#ab63fa",
           "#FFA15A",
           "#19d3f3",
           "#FF6692",
           "#B6E880",
           "#FF97FF",
           "#FECB52"
          ],
          "font": {
           "color": "#2a3f5f"
          },
          "geo": {
           "bgcolor": "white",
           "lakecolor": "white",
           "landcolor": "#E5ECF6",
           "showlakes": true,
           "showland": true,
           "subunitcolor": "white"
          },
          "hoverlabel": {
           "align": "left"
          },
          "hovermode": "closest",
          "mapbox": {
           "style": "light"
          },
          "paper_bgcolor": "white",
          "plot_bgcolor": "#E5ECF6",
          "polar": {
           "angularaxis": {
            "gridcolor": "white",
            "linecolor": "white",
            "ticks": ""
           },
           "bgcolor": "#E5ECF6",
           "radialaxis": {
            "gridcolor": "white",
            "linecolor": "white",
            "ticks": ""
           }
          },
          "scene": {
           "xaxis": {
            "backgroundcolor": "#E5ECF6",
            "gridcolor": "white",
            "gridwidth": 2,
            "linecolor": "white",
            "showbackground": true,
            "ticks": "",
            "zerolinecolor": "white"
           },
           "yaxis": {
            "backgroundcolor": "#E5ECF6",
            "gridcolor": "white",
            "gridwidth": 2,
            "linecolor": "white",
            "showbackground": true,
            "ticks": "",
            "zerolinecolor": "white"
           },
           "zaxis": {
            "backgroundcolor": "#E5ECF6",
            "gridcolor": "white",
            "gridwidth": 2,
            "linecolor": "white",
            "showbackground": true,
            "ticks": "",
            "zerolinecolor": "white"
           }
          },
          "shapedefaults": {
           "line": {
            "color": "#2a3f5f"
           }
          },
          "ternary": {
           "aaxis": {
            "gridcolor": "white",
            "linecolor": "white",
            "ticks": ""
           },
           "baxis": {
            "gridcolor": "white",
            "linecolor": "white",
            "ticks": ""
           },
           "bgcolor": "#E5ECF6",
           "caxis": {
            "gridcolor": "white",
            "linecolor": "white",
            "ticks": ""
           }
          },
          "title": {
           "x": 0.05
          },
          "xaxis": {
           "automargin": true,
           "gridcolor": "white",
           "linecolor": "white",
           "ticks": "",
           "title": {
            "standoff": 15
           },
           "zerolinecolor": "white",
           "zerolinewidth": 2
          },
          "yaxis": {
           "automargin": true,
           "gridcolor": "white",
           "linecolor": "white",
           "ticks": "",
           "title": {
            "standoff": 15
           },
           "zerolinecolor": "white",
           "zerolinewidth": 2
          }
         }
        },
        "title": {
         "text": "5-point moving average"
        },
        "xaxis": {
         "anchor": "y",
         "domain": [
          0,
          1
         ],
         "title": {
          "text": "date"
         }
        },
        "yaxis": {
         "anchor": "x",
         "domain": [
          0,
          1
         ],
         "title": {
          "text": "value"
         }
        }
       }
      }
     },
     "metadata": {},
     "output_type": "display_data"
    }
   ],
   "source": [
    "import plotly.express as px\n",
    "\n",
    "df = px.data.stocks(indexed=True, datetimes=True)\n",
    "fig = px.scatter(df, trendline=\"rolling\", trendline_options=dict(window=5),\n",
    "                title=\"5-point moving average\")\n",
    "fig.data = [t for t in fig.data if t.mode == \"lines\"]\n",
    "fig.update_traces(showlegend=True) #trendlines have showlegend=False by default\n",
    "fig.show()\n"
   ]
  },
  {
   "cell_type": "code",
   "execution_count": 15,
   "metadata": {},
   "outputs": [
    {
     "data": {
      "text/html": [
       "\n",
       "        <iframe\n",
       "            width=\"100%\"\n",
       "            height=\"650\"\n",
       "            src=\"http://127.0.0.1:8050/\"\n",
       "            frameborder=\"0\"\n",
       "            allowfullscreen\n",
       "            \n",
       "        ></iframe>\n",
       "        "
      ],
      "text/plain": [
       "<IPython.lib.display.IFrame at 0x14a20cda0>"
      ]
     },
     "metadata": {},
     "output_type": "display_data"
    }
   ],
   "source": [
    "import plotly.graph_objects as go # or plotly.express as px\n",
    "fig = go.Figure() # or any Plotly Express function e.g. px.bar(...)\n",
    "# fig.add_trace( ... )\n",
    "# fig.update_layout( ... )\n",
    "\n",
    "from dash import Dash, dcc, html\n",
    "\n",
    "app = Dash()\n",
    "app.layout = html.Div([\n",
    "    dcc.Graph(figure=fig)\n",
    "])\n",
    "\n",
    "app.run(debug=True, use_reloader=False)  # Turn off reloader if inside Jupyter\n"
   ]
  }
 ],
 "metadata": {
  "kernelspec": {
   "display_name": ".venv",
   "language": "python",
   "name": "python3"
  },
  "language_info": {
   "codemirror_mode": {
    "name": "ipython",
    "version": 3
   },
   "file_extension": ".py",
   "mimetype": "text/x-python",
   "name": "python",
   "nbconvert_exporter": "python",
   "pygments_lexer": "ipython3",
   "version": "3.12.1"
  },
  "orig_nbformat": 4
 },
 "nbformat": 4,
 "nbformat_minor": 2
}
